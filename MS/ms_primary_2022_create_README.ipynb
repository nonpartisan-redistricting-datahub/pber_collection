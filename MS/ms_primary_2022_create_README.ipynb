{
 "cells": [
  {
   "cell_type": "markdown",
   "id": "e5aac9bf-263f-4571-aad1-5d48632904e0",
   "metadata": {},
   "source": [
    "## Create README"
   ]
  },
  {
   "cell_type": "code",
   "execution_count": 1,
   "id": "5cd5a79b-5465-4921-ac7c-ea25b600aa03",
   "metadata": {},
   "outputs": [
    {
     "name": "stderr",
     "output_type": "stream",
     "text": [
      "/Users/natasha/opt/anaconda3/lib/python3.8/site-packages/pandas/core/computation/expressions.py:20: UserWarning: Pandas requires version '2.7.3' or newer of 'numexpr' (version '2.7.1' currently installed).\n",
      "  from pandas.core.computation.check import NUMEXPR_INSTALLED\n"
     ]
    }
   ],
   "source": [
    "import os\n",
    "import pandas as pd\n",
    "from pandas import DataFrame\n",
    "import numpy as np"
   ]
  },
  {
   "cell_type": "markdown",
   "id": "e191bef6-6e9a-4feb-8f27-f77695d3ea8a",
   "metadata": {},
   "source": [
    "#### Crosswalk for candidate/contest field IDs"
   ]
  },
  {
   "cell_type": "code",
   "execution_count": 2,
   "id": "0e66616f-d6c0-4465-b011-f4aaaaf27662",
   "metadata": {
    "scrolled": true
   },
   "outputs": [],
   "source": [
    "combined_xwalk = pd.read_csv(\"./03-final/combined_candidate_xwalk.csv\")\n",
    "\n",
    "combined_xwalk = combined_xwalk[[\"Candidate_Abbr\", \"Candidate_Full\"]].sort_values(by=[\"Candidate_Abbr\"])\n",
    "\n",
    "xwalk_dict = dict(combined_xwalk.values)"
   ]
  },
  {
   "cell_type": "code",
   "execution_count": 3,
   "id": "8fce6b09-940f-44d1-a163-b8b7080354ed",
   "metadata": {},
   "outputs": [],
   "source": [
    "fields_dict = {}\n",
    "fields_dict['UNIQUE_ID']='Unique ID for each precinct'\n",
    "fields_dict['COUNTYFP']='County FIP identifier'\n",
    "fields_dict['COUNTY']='County Name'\n",
    "fields_dict['PRECINCT']='Precinct Name'\n",
    "\n",
    "fields_dict.update(xwalk_dict)"
   ]
  },
  {
   "cell_type": "code",
   "execution_count": 4,
   "id": "17116d3b-a0ca-4617-8050-26212bea8ed9",
   "metadata": {},
   "outputs": [],
   "source": [
    "## Create rest of README\n",
    "\n",
    "title = \"Mississippi 2022 Primary Precinct-Level Results\"\n",
    "retrieval_date = \"09/14/23\"\n",
    "fields_dict = fields_dict\n",
    "github_link = \"https://github.com/nonpartisan-redistricting-datahub/pber_collection\"\n",
    "file_folder = \"./ms_2022_prim_prec/\"\n",
    "source = \"Mississippi Secretary of State\""
   ]
  },
  {
   "cell_type": "code",
   "execution_count": 5,
   "id": "cc33ca92-e50e-450d-831b-11da54ae72cb",
   "metadata": {},
   "outputs": [],
   "source": [
    "def full_readme_text(title, retrieval_date, source, fields_dict, github_link):\n",
    "\n",
    "#First section of README\n",
    "    readme_p1 = '''{title}\\n\n",
    "## RDH Date Retrieval\n",
    "{retrieval_date}\n",
    "\n",
    "## Sources\n",
    "{source}\n",
    "\n",
    "## Fields:\n",
    "'''.format(title = title, source = source, retrieval_date = retrieval_date)\n",
    "\n",
    "#Second section of README\n",
    "    fields_table = pd.DataFrame.from_dict(fields_dict.items())\n",
    "    fields_table.columns = [\"Field Name\", \"Description\"]\n",
    "    readme_p2 = fields_table.to_string(formatters={'Description':'{{:<{}s}}'.format(fields_table['Description'].str.len().max()).format, 'Field Name':'{{:<{}s}}'.format(fields_table['Field Name'].str.len().max()).format}, index=False, justify = \"left\")\n",
    "\n",
    "#Third section of README\n",
    "    readme_p3 = '''\\n\n",
    "## Processing Steps\n",
    "Visit the RDH GitHub and the processing script for this code [here]({github_link})\n",
    "\n",
    "Please direct questions related to processing this dataset to info@redistrictingdatahub.org.\n",
    "'''.format(github_link=github_link)\n",
    "    \n",
    "    full_readme = str(readme_p1)+str(readme_p2)+str(readme_p3)\n",
    "    return full_readme"
   ]
  },
  {
   "cell_type": "code",
   "execution_count": 66,
   "id": "4208f0d6-3d02-4493-9cf5-125e1814896a",
   "metadata": {},
   "outputs": [],
   "source": [
    "if not os.path.exists(file_folder):\n",
    "    os.mkdir(file_folder)\n",
    "\n",
    "with open(file_folder+\"README.txt\", 'w') as tf:\n",
    "        tf.write(full_readme_text(title, retrieval_date, source, fields_dict, github_link))"
   ]
  }
 ],
 "metadata": {
  "kernelspec": {
   "display_name": "Python 3",
   "language": "python",
   "name": "python3"
  },
  "language_info": {
   "codemirror_mode": {
    "name": "ipython",
    "version": 3
   },
   "file_extension": ".py",
   "mimetype": "text/x-python",
   "name": "python",
   "nbconvert_exporter": "python",
   "pygments_lexer": "ipython3",
   "version": "3.8.5"
  }
 },
 "nbformat": 4,
 "nbformat_minor": 5
}
