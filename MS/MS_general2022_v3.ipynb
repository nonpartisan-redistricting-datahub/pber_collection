{
 "cells": [
  {
   "cell_type": "markdown",
   "metadata": {
    "id": "m7ZCRmc2np96"
   },
   "source": [
    "# Raw from source\n",
    "\n",
    "[MEDSL:](https://github.com/MEDSL/2022-elections-official/blob/main/individual_states/2022-ms-local-precinct-general.zip) Precinct-level results, derived from OpenElections\n",
    "\n",
    "[Mississippi Sec. of State:](https://www.sos.ms.gov/elections-voting/2022-general-election-results) Precinct-level results, in PDF format"
   ]
  },
  {
   "cell_type": "markdown",
   "metadata": {
    "id": "3p3oSvX47puC"
   },
   "source": [
    "# Setup"
   ]
  },
  {
   "cell_type": "markdown",
   "metadata": {
    "id": "kxY-6r8O7sYg"
   },
   "source": [
    "Import libraries, load in original precinct-level data, set directories"
   ]
  },
  {
   "cell_type": "code",
   "execution_count": 1,
   "metadata": {
    "id": "_3XvmkOhjgOj"
   },
   "outputs": [],
   "source": [
    "import pandas as pd\n",
    "import os\n",
    "import numpy as np\n",
    "import re\n",
    "\n",
    "#Stop warnings about future changes to libraries from crowding output\n",
    "import warnings\n",
    "warnings.simplefilter(action='ignore', category=FutureWarning)"
   ]
  },
  {
   "cell_type": "code",
   "execution_count": 2,
   "metadata": {
    "colab": {
     "base_uri": "https://localhost:8080/"
    },
    "id": "r20--QGroDPf",
    "outputId": "06144205-3b46-479d-8952-a8ff94205e71"
   },
   "outputs": [
    {
     "name": "stdout",
     "output_type": "stream",
     "text": [
      "The 'output' folder has been created.\n"
     ]
    }
   ],
   "source": [
    "#Set the working directory\n",
    "project_folder = '/Users/grantschwab/Desktop/RDH/Projects/mississippi_general2022/update'\n",
    "os.chdir(project_folder)\n",
    "wd = os.getcwd()\n",
    "\n",
    "#Make folder for output files\n",
    "if not os.path.exists(\"output\"):\n",
    "  os.mkdir(\"output\")\n",
    "  print(\"The 'output' folder has been created.\")\n",
    "else:\n",
    "  print(\"The folder already exists.\")"
   ]
  },
  {
   "cell_type": "markdown",
   "metadata": {
    "id": "WOP1YteLn8xp"
   },
   "source": [
    "# Process original results"
   ]
  },
  {
   "cell_type": "markdown",
   "metadata": {
    "id": "6103_uxM9C11"
   },
   "source": [
    "## Read in results, clean, pivot prep"
   ]
  },
  {
   "cell_type": "code",
   "execution_count": 3,
   "metadata": {
    "id": "3SYi_oZHoAAi"
   },
   "outputs": [],
   "source": [
    "#Read in file\n",
    "frame = pd.read_csv('./raw-from-source/ms_cleaned22.csv')"
   ]
  },
  {
   "cell_type": "code",
   "execution_count": 4,
   "metadata": {
    "colab": {
     "base_uri": "https://localhost:8080/"
    },
    "id": "8kIASimup-bo",
    "outputId": "24357b83-0e20-41fb-be1c-724331ef3052"
   },
   "outputs": [
    {
     "data": {
      "text/plain": [
       "1758"
      ]
     },
     "execution_count": 4,
     "metadata": {},
     "output_type": "execute_result"
    }
   ],
   "source": [
    "#Set up unique precinct identifier\n",
    "frame['county_code'] = frame.county_name.str[:3]\n",
    "frame['pct_std'] = frame.precinct + ':::' + frame.county_code\n",
    "\n",
    "#How many precincts?\n",
    "frame.pct_std.nunique()"
   ]
  },
  {
   "cell_type": "markdown",
   "metadata": {
    "id": "HEuBzVOq6Mt8"
   },
   "source": [
    "Looking at which contests to include"
   ]
  },
  {
   "cell_type": "code",
   "execution_count": 5,
   "metadata": {
    "colab": {
     "base_uri": "https://localhost:8080/"
    },
    "id": "kZOZORpo3Nzm",
    "outputId": "5bc33a77-1094-499e-9757-9f6b1364cd74"
   },
   "outputs": [
    {
     "name": "stdout",
     "output_type": "stream",
     "text": [
      "BALLOTS CAST \t 108\n",
      "BALLOTS CAST - BLANK \t 108\n",
      "COURT OF APPEALS \t 128\n",
      "REGISTERED VOTERS \t 108\n",
      "US HOUSE \t 1758\n",
      "['BALLOTS CAST', 'BALLOTS CAST - BLANK', 'COURT OF APPEALS', 'REGISTERED VOTERS', 'US HOUSE']\n"
     ]
    }
   ],
   "source": [
    "#Examine contests included\n",
    "frame['office'].unique()\n",
    "\n",
    "#Helpful for making informed assessment of which contests to include in file\n",
    "unique_precincts = list(frame['pct_std'].unique())\n",
    "all_contests = sorted(list(frame['office'].unique()))\n",
    "len_all_contests = len(all_contests)\n",
    "listofzeros = [0] * len_all_contests\n",
    "num_precs = len(unique_precincts)\n",
    "contests_dict = dict(zip(all_contests,listofzeros))\n",
    "in_all_precincts = []\n",
    "for i in unique_precincts:\n",
    "    sub_df = frame[frame['pct_std']==i]\n",
    "    contests = list(sub_df['office'].unique())\n",
    "    for contest in contests:\n",
    "        contests_dict[contest] = int(contests_dict.get(contest))+1\n",
    "contests_keep_guess =[]\n",
    "for k,v in contests_dict.items():\n",
    "    if v>100:\n",
    "        print(k,'\\t',v)\n",
    "        contests_keep_guess.append(k)\n",
    "print(contests_keep_guess)"
   ]
  },
  {
   "cell_type": "markdown",
   "metadata": {
    "id": "z4wlcsp46T5Y"
   },
   "source": [
    "Starting off w/ US House and Court of Appeals <br>\n",
    "Unclear what BALLOTS CAST or REGISTERED VOTERS signals... but they only happen in HINDS county"
   ]
  },
  {
   "cell_type": "code",
   "execution_count": 6,
   "metadata": {
    "id": "5JZwEGF06dj-"
   },
   "outputs": [],
   "source": [
    "#Choosing which contests to keep\n",
    "contests_keep = ['US HOUSE']\n",
    "\n",
    "#Filter to only include results for contest types in list above\n",
    "filtered_frame = frame[frame['office'].isin(contests_keep)]"
   ]
  },
  {
   "cell_type": "markdown",
   "metadata": {
    "id": "JEpdZwnM7-s_"
   },
   "source": [
    "Cleaning and creating pivot columns"
   ]
  },
  {
   "cell_type": "code",
   "execution_count": 7,
   "metadata": {
    "colab": {
     "base_uri": "https://localhost:8080/"
    },
    "id": "OpVBAtPN7-9o",
    "outputId": "76ae2bc7-be15-40e5-edf2-a1b468812d3e"
   },
   "outputs": [
    {
     "name": "stderr",
     "output_type": "stream",
     "text": [
      "/var/folders/4v/xw3fff217577d04_yzwdvz340000gn/T/ipykernel_5593/506713224.py:2: SettingWithCopyWarning: \n",
      "A value is trying to be set on a copy of a slice from a DataFrame.\n",
      "Try using .loc[row_indexer,col_indexer] = value instead\n",
      "\n",
      "See the caveats in the documentation: https://pandas.pydata.org/pandas-docs/stable/user_guide/indexing.html#returning-a-view-versus-a-copy\n",
      "  filtered_frame[\"office\"] = filtered_frame[\"office\"].astype(str)\n",
      "/var/folders/4v/xw3fff217577d04_yzwdvz340000gn/T/ipykernel_5593/506713224.py:5: SettingWithCopyWarning: \n",
      "A value is trying to be set on a copy of a slice from a DataFrame.\n",
      "Try using .loc[row_indexer,col_indexer] = value instead\n",
      "\n",
      "See the caveats in the documentation: https://pandas.pydata.org/pandas-docs/stable/user_guide/indexing.html#returning-a-view-versus-a-copy\n",
      "  filtered_frame['party_abbrev'] = filtered_frame.party_detailed.str[:3]\n",
      "/var/folders/4v/xw3fff217577d04_yzwdvz340000gn/T/ipykernel_5593/506713224.py:8: SettingWithCopyWarning: \n",
      "A value is trying to be set on a copy of a slice from a DataFrame.\n",
      "Try using .loc[row_indexer,col_indexer] = value instead\n",
      "\n",
      "See the caveats in the documentation: https://pandas.pydata.org/pandas-docs/stable/user_guide/indexing.html#returning-a-view-versus-a-copy\n",
      "  filtered_frame[\"pivot_col\"] = filtered_frame[\"office\"] + \"-:-\" + filtered_frame['candidate'] + \"-:-\" +\"PARTY:\" +filtered_frame['party_abbrev']\n",
      "/var/folders/4v/xw3fff217577d04_yzwdvz340000gn/T/ipykernel_5593/506713224.py:11: SettingWithCopyWarning: \n",
      "A value is trying to be set on a copy of a slice from a DataFrame.\n",
      "Try using .loc[row_indexer,col_indexer] = value instead\n",
      "\n",
      "See the caveats in the documentation: https://pandas.pydata.org/pandas-docs/stable/user_guide/indexing.html#returning-a-view-versus-a-copy\n",
      "  filtered_frame[\"pivot_col\"] = np.where(filtered_frame[\"district\"]!=\" \",filtered_frame[\"pivot_col\"] + \"-:-\" + filtered_frame[\"district\"], filtered_frame[\"pivot_col\"])\n"
     ]
    }
   ],
   "source": [
    "#Cast the contest name and code columns to string to make the pivot col\n",
    "filtered_frame[\"office\"] = filtered_frame[\"office\"].astype(str)\n",
    "\n",
    "#Add party abbreviation column\n",
    "filtered_frame['party_abbrev'] = filtered_frame.party_detailed.str[:3]\n",
    "\n",
    "# Create the pivot column with the contest name and the candidate\n",
    "filtered_frame[\"pivot_col\"] = filtered_frame[\"office\"] + \"-:-\" + filtered_frame['candidate'] + \"-:-\" +\"PARTY:\" +filtered_frame['party_abbrev']\n",
    "\n",
    "# Where it exists, add in the district to the pivot column\n",
    "filtered_frame[\"pivot_col\"] = np.where(filtered_frame[\"district\"]!=\" \",filtered_frame[\"pivot_col\"] + \"-:-\" + filtered_frame[\"district\"], filtered_frame[\"pivot_col\"])\n",
    "\n",
    "#filtered_frame.drop(['Election Number', 'Election Date', 'Total Registered Republicans','Total Registered Democrats', 'Total Registered All Other Parties','Candidate Florida Voter Registration System ID Number','DOE Assigned Candidate Number or Retention/Issue Number'], axis = 1, inplace = True)"
   ]
  },
  {
   "cell_type": "markdown",
   "metadata": {
    "id": "H0PLkvzq9Gs8"
   },
   "source": [
    "## Pivot and clean"
   ]
  },
  {
   "cell_type": "code",
   "execution_count": 8,
   "metadata": {
    "id": "3vvBKagt9LiY"
   },
   "outputs": [],
   "source": [
    "#Pivot the data so that each row has all the results from that precinct\n",
    "pivoted_2022 = pd.pivot_table(filtered_frame, values=['votes'], index=[\"pct_std\",'county_code','county_name',\"precinct\", 'county_fips'],columns=['pivot_col'],aggfunc=sum)\n",
    "\n",
    "#Clean up the indices\n",
    "pivoted_2022.reset_index(inplace=True,drop=False)\n",
    "pivoted_2022.columns = [' '.join(col).strip() for col in pivoted_2022.columns.values]\n",
    "pivoted_2022.columns = pivoted_2022.columns.str.replace(\"votes \",\"\")\n",
    "pivoted_2022 = pivoted_2022.fillna(0)\n",
    "\n",
    "#Exclude state identifier from county_fips column\n",
    "pivoted_2022['county_fips'] = pivoted_2022['county_fips'].astype(str).str[2:]\n",
    "\n",
    "#Remove single quotes from all column names, part of cleaning candidate surnames like O'Brien\n",
    "pivoted_2022.columns = [col.replace(\"'\", \"\") for col in pivoted_2022.columns]\n",
    "\n",
    "#Format Court of Appeals district/position\n",
    "pivoted_2022.columns = pivoted_2022.columns.str.replace(\", POSITION \",\".\").str.replace(\", POSITON \",\".\")"
   ]
  },
  {
   "cell_type": "markdown",
   "metadata": {
    "id": "JdvzVif9c3cK"
   },
   "source": [
    "Make sure to drop precincts that are aggregates of others"
   ]
  },
  {
   "cell_type": "code",
   "execution_count": 9,
   "metadata": {
    "id": "4TBFv6pJc3kE"
   },
   "outputs": [],
   "source": [
    "#Drop precinct entries that total full county results\n",
    "pivoted_2022 = pivoted_2022[~pivoted_2022['precinct'].str.contains('TOTAL')]"
   ]
  },
  {
   "cell_type": "code",
   "execution_count": 10,
   "metadata": {
    "colab": {
     "base_uri": "https://localhost:8080/",
     "height": 521
    },
    "id": "D473sHUic_aY",
    "outputId": "57c485b4-464d-4b45-9c77-26f7eb062631"
   },
   "outputs": [
    {
     "data": {
      "text/html": [
       "<div>\n",
       "<style scoped>\n",
       "    .dataframe tbody tr th:only-of-type {\n",
       "        vertical-align: middle;\n",
       "    }\n",
       "\n",
       "    .dataframe tbody tr th {\n",
       "        vertical-align: top;\n",
       "    }\n",
       "\n",
       "    .dataframe thead th {\n",
       "        text-align: right;\n",
       "    }\n",
       "</style>\n",
       "<table border=\"1\" class=\"dataframe\">\n",
       "  <thead>\n",
       "    <tr style=\"text-align: right;\">\n",
       "      <th></th>\n",
       "      <th>pct_std</th>\n",
       "      <th>county_code</th>\n",
       "      <th>county_name</th>\n",
       "      <th>precinct</th>\n",
       "      <th>county_fips</th>\n",
       "      <th>US HOUSE-:-ALDEN PATRICK JOHNSON-:-PARTY:LIB-:-004</th>\n",
       "      <th>US HOUSE-:-BENNIE G THOMPSON-:-PARTY:DEM-:-002</th>\n",
       "      <th>US HOUSE-:-BRIAN FLOWERS-:-PARTY:REP-:-002</th>\n",
       "      <th>US HOUSE-:-DIANNE BLACK-:-PARTY:DEM-:-001</th>\n",
       "      <th>US HOUSE-:-JOHNNY L DUPREE-:-PARTY:DEM-:-004</th>\n",
       "      <th>US HOUSE-:-MICHAEL GUEST-:-PARTY:REP-:-003</th>\n",
       "      <th>US HOUSE-:-MIKE EZELL-:-PARTY:REP-:-004</th>\n",
       "      <th>US HOUSE-:-SHUWASKI A YOUNG-:-PARTY:DEM-:-003</th>\n",
       "      <th>US HOUSE-:-TRENT KELLY-:-PARTY:REP-:-001</th>\n",
       "    </tr>\n",
       "  </thead>\n",
       "  <tbody>\n",
       "    <tr>\n",
       "      <th>0</th>\n",
       "      <td>(01) NEW HOPE BAPTIST CHURCH:::PIK</td>\n",
       "      <td>PIK</td>\n",
       "      <td>PIKE</td>\n",
       "      <td>(01) NEW HOPE BAPTIST CHURCH</td>\n",
       "      <td>113</td>\n",
       "      <td>0.0</td>\n",
       "      <td>0.0</td>\n",
       "      <td>0.0</td>\n",
       "      <td>0.0</td>\n",
       "      <td>0.0</td>\n",
       "      <td>31.0</td>\n",
       "      <td>0.0</td>\n",
       "      <td>244.0</td>\n",
       "      <td>0.0</td>\n",
       "    </tr>\n",
       "    <tr>\n",
       "      <th>1</th>\n",
       "      <td>(02) S MCCOMB BAPTIST CHURCH:::PIK</td>\n",
       "      <td>PIK</td>\n",
       "      <td>PIKE</td>\n",
       "      <td>(02) S MCCOMB BAPTIST CHURCH</td>\n",
       "      <td>113</td>\n",
       "      <td>0.0</td>\n",
       "      <td>0.0</td>\n",
       "      <td>0.0</td>\n",
       "      <td>0.0</td>\n",
       "      <td>0.0</td>\n",
       "      <td>32.0</td>\n",
       "      <td>0.0</td>\n",
       "      <td>76.0</td>\n",
       "      <td>0.0</td>\n",
       "    </tr>\n",
       "    <tr>\n",
       "      <th>2</th>\n",
       "      <td>(03) SUMMIT UNITED METHODIST CHURCH:::PIK</td>\n",
       "      <td>PIK</td>\n",
       "      <td>PIKE</td>\n",
       "      <td>(03) SUMMIT UNITED METHODIST CHURCH</td>\n",
       "      <td>113</td>\n",
       "      <td>0.0</td>\n",
       "      <td>0.0</td>\n",
       "      <td>0.0</td>\n",
       "      <td>0.0</td>\n",
       "      <td>0.0</td>\n",
       "      <td>43.0</td>\n",
       "      <td>0.0</td>\n",
       "      <td>125.0</td>\n",
       "      <td>0.0</td>\n",
       "    </tr>\n",
       "    <tr>\n",
       "      <th>3</th>\n",
       "      <td>(04) MLK CENTER:::PIK</td>\n",
       "      <td>PIK</td>\n",
       "      <td>PIKE</td>\n",
       "      <td>(04) MLK CENTER</td>\n",
       "      <td>113</td>\n",
       "      <td>0.0</td>\n",
       "      <td>0.0</td>\n",
       "      <td>0.0</td>\n",
       "      <td>0.0</td>\n",
       "      <td>0.0</td>\n",
       "      <td>25.0</td>\n",
       "      <td>0.0</td>\n",
       "      <td>262.0</td>\n",
       "      <td>0.0</td>\n",
       "    </tr>\n",
       "    <tr>\n",
       "      <th>4</th>\n",
       "      <td>(05) NORTH MCCOMB BAPTIST CHURCH:::PIK</td>\n",
       "      <td>PIK</td>\n",
       "      <td>PIKE</td>\n",
       "      <td>(05) NORTH MCCOMB BAPTIST CHURCH</td>\n",
       "      <td>113</td>\n",
       "      <td>0.0</td>\n",
       "      <td>0.0</td>\n",
       "      <td>0.0</td>\n",
       "      <td>0.0</td>\n",
       "      <td>0.0</td>\n",
       "      <td>199.0</td>\n",
       "      <td>0.0</td>\n",
       "      <td>107.0</td>\n",
       "      <td>0.0</td>\n",
       "    </tr>\n",
       "  </tbody>\n",
       "</table>\n",
       "</div>"
      ],
      "text/plain": [
       "                                     pct_std county_code county_name  \\\n",
       "0         (01) NEW HOPE BAPTIST CHURCH:::PIK         PIK        PIKE   \n",
       "1         (02) S MCCOMB BAPTIST CHURCH:::PIK         PIK        PIKE   \n",
       "2  (03) SUMMIT UNITED METHODIST CHURCH:::PIK         PIK        PIKE   \n",
       "3                      (04) MLK CENTER:::PIK         PIK        PIKE   \n",
       "4     (05) NORTH MCCOMB BAPTIST CHURCH:::PIK         PIK        PIKE   \n",
       "\n",
       "                              precinct county_fips  \\\n",
       "0         (01) NEW HOPE BAPTIST CHURCH         113   \n",
       "1         (02) S MCCOMB BAPTIST CHURCH         113   \n",
       "2  (03) SUMMIT UNITED METHODIST CHURCH         113   \n",
       "3                      (04) MLK CENTER         113   \n",
       "4     (05) NORTH MCCOMB BAPTIST CHURCH         113   \n",
       "\n",
       "   US HOUSE-:-ALDEN PATRICK JOHNSON-:-PARTY:LIB-:-004  \\\n",
       "0                                                0.0    \n",
       "1                                                0.0    \n",
       "2                                                0.0    \n",
       "3                                                0.0    \n",
       "4                                                0.0    \n",
       "\n",
       "   US HOUSE-:-BENNIE G THOMPSON-:-PARTY:DEM-:-002  \\\n",
       "0                                             0.0   \n",
       "1                                             0.0   \n",
       "2                                             0.0   \n",
       "3                                             0.0   \n",
       "4                                             0.0   \n",
       "\n",
       "   US HOUSE-:-BRIAN FLOWERS-:-PARTY:REP-:-002  \\\n",
       "0                                         0.0   \n",
       "1                                         0.0   \n",
       "2                                         0.0   \n",
       "3                                         0.0   \n",
       "4                                         0.0   \n",
       "\n",
       "   US HOUSE-:-DIANNE BLACK-:-PARTY:DEM-:-001  \\\n",
       "0                                        0.0   \n",
       "1                                        0.0   \n",
       "2                                        0.0   \n",
       "3                                        0.0   \n",
       "4                                        0.0   \n",
       "\n",
       "   US HOUSE-:-JOHNNY L DUPREE-:-PARTY:DEM-:-004  \\\n",
       "0                                           0.0   \n",
       "1                                           0.0   \n",
       "2                                           0.0   \n",
       "3                                           0.0   \n",
       "4                                           0.0   \n",
       "\n",
       "   US HOUSE-:-MICHAEL GUEST-:-PARTY:REP-:-003  \\\n",
       "0                                        31.0   \n",
       "1                                        32.0   \n",
       "2                                        43.0   \n",
       "3                                        25.0   \n",
       "4                                       199.0   \n",
       "\n",
       "   US HOUSE-:-MIKE EZELL-:-PARTY:REP-:-004  \\\n",
       "0                                      0.0   \n",
       "1                                      0.0   \n",
       "2                                      0.0   \n",
       "3                                      0.0   \n",
       "4                                      0.0   \n",
       "\n",
       "   US HOUSE-:-SHUWASKI A YOUNG-:-PARTY:DEM-:-003  \\\n",
       "0                                          244.0   \n",
       "1                                           76.0   \n",
       "2                                          125.0   \n",
       "3                                          262.0   \n",
       "4                                          107.0   \n",
       "\n",
       "   US HOUSE-:-TRENT KELLY-:-PARTY:REP-:-001  \n",
       "0                                       0.0  \n",
       "1                                       0.0  \n",
       "2                                       0.0  \n",
       "3                                       0.0  \n",
       "4                                       0.0  "
      ]
     },
     "execution_count": 10,
     "metadata": {},
     "output_type": "execute_result"
    }
   ],
   "source": [
    "#View data\n",
    "pivoted_2022.head()"
   ]
  },
  {
   "cell_type": "markdown",
   "metadata": {
    "id": "KB2MwJDg-8Vc"
   },
   "source": [
    "## Loading helper functions"
   ]
  },
  {
   "cell_type": "markdown",
   "metadata": {
    "id": "Q2SodN-1_AYh"
   },
   "source": [
    "These are good column renaming and dictionary creation"
   ]
  },
  {
   "cell_type": "code",
   "execution_count": 11,
   "metadata": {
    "id": "Foug5r36_EOm"
   },
   "outputs": [],
   "source": [
    "#Setting up a pre-fab function for assigning legislative abbreviations\n",
    "def get_level_dist(column_name):\n",
    "    zfill_level = 2\n",
    "    if \"US HOUSE\" in column_name:\n",
    "        level = \"CON\"\n",
    "    elif \"COURT OF APPEALS\" in column_name:\n",
    "        level = \"CRJ\"\n",
    "    else:\n",
    "        raise ValueError\n",
    "    return_val = re.findall(\"*\",column_name)\n",
    "    if (len(return_val)!=0):\n",
    "        dist = return_val[0]\n",
    "        dist = dist.zfill(zfill_level)\n",
    "    else:\n",
    "        raise ValueError\n",
    "    return level,dist"
   ]
  },
  {
   "cell_type": "code",
   "execution_count": 12,
   "metadata": {
    "id": "23YmwTbp_HS-"
   },
   "outputs": [],
   "source": [
    "#Set up contest level\n",
    "def get_race(contest):\n",
    "    if \"President\" in contest:\n",
    "        level = \"PRE\"\n",
    "    elif (\"US HOUSE\" in contest or \"COURT OF APPEALS\" in contest):\n",
    "        contest_info = get_level_dist(contest)\n",
    "        level = contest_info[0]+contest_info[1]\n",
    "    else:\n",
    "        print(contest)\n",
    "        raise ValueError\n",
    "    return level"
   ]
  },
  {
   "cell_type": "code",
   "execution_count": 13,
   "metadata": {
    "id": "Mf_ldvo-T8pe"
   },
   "outputs": [],
   "source": [
    "#Set up election type (general or primary)\n",
    "def get_election_type(contest):\n",
    "    return \"G\""
   ]
  },
  {
   "cell_type": "code",
   "execution_count": 14,
   "metadata": {
    "id": "JhVg62T__J3I"
   },
   "outputs": [],
   "source": [
    "#Set up contest three-letter descriptor\n",
    "def get_race(contest):\n",
    "    mod_level = \"\"\n",
    "    level = contest.split(\"-:-\")[0]\n",
    "    level_change_dict = {\n",
    "        'COURT OF APPEALS':'CAJ',\n",
    "        'US HOUSE':'CON'}\n",
    "    for val in level_change_dict.keys():\n",
    "        if val in level:\n",
    "            mod_level = level_change_dict[val]\n",
    "            break\n",
    "    if mod_level == \"\":\n",
    "        print(\"NO CONTEST\", contest)\n",
    "    if mod_level == 'A':\n",
    "        mod_level += level.split(\":\")[0].split(\" \")[-1]\n",
    "\n",
    "    return mod_level\n",
    "\n"
   ]
  },
  {
   "cell_type": "code",
   "execution_count": 15,
   "metadata": {
    "id": "xJSYK2mn_NnB"
   },
   "outputs": [],
   "source": [
    "#Set up party single-letter identifier\n",
    "def get_party(contest):\n",
    "    if \"Amendment\" in contest:\n",
    "        return \"\"\n",
    "    elif \"Retention of\" in contest:\n",
    "        return contest.split(\"-:-\")[1][0].upper()\n",
    "    elif \"PARTY:DEM\" in contest:\n",
    "        return \"D\"\n",
    "    elif \"PARTY:REP\" in contest:\n",
    "        return \"R\"\n",
    "    elif \"PARTY:LIB\" in contest:\n",
    "        return \"L\"\n",
    "    ## Reform -> F\n",
    "    elif \"PARTY:REF\" in contest:\n",
    "        return \"O\"\n",
    "    elif \"PARTY:IND\" in contest:\n",
    "        return \"I\"\n",
    "    elif \"PARTY:NON\" in contest:\n",
    "        return \"N\"\n",
    "    elif \"PARTY:CPF\" in contest:\n",
    "        return \"C\"\n",
    "    elif \"PARTY:WRI\" in contest:\n",
    "        return \"O\"\n",
    "    elif \"PARTY:NPA\" or \"PARTY:NOP\" in contest:\n",
    "        return \"N\"\n",
    "    else:\n",
    "        print(contest)\n",
    "        return ValueError\n"
   ]
  },
  {
   "cell_type": "code",
   "execution_count": 16,
   "metadata": {
    "id": "qYsv8cJK_Pgx"
   },
   "outputs": [],
   "source": [
    "#Set up function for first three letters of candidate's surname\n",
    "def get_name(contest):\n",
    "  candidate = contest.split(\"-:-\")[1]\n",
    "  candidate = candidate.upper()\n",
    "  likely_last = candidate.split(\" \")[-1]\n",
    "  if likely_last in [\"JR\",\"III\",\"II\",\"SR\"] or (len(candidate.split(\" \"))==3 and \".\" not in candidate and '\\\"' not in candidate):\n",
    "      return candidate.split(\" \")[2][0:3]\n",
    "  else:\n",
    "      return likely_last[0:3]"
   ]
  },
  {
   "cell_type": "code",
   "execution_count": 17,
   "metadata": {
    "id": "qWqMPzsA_RFc"
   },
   "outputs": [],
   "source": [
    "#Set up function for getting district string\n",
    "def get_district(contest):\n",
    "    district_string = contest.split(\"-:-\")[3]\n",
    "    likely = district_string\n",
    "    if \"US HOUSE\" in contest:\n",
    "        level = 1\n",
    "    elif 'COURT OF APPEALS' in contest:\n",
    "        level = 1\n",
    "    return re.sub(r'^0', '', likely, count=1)"
   ]
  },
  {
   "cell_type": "markdown",
   "metadata": {
    "id": "OI5i5A1BSiRh"
   },
   "source": [
    "## Apply functions"
   ]
  },
  {
   "cell_type": "code",
   "execution_count": 18,
   "metadata": {
    "id": "7UhMGl4ITp_f"
   },
   "outputs": [],
   "source": [
    "#Columns to leave out of helper function operations\n",
    "keep_names = ['pct_std', 'county_code', 'county_name','precinct', 'county_fips']"
   ]
  },
  {
   "cell_type": "code",
   "execution_count": 19,
   "metadata": {
    "colab": {
     "base_uri": "https://localhost:8080/"
    },
    "id": "Pl9jBp7xSjzR",
    "outputId": "95e6c9c6-62f1-4c72-96c7-422c28217a2f"
   },
   "outputs": [
    {
     "name": "stdout",
     "output_type": "stream",
     "text": [
      "10\n",
      "10\n",
      "10\n",
      "10\n",
      "10\n",
      "10\n",
      "10\n",
      "10\n",
      "10\n"
     ]
    }
   ],
   "source": [
    "#Applying functions to all columns except for ones in keep_names list\n",
    "contest_name_change_dict = {}\n",
    "\n",
    "duplicate_value_list = []\n",
    "for contest in pivoted_2022.columns:\n",
    "    if contest not in keep_names:\n",
    "        # Add in a condition about the 20\n",
    "#         print(\"E-type\", get_election_type(contest))\n",
    "#         print(\"Race\", get_race(contest))\n",
    "#         print(\"Party\", get_party(contest))\n",
    "#         print(\"Name\", get_name(contest))\n",
    "        if \"US HOUSE\" in contest or 'COURT OF APPEALS' in contest:\n",
    "            value = get_election_type(contest) + get_race(contest) + get_district(contest) + get_party(contest) + get_name(contest)\n",
    "        else:\n",
    "            value = get_election_type(contest) + \"22\" + get_race(contest) + get_party(contest) + get_name(contest)\n",
    "        if value in contest_name_change_dict.values():\n",
    "            duplicate_value_list.append(value)\n",
    "        print(len(value))\n",
    "        contest_name_change_dict[contest] = value"
   ]
  },
  {
   "cell_type": "code",
   "execution_count": 20,
   "metadata": {
    "id": "cIREP9exAMUx"
   },
   "outputs": [],
   "source": [
    "#Checking for duplicate columns\n",
    "if len(duplicate_value_list) > 0:\n",
    "    print(\"DUPLICATE VALUES\")\n",
    "    for val in [(k,v) for k, v in contest_name_change_dict.items() if v in duplicate_value_list]:\n",
    "        print(val)"
   ]
  },
  {
   "cell_type": "code",
   "execution_count": 21,
   "metadata": {
    "id": "V3_iiO9rAMot"
   },
   "outputs": [],
   "source": [
    "# Create a sorted dictionary to sort the columns of the final dataframe\n",
    "sorted_contest_name_change_dict = dict(sorted(contest_name_change_dict.items(), key=lambda x:x[1]))\n",
    "\n",
    "# Export the candidate name change dictionary for the README\n",
    "holder = pd.DataFrame(sorted_contest_name_change_dict.values(),sorted_contest_name_change_dict.keys())\n",
    "holder.to_csv(\"./output/field_names.csv\", index = True)"
   ]
  },
  {
   "cell_type": "code",
   "execution_count": 22,
   "metadata": {
    "colab": {
     "base_uri": "https://localhost:8080/",
     "height": 173
    },
    "id": "tJHZuTqfiPwo",
    "outputId": "96c8060c-1092-4449-f38a-cd0419945b04"
   },
   "outputs": [
    {
     "data": {
      "text/plain": [
       "{'GCON04LJOH': 'US HOUSE-:-ALDEN PATRICK JOHNSON-:-PARTY:LIB-:-004',\n",
       " 'GCON02DTHO': 'US HOUSE-:-BENNIE G THOMPSON-:-PARTY:DEM-:-002',\n",
       " 'GCON02RFLO': 'US HOUSE-:-BRIAN FLOWERS-:-PARTY:REP-:-002',\n",
       " 'GCON01DBLA': 'US HOUSE-:-DIANNE BLACK-:-PARTY:DEM-:-001',\n",
       " 'GCON04DDUP': 'US HOUSE-:-JOHNNY L DUPREE-:-PARTY:DEM-:-004',\n",
       " 'GCON03RGUE': 'US HOUSE-:-MICHAEL GUEST-:-PARTY:REP-:-003',\n",
       " 'GCON04REZE': 'US HOUSE-:-MIKE EZELL-:-PARTY:REP-:-004',\n",
       " 'GCON03DYOU': 'US HOUSE-:-SHUWASKI A YOUNG-:-PARTY:DEM-:-003',\n",
       " 'GCON01RKEL': 'US HOUSE-:-TRENT KELLY-:-PARTY:REP-:-001'}"
      ]
     },
     "metadata": {},
     "output_type": "display_data"
    }
   ],
   "source": [
    "#Rename the dataframe using this dictionary\n",
    "pivoted_2022.rename(columns = contest_name_change_dict, inplace = True)\n",
    "\n",
    "#Define a reversed version of the dictionary\n",
    "contest_name_change_dict_rev = {v:k for k,v in contest_name_change_dict.items()}\n",
    "display(contest_name_change_dict_rev)"
   ]
  },
  {
   "cell_type": "code",
   "execution_count": 23,
   "metadata": {
    "id": "35HAj5lpBTnt"
   },
   "outputs": [],
   "source": [
    "#Additional cleaning\n",
    "for col in list(contest_name_change_dict.values()):\n",
    "    pivoted_2022[col] = pivoted_2022[col].astype(int)"
   ]
  },
  {
   "cell_type": "markdown",
   "metadata": {
    "id": "xwe8_VIOgTqG"
   },
   "source": [
    "# Check against state county-level results"
   ]
  },
  {
   "cell_type": "markdown",
   "metadata": {
    "id": "RUdEpzuM8KyG"
   },
   "source": [
    "County results file made by Redistricting Data Hub staff\n",
    "<br><br>\n",
    "Created by hand using MS Secretary of State PDF files"
   ]
  },
  {
   "cell_type": "code",
   "execution_count": 24,
   "metadata": {
    "id": "jP9Mo02EgXAf"
   },
   "outputs": [],
   "source": [
    "#Read in file\n",
    "county_check = pd.read_csv('./raw-from-source/RDH_county_totals.csv')"
   ]
  },
  {
   "cell_type": "code",
   "execution_count": 25,
   "metadata": {
    "colab": {
     "base_uri": "https://localhost:8080/",
     "height": 261
    },
    "id": "ydaDAx44gljr",
    "outputId": "3686dddf-184e-41eb-b53a-d8d19b3410b7"
   },
   "outputs": [
    {
     "name": "stderr",
     "output_type": "stream",
     "text": [
      "/var/folders/4v/xw3fff217577d04_yzwdvz340000gn/T/ipykernel_5593/3759717658.py:3: DeprecationWarning: In a future version, `df.iloc[:, i] = newvals` will attempt to set the values inplace instead of always setting a new array. To retain the old behavior, use either `df[df.columns[i]] = newvals` or, if columns are non-unique, `df.isetitem(i, newvals)`\n",
      "  county_check.iloc[:, 1:] = county_check.iloc[:, 1:].astype(int)\n"
     ]
    },
    {
     "data": {
      "text/html": [
       "<div>\n",
       "<style scoped>\n",
       "    .dataframe tbody tr th:only-of-type {\n",
       "        vertical-align: middle;\n",
       "    }\n",
       "\n",
       "    .dataframe tbody tr th {\n",
       "        vertical-align: top;\n",
       "    }\n",
       "\n",
       "    .dataframe thead th {\n",
       "        text-align: right;\n",
       "    }\n",
       "</style>\n",
       "<table border=\"1\" class=\"dataframe\">\n",
       "  <thead>\n",
       "    <tr style=\"text-align: right;\">\n",
       "      <th></th>\n",
       "      <th>county</th>\n",
       "      <th>GCON02DTHO</th>\n",
       "      <th>GCON02RFLO</th>\n",
       "      <th>GCON03DYOU</th>\n",
       "      <th>GCON03RGUE</th>\n",
       "      <th>GCON04DDUP</th>\n",
       "      <th>GCON04REZE</th>\n",
       "      <th>GCON04LJOH</th>\n",
       "      <th>GCON01DBLA</th>\n",
       "      <th>GCON01RKEL</th>\n",
       "    </tr>\n",
       "  </thead>\n",
       "  <tbody>\n",
       "    <tr>\n",
       "      <th>0</th>\n",
       "      <td>ADAMS</td>\n",
       "      <td>4469</td>\n",
       "      <td>3817</td>\n",
       "      <td>0</td>\n",
       "      <td>0</td>\n",
       "      <td>0</td>\n",
       "      <td>0</td>\n",
       "      <td>0</td>\n",
       "      <td>0</td>\n",
       "      <td>0</td>\n",
       "    </tr>\n",
       "    <tr>\n",
       "      <th>1</th>\n",
       "      <td>AMITE</td>\n",
       "      <td>1538</td>\n",
       "      <td>3127</td>\n",
       "      <td>0</td>\n",
       "      <td>0</td>\n",
       "      <td>0</td>\n",
       "      <td>0</td>\n",
       "      <td>0</td>\n",
       "      <td>0</td>\n",
       "      <td>0</td>\n",
       "    </tr>\n",
       "    <tr>\n",
       "      <th>2</th>\n",
       "      <td>ATTALA</td>\n",
       "      <td>2008</td>\n",
       "      <td>3194</td>\n",
       "      <td>0</td>\n",
       "      <td>0</td>\n",
       "      <td>0</td>\n",
       "      <td>0</td>\n",
       "      <td>0</td>\n",
       "      <td>0</td>\n",
       "      <td>0</td>\n",
       "    </tr>\n",
       "    <tr>\n",
       "      <th>3</th>\n",
       "      <td>BOLIVAR</td>\n",
       "      <td>4912</td>\n",
       "      <td>2753</td>\n",
       "      <td>0</td>\n",
       "      <td>0</td>\n",
       "      <td>0</td>\n",
       "      <td>0</td>\n",
       "      <td>0</td>\n",
       "      <td>0</td>\n",
       "      <td>0</td>\n",
       "    </tr>\n",
       "    <tr>\n",
       "      <th>4</th>\n",
       "      <td>CARROLL</td>\n",
       "      <td>1112</td>\n",
       "      <td>2626</td>\n",
       "      <td>0</td>\n",
       "      <td>0</td>\n",
       "      <td>0</td>\n",
       "      <td>0</td>\n",
       "      <td>0</td>\n",
       "      <td>0</td>\n",
       "      <td>0</td>\n",
       "    </tr>\n",
       "  </tbody>\n",
       "</table>\n",
       "</div>"
      ],
      "text/plain": [
       "    county  GCON02DTHO  GCON02RFLO  GCON03DYOU  GCON03RGUE  GCON04DDUP  \\\n",
       "0    ADAMS        4469        3817           0           0           0   \n",
       "1    AMITE        1538        3127           0           0           0   \n",
       "2   ATTALA        2008        3194           0           0           0   \n",
       "3  BOLIVAR        4912        2753           0           0           0   \n",
       "4  CARROLL        1112        2626           0           0           0   \n",
       "\n",
       "   GCON04REZE  GCON04LJOH  GCON01DBLA  GCON01RKEL  \n",
       "0           0           0           0           0  \n",
       "1           0           0           0           0  \n",
       "2           0           0           0           0  \n",
       "3           0           0           0           0  \n",
       "4           0           0           0           0  "
      ]
     },
     "execution_count": 25,
     "metadata": {},
     "output_type": "execute_result"
    }
   ],
   "source": [
    "#Cleaning\n",
    "county_check.fillna(0, inplace=True)\n",
    "county_check.iloc[:, 1:] = county_check.iloc[:, 1:].astype(int)\n",
    "county_check.reset_index(inplace = True, drop = True)\n",
    "\n",
    "county_check.head()"
   ]
  },
  {
   "cell_type": "code",
   "execution_count": 26,
   "metadata": {
    "colab": {
     "base_uri": "https://localhost:8080/"
    },
    "id": "kJ0cj8JUqJ45",
    "outputId": "7f9b1919-445e-4e97-c527-db8d9302a91a"
   },
   "outputs": [
    {
     "name": "stdout",
     "output_type": "stream",
     "text": [
      "10\n",
      "10\n",
      "10\n",
      "10\n",
      "10\n",
      "10\n",
      "10\n",
      "10\n",
      "10\n",
      "DUPLICATE VALUES\n",
      "('GCON02DTHO', 'GCON01RKEL')\n",
      "('GCON02RFLO', 'GCON01RKEL')\n",
      "('GCON03DYOU', 'GCON01RKEL')\n",
      "('GCON03RGUE', 'GCON01RKEL')\n",
      "('GCON04DDUP', 'GCON01RKEL')\n",
      "('GCON04REZE', 'GCON01RKEL')\n",
      "('GCON04LJOH', 'GCON01RKEL')\n",
      "('GCON01DBLA', 'GCON01RKEL')\n",
      "('GCON01RKEL', 'GCON01RKEL')\n"
     ]
    }
   ],
   "source": [
    "#Create dictionary for alt data source\n",
    "contest_name_change_dict_counties = {}\n",
    "\n",
    "#Checking for duplicate column names\n",
    "duplicate_value_list = []\n",
    "for contest in county_check.columns:\n",
    "    if contest != \"county\":\n",
    "        if value in contest_name_change_dict_counties.values():\n",
    "            duplicate_value_list.append(value)\n",
    "        print(len(value))\n",
    "        contest_name_change_dict_counties[contest] = value\n",
    "\n",
    "if len(duplicate_value_list) > 0:\n",
    "    print(\"DUPLICATE VALUES\")\n",
    "    for val in [(k,v) for k, v in contest_name_change_dict_counties.items() if v in duplicate_value_list]:\n",
    "        print(val)"
   ]
  },
  {
   "cell_type": "code",
   "execution_count": 27,
   "metadata": {
    "id": "fxxFwBYxqA2h"
   },
   "outputs": [],
   "source": [
    "#Creating reverse dictionary for use in checking functions\n",
    "contest_name_change_dict_counties_rev = {v:k for k,v in contest_name_change_dict_counties.items()}"
   ]
  },
  {
   "cell_type": "code",
   "execution_count": 28,
   "metadata": {
    "colab": {
     "base_uri": "https://localhost:8080/"
    },
    "id": "uz52cvQNjTyj",
    "outputId": "d308373a-dd2e-4437-9403-e7bbba401182"
   },
   "outputs": [
    {
     "data": {
      "text/plain": [
       "{}"
      ]
     },
     "execution_count": 28,
     "metadata": {},
     "output_type": "execute_result"
    }
   ],
   "source": [
    "#Checking out a list of contests that appear in county-level source but not precinct-level\n",
    "{i:contest_name_change_dict_counties_rev[i] for i in list(county_check.columns) if i not in list(pivoted_2022.columns) and i !=\"county\"}"
   ]
  },
  {
   "cell_type": "code",
   "execution_count": 29,
   "metadata": {
    "colab": {
     "base_uri": "https://localhost:8080/"
    },
    "id": "83hxfcRxjevx",
    "outputId": "016f6f6a-ea4b-442a-aa33-0a940a13b8fe"
   },
   "outputs": [
    {
     "data": {
      "text/plain": [
       "{}"
      ]
     },
     "execution_count": 29,
     "metadata": {},
     "output_type": "execute_result"
    }
   ],
   "source": [
    "#Checking out a list of contests that appear in county-level source but not precinct-level\n",
    "ignore_list = ['pct_std', 'county_code', 'precinct', 'county_fips', 'county','county_name']\n",
    "\n",
    "{i:contest_name_change_dict_rev[i] for i in list(pivoted_2022.columns) if i not in list(county_check.columns) and i not in ignore_list}"
   ]
  },
  {
   "cell_type": "code",
   "execution_count": 30,
   "metadata": {
    "colab": {
     "base_uri": "https://localhost:8080/"
    },
    "id": "MSx0PscMjhux",
    "outputId": "f768f09a-b7af-4987-f678-d767a7b25063"
   },
   "outputs": [
    {
     "name": "stdout",
     "output_type": "stream",
     "text": [
      "['GCON04LJOH', 'GCON02DTHO', 'GCON02RFLO', 'GCON01DBLA', 'GCON04DDUP', 'GCON03RGUE', 'GCON04REZE', 'GCON03DYOU', 'GCON01RKEL']\n"
     ]
    }
   ],
   "source": [
    "#Define a list of columns that appear in both dataframes\n",
    "shared_cols = [i for i in list(pivoted_2022.columns) if i in list(county_check.columns)]\n",
    "print(shared_cols)"
   ]
  },
  {
   "cell_type": "code",
   "execution_count": 31,
   "metadata": {
    "colab": {
     "base_uri": "https://localhost:8080/"
    },
    "id": "awYEhQy0jjjL",
    "outputId": "4ddd5797-040f-4f07-979b-b1caa5752c1f"
   },
   "outputs": [
    {
     "name": "stdout",
     "output_type": "stream",
     "text": [
      "['pct_std', 'county_code', 'county_name', 'precinct', 'county_fips']\n"
     ]
    }
   ],
   "source": [
    "#Same for unshared columns\n",
    "unshared_cols = [i for i in list(pivoted_2022.columns) if i not in list(county_check.columns)]\n",
    "print(unshared_cols)"
   ]
  },
  {
   "cell_type": "code",
   "execution_count": 32,
   "metadata": {
    "id": "KiJs-0g7jlm-"
   },
   "outputs": [],
   "source": [
    "#Defining statewide_totals_check & county_totals_check function\n",
    "\n",
    "def statewide_totals_check(partner_df,source_df,column_list):\n",
    "    \"\"\"Compares the totals of two election result dataframes at the statewide total level\n",
    "\n",
    "    Args:\n",
    "      partner_df: DataFrame of election results we are comparing against\n",
    "      source_df: DataFrame of election results we are comparing to\n",
    "      column_list: List of races that there are votes for\n",
    "\n",
    "    Returns:\n",
    "      Nothing, only prints out an analysis\n",
    "    \"\"\"\n",
    "    print(\"***Statewide Totals Check***\")\n",
    "    for race in column_list:\n",
    "        if (partner_df[race].sum()- source_df[race].sum() != 0):\n",
    "            print(race+\" has a difference of \"+str(partner_df[race].sum()-source_df[race].sum())+\" votes\")\n",
    "            print(\"\\PRECINCT-LEVEL: \"+str(partner_df[race].sum())+\" votes\")\n",
    "            print(\"\\COUNTY-LEVEL: \"+str(source_df[race].sum())+\" votes\")\n",
    "        else:\n",
    "            print(race + \" is equal\", \"\\tPRECINCT / COUNTY: \" + str(partner_df[race].sum()))\n",
    "\n",
    "def county_totals_check(partner_df,source_df,column_list,county_col,full_print=False):\n",
    "    \"\"\"Compares the totals of two election result dataframes at the county level\n",
    "\n",
    "    Args:\n",
    "      partner_df: DataFrame of election results we are comparing against\n",
    "      source_df: DataFrame of election results we are comparing to\n",
    "      column_list: List of races that there are votes for\n",
    "      county_col: String of the column name that contains county information\n",
    "      full_print: Boolean specifying whether to print out everything, including counties w/ similarities\n",
    "\n",
    "    Returns:\n",
    "      Nothing, only prints out an analysis\n",
    "    \"\"\"\n",
    "\n",
    "    print(\"***Countywide Totals Check***\")\n",
    "    print(\"\")\n",
    "    diff_counties=[]\n",
    "    for race in column_list:\n",
    "        diff = partner_df.groupby([county_col]).sum()[race]-source_df.groupby([county_col]).sum()[race]\n",
    "        for val in diff[diff != 0].index.values.tolist():\n",
    "            if val not in diff_counties:\n",
    "                diff_counties.append(val)\n",
    "        if len(diff[diff != 0]!=0):\n",
    "            print(race + \" contains differences in these counties:\")\n",
    "            for val in diff[diff != 0].index.values.tolist():\n",
    "                county_differences = diff[diff != 0]\n",
    "                print(\"\\t\"+val+\" has a difference of \"+str(county_differences[val])+\" votes\")\n",
    "                print(\"\\t\\PRECINCT-LEVEL: \"+str(partner_df.groupby([county_col]).sum().loc[val,race])+\" votes\")\n",
    "                print(\"\\t\\COUNTY-LEVEL: \"+str(source_df.groupby([county_col]).sum().loc[val,race])+\" votes\")\n",
    "            if (full_print):\n",
    "                for val in diff[diff == 0].index.values.tolist():\n",
    "                    county_similarities = diff[diff == 0]\n",
    "                    print(\"\\t\"+val + \": \"+ str(partner_df.groupby([county_col]).sum().loc[val,race])+\" votes\")\n",
    "        else:\n",
    "            print(race + \" is equal across all counties\")\n",
    "            if (full_print):\n",
    "                for val in diff[diff == 0].index.values.tolist():\n",
    "                    county_similarities = diff[diff == 0]\n",
    "                    print(\"\\t\"+val + \": \"+ str(partner_df.groupby([county_col]).sum().loc[val,race])+\" votes\")\n",
    "    if (len(diff_counties)>0):\n",
    "        print()\n",
    "        print(diff_counties)"
   ]
  },
  {
   "cell_type": "markdown",
   "metadata": {
    "id": "B97Dc2hTCNvn"
   },
   "source": [
    "No discrepancies w/ statewide totals"
   ]
  },
  {
   "cell_type": "code",
   "execution_count": 33,
   "metadata": {
    "colab": {
     "base_uri": "https://localhost:8080/"
    },
    "id": "HbpfkV1ljpTb",
    "outputId": "4348f05c-ab01-48a8-b933-6db4bda023d3"
   },
   "outputs": [
    {
     "name": "stdout",
     "output_type": "stream",
     "text": [
      "***Statewide Totals Check***\n",
      "GCON04LJOH is equal \tPRECINCT / COUNTY: 3569\n",
      "GCON02DTHO is equal \tPRECINCT / COUNTY: 108285\n",
      "GCON02RFLO is equal \tPRECINCT / COUNTY: 71884\n",
      "GCON01DBLA is equal \tPRECINCT / COUNTY: 45238\n",
      "GCON04DDUP is equal \tPRECINCT / COUNTY: 42876\n",
      "GCON03RGUE is equal \tPRECINCT / COUNTY: 132481\n",
      "GCON04REZE is equal \tPRECINCT / COUNTY: 127813\n",
      "GCON03DYOU is equal \tPRECINCT / COUNTY: 54803\n",
      "GCON01RKEL is equal \tPRECINCT / COUNTY: 122152\n"
     ]
    }
   ],
   "source": [
    "#Calling statewide function\n",
    "statewide_totals_check(pivoted_2022, county_check, shared_cols)"
   ]
  },
  {
   "cell_type": "code",
   "execution_count": 34,
   "metadata": {
    "id": "rqeoNSHvoDTH"
   },
   "outputs": [],
   "source": [
    "#Minor renaming for the county-level check\n",
    "county_check.rename(columns = {\"county\":\"county_name\"}, inplace = True)"
   ]
  },
  {
   "cell_type": "markdown",
   "metadata": {
    "id": "Dm8-C5-SCTZO"
   },
   "source": [
    "No discrepancies w/ county-wide totals"
   ]
  },
  {
   "cell_type": "code",
   "execution_count": 35,
   "metadata": {
    "colab": {
     "base_uri": "https://localhost:8080/"
    },
    "id": "T816IA9QjrPD",
    "outputId": "42fd1f92-f531-4e2b-eae2-b56428f85f5a"
   },
   "outputs": [
    {
     "name": "stdout",
     "output_type": "stream",
     "text": [
      "***Countywide Totals Check***\n",
      "\n",
      "GCON04LJOH is equal across all counties\n",
      "GCON02DTHO is equal across all counties\n",
      "GCON02RFLO is equal across all counties\n",
      "GCON01DBLA is equal across all counties\n",
      "GCON04DDUP is equal across all counties\n",
      "GCON03RGUE is equal across all counties\n",
      "GCON04REZE is equal across all counties\n",
      "GCON03DYOU is equal across all counties\n",
      "GCON01RKEL is equal across all counties\n"
     ]
    }
   ],
   "source": [
    "#Calling county function\n",
    "county_totals_check(pivoted_2022, county_check, shared_cols, \"county_name\")"
   ]
  },
  {
   "cell_type": "markdown",
   "metadata": {
    "id": "0Q2GBBbz4Ne9"
   },
   "source": [
    "# Minor additional cleaning"
   ]
  },
  {
   "cell_type": "code",
   "execution_count": 36,
   "metadata": {
    "id": "G4v2KfzlZBTJ"
   },
   "outputs": [],
   "source": [
    "pivoted_2022.rename(columns = {'pct_std':'UNIQUE_ID',\n",
    "                              'county_fips':'COUNTYFP',\n",
    "                              'county_name':'CNTY_NAME',\n",
    "                              'county_code':'CNTY_CODE',\n",
    "                              'precinct':'POLL_LOC'}, inplace = True)"
   ]
  },
  {
   "cell_type": "code",
   "execution_count": 37,
   "metadata": {
    "id": "rwP2RwMXZDil"
   },
   "outputs": [],
   "source": [
    "pivoted_2022 = pivoted_2022[['UNIQUE_ID', 'COUNTYFP', 'CNTY_CODE', 'CNTY_NAME', 'POLL_LOC']+list(contest_name_change_dict.values())]"
   ]
  },
  {
   "cell_type": "markdown",
   "metadata": {
    "id": "_RiR6L9Rsnzo"
   },
   "source": [
    "# Export"
   ]
  },
  {
   "cell_type": "code",
   "execution_count": 38,
   "metadata": {
    "colab": {
     "base_uri": "https://localhost:8080/",
     "height": 414
    },
    "id": "WUEw5QnEspfK",
    "outputId": "80f82270-0e27-4d74-b0f4-5b70e5a05696"
   },
   "outputs": [
    {
     "name": "stdout",
     "output_type": "stream",
     "text": [
      "['UNIQUE_ID', 'COUNTYFP', 'CNTY_CODE', 'CNTY_NAME', 'POLL_LOC']\n"
     ]
    },
    {
     "data": {
      "text/html": [
       "<div>\n",
       "<style scoped>\n",
       "    .dataframe tbody tr th:only-of-type {\n",
       "        vertical-align: middle;\n",
       "    }\n",
       "\n",
       "    .dataframe tbody tr th {\n",
       "        vertical-align: top;\n",
       "    }\n",
       "\n",
       "    .dataframe thead th {\n",
       "        text-align: right;\n",
       "    }\n",
       "</style>\n",
       "<table border=\"1\" class=\"dataframe\">\n",
       "  <thead>\n",
       "    <tr style=\"text-align: right;\">\n",
       "      <th></th>\n",
       "      <th>UNIQUE_ID</th>\n",
       "      <th>COUNTYFP</th>\n",
       "      <th>CNTY_CODE</th>\n",
       "      <th>CNTY_NAME</th>\n",
       "      <th>POLL_LOC</th>\n",
       "      <th>GCON04LJOH</th>\n",
       "      <th>GCON02DTHO</th>\n",
       "      <th>GCON02RFLO</th>\n",
       "      <th>GCON01DBLA</th>\n",
       "      <th>GCON04DDUP</th>\n",
       "      <th>GCON03RGUE</th>\n",
       "      <th>GCON04REZE</th>\n",
       "      <th>GCON03DYOU</th>\n",
       "      <th>GCON01RKEL</th>\n",
       "    </tr>\n",
       "  </thead>\n",
       "  <tbody>\n",
       "    <tr>\n",
       "      <th>0</th>\n",
       "      <td>(01) NEW HOPE BAPTIST CHURCH:::PIK</td>\n",
       "      <td>113</td>\n",
       "      <td>PIK</td>\n",
       "      <td>PIKE</td>\n",
       "      <td>(01) NEW HOPE BAPTIST CHURCH</td>\n",
       "      <td>0</td>\n",
       "      <td>0</td>\n",
       "      <td>0</td>\n",
       "      <td>0</td>\n",
       "      <td>0</td>\n",
       "      <td>31</td>\n",
       "      <td>0</td>\n",
       "      <td>244</td>\n",
       "      <td>0</td>\n",
       "    </tr>\n",
       "    <tr>\n",
       "      <th>1</th>\n",
       "      <td>(02) S MCCOMB BAPTIST CHURCH:::PIK</td>\n",
       "      <td>113</td>\n",
       "      <td>PIK</td>\n",
       "      <td>PIKE</td>\n",
       "      <td>(02) S MCCOMB BAPTIST CHURCH</td>\n",
       "      <td>0</td>\n",
       "      <td>0</td>\n",
       "      <td>0</td>\n",
       "      <td>0</td>\n",
       "      <td>0</td>\n",
       "      <td>32</td>\n",
       "      <td>0</td>\n",
       "      <td>76</td>\n",
       "      <td>0</td>\n",
       "    </tr>\n",
       "    <tr>\n",
       "      <th>2</th>\n",
       "      <td>(03) SUMMIT UNITED METHODIST CHURCH:::PIK</td>\n",
       "      <td>113</td>\n",
       "      <td>PIK</td>\n",
       "      <td>PIKE</td>\n",
       "      <td>(03) SUMMIT UNITED METHODIST CHURCH</td>\n",
       "      <td>0</td>\n",
       "      <td>0</td>\n",
       "      <td>0</td>\n",
       "      <td>0</td>\n",
       "      <td>0</td>\n",
       "      <td>43</td>\n",
       "      <td>0</td>\n",
       "      <td>125</td>\n",
       "      <td>0</td>\n",
       "    </tr>\n",
       "    <tr>\n",
       "      <th>3</th>\n",
       "      <td>(04) MLK CENTER:::PIK</td>\n",
       "      <td>113</td>\n",
       "      <td>PIK</td>\n",
       "      <td>PIKE</td>\n",
       "      <td>(04) MLK CENTER</td>\n",
       "      <td>0</td>\n",
       "      <td>0</td>\n",
       "      <td>0</td>\n",
       "      <td>0</td>\n",
       "      <td>0</td>\n",
       "      <td>25</td>\n",
       "      <td>0</td>\n",
       "      <td>262</td>\n",
       "      <td>0</td>\n",
       "    </tr>\n",
       "    <tr>\n",
       "      <th>4</th>\n",
       "      <td>(05) NORTH MCCOMB BAPTIST CHURCH:::PIK</td>\n",
       "      <td>113</td>\n",
       "      <td>PIK</td>\n",
       "      <td>PIKE</td>\n",
       "      <td>(05) NORTH MCCOMB BAPTIST CHURCH</td>\n",
       "      <td>0</td>\n",
       "      <td>0</td>\n",
       "      <td>0</td>\n",
       "      <td>0</td>\n",
       "      <td>0</td>\n",
       "      <td>199</td>\n",
       "      <td>0</td>\n",
       "      <td>107</td>\n",
       "      <td>0</td>\n",
       "    </tr>\n",
       "  </tbody>\n",
       "</table>\n",
       "</div>"
      ],
      "text/plain": [
       "                                   UNIQUE_ID COUNTYFP CNTY_CODE CNTY_NAME  \\\n",
       "0         (01) NEW HOPE BAPTIST CHURCH:::PIK      113       PIK      PIKE   \n",
       "1         (02) S MCCOMB BAPTIST CHURCH:::PIK      113       PIK      PIKE   \n",
       "2  (03) SUMMIT UNITED METHODIST CHURCH:::PIK      113       PIK      PIKE   \n",
       "3                      (04) MLK CENTER:::PIK      113       PIK      PIKE   \n",
       "4     (05) NORTH MCCOMB BAPTIST CHURCH:::PIK      113       PIK      PIKE   \n",
       "\n",
       "                              POLL_LOC  GCON04LJOH  GCON02DTHO  GCON02RFLO  \\\n",
       "0         (01) NEW HOPE BAPTIST CHURCH           0           0           0   \n",
       "1         (02) S MCCOMB BAPTIST CHURCH           0           0           0   \n",
       "2  (03) SUMMIT UNITED METHODIST CHURCH           0           0           0   \n",
       "3                      (04) MLK CENTER           0           0           0   \n",
       "4     (05) NORTH MCCOMB BAPTIST CHURCH           0           0           0   \n",
       "\n",
       "   GCON01DBLA  GCON04DDUP  GCON03RGUE  GCON04REZE  GCON03DYOU  GCON01RKEL  \n",
       "0           0           0          31           0         244           0  \n",
       "1           0           0          32           0          76           0  \n",
       "2           0           0          43           0         125           0  \n",
       "3           0           0          25           0         262           0  \n",
       "4           0           0         199           0         107           0  "
      ]
     },
     "execution_count": 38,
     "metadata": {},
     "output_type": "execute_result"
    }
   ],
   "source": [
    "#Re-order columns to place larger, statewide contests in front\n",
    "\n",
    "#Set the order\n",
    "base  = []\n",
    "cong = []\n",
    "for i in pivoted_2022:\n",
    "    if i.startswith('GCON'):\n",
    "        cong.append(i)\n",
    "    else:\n",
    "        base.append(i)\n",
    "new_order = base + cong\n",
    "dict_order = cong\n",
    "\n",
    "print(base)\n",
    "\n",
    "#Apply order to dataframe\n",
    "pivoted_ordered_2022 = pivoted_2022.reindex(columns=new_order)\n",
    "pivoted_ordered_2022.head()"
   ]
  },
  {
   "cell_type": "code",
   "execution_count": 39,
   "metadata": {
    "colab": {
     "base_uri": "https://localhost:8080/"
    },
    "id": "D_JPyCsFs752",
    "outputId": "64ebc769-2ebb-48fe-a87b-31e950a9f9d4"
   },
   "outputs": [
    {
     "name": "stdout",
     "output_type": "stream",
     "text": [
      "{'GCON04LJOH': 'US HOUSE-:-ALDEN PATRICK JOHNSON-:-PARTY:LIB-:-004', 'GCON02DTHO': 'US HOUSE-:-BENNIE G THOMPSON-:-PARTY:DEM-:-002', 'GCON02RFLO': 'US HOUSE-:-BRIAN FLOWERS-:-PARTY:REP-:-002', 'GCON01DBLA': 'US HOUSE-:-DIANNE BLACK-:-PARTY:DEM-:-001', 'GCON04DDUP': 'US HOUSE-:-JOHNNY L DUPREE-:-PARTY:DEM-:-004', 'GCON03RGUE': 'US HOUSE-:-MICHAEL GUEST-:-PARTY:REP-:-003', 'GCON04REZE': 'US HOUSE-:-MIKE EZELL-:-PARTY:REP-:-004', 'GCON03DYOU': 'US HOUSE-:-SHUWASKI A YOUNG-:-PARTY:DEM-:-003', 'GCON01RKEL': 'US HOUSE-:-TRENT KELLY-:-PARTY:REP-:-001'}\n"
     ]
    }
   ],
   "source": [
    "#Create a sorted dictionary for use in README file\n",
    "sorted_contest_name_change_dict = {col: contest_name_change_dict_rev[col] for col in dict_order}\n",
    "print(sorted_contest_name_change_dict)\n",
    "\n",
    "#Export the dictionary for the README\n",
    "holder = pd.DataFrame(sorted_contest_name_change_dict.values(),sorted_contest_name_change_dict.keys())\n",
    "holder.to_csv(\"./field_names.csv\", index = True)"
   ]
  },
  {
   "cell_type": "code",
   "execution_count": 40,
   "metadata": {
    "id": "czYPncWKtAMQ"
   },
   "outputs": [],
   "source": [
    "#Export final CSV\n",
    "output = os.path.join(wd,'output')\n",
    "ms_2022_gen_prec = os.path.join(output,'ms_2022_gen_prec')\n",
    "if not os.path.exists(ms_2022_gen_prec):\n",
    "    os.mkdir(ms_2022_gen_prec)\n",
    "\n",
    "pivoted_ordered_2022.to_csv(\"./output/ms_2022_gen_prec/ms_2022_gen_prec.csv\", index = False)"
   ]
  }
 ],
 "metadata": {
  "colab": {
   "provenance": [],
   "toc_visible": true
  },
  "kernelspec": {
   "display_name": "Python 3 (ipykernel)",
   "language": "python",
   "name": "python3"
  },
  "language_info": {
   "codemirror_mode": {
    "name": "ipython",
    "version": 3
   },
   "file_extension": ".py",
   "mimetype": "text/x-python",
   "name": "python",
   "nbconvert_exporter": "python",
   "pygments_lexer": "ipython3",
   "version": "3.11.4"
  }
 },
 "nbformat": 4,
 "nbformat_minor": 1
}
