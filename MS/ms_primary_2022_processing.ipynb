{
 "cells": [
  {
   "cell_type": "markdown",
   "id": "fb3fea28-1b88-4557-88d0-720033ceb75a",
   "metadata": {},
   "source": [
    "## MS 22 Primary Results Processing"
   ]
  },
  {
   "cell_type": "markdown",
   "id": "68dd296b-4033-4e7d-9f82-68ad3743e2a8",
   "metadata": {},
   "source": [
    "### Setup"
   ]
  },
  {
   "cell_type": "code",
   "execution_count": 103,
   "id": "47d1eb16-0843-4c5c-a340-92dc06b1a99e",
   "metadata": {},
   "outputs": [],
   "source": [
    "import pandas as pd\n",
    "from pandas import DataFrame\n",
    "import geopandas as gp\n",
    "import matplotlib.pyplot as plt\n",
    "import numpy as np\n",
    "from fuzzywuzzy import process, fuzz\n",
    "import difflib \n",
    "from difflib import get_close_matches\n",
    "import re"
   ]
  },
  {
   "cell_type": "markdown",
   "id": "695e8559-3eec-4c5e-a62b-c1af11454e1b",
   "metadata": {},
   "source": [
    "##### -> Read in Rep and Dem Precinct-Level Files"
   ]
  },
  {
   "cell_type": "code",
   "execution_count": 104,
   "id": "85f23775-971b-4138-bd8c-0f0376676568",
   "metadata": {},
   "outputs": [],
   "source": [
    "precinct_rep = pd.read_csv(\"./02-processed/corrected_precinct_names_rep_primary.csv\")\n",
    "precinct_dem = pd.read_csv(\"./02-processed/corrected_precinct_names_dem_primary.csv\")"
   ]
  },
  {
   "cell_type": "markdown",
   "id": "e6be8807-a302-40bc-99b4-f136debf22d9",
   "metadata": {},
   "source": [
    "##### -> Read in Rep and Dem Statewide / County-Level Files"
   ]
  },
  {
   "cell_type": "code",
   "execution_count": 105,
   "id": "f4a3b419-2775-4d12-923e-e98ca0c958c2",
   "metadata": {},
   "outputs": [],
   "source": [
    "statewide_rep = pd.read_csv(\"./02-processed/rep_official_statewide_results_qc.csv\")\n",
    "statewide_dem = pd.read_csv(\"./02-processed/dem_official_statewide_results_qc.csv\")"
   ]
  },
  {
   "cell_type": "markdown",
   "id": "f2bedbcc-698f-4ca7-b757-d2f322ea339e",
   "metadata": {},
   "source": [
    "### Verification"
   ]
  },
  {
   "cell_type": "markdown",
   "id": "4ddccadf-860c-4a58-a23f-4cfc93e7b8f0",
   "metadata": {},
   "source": [
    "#### Counties & Precincts: Check that all counties and precincts are present and match between files"
   ]
  },
  {
   "cell_type": "markdown",
   "id": "94095187-1bb0-4a20-ad15-4b06733797d0",
   "metadata": {},
   "source": [
    "##### -> Republican File - Counties"
   ]
  },
  {
   "cell_type": "code",
   "execution_count": 106,
   "id": "d1f9eb1e-aa18-4f7b-9081-0836c06fd769",
   "metadata": {},
   "outputs": [],
   "source": [
    "## rep file\n",
    "## check that counties in rep file match counties in statewide rep file\n",
    "\n",
    "## get list of counties in statewide file\n",
    "statewide_county_list = statewide_rep[[\"County\"]].drop_duplicates()\n",
    "## exclude the \"TOTAL\" county\n",
    "statewide_county_list = statewide_county_list[statewide_county_list[\"County\"] != \"TOTAL\"]\n",
    "\n",
    "## get list of counties in precinct file\n",
    "precinct_county_list = precinct_rep[[\"County\"]].drop_duplicates()\n",
    "\n",
    "## outer join of list of counties in precinct-level files and statewide file - see if any counties are not in both files\n",
    "rep_counties_check = statewide_county_list.merge(precinct_county_list, how = \"outer\", on = \"County\", indicator = True)\n",
    "\n",
    "## confirm there are no items that aren't in both \n",
    "assert(len(rep_counties_check[rep_counties_check[\"_merge\"] != \"both\"]) == 0)"
   ]
  },
  {
   "cell_type": "markdown",
   "id": "5335479b-4aa5-42cc-913f-388926ddd65b",
   "metadata": {},
   "source": [
    "##### -> Democrat File - Counties"
   ]
  },
  {
   "cell_type": "code",
   "execution_count": 107,
   "id": "a942bcaa-f7bc-43a9-80b2-72d5e928c4fa",
   "metadata": {},
   "outputs": [],
   "source": [
    "## dem file\n",
    "## check that counties in dem file match counties in statewide dem file\n",
    "\n",
    "## get list of counties in statewide file\n",
    "statewide_county_list = statewide_dem[[\"County\"]].drop_duplicates()\n",
    "## exclude the \"TOTAL\" county\n",
    "statewide_county_list = statewide_county_list[statewide_county_list[\"County\"] != \"TOTAL\"]\n",
    "\n",
    "## get list of counties in precinct file\n",
    "precinct_county_list = precinct_dem[[\"County\"]].drop_duplicates()\n",
    "\n",
    "## outer join of list of counties in precinct-level files and statewide file - see if any counties are not in both files\n",
    "dem_counties_check = statewide_county_list.merge(precinct_county_list, how = \"outer\", on = \"County\", indicator = True)\n",
    "\n",
    "## see if there are items that aren't in both \n",
    "len(dem_counties_check[dem_counties_check[\"_merge\"] != \"both\"]) == 0\n",
    "\n",
    "## because there are counties in the statewide file that aren't in the precinct file,\n",
    "## confirm that there are no dem votes in any of those counties \n",
    "\n",
    "counties_not_in_pct_file = dem_counties_check[dem_counties_check[\"_merge\"] != \"both\"]\n",
    "\n",
    "## assert that sum of votes in these counties equals 0\n",
    "assert(statewide_dem[statewide_dem[\"County\"].isin(counties_not_in_pct_file[\"County\"])][[\"Votes\"]].sum().item() == 0)\n"
   ]
  },
  {
   "cell_type": "markdown",
   "id": "5715b3f8-3271-43e9-8568-cba3f943a27b",
   "metadata": {},
   "source": [
    "##### -> Both Republican + Democrat File - Counties and Precincts"
   ]
  },
  {
   "cell_type": "code",
   "execution_count": 108,
   "id": "b7ae2eb3-1d21-4b94-a1e9-609dc9e3188f",
   "metadata": {},
   "outputs": [
    {
     "data": {
      "text/html": [
       "<div>\n",
       "<style scoped>\n",
       "    .dataframe tbody tr th:only-of-type {\n",
       "        vertical-align: middle;\n",
       "    }\n",
       "\n",
       "    .dataframe tbody tr th {\n",
       "        vertical-align: top;\n",
       "    }\n",
       "\n",
       "    .dataframe thead th {\n",
       "        text-align: right;\n",
       "    }\n",
       "</style>\n",
       "<table border=\"1\" class=\"dataframe\">\n",
       "  <thead>\n",
       "    <tr style=\"text-align: right;\">\n",
       "      <th></th>\n",
       "      <th>County</th>\n",
       "      <th>Precinct</th>\n",
       "      <th>_merge</th>\n",
       "    </tr>\n",
       "  </thead>\n",
       "  <tbody>\n",
       "    <tr>\n",
       "      <th>1064</th>\n",
       "      <td>Prentiss</td>\n",
       "      <td>Blackland</td>\n",
       "      <td>left_only</td>\n",
       "    </tr>\n",
       "    <tr>\n",
       "      <th>1406</th>\n",
       "      <td>Prentiss</td>\n",
       "      <td>Blackwyn</td>\n",
       "      <td>right_only</td>\n",
       "    </tr>\n",
       "  </tbody>\n",
       "</table>\n",
       "</div>"
      ],
      "text/plain": [
       "        County   Precinct      _merge\n",
       "1064  Prentiss  Blackland   left_only\n",
       "1406  Prentiss   Blackwyn  right_only"
      ]
     },
     "execution_count": 108,
     "metadata": {},
     "output_type": "execute_result"
    }
   ],
   "source": [
    "## check that precincts match between dem and rep files (for shared counties)\n",
    "\n",
    "## shared counties - those that exist in both dem and rep precinct files\n",
    "rep_county_list = precinct_rep[[\"County\"]].drop_duplicates()\n",
    "dem_county_list = precinct_dem[[\"County\"]].drop_duplicates()\n",
    "shared_counties = rep_county_list.merge(dem_county_list, how = \"outer\", on = \"County\", indicator = True)\n",
    "shared_counties = shared_counties[shared_counties[\"_merge\"] == \"both\"]\n",
    "\n",
    "## all counties and precincts in rep and dem files\n",
    "rep_county_pct_list = precinct_rep[[\"County\", \"Precinct\"]].drop_duplicates()\n",
    "dem_county_pct_list = precinct_dem[[\"County\", \"Precinct\"]].drop_duplicates()\n",
    "\n",
    "## counties and precincts in rep and dem files - filtered to just shared counties\n",
    "rep_county_pct_filtered = rep_county_pct_list[rep_county_pct_list[\"County\"].isin(shared_counties[\"County\"])]\n",
    "dem_county_pct_filtered = dem_county_pct_list[dem_county_pct_list[\"County\"].isin(shared_counties[\"County\"])]\n",
    "\n",
    "merged_county_pct_filtered = rep_county_pct_filtered.merge(dem_county_pct_filtered, on = [\"County\", \"Precinct\"], how = \"outer\", indicator = True)\n",
    "\n",
    "## see if any are in one file not the other\n",
    "merged_county_pct_filtered[merged_county_pct_filtered[\"_merge\"] != \"both\"]\n",
    "\n",
    "## error found: Blackland precinct in Prentiss County is misspelled in Dem file"
   ]
  },
  {
   "cell_type": "markdown",
   "id": "408fdcdf-8f4d-4e16-b930-5880e2ca30c9",
   "metadata": {},
   "source": [
    "##### -> Correct Precinct Name Typo - Prentiss County"
   ]
  },
  {
   "cell_type": "code",
   "execution_count": 109,
   "id": "b4d78a2b-336c-47b5-ad7a-90a17f34e89f",
   "metadata": {},
   "outputs": [],
   "source": [
    "precinct_dem.loc[(precinct_dem['County'] == \"Prentiss\") & (precinct_dem['Precinct'] == \"Blackwyn\"), 'Precinct'] = \"Blackland\"\n"
   ]
  },
  {
   "cell_type": "markdown",
   "id": "a082dd0c-fb95-4577-92d9-5569e4d52920",
   "metadata": {},
   "source": [
    "##### -> RECHECK both Republican + Democrat File - Counties and Precincts"
   ]
  },
  {
   "cell_type": "code",
   "execution_count": 110,
   "id": "ec66e9e1-d9ba-4470-b723-f4ea2a423ff7",
   "metadata": {},
   "outputs": [],
   "source": [
    "## re-check that precincts match between dem and rep files (for shared counties)\n",
    "\n",
    "## shared counties - those that exist in both dem and rep precinct files\n",
    "rep_county_list = precinct_rep[[\"County\"]].drop_duplicates()\n",
    "dem_county_list = precinct_dem[[\"County\"]].drop_duplicates()\n",
    "shared_counties = rep_county_list.merge(dem_county_list, how = \"outer\", on = \"County\", indicator = True)\n",
    "shared_counties = shared_counties[shared_counties[\"_merge\"] == \"both\"]\n",
    "\n",
    "## all counties and precincts in rep and dem files\n",
    "rep_county_pct_list = precinct_rep[[\"County\", \"Precinct\"]].drop_duplicates()\n",
    "dem_county_pct_list = precinct_dem[[\"County\", \"Precinct\"]].drop_duplicates()\n",
    "\n",
    "## counties and precincts in rep and dem files - filtered to just shared counties\n",
    "rep_county_pct_filtered = rep_county_pct_list[rep_county_pct_list[\"County\"].isin(shared_counties[\"County\"])]\n",
    "dem_county_pct_filtered = dem_county_pct_list[dem_county_pct_list[\"County\"].isin(shared_counties[\"County\"])]\n",
    "\n",
    "merged_county_pct_filtered = rep_county_pct_filtered.merge(dem_county_pct_filtered, on = [\"County\", \"Precinct\"], how = \"outer\", indicator = True)\n",
    "\n",
    "## confirm that there are none not in both files\n",
    "assert(len(merged_county_pct_filtered[merged_county_pct_filtered[\"_merge\"] != \"both\"]) == 0)\n",
    "\n"
   ]
  },
  {
   "cell_type": "markdown",
   "id": "4e177e06-14a6-433b-8c2c-4d1f93447b61",
   "metadata": {},
   "source": [
    "#### Check that precinct-level votes match county and statewide votes"
   ]
  },
  {
   "cell_type": "markdown",
   "id": "3d9d3151-0ed8-49ac-aa6f-cde0223c1cf0",
   "metadata": {},
   "source": [
    "##### -> Democrat file - Precinct totals"
   ]
  },
  {
   "cell_type": "code",
   "execution_count": 111,
   "id": "e02fd2ac-5814-4ac4-9e1d-67829b9c2c24",
   "metadata": {},
   "outputs": [],
   "source": [
    "## dem - within each county check that sum of all precincts matches up with \"total\"\n",
    "\n",
    "## first, remove totals into separate DF\n",
    "precinct_dem_total = precinct_dem[precinct_dem['Precinct'] == \"TOTAL\"]\n",
    "## then, remove pct-level votes into separate DF\n",
    "precinct_dem_votes = precinct_dem[precinct_dem['Precinct'] != \"TOTAL\"]\n",
    "\n",
    "## find the sums\n",
    "precinct_dem_votes_sum = precinct_dem_votes.groupby(['County', 'Contest', 'Candidate'], as_index = False)[['Votes']].sum()\n",
    "\n",
    "precinct_dem_votes_sum = precinct_dem_votes_sum.rename(columns={'Votes':'Precinct_Sum_Votes'})\n",
    "\n",
    "precinct_dem_total = precinct_dem_total.rename(columns={'Votes':'Total_Votes'}).drop(columns=['Precinct'])\n",
    "\n",
    "## merge together\n",
    "dem_total_discrepancies = precinct_dem_total.merge(precinct_dem_votes_sum, how = 'left', on = ['County', 'Contest', 'Candidate'])\n",
    "\n",
    "## confirm that there are no discrepancies\n",
    "assert(len(dem_total_discrepancies[dem_total_discrepancies[\"Total_Votes\"] != dem_total_discrepancies[\"Precinct_Sum_Votes\"]]) == 0)\n",
    "\n",
    "## no issues"
   ]
  },
  {
   "cell_type": "markdown",
   "id": "80705416-fb92-432e-bfe1-dc649fffa232",
   "metadata": {},
   "source": [
    "##### -> Republican file - Precinct totals"
   ]
  },
  {
   "cell_type": "code",
   "execution_count": 112,
   "id": "643b9841-30e8-4b82-b9eb-8b19325f1c1d",
   "metadata": {},
   "outputs": [],
   "source": [
    "## rep - within each county check that sum of all precincts matches up with \"total\"\n",
    "\n",
    "## first, remove totals into separate DF\n",
    "precinct_rep_total = precinct_rep[precinct_rep['Precinct'] == \"TOTAL\"]\n",
    "## then, remove pct-level votes into separate DF\n",
    "precinct_rep_votes = precinct_rep[precinct_rep['Precinct'] != \"TOTAL\"]\n",
    "\n",
    "## find the sums\n",
    "precinct_rep_votes_sum = precinct_rep_votes.groupby(['County', 'Contest', 'Candidate'], as_index = False)[['Votes']].sum()\n",
    "\n",
    "precinct_rep_votes_sum = precinct_rep_votes_sum.rename(columns={'Votes':'Precinct_Sum_Votes'})\n",
    "\n",
    "precinct_rep_total = precinct_rep_total.rename(columns={'Votes':'Total_Votes'}).drop(columns=['Precinct'])\n",
    "\n",
    "## merge together\n",
    "rep_total_discrepancies = precinct_rep_total.merge(precinct_rep_votes_sum, how = 'left', on = ['County', 'Contest', 'Candidate'])\n",
    "\n",
    "## confirm that there are no discrepancies\n",
    "assert(len(rep_total_discrepancies[rep_total_discrepancies[\"Total_Votes\"] != rep_total_discrepancies[\"Precinct_Sum_Votes\"]]) == 0)\n",
    "\n",
    "## no issues"
   ]
  },
  {
   "cell_type": "markdown",
   "id": "87d8ca8f-b540-4d9a-a6df-abb2256b6723",
   "metadata": {},
   "source": [
    "##### -> Dem file - statewide total and county totals"
   ]
  },
  {
   "cell_type": "code",
   "execution_count": 113,
   "id": "c1fe5d2e-dff3-4204-bd83-b45b52541c3f",
   "metadata": {
    "scrolled": true
   },
   "outputs": [],
   "source": [
    "## dem - statewide file - check that sum of county totals matches to the statewide total\n",
    "\n",
    "## first, remove totals into separate DF\n",
    "statewide_dem_total = statewide_dem[statewide_dem[\"County\"] == \"TOTAL\"]\n",
    "\n",
    "## then, remove county-level votes into separate DF\n",
    "statewide_dem_county = statewide_dem[statewide_dem['County'] != \"TOTAL\"]\n",
    "\n",
    "## find the sums\n",
    "statewide_dem_county_sum = statewide_dem_county.groupby(['Contest', 'Candidate'], as_index = False)[['Votes']].sum()\n",
    "\n",
    "statewide_dem_county_sum = statewide_dem_county_sum.rename(columns={'Votes':'County_Sum_Votes'})\n",
    "\n",
    "statewide_dem_total = statewide_dem_total.rename(columns={'Votes':'Total_Votes'}).drop(columns=['County'])\n",
    "\n",
    "## merge together\n",
    "statewide_total_discrepancies = statewide_dem_total.merge(statewide_dem_county_sum, how = 'left', on = ['Contest', 'Candidate'])\n",
    "\n",
    "## confirm that there are no discrepancies\n",
    "assert(len(statewide_total_discrepancies[statewide_total_discrepancies[\"Total_Votes\"] != statewide_total_discrepancies[\"County_Sum_Votes\"]]) == 0)\n",
    "\n",
    "## no issues"
   ]
  },
  {
   "cell_type": "markdown",
   "id": "1d69ea66-6144-435b-9edd-803791e4d127",
   "metadata": {},
   "source": [
    "##### -> Rep file - statewide total and county totals"
   ]
  },
  {
   "cell_type": "code",
   "execution_count": 114,
   "id": "efe679f8-73f7-42bc-9c3c-e7a59eaab6fd",
   "metadata": {},
   "outputs": [],
   "source": [
    "## rep - statewide file - check that sum of county totals matches to the statewide total\n",
    "\n",
    "## first, remove totals into separate DF\n",
    "statewide_rep_total = statewide_rep[statewide_rep[\"County\"] == \"TOTAL\"]\n",
    "\n",
    "## then, remove county-level votes into separate DF\n",
    "statewide_rep_county = statewide_rep[statewide_rep['County'] != \"TOTAL\"]\n",
    "\n",
    "## find the sums\n",
    "statewide_rep_county_sum = statewide_rep_county.groupby(['Contest', 'Candidate'], as_index = False)[['Votes']].sum()\n",
    "\n",
    "statewide_rep_county_sum = statewide_rep_county_sum.rename(columns={'Votes':'County_Sum_Votes'})\n",
    "\n",
    "statewide_rep_total = statewide_rep_total.rename(columns={'Votes':'Total_Votes'}).drop(columns=['County'])\n",
    "\n",
    "## merge together\n",
    "statewide_total_discrepancies = statewide_rep_total.merge(statewide_rep_county_sum, how = 'left', on = ['Contest', 'Candidate'])\n",
    "\n",
    "## confirm that there are no discrepancies\n",
    "assert(len(statewide_total_discrepancies[statewide_total_discrepancies[\"Total_Votes\"] != statewide_total_discrepancies[\"County_Sum_Votes\"]]) == 0)\n",
    "\n",
    "## no issues"
   ]
  },
  {
   "cell_type": "markdown",
   "id": "fb1f1281-21f9-459c-9004-07cff5772037",
   "metadata": {},
   "source": [
    "#### Confirm county totals match between precinct-level and statewide file\n"
   ]
  },
  {
   "cell_type": "markdown",
   "id": "ce367c89-3781-4699-9b78-493490d1198d",
   "metadata": {},
   "source": [
    "##### -> Dem file - compare county totals in precinct file and statewide file"
   ]
  },
  {
   "cell_type": "code",
   "execution_count": 115,
   "id": "09dcfcd3-86d3-4473-95fc-7d08c4d4e11b",
   "metadata": {},
   "outputs": [],
   "source": [
    "## dem - check \"totals\" precinct against county data in the statewide file\n",
    "\n",
    "precinct_dem_total = precinct_dem[precinct_dem['Precinct'] == \"TOTAL\"].drop(columns=['Precinct'])\n",
    "statewide_dem_county = statewide_dem[statewide_dem['County'] != \"TOTAL\"]\n",
    "\n",
    "## note - we know that not all counties in statewide file are in precinct file\n",
    "compare_totals_county = precinct_dem_total.merge(statewide_dem_county, on = [\"County\", \"Contest\", \"Candidate\"], how = \"outer\").fillna(0)\n",
    "compare_totals_county_diff = compare_totals_county\n",
    "compare_totals_county_diff[\"Difference\"] = compare_totals_county[\"Votes_x\"] - compare_totals_county[\"Votes_y\"]\n",
    "\n",
    "## confirm that there are no counties where the total in the precinct-level file does not match\n",
    "## the total in the statewide file\n",
    "assert(len(compare_totals_county_diff[compare_totals_county_diff[\"Difference\"] != 0]) == 0)\n"
   ]
  },
  {
   "cell_type": "markdown",
   "id": "fab5ddb3-05ec-44c5-8aef-ae8728605203",
   "metadata": {},
   "source": [
    "##### -> Rep file - compare county totals in precinct file and statewide file"
   ]
  },
  {
   "cell_type": "code",
   "execution_count": 116,
   "id": "4e3d21f7-fd39-48dd-863c-538ec2659a60",
   "metadata": {},
   "outputs": [],
   "source": [
    "## rep - check \"totals\" precinct against county data in the statewide file\n",
    "\n",
    "precinct_rep_total = precinct_rep[precinct_rep['Precinct'] == \"TOTAL\"].drop(columns=['Precinct'])\n",
    "statewide_rep_county = statewide_rep[statewide_rep['County'] != \"TOTAL\"]\n",
    "\n",
    "## note - we know that not all counties in statewide file are in precinct file\n",
    "compare_totals_county = precinct_rep_total.merge(statewide_rep_county, on = [\"County\", \"Contest\", \"Candidate\"], how = \"outer\").fillna(0)\n",
    "compare_totals_county_diff = compare_totals_county\n",
    "compare_totals_county_diff[\"Difference\"] = compare_totals_county[\"Votes_x\"] - compare_totals_county[\"Votes_y\"]\n",
    "\n",
    "## confirm that there are no counties where the total in the precinct-level file does not match\n",
    "## the total in the statewide file\n",
    "assert(len(compare_totals_county_diff[compare_totals_county_diff[\"Difference\"] != 0]) == 0)\n"
   ]
  },
  {
   "cell_type": "markdown",
   "id": "6fe9c615-a1ff-430c-8446-8d3da8908af2",
   "metadata": {},
   "source": [
    "### Save data in narrow format"
   ]
  },
  {
   "cell_type": "code",
   "execution_count": 117,
   "id": "13eca9b4-815f-41d8-82e5-8352159f4f4e",
   "metadata": {},
   "outputs": [],
   "source": [
    "precinct_dem.to_csv(\"./03-final/ms_22_dem_primary_final_narrow.csv\", index = False)\n",
    "precinct_rep.to_csv(\"./03-final/ms_22_rep_primary_final_narrow.csv\", index = False)"
   ]
  },
  {
   "cell_type": "markdown",
   "id": "aab4522b-4e6a-42c2-915b-755e51bbe64e",
   "metadata": {},
   "source": [
    "### Rename and Reformat file"
   ]
  },
  {
   "cell_type": "markdown",
   "id": "a5ab7460-f5f3-44ec-a063-7da922299ce2",
   "metadata": {},
   "source": [
    "#### Create unique field name for candidate and contest"
   ]
  },
  {
   "cell_type": "code",
   "execution_count": 119,
   "id": "67d03a67-1693-42e7-8895-c2fde5a4be08",
   "metadata": {},
   "outputs": [],
   "source": [
    "## RDH Notes on Field Names (adapted from VEST):\n",
    "#Columns reporting votes generally follow the pattern:\n",
    "#One example is:\n",
    "#G16PRERTRU\n",
    "#The first character is G for a general election, P for a primary, S for a special, and R for a runoff.\n",
    "#Characters 2 and 3 are the year of the election.*\n",
    "#Characters 4-6 represent the office type (see list below).\n",
    "#Character 7 represents the party of the candidate.\n",
    "#Characters 8-10 are the first three letters of the candidate's last name."
   ]
  },
  {
   "cell_type": "markdown",
   "id": "fd337860-7dc6-464a-b32f-16611fd2bde0",
   "metadata": {},
   "source": [
    "##### -> Identify congressional district number"
   ]
  },
  {
   "cell_type": "code",
   "execution_count": 120,
   "id": "924448d0-2b9c-4827-9e6f-008556b55888",
   "metadata": {},
   "outputs": [],
   "source": [
    "## Rep file\n",
    "## get contest number\n",
    "precinct_rep[\"Contest_Number\"] = precinct_rep[\"Contest\"].str.extract(r'US House Of Rep (\\d{2})')\n",
    "\n",
    "## Dem file\n",
    "## get contest number\n",
    "precinct_dem[\"Contest_Number\"] = precinct_dem[\"Contest\"].str.extract(r'US House Of Rep (\\d{2})')\n"
   ]
  },
  {
   "cell_type": "markdown",
   "id": "c6b8fd95-9dfe-47cd-9f46-f95d1ed5957c",
   "metadata": {},
   "source": [
    "-> Candidate last name"
   ]
  },
  {
   "cell_type": "code",
   "execution_count": 121,
   "id": "f7e6ca17-0007-4170-b94b-7c1851888527",
   "metadata": {},
   "outputs": [],
   "source": [
    "## Rep file\n",
    "## create candidate last name column\n",
    "precinct_rep[\"Candidate_Last\"] = precinct_rep[\"Candidate\"].str.split(' ').str[-2].astype(str).str[0:3].str.upper()\n",
    "#rep_primary[\"Candidate_Last\"].drop_duplicates()\n",
    " # \"PCON\" \"R\"\n",
    "\n",
    "\n",
    "## Dem file\n",
    "## create candidate last name column\n",
    "precinct_dem[\"Candidate_Last\"] = precinct_dem[\"Candidate\"].str.split(' ').str[-2].astype(str).str[0:3].str.upper()\n"
   ]
  },
  {
   "cell_type": "code",
   "execution_count": 122,
   "id": "71118026-8c32-4e83-b091-3562376dc172",
   "metadata": {},
   "outputs": [],
   "source": [
    "## Rep file\n",
    "## unique name for candidate and contest\n",
    "precinct_rep[\"Candidate_Abbr\"] = \"PCON\" + precinct_rep[\"Contest_Number\"] + \"R\" + precinct_rep[\"Candidate_Last\"]\n",
    "\n",
    "precinct_rep[\"Candidate_Abbr\"]\n",
    "\n",
    "precinct_rep[\"Candidate_Full\"] = precinct_rep[\"Contest\"] + \", \" + precinct_rep[\"Candidate\"].replace(' Republican','',regex=True) + \" (Republican)\"\n",
    "\n",
    "\n",
    "\n",
    "## Dem file\n",
    "## unique name for candidate and contest\n",
    "\n",
    "precinct_dem[\"Candidate_Abbr\"] = \"PCON\" + precinct_dem[\"Contest_Number\"] + \"D\" + precinct_dem[\"Candidate_Last\"]\n",
    "\n",
    "precinct_dem[\"Candidate_Abbr\"]\n",
    "\n",
    "precinct_dem[\"Candidate_Full\"] = precinct_dem[\"Contest\"] + \", \" + precinct_dem[\"Candidate\"].replace(' Democrat','',regex=True) + \" (Democrat)\"\n",
    "\n"
   ]
  },
  {
   "cell_type": "code",
   "execution_count": 123,
   "id": "b34ff2dd-cbda-4993-bc2c-48ea0afeb4fc",
   "metadata": {},
   "outputs": [],
   "source": [
    "## Rep file\n",
    "## confirm there are no duplicates in unique candidate/contest name\n",
    "assert(len(precinct_rep['Candidate_Full'].drop_duplicates()) == len(precinct_rep['Candidate_Abbr'].drop_duplicates()))\n"
   ]
  },
  {
   "cell_type": "code",
   "execution_count": 124,
   "id": "29820074-0472-4a40-82ac-af2aae4fa310",
   "metadata": {},
   "outputs": [],
   "source": [
    "## Dem file\n",
    "## confirm there are no duplicates in unique candidate/contest name\n",
    "assert(len(precinct_dem['Candidate_Full'].drop_duplicates()) == len(precinct_dem['Candidate_Abbr'].drop_duplicates()))\n"
   ]
  },
  {
   "cell_type": "markdown",
   "id": "a2c71cdd-b5c4-4187-8741-8b4d9e465840",
   "metadata": {},
   "source": [
    "##### -> Save crosswalk between full candidate and contest names and abbreviated ID"
   ]
  },
  {
   "cell_type": "code",
   "execution_count": 125,
   "id": "b26f5e4d-c9f8-4f59-9768-494ec4ca1900",
   "metadata": {},
   "outputs": [
    {
     "name": "stderr",
     "output_type": "stream",
     "text": [
      "<ipython-input-125-9a654e3e563c>:10: FutureWarning: The frame.append method is deprecated and will be removed from pandas in a future version. Use pandas.concat instead.\n",
      "  combined_xwalk = rep_xwalk.append(dem_xwalk, ignore_index = True)\n"
     ]
    }
   ],
   "source": [
    "## save crosswalk for rep\n",
    "rep_xwalk = precinct_rep[['Candidate_Abbr','Candidate_Full', 'Contest']].drop_duplicates()\n",
    "rep_xwalk[['Candidate_Abbr','Candidate_Full']].to_csv(\"./03-final/rep_candidate_abbreviation_xwalk.csv\")\n",
    "\n",
    "## save crosswalk for dem\n",
    "dem_xwalk = precinct_dem[['Candidate_Abbr','Candidate_Full', 'Contest']].drop_duplicates()\n",
    "dem_xwalk[['Candidate_Abbr','Candidate_Full']].to_csv(\"./03-final/dem_candidate_abbreviation_xwalk.csv\")\n",
    "\n",
    "## save crosswalk for both combined\n",
    "combined_xwalk = rep_xwalk.append(dem_xwalk, ignore_index = True)\n",
    "combined_xwalk.sort_values('Contest')[['Candidate_Abbr','Candidate_Full']].to_csv(\"./03-final/combined_candidate_xwalk.csv\")\n"
   ]
  },
  {
   "cell_type": "markdown",
   "id": "51c8b0f5-4158-453a-86fd-ba7999f79e22",
   "metadata": {},
   "source": [
    "#### Reformat to wide format and combine rep and dem files"
   ]
  },
  {
   "cell_type": "code",
   "execution_count": 126,
   "id": "cfbca89d-90bb-4220-aec3-6bf363ddd40d",
   "metadata": {},
   "outputs": [],
   "source": [
    "## rep file\n",
    "## reformat to wide format\n",
    "rep_primary_mod = precinct_rep[[\"County\", \"Votes\", \"Precinct\", \"Candidate_Abbr\"]]\n",
    "rep_primary_mod = pd.pivot(rep_primary_mod, index=[\"County\", \"Precinct\"], columns=\"Candidate_Abbr\", values='Votes').reset_index().rename_axis(None, axis=1).fillna(0)\n",
    "\n",
    "## dem file\n",
    "## reformat to wide format\n",
    "dem_primary_mod = precinct_dem[[\"County\", \"Votes\", \"Precinct\", \"Candidate_Abbr\"]]\n",
    "dem_primary_mod = pd.pivot(dem_primary_mod, index=[\"County\", \"Precinct\"], columns=\"Candidate_Abbr\", values='Votes').reset_index().rename_axis(None, axis=1).fillna(0)\n",
    "\n"
   ]
  },
  {
   "cell_type": "markdown",
   "id": "786e9f24-24c8-469e-a658-5443172c8084",
   "metadata": {},
   "source": [
    "##### -> Create unique ID for each precinct and county"
   ]
  },
  {
   "cell_type": "code",
   "execution_count": 127,
   "id": "b014dd3c-685e-4647-91e1-0b4474d7834a",
   "metadata": {},
   "outputs": [],
   "source": [
    "## rep file\n",
    "## create unique ID for each precinct and county\n",
    "rep_primary_mod[\"UNIQUE_ID\"] = rep_primary_mod[\"Precinct\"] + \":::\" + rep_primary_mod[\"County\"]\n",
    "\n",
    "## dem file\n",
    "## create unique ID for each precinct and county\n",
    "dem_primary_mod[\"UNIQUE_ID\"] = dem_primary_mod[\"Precinct\"] + \":::\" + dem_primary_mod[\"County\"]\n",
    "\n",
    "\n"
   ]
  },
  {
   "cell_type": "markdown",
   "id": "6847d12a-e26b-4f4f-a449-30ea2f9e271a",
   "metadata": {},
   "source": [
    "##### -> Find county fips "
   ]
  },
  {
   "cell_type": "code",
   "execution_count": 128,
   "id": "ce940aa1-dde0-4a2c-8e25-a4c1ab5f38a3",
   "metadata": {},
   "outputs": [],
   "source": [
    "## read in county fips\n",
    "census_fips = pd.read_csv(\"./01-raw/census_ms_county_fips.txt\", delimiter = \"|\", header = 0)\n",
    "census_fips[\"County\"] = census_fips[\"COUNTYNAME\"].replace(' County','',regex=True).replace('Jefferson Davis','Jeff Davis',regex=True)\n",
    "census_fips = census_fips[['COUNTYFP', 'County']]\n",
    "\n",
    "\n",
    "#rep file - add column for county fips\n",
    "rep_test_county_names = rep_primary_mod[[\"County\"]].drop_duplicates().merge(census_fips[[\"County\"]].drop_duplicates(), on = \"County\", how = \"outer\", indicator = True)\n",
    "\n",
    "# dem file - add column for county fips\n",
    "dem_test_county_names = dem_primary_mod[[\"County\"]].drop_duplicates().merge(census_fips[[\"County\"]].drop_duplicates(), on = \"County\", how = \"outer\", indicator = True)\n",
    "\n",
    "                                    "
   ]
  },
  {
   "cell_type": "markdown",
   "id": "90e42c91-0e68-42c9-a044-4b09d9527a01",
   "metadata": {},
   "source": [
    "##### -> Add county fips, update column names and order"
   ]
  },
  {
   "cell_type": "code",
   "execution_count": 129,
   "id": "7bd2e4e1-2a1c-4b0a-9233-b82558da78df",
   "metadata": {},
   "outputs": [],
   "source": [
    "## Rep file\n",
    "\n",
    "## add county fips column\n",
    "rep_primary_merged = rep_primary_mod.merge(census_fips, how = \"left\", on = \"County\")\n",
    "\n",
    "rep_primary_columns_updated = rep_primary_merged.rename(columns={ \"County\": \"COUNTY\", \"Precinct\": \"PRECINCT\"})\n",
    "\n",
    "cols = rep_primary_columns_updated.columns.tolist()\n",
    "\n",
    "## reorder columns\n",
    "cols_reordered = [\n",
    " 'UNIQUE_ID',\n",
    " 'COUNTYFP',\n",
    "'COUNTY',\n",
    " 'PRECINCT',\n",
    " 'PCON01RKEL',\n",
    " 'PCON01RSTR',\n",
    " 'PCON02RCAR',\n",
    " 'PCON02RELL',\n",
    " 'PCON02RFLO',\n",
    " 'PCON02RJOH',\n",
    " 'PCON03RCAS',\n",
    " 'PCON03RGRI',\n",
    " 'PCON03RGUE',\n",
    " 'PCON04RBOY',\n",
    " 'PCON04RBRO',\n",
    " 'PCON04REZE',\n",
    " 'PCON04RPAL',\n",
    " 'PCON04RPET',\n",
    " 'PCON04RWAG',\n",
    " 'PCON04RWIG']\n",
    "\n",
    "rep_primary_columns_updated = rep_primary_columns_updated[cols_reordered]\n",
    "\n",
    "## Dem file\n",
    "\n",
    "## add county fips column\n",
    "dem_primary_merged = dem_primary_mod.merge(census_fips, how = \"left\", on = \"County\")\n",
    "\n",
    "dem_primary_columns_updated = dem_primary_merged.rename(columns={ \"County\": \"COUNTY\", \"Precinct\": \"PRECINCT\"})\n",
    "\n",
    "cols_dem = dem_primary_columns_updated.columns.tolist()\n",
    "#cols_dem\n",
    "\n",
    "## reorder columns\n",
    "cols_reordered_dem = ['UNIQUE_ID',\n",
    " 'COUNTYFP',\n",
    " 'COUNTY',\n",
    " 'PRECINCT',\n",
    " 'PCON01DAVE',\n",
    " 'PCON01DBLA',\n",
    " 'PCON02DKER',\n",
    " 'PCON02DTHO',\n",
    " 'PCON04DDUP',\n",
    " 'PCON04DSEL'\n",
    " ] \n",
    "\n",
    "dem_primary_columns_updated = dem_primary_columns_updated[cols_reordered_dem]"
   ]
  },
  {
   "cell_type": "markdown",
   "id": "d39674ac-8946-4379-9a81-bb6b4a36d403",
   "metadata": {},
   "source": [
    "##### -> Standardize precinct names"
   ]
  },
  {
   "cell_type": "code",
   "execution_count": 130,
   "id": "0ad0cd8a-485b-4ece-9fa1-aeb71ce74cf0",
   "metadata": {},
   "outputs": [
    {
     "name": "stderr",
     "output_type": "stream",
     "text": [
      "<ipython-input-130-6d6121bf3261>:5: FutureWarning: The default value of regex will change from True to False in a future version.\n",
      "  dem_primary_columns_pct_updated[\"PRECINCT\"] = dem_primary_columns_updated[\"PRECINCT\"].str.replace(r' # (?=\\d+)', ' #')\n",
      "<ipython-input-130-6d6121bf3261>:13: FutureWarning: The default value of regex will change from True to False in a future version.\n",
      "  rep_primary_columns_pct_updated[\"PRECINCT\"] = rep_primary_columns_updated[\"PRECINCT\"].str.replace(r' # (?=\\d+)', ' #')\n"
     ]
    }
   ],
   "source": [
    "## dem file\n",
    "## update / standardize precinct names\n",
    "## for example: change \" - \" to \"-\", remove spacing between a \"#\" and a number\n",
    "dem_primary_columns_pct_updated = dem_primary_columns_updated\n",
    "dem_primary_columns_pct_updated[\"PRECINCT\"] = dem_primary_columns_updated[\"PRECINCT\"].str.replace(r' # (?=\\d+)', ' #')\n",
    "dem_primary_columns_pct_updated[\"PRECINCT\"] = dem_primary_columns_updated[\"PRECINCT\"].str.replace(' - ', '-')\n",
    "dem_primary_columns_pct_updated[\"PRECINCT\"] = dem_primary_columns_updated[\"PRECINCT\"].str.replace('- ', '-')\n",
    "\n",
    "## rep file\n",
    "## update / standardize precinct names\n",
    "## for example: change \" - \" to \"-\", remove spacing between a \"#\" and a number\n",
    "rep_primary_columns_pct_updated = rep_primary_columns_updated\n",
    "rep_primary_columns_pct_updated[\"PRECINCT\"] = rep_primary_columns_updated[\"PRECINCT\"].str.replace(r' # (?=\\d+)', ' #')\n",
    "rep_primary_columns_pct_updated[\"PRECINCT\"] = rep_primary_columns_updated[\"PRECINCT\"].str.replace(' - ', '-')\n",
    "rep_primary_columns_pct_updated[\"PRECINCT\"] = rep_primary_columns_updated[\"PRECINCT\"].str.replace('- ', '-')\n"
   ]
  },
  {
   "cell_type": "code",
   "execution_count": 131,
   "id": "de9e80b5-699b-45f5-8283-4d23dd0b1b55",
   "metadata": {},
   "outputs": [],
   "source": [
    "## remove \"TOTAL\" precinct from both rep and dem files\n",
    "\n",
    "dem_primary_columns_pct_updated = dem_primary_columns_pct_updated[dem_primary_columns_pct_updated[\"PRECINCT\"] != \"TOTAL\"] \n",
    "rep_primary_columns_pct_updated = rep_primary_columns_pct_updated[rep_primary_columns_pct_updated[\"PRECINCT\"] != \"TOTAL\"] \n"
   ]
  },
  {
   "cell_type": "markdown",
   "id": "ef4a03ed-4745-4bca-903f-d9a1d4e456e3",
   "metadata": {},
   "source": [
    "##### -> Save Rep and Dem primary files - with updated formatting"
   ]
  },
  {
   "cell_type": "code",
   "execution_count": 133,
   "id": "97457e51-b051-44d4-90f1-9e2ed925f78d",
   "metadata": {},
   "outputs": [],
   "source": [
    "## dem\n",
    "dem_primary_columns_pct_updated.to_csv(\"./03-final/ms_22_dem_primary_final.csv\", index = False)\n",
    "## rep\n",
    "\n",
    "rep_primary_columns_pct_updated.to_csv(\"./03-final/ms_22_rep_primary_final.csv\", index = False)\n",
    "\n",
   ]
  },
  {
   "cell_type": "markdown",
   "id": "ccc868d4-3f0a-4363-b25e-7d24b4573bbe",
   "metadata": {},
   "source": [
    "#### Combine Rep and Dem primary files"
   ]
  },
  {
   "cell_type": "code",
   "execution_count": 134,
   "id": "08445339-8b93-4601-8ffe-06da0a798e5b",
   "metadata": {},
   "outputs": [],
   "source": [
    "## combined rep and dem\n",
    "\n",
    "combined_primary = rep_primary_columns_pct_updated.merge(dem_primary_columns_pct_updated, on = ['UNIQUE_ID',\n",
    " 'COUNTYFP',\n",
    " 'COUNTY',\n",
    " 'PRECINCT'], how = \"outer\").fillna(0)\n",
    "\n",
    "combined_primary = combined_primary.reindex(columns= ['UNIQUE_ID', 'COUNTYFP', 'COUNTY',\n",
    " 'PRECINCT',\n",
    " 'PCON01DAVE',\n",
    " 'PCON01DBLA',\n",
    " 'PCON01RKEL',\n",
    " 'PCON01RSTR',\n",
    " 'PCON02DKER',\n",
    " 'PCON02DTHO',\n",
    " 'PCON02RCAR',\n",
    " 'PCON02RELL',\n",
    " 'PCON02RFLO',\n",
    " 'PCON02RJOH',\n",
    " 'PCON03RCAS',\n",
    " 'PCON03RGRI',\n",
    " 'PCON03RGUE',\n",
    " 'PCON04DDUP',\n",
    " 'PCON04DSEL',\n",
    " 'PCON04RBOY',\n",
    " 'PCON04RBRO',\n",
    " 'PCON04REZE',\n",
    " 'PCON04RPAL',\n",
    " 'PCON04RPET',\n",
    " 'PCON04RWAG',\n",
    " 'PCON04RWIG'\n",
    " ])\n",
    "\n",
    "\n"
   ]
  },
  {
   "cell_type": "markdown",
   "id": "2d1fc90b-c3c2-4176-872b-1ff588afdc11",
   "metadata": {},
   "source": [
    "##### -> Save combined final file, in RDH format"
   ]
  },
  {
   "cell_type": "code",
   "execution_count": 135,
   "id": "529a1d2b-1b5a-4a58-b178-1dfb6d663f4f",
   "metadata": {},
   "outputs": [],
   "source": [
    "combined_primary.to_csv(\"./ms_2022_prim_prec/ms_2022_prim_prec.csv\", index = False)\n"
   ]
  }
 ],
 "metadata": {
  "kernelspec": {
   "display_name": "Python 3",
   "language": "python",
   "name": "python3"
  },
  "language_info": {
   "codemirror_mode": {
    "name": "ipython",
    "version": 3
   },
   "file_extension": ".py",
   "mimetype": "text/x-python",
   "name": "python",
   "nbconvert_exporter": "python",
   "pygments_lexer": "ipython3",
   "version": "3.8.5"
  }
 },
 "nbformat": 4,
 "nbformat_minor": 5
}
