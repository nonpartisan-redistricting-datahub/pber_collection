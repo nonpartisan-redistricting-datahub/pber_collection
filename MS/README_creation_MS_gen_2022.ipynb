{
 "cells": [
  {
   "cell_type": "code",
   "execution_count": 1,
   "metadata": {
    "id": "w2EcyVvYdl8v"
   },
   "outputs": [],
   "source": [
    "import pandas as pd\n",
    "import os"
   ]
  },
  {
   "cell_type": "code",
   "execution_count": 2,
   "metadata": {
    "colab": {
     "base_uri": "https://localhost:8080/"
    },
    "id": "RkjJXAH1gyT_",
    "outputId": "125f7db7-5413-410a-d760-bef84192b639"
   },
   "outputs": [],
   "source": [
    "#Set the working directory\n",
    "project_folder = '/Users/grantschwab/Desktop/RDH/Projects/mississippi_general2022/update'\n",
    "os.chdir(project_folder)"
   ]
  },
  {
   "cell_type": "code",
   "execution_count": 3,
   "metadata": {
    "colab": {
     "base_uri": "https://localhost:8080/",
     "height": 332
    },
    "id": "rOQcpnM7eEJX",
    "outputId": "c2964093-fc7d-4081-e786-506179bda6ae"
   },
   "outputs": [
    {
     "data": {
      "text/html": [
       "<div>\n",
       "<style scoped>\n",
       "    .dataframe tbody tr th:only-of-type {\n",
       "        vertical-align: middle;\n",
       "    }\n",
       "\n",
       "    .dataframe tbody tr th {\n",
       "        vertical-align: top;\n",
       "    }\n",
       "\n",
       "    .dataframe thead th {\n",
       "        text-align: right;\n",
       "    }\n",
       "</style>\n",
       "<table border=\"1\" class=\"dataframe\">\n",
       "  <thead>\n",
       "    <tr style=\"text-align: right;\">\n",
       "      <th></th>\n",
       "      <th>Unnamed: 0</th>\n",
       "      <th>0</th>\n",
       "    </tr>\n",
       "  </thead>\n",
       "  <tbody>\n",
       "    <tr>\n",
       "      <th>0</th>\n",
       "      <td>GCON04LJOH</td>\n",
       "      <td>US HOUSE ALDEN PATRICK JOHNSON (LIB)</td>\n",
       "    </tr>\n",
       "    <tr>\n",
       "      <th>1</th>\n",
       "      <td>GCON02DTHO</td>\n",
       "      <td>US HOUSE BENNIE G THOMPSON (DEM)</td>\n",
       "    </tr>\n",
       "    <tr>\n",
       "      <th>2</th>\n",
       "      <td>GCON02RFLO</td>\n",
       "      <td>US HOUSE BRIAN FLOWERS (REP)</td>\n",
       "    </tr>\n",
       "    <tr>\n",
       "      <th>3</th>\n",
       "      <td>GCON01DBLA</td>\n",
       "      <td>US HOUSE DIANNE BLACK (DEM)</td>\n",
       "    </tr>\n",
       "    <tr>\n",
       "      <th>4</th>\n",
       "      <td>GCON04DDUP</td>\n",
       "      <td>US HOUSE JOHNNY L DUPREE (DEM)</td>\n",
       "    </tr>\n",
       "    <tr>\n",
       "      <th>5</th>\n",
       "      <td>GCON03RGUE</td>\n",
       "      <td>US HOUSE MICHAEL GUEST (REP)</td>\n",
       "    </tr>\n",
       "    <tr>\n",
       "      <th>6</th>\n",
       "      <td>GCON04REZE</td>\n",
       "      <td>US HOUSE MIKE EZELL (REP)</td>\n",
       "    </tr>\n",
       "    <tr>\n",
       "      <th>7</th>\n",
       "      <td>GCON03DYOU</td>\n",
       "      <td>US HOUSE SHUWASKI A YOUNG (DEM)</td>\n",
       "    </tr>\n",
       "    <tr>\n",
       "      <th>8</th>\n",
       "      <td>GCON01RKEL</td>\n",
       "      <td>US HOUSE TRENT KELLY (REP)</td>\n",
       "    </tr>\n",
       "  </tbody>\n",
       "</table>\n",
       "</div>"
      ],
      "text/plain": [
       "   Unnamed: 0                                     0\n",
       "0  GCON04LJOH  US HOUSE ALDEN PATRICK JOHNSON (LIB)\n",
       "1  GCON02DTHO      US HOUSE BENNIE G THOMPSON (DEM)\n",
       "2  GCON02RFLO          US HOUSE BRIAN FLOWERS (REP)\n",
       "3  GCON01DBLA           US HOUSE DIANNE BLACK (DEM)\n",
       "4  GCON04DDUP        US HOUSE JOHNNY L DUPREE (DEM)\n",
       "5  GCON03RGUE          US HOUSE MICHAEL GUEST (REP)\n",
       "6  GCON04REZE             US HOUSE MIKE EZELL (REP)\n",
       "7  GCON03DYOU       US HOUSE SHUWASKI A YOUNG (DEM)\n",
       "8  GCON01RKEL            US HOUSE TRENT KELLY (REP)"
      ]
     },
     "execution_count": 3,
     "metadata": {},
     "output_type": "execute_result"
    }
   ],
   "source": [
    "#Import csv of contests and column names\n",
    "ms_names = pd.read_csv(\"./field_names.csv\")\n",
    "\n",
    "#Cleaning how contest descriptions appear\n",
    "ms_names[\"0\"] = ms_names[\"0\"].apply(lambda x: \" \".join(x.split(\"-:-\")[:2])+\" (\"+x.split(\"-:-\")[2].replace(\"PARTY:\",\"\")+\")\")\n",
    "\n",
    "#Preview\n",
    "ms_names"
   ]
  },
  {
   "cell_type": "code",
   "execution_count": 4,
   "metadata": {
    "id": "DPqbM_7Ved9M"
   },
   "outputs": [],
   "source": [
    "#Create sorted dictionary of contests and column names\n",
    "contest_dict = dict(zip(ms_names[\"Unnamed: 0\"], ms_names[\"0\"]))\n",
    "myKeys = list(contest_dict.keys())\n",
    "myKeys.sort()\n",
    "contest_dict = {i: contest_dict[i] for i in myKeys}"
   ]
  },
  {
   "cell_type": "code",
   "execution_count": 5,
   "metadata": {
    "colab": {
     "base_uri": "https://localhost:8080/"
    },
    "id": "PagCE-lxtMOG",
    "outputId": "9d2ddf02-0bf2-408c-8a90-32e4b170b049"
   },
   "outputs": [
    {
     "data": {
      "text/plain": [
       "{'GCON01DBLA': 'US HOUSE DIANNE BLACK (DEM)',\n",
       " 'GCON01RKEL': 'US HOUSE TRENT KELLY (REP)',\n",
       " 'GCON02DTHO': 'US HOUSE BENNIE G THOMPSON (DEM)',\n",
       " 'GCON02RFLO': 'US HOUSE BRIAN FLOWERS (REP)',\n",
       " 'GCON03DYOU': 'US HOUSE SHUWASKI A YOUNG (DEM)',\n",
       " 'GCON03RGUE': 'US HOUSE MICHAEL GUEST (REP)',\n",
       " 'GCON04DDUP': 'US HOUSE JOHNNY L DUPREE (DEM)',\n",
       " 'GCON04LJOH': 'US HOUSE ALDEN PATRICK JOHNSON (LIB)',\n",
       " 'GCON04REZE': 'US HOUSE MIKE EZELL (REP)'}"
      ]
     },
     "execution_count": 5,
     "metadata": {},
     "output_type": "execute_result"
    }
   ],
   "source": [
    "contest_dict"
   ]
  },
  {
   "cell_type": "code",
   "execution_count": 6,
   "metadata": {
    "id": "bHu--iNOfft2"
   },
   "outputs": [],
   "source": [
    "###Create README\n",
    "\n",
    "base_dict = {'UNIQUE_ID':'Unique ID for each precinct',\n",
    "'COUNTYFP':'County FIPS identifier',\n",
    "'CNTY_CODE':'County Code (Three-character abbreviation)',\n",
    "'CNTY_NAME':'County Name',\n",
    "'POLL_LOC':'Precinct Polling Location'}\n",
    "\n",
    "fields_dict = {**base_dict, **contest_dict}\n",
    "\n",
    "title = \"Mississippi 2022 General Election Precinct-Level Results\"\n",
    "retrieval_date = \"09/18/23\"\n",
    "fields_dict = fields_dict\n",
    "github_link = \"https://github.com/nonpartisan-redistricting-datahub/pber_collection\"\n",
    "file_folder = \"./output/ms_2022_gen_prec/\"\n",
    "source = \"MIT Election Data and Science Lab (MEDSL)\""
   ]
  },
  {
   "cell_type": "code",
   "execution_count": 7,
   "metadata": {
    "colab": {
     "base_uri": "https://localhost:8080/"
    },
    "id": "ePiQgfuHtQ57",
    "outputId": "91942639-88a0-4e3b-e965-157de59cbb61"
   },
   "outputs": [
    {
     "data": {
      "text/plain": [
       "{'UNIQUE_ID': 'Unique ID for each precinct',\n",
       " 'COUNTYFP': 'County FIPS identifier',\n",
       " 'CNTY_CODE': 'County Code (Three-character abbreviation)',\n",
       " 'CNTY_NAME': 'County Name',\n",
       " 'POLL_LOC': 'Precinct Polling Location',\n",
       " 'GCON01DBLA': 'US HOUSE DIANNE BLACK (DEM)',\n",
       " 'GCON01RKEL': 'US HOUSE TRENT KELLY (REP)',\n",
       " 'GCON02DTHO': 'US HOUSE BENNIE G THOMPSON (DEM)',\n",
       " 'GCON02RFLO': 'US HOUSE BRIAN FLOWERS (REP)',\n",
       " 'GCON03DYOU': 'US HOUSE SHUWASKI A YOUNG (DEM)',\n",
       " 'GCON03RGUE': 'US HOUSE MICHAEL GUEST (REP)',\n",
       " 'GCON04DDUP': 'US HOUSE JOHNNY L DUPREE (DEM)',\n",
       " 'GCON04LJOH': 'US HOUSE ALDEN PATRICK JOHNSON (LIB)',\n",
       " 'GCON04REZE': 'US HOUSE MIKE EZELL (REP)'}"
      ]
     },
     "execution_count": 7,
     "metadata": {},
     "output_type": "execute_result"
    }
   ],
   "source": [
    "fields_dict"
   ]
  },
  {
   "cell_type": "code",
   "execution_count": 8,
   "metadata": {
    "id": "tnoBY_YTft54"
   },
   "outputs": [],
   "source": [
    "def full_readme_text(title, retrieval_date, source, fields_dict, github_link):\n",
    "\n",
    "#First section of README\n",
    "  readme_p1 = '''{title}\\n\n",
    "## RDH Date Retrieval\n",
    "{retrieval_date}\n",
    "\n",
    "## Sources\n",
    "{source}'''.format(title = title, source = source, retrieval_date = retrieval_date)\n",
    "\n",
    "#Second section of README\n",
    "  readme_p2 = '''\\n\n",
    "## Notes on Field Names (adapted from VEST):\n",
    "Columns reporting votes generally follow the pattern:\n",
    "One example is:\n",
    "G16PRERTRU\n",
    "The first character is G for a general election, P for a primary, S for a special, and R for a runoff.\n",
    "Characters 2 and 3 are the year of the election.*\n",
    "Characters 4-6 represent the office type (see list below).\n",
    "Character 7 represents the party of the candidate.\n",
    "Characters 8-10 are the first three letters of the candidate's last name.\n",
    "\n",
    "*To fit within the GIS 10 character limit for field names, the naming convention is slightly different for the State Legislature and US House of Representatives. All fields are listed below with definitions.\n",
    "\n",
    "Office Codes Used:\n",
    "CON## - U.S. Congress\n",
    "\n",
    "Party Codes Used:\n",
    "D - Democratic\n",
    "R - Republican\n",
    "L - Libertarian\n",
    "'''\n",
    "\n",
    "#Third section of README\n",
    "  fields_table = pd.DataFrame.from_dict(fields_dict.items())\n",
    "  fields_table.columns = [\"Field Name\", \"Description\"]\n",
    "  readme_p3 = '''\\n## Fields:\\n''' + fields_table.to_string(formatters={'Description':'{{:<{}s}}'.format(fields_table['Description'].str.len().max()).format, 'Field Name':'{{:<{}s}}'.format(fields_table['Field Name'].str.len().max()).format}, index=False, justify = \"left\")\n",
    "\n",
    "#Fourth section\n",
    "  readme_p4 = '''\\n\n",
    "## Additional Notes\n",
    "MEDSL precinct-level data was checked against county-level election results. Those results were compiled by RDH staff using PDF files from the Mississippi Secretary of State with precinct-level data for each county, retrieved 9/13/23. (https://www.sos.ms.gov/elections-voting/2022-general-election-results)\n",
    "\n",
    "All results matched.\n",
    "\n",
    "However, a previous version of the MEDSL data (retrieved 9/7/23) was checked against those same county files from the Mississippi Secretary of State.\n",
    "\n",
    "Totals matched in every county except for the following: Sharkey, Tallahatchie, Lee, Pontotoc, Jackson, Pearl River, Clarke, Oktibbeha, Neshoba, Rankin\n",
    "\n",
    "There were discrepancies in 11 of 1757 precincts. In cases where precinct results did not match, MEDSL data was replaced with state data. That resolved all discrepancies.\n",
    "\n",
    "The election results file on the RDH website was correct and remains unchanged, but we note the use of updated data from MEDSL. Full details on processing of the most recent MEDSL data can be found in the notebook linked below.\n",
    "'''\n",
    "\n",
    "#Fifth section of README\n",
    "  readme_p5 = '''\\n\n",
    "## Processing Steps\n",
    "Visit the RDH GitHub and the processing script for this code [here]({github_link})\n",
    "\n",
    "Please direct questions related to processing this dataset to info@redistrictingdatahub.org.\n",
    "'''.format(github_link=github_link)\n",
    "\n",
    "  full_readme = str(readme_p1)+str(readme_p2)+str(readme_p3)+str(readme_p4)+str(readme_p5)\n",
    "  return full_readme"
   ]
  },
  {
   "cell_type": "code",
   "execution_count": 9,
   "metadata": {
    "id": "vyfCp7wGf6RL"
   },
   "outputs": [],
   "source": [
    "if not os.path.exists(file_folder):\n",
    "    os.mkdir(file_folder)\n",
    "\n",
    "with open(file_folder+\"README.txt\", 'w') as tf:\n",
    "        tf.write(full_readme_text(title, retrieval_date, source, fields_dict, github_link))"
   ]
  }
 ],
 "metadata": {
  "colab": {
   "provenance": []
  },
  "kernelspec": {
   "display_name": "Python 3 (ipykernel)",
   "language": "python",
   "name": "python3"
  },
  "language_info": {
   "codemirror_mode": {
    "name": "ipython",
    "version": 3
   },
   "file_extension": ".py",
   "mimetype": "text/x-python",
   "name": "python",
   "nbconvert_exporter": "python",
   "pygments_lexer": "ipython3",
   "version": "3.11.4"
  }
 },
 "nbformat": 4,
 "nbformat_minor": 1
}
