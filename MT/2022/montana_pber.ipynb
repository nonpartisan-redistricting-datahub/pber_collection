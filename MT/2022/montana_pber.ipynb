{
 "cells": [
  {
   "cell_type": "code",
   "execution_count": null,
   "id": "3fec490a",
   "metadata": {},
   "outputs": [],
   "source": [
    "import geopandas as gp\n",
    "import pandas as pd\n",
    "import os\n",
    "import maup\n",
    "import numpy as np\n",
    "\n",
    "from collections import Counter"
   ]
  },
  {
   "cell_type": "markdown",
   "id": "4b29aedc",
   "metadata": {},
   "source": [
    "# 2022 Montana General Election Precinct Boundaries and Election Results"
   ]
  },
  {
   "cell_type": "markdown",
   "id": "26c1201c",
   "metadata": {},
   "source": [
    "## Load Files"
   ]
  },
  {
   "cell_type": "code",
   "execution_count": null,
   "id": "92965ac0",
   "metadata": {},
   "outputs": [],
   "source": [
    "mt_precincts = gp.read_file(\"./raw-from-source/MontanaVotingPrecincts_shp/VotingPrecincts.shp\")\n",
    "mt_results = pd.read_csv(\"./raw-from-source/mt_2022_gen_prec/mt_2022_gen_prec.csv\")"
   ]
  },
  {
   "cell_type": "code",
   "execution_count": null,
   "id": "09eb9a99",
   "metadata": {},
   "outputs": [],
   "source": [
    "update_con_names_dict = {i:i.replace(\"CON\",\"CON0\") for i in mt_results.columns if \"CON\" in i}\n",
    "mt_results.rename(columns = update_con_names_dict, inplace = True)"
   ]
  },
  {
   "cell_type": "code",
   "execution_count": null,
   "id": "45ecc60a",
   "metadata": {},
   "outputs": [],
   "source": [
    "races = [i for i in mt_results.columns if i not in ['UNIQUE_ID', 'COUNTYFP', 'COUNTYNM', 'PRECINCT']]"
   ]
  },
  {
   "cell_type": "markdown",
   "id": "ca9bc9c5",
   "metadata": {},
   "source": [
    "## Basic File Cleaning"
   ]
  },
  {
   "cell_type": "code",
   "execution_count": null,
   "id": "968b784a",
   "metadata": {},
   "outputs": [],
   "source": [
    "mt_precincts.loc[mt_precincts[\"COUNTYFP20\"].isna(),\"COUNTYFP20\"] = \"29\"\n",
    "mt_precincts[\"UNIQUE_ID\"] = mt_precincts[\"COUNTYFP20\"].astype(int).astype(str)+\"-:-\"+mt_precincts[\"NUMBER\"].astype(str)\n",
    "ser = mt_precincts[\"UNIQUE_ID\"].value_counts()\n",
    "dups = list(ser[ser>1].index)"
   ]
  },
  {
   "cell_type": "markdown",
   "id": "36b9249b",
   "metadata": {},
   "source": [
    "## Clean Duplicated and Unjoined Precincts\n"
   ]
  },
  {
   "cell_type": "code",
   "execution_count": null,
   "id": "349d55e3",
   "metadata": {},
   "outputs": [],
   "source": [
    "mt_precincts = mt_precincts.dissolve(\"UNIQUE_ID\")\n",
    "mt_precincts.reset_index(inplace = True, drop = False)"
   ]
  },
  {
   "cell_type": "markdown",
   "id": "212b2c3f",
   "metadata": {},
   "source": [
    "## Clean Precinct Overlaps\n",
    "\n",
    "Note: Problem precincts appear to be \"1-:-000003\", \"1-:-000007\", and \"1-:-000009\""
   ]
  },
  {
   "cell_type": "code",
   "execution_count": null,
   "id": "36ea0c51",
   "metadata": {},
   "outputs": [],
   "source": [
    "BLOCK_PATH = \"\" "
   ]
  },
  {
   "cell_type": "code",
   "execution_count": null,
   "id": "396ac626",
   "metadata": {},
   "outputs": [],
   "source": [
    "blocks = gp.read_file(BLOCK_PATH)\n",
    "blocks = blocks.to_crs(mt_precincts.crs)\n",
    "\n",
    "try:\n",
    "    maup.assign(blocks, mt_precincts)\n",
    "except ValueError:\n",
    "    print(\"maup didn't work\")"
   ]
  },
  {
   "cell_type": "code",
   "execution_count": null,
   "id": "fe80edf4",
   "metadata": {},
   "outputs": [],
   "source": [
    "mt_precincts_changes = mt_precincts[mt_precincts[\"UNIQUE_ID\"].isin([\"1-:-000003\"])]\n",
    "mt_precincts_clean = mt_precincts[~mt_precincts[\"UNIQUE_ID\"].isin([\"1-:-000003\"])]"
   ]
  },
  {
   "cell_type": "code",
   "execution_count": null,
   "id": "2b490299",
   "metadata": {},
   "outputs": [],
   "source": [
    "prec_3 = mt_precincts[mt_precincts[\"UNIQUE_ID\"].isin([\"1-:-000003\"])].copy(deep = True)\n",
    "prec_7_9 = mt_precincts[mt_precincts[\"UNIQUE_ID\"].isin([\"1-:-000007\",\"1-:-000009\"])].copy(deep = True)\n",
    "prec_3_updated = gp.overlay(prec_3, prec_7_9, how = \"difference\")\n",
    "mt_precincts = gp.GeoDataFrame(pd.concat([mt_precincts_clean, prec_3_updated]))"
   ]
  },
  {
   "cell_type": "code",
   "execution_count": null,
   "id": "c15b249b",
   "metadata": {},
   "outputs": [],
   "source": [
    "blocks = gp.read_file(BLOCK_PATH)\n",
    "blocks = blocks.to_crs(mt_precincts.crs)\n",
    "\n",
    "try:\n",
    "    maup.assign(blocks, mt_precincts)\n",
    "except ValueError:\n",
    "    print(\"maup didn't work\")\n",
    "print(\"maup successful\")"
   ]
  },
  {
   "cell_type": "markdown",
   "id": "150fdd2b",
   "metadata": {},
   "source": [
    "## Modify Precinct Names for Join\n",
    "\n",
    "Note: The file below was created by hand"
   ]
  },
  {
   "cell_type": "code",
   "execution_count": null,
   "id": "970b9e83",
   "metadata": {},
   "outputs": [],
   "source": [
    "correspondence_table = pd.read_csv(\"./raw-from-source/Supporting_Files/correspondence_table.csv\")\n",
    "correspondence_table = correspondence_table[correspondence_table[\"UNIQUE_ID\"]!=correspondence_table[\"SHP_ID\"]]\n",
    "correspondence_table_dict = dict(zip(correspondence_table[\"UNIQUE_ID\"], correspondence_table[\"SHP_ID\"]))\n",
    "\n",
    "mt_results[\"UNIQUE_ID\"] = mt_results[\"UNIQUE_ID\"].map(correspondence_table_dict).fillna(mt_results[\"UNIQUE_ID\"])\n",
    "\n",
    "correspondence_table = pd.read_csv(\"./raw-from-source/Supporting_Files/correspondence_table.csv\")\n",
    "correspondence_table = correspondence_table[correspondence_table[\"UNIQUE_ID\"]!=correspondence_table[\"SHP_ID\"]]\n",
    "correspondence_table_dict = dict(zip(correspondence_table[\"UNIQUE_ID\"], correspondence_table[\"SHP_ID\"]))\n",
    "\n",
    "mt_results[\"UNIQUE_ID\"] = mt_results[\"UNIQUE_ID\"].map(correspondence_table_dict).fillna(mt_results[\"UNIQUE_ID\"]) "
   ]
  },
  {
   "cell_type": "code",
   "execution_count": null,
   "id": "849bd8ee",
   "metadata": {},
   "outputs": [],
   "source": [
    "mt_precincts = mt_precincts[[\"UNIQUE_ID\", \"geometry\", \"HOUSE\", \"SENATE\",\"POLLINGPLA\",\"PrecinctNa\"]]"
   ]
  },
  {
   "cell_type": "code",
   "execution_count": null,
   "id": "f5c2a385",
   "metadata": {},
   "outputs": [],
   "source": [
    "joined_pber = gp.GeoDataFrame(pd.merge(mt_results, mt_precincts, how = \"outer\", on = \"UNIQUE_ID\", indicator = True))"
   ]
  },
  {
   "cell_type": "code",
   "execution_count": null,
   "id": "2b434427",
   "metadata": {},
   "outputs": [],
   "source": [
    "mt_fip_dict = dict(zip(mt_results[\"COUNTYFP\"].astype(str).str.zfill(3), mt_results[\"COUNTYNM\"]))"
   ]
  },
  {
   "cell_type": "code",
   "execution_count": null,
   "id": "e7fb0b18",
   "metadata": {},
   "outputs": [],
   "source": [
    "joined_pber[\"_merge\"].value_counts()"
   ]
  },
  {
   "cell_type": "markdown",
   "id": "932afd6d",
   "metadata": {},
   "source": [
    "## Clean the Precincts Only in Shapefile"
   ]
  },
  {
   "cell_type": "code",
   "execution_count": null,
   "id": "433531a6",
   "metadata": {},
   "outputs": [],
   "source": [
    "joined_pber.loc[joined_pber[\"_merge\"]!=\"both\",\"COUNTYFP\"] = joined_pber.loc[joined_pber[\"_merge\"]!=\"both\",\"UNIQUE_ID\"].apply(lambda x: x.split(\"-:-\")[0].zfill(3))\n",
    "joined_pber.loc[joined_pber[\"_merge\"]!=\"both\",\"PRECINCT\"] = \"NA\"\n",
    "joined_pber.loc[joined_pber[\"_merge\"]!=\"both\",\"COUNTYNM\"] = joined_pber.loc[joined_pber[\"_merge\"]!=\"both\",\"COUNTYFP\"].map(mt_fip_dict)\n",
    "\n",
    "joined_pber = joined_pber.fillna(0)\n",
    "\n",
    "joined_pber.drop(\"_merge\", axis = 1, inplace = True)"
   ]
  },
  {
   "cell_type": "markdown",
   "id": "620d0a6c",
   "metadata": {},
   "source": [
    "## Examine Split Precincts"
   ]
  },
  {
   "cell_type": "code",
   "execution_count": null,
   "id": "b14805b3",
   "metadata": {},
   "outputs": [],
   "source": [
    "def is_split_precinct(district_assignment_list):\n",
    "    c = Counter([x[0] for x in district_assignment_list])\n",
    "    greater_than_one = {x:[y[1] for y in district_assignment_list if y[0]==x] for x, count in c.items() if count > 1}\n",
    "    if len(greater_than_one)==0:\n",
    "        return 0\n",
    "    else:\n",
    "        return greater_than_one\n",
    "    \n",
    "def get_level_dist(column_name):\n",
    "    if column_name[0:4] == \"GSLP\":\n",
    "        level = \"SL\"\n",
    "        dist = \"004\"\n",
    "    elif column_name[0:3] == \"GSL\":\n",
    "        level = \"SL\"\n",
    "        dist = column_name[3:6]\n",
    "    elif column_name[0:3] == \"GSU\":\n",
    "        level = \"SU\"\n",
    "        dist = column_name[3:5]\n",
    "    elif column_name[0:4] == \"GCON\":\n",
    "        level = \"CON\"\n",
    "        dist = column_name[4:6]\n",
    "    else:\n",
    "        print(column_name)\n",
    "        raise ValueError\n",
    "    return level,dist\n",
    "\n",
    "def contains_sldl(dist_list):\n",
    "    for dist_tuple in dist_list:\n",
    "        if dist_tuple[0] == \"SL\":\n",
    "            return dist_tuple[1]\n",
    "        \n",
    "def contains_cong(dist_list):\n",
    "    for dist_tuple in dist_list:\n",
    "        if dist_tuple[0] == \"CON\":\n",
    "            return dist_tuple[1]\n",
    "        \n",
    "def contains_sldu(dist_list):\n",
    "    for dist_tuple in dist_list:\n",
    "        if dist_tuple[0] == \"SU\":\n",
    "            return dist_tuple[1]\n",
    "\n",
    "precinct_mapping_dict = {}\n",
    "split_precincts_list = {}\n",
    "for index,row in joined_pber.iterrows():\n",
    "    precinct_list = []\n",
    "    for contest in races:\n",
    "        if(row[contest]!=0) and (\"GCON\" in contest or \"GSL\" in contest or \"GSU\" in contest):\n",
    "            precinct_info = get_level_dist(contest)\n",
    "            if precinct_info not in precinct_list:\n",
    "                precinct_list.append(get_level_dist(contest))\n",
    "    is_split = is_split_precinct(precinct_list)\n",
    "    if (is_split):\n",
    "        split_precincts_list[row[\"UNIQUE_ID\"]]=is_split\n",
    "    precinct_mapping_dict[row[\"UNIQUE_ID\"]]=precinct_list\n",
    "    \n",
    "cong_check_list = {i:contains_cong(precinct_mapping_dict[i]) for i in precinct_mapping_dict.keys()}\n",
    "sldu_check_list = {i:contains_sldu(precinct_mapping_dict[i]) for i in precinct_mapping_dict.keys()}\n",
    "sldl_check_list = {i:contains_sldl(precinct_mapping_dict[i]) for i in precinct_mapping_dict.keys()}"
   ]
  },
  {
   "cell_type": "code",
   "execution_count": null,
   "id": "b2931b6e",
   "metadata": {},
   "outputs": [],
   "source": [
    "def return_splits(split_dict, level):\n",
    "    for val in split_dict.keys():\n",
    "        if level in val:\n",
    "            return split_dict[level]\n",
    "\n",
    "def create_splits_dict(level):\n",
    "    level_splits_dict = {i:return_splits(split_precincts_list[i], level) for i in split_precincts_list.keys() if return_splits(split_precincts_list[i], level) != None }\n",
    "    return level_splits_dict"
   ]
  },
  {
   "cell_type": "code",
   "execution_count": null,
   "id": "a8cc1685",
   "metadata": {},
   "outputs": [],
   "source": [
    "cong_splits_dict = create_splits_dict('CON')\n",
    "sldl_splits_dict = create_splits_dict('SL')\n",
    "sldu_splits_dict = create_splits_dict('SU')"
   ]
  },
  {
   "cell_type": "code",
   "execution_count": null,
   "id": "648a65dc",
   "metadata": {},
   "outputs": [],
   "source": [
    "print(cong_splits_dict)"
   ]
  },
  {
   "cell_type": "code",
   "execution_count": null,
   "id": "86331111",
   "metadata": {},
   "outputs": [],
   "source": [
    "print(sldl_splits_dict)"
   ]
  },
  {
   "cell_type": "code",
   "execution_count": null,
   "id": "ef92adfc",
   "metadata": {},
   "outputs": [],
   "source": [
    "print(sldu_splits_dict)"
   ]
  },
  {
   "cell_type": "code",
   "execution_count": null,
   "id": "9a2abdd5",
   "metadata": {},
   "outputs": [],
   "source": [
    "def district_splits_comb(level, splits_list, elections_gdf, district_gdf, unique_ID_col, district_gdf_ID, races_list, elections_gdf_dist_ID, fill_level = 2):\n",
    "    '''\n",
    "    Function to split precincts across districts that splits a precinct across the entire district map.\n",
    "    Previous iterations of this code only split precincts by the districts in which votes were recorded.\n",
    "    In some instances, that led to holes in the map, due to districts where no votes were recorded in a precinct, but where an intersection occurred.\n",
    "    '''\n",
    "    # Intersect the elections gdf with the district gdf\n",
    "    need_splits = elections_gdf[elections_gdf[unique_ID_col].isin(splits_list)]\n",
    "    others = elections_gdf[~elections_gdf[unique_ID_col].isin(splits_list)]\n",
    "    \n",
    "    pre_splits_copy = need_splits.copy(deep = True)\n",
    "    \n",
    "    test_join = gp.overlay(need_splits, district_gdf, how = \"intersection\")\n",
    "    \n",
    "    # Assign a district column, using the district shapefile\n",
    "    test_join[elections_gdf_dist_ID] = test_join[district_gdf_ID]\n",
    "    \n",
    "    # Filter the intersection down to the precinct, district pairs we need\n",
    "    clean_votes = test_join.copy(deep = True)\n",
    "    \n",
    "    clean_votes[unique_ID_col+\"_new\"] = clean_votes[unique_ID_col]\n",
    "    \n",
    "    # Remove the others and hold on to these to be merged later\n",
    "    for index, row in clean_votes.iterrows():\n",
    "        clean_votes.at[index, unique_ID_col+\"_new\"] = row[unique_ID_col]+\"-(\"+level + \"-\" + row[district_gdf_ID].zfill(fill_level) + \")\"\n",
    "        for column in test_join:\n",
    "            if column in races_list and row[elections_gdf_dist_ID].zfill(fill_level) not in column:\n",
    "                clean_votes.at[index, column] = 0 \n",
    "        \n",
    "    lost_votes_df = generate_differences_df(pre_splits_copy, clean_votes, unique_ID_col, races_list, True)\n",
    "    \n",
    "    clean_votes.drop(unique_ID_col, axis = 1, inplace = True)\n",
    "    clean_votes.rename(columns = {unique_ID_col+\"_new\":unique_ID_col}, inplace = True)\n",
    "\n",
    "    clean_votes = clean_votes[list(others.columns)]\n",
    "        \n",
    "    elections_gdf = gp.GeoDataFrame(pd.concat([clean_votes, others]), crs = elections_gdf.crs)\n",
    "    elections_gdf.reset_index(drop=True,inplace=True)\n",
    "\n",
    "    \n",
    "    return elections_gdf, lost_votes_df"
   ]
  },
  {
   "cell_type": "code",
   "execution_count": null,
   "id": "b9e10caa",
   "metadata": {},
   "outputs": [],
   "source": [
    "def generate_differences_df(df_compare_against, df_compare_to, unique_ID_col, races_list, drop_empty = False):\n",
    "    \n",
    "    df_compare_against = df_compare_against[[unique_ID_col]+races_list]\n",
    "    df_compare_to = df_compare_to[[unique_ID_col]+races_list]\n",
    " \n",
    "\n",
    "    grouped_compare_against = df_compare_against.groupby(unique_ID_col).sum()\n",
    "    grouped_compare_to = df_compare_to.groupby(unique_ID_col).sum()\n",
    "    \n",
    "    grouped_compare_against.reset_index(inplace = True, drop = False)\n",
    "    grouped_compare_to.reset_index(inplace = True, drop = False)\n",
    "\n",
    "    diffs = grouped_compare_against.set_index(unique_ID_col).subtract(grouped_compare_to.set_index(unique_ID_col))\n",
    "    \n",
    "    diffs[\"Tot_Votes\"] = diffs[races_list].sum(axis=1)\n",
    "\n",
    "    \n",
    "    if drop_empty:\n",
    "        diffs = diffs.loc[~(diffs==0).all(axis=1)]\n",
    "        diffs = diffs.loc[:, (diffs != 0).any(axis=0)]\n",
    "\n",
    "    return diffs"
   ]
  },
  {
   "cell_type": "code",
   "execution_count": null,
   "id": "0dbcb79c",
   "metadata": {},
   "outputs": [],
   "source": [
    "SLDU_PATH = \"\"\n",
    "SLDL_PATH = \"\"\n",
    "CONG_PATH = \"\""
   ]
  },
  {
   "cell_type": "code",
   "execution_count": null,
   "id": "f8c23e29",
   "metadata": {},
   "outputs": [],
   "source": [
    "\n",
    "\n",
    "# Load in pre-redistricting SLDU and SLDL shapefiles\n",
    "mt_sldu_districts = gp.read_file(SLDU_PATH)\n",
    "mt_sldl_districts = gp.read_file(SLDL_PATH)\n",
    "mt_cong_districts = gp.read_file(CONG_PATH)\n",
    "\n",
    "mt_sldu_districts = mt_sldu_districts.to_crs(joined_pber.crs)\n",
    "mt_sldl_districts = mt_sldl_districts.to_crs(joined_pber.crs)\n",
    "mt_cong_districts = mt_cong_districts.to_crs(joined_pber.crs)\n",
    "\n",
    "mt_sldu_districts = mt_sldu_districts[mt_sldu_districts[\"STATE\"]==\"MT\"]\n",
    "mt_sldl_districts = mt_sldl_districts[mt_sldl_districts[\"STATE\"]==\"MT\"]\n",
    "mt_cong_districts = mt_cong_districts[mt_cong_districts[\"STATE\"]==\"MT\"]"
   ]
  },
  {
   "cell_type": "markdown",
   "id": "deee1f13",
   "metadata": {},
   "source": [
    "## Split File into 3 To Account for CONG and SLDL Splits"
   ]
  },
  {
   "cell_type": "code",
   "execution_count": null,
   "id": "e7ef473e",
   "metadata": {},
   "outputs": [],
   "source": [
    "# Make SLDU and SLDL district assignments using the above\n",
    "joined_pber[\"SLDU_DIST\"] = joined_pber[\"UNIQUE_ID\"].map(sldu_check_list)\n",
    "joined_pber[\"SLDL_DIST\"] = joined_pber[\"UNIQUE_ID\"].map(sldl_check_list)\n",
    "joined_pber[\"CONG_DIST\"] = joined_pber[\"UNIQUE_ID\"].map(cong_check_list)"
   ]
  },
  {
   "cell_type": "code",
   "execution_count": null,
   "id": "1f28a792",
   "metadata": {},
   "outputs": [],
   "source": [
    "keep_names = ['UNIQUE_ID','COUNTYFP','COUNTYNM','PRECINCT', 'geometry','HOUSE','SENATE','POLLINGPLA','PrecinctNa']\n",
    "sldl_columns = [i for i in joined_pber.columns if i not in keep_names and \"GSL\" in i and i not in [\"SLDU_DIST\",\"SLDL_DIST\",\"CONG_DIST\"]]\n",
    "cong_columns = [i for i in joined_pber.columns if i not in keep_names and \"GCON\" in i and i not in [\"SLDU_DIST\",\"SLDL_DIST\",\"CONG_DIST\"]]\n",
    "other_columns = [i for i in joined_pber.columns if i not in keep_names and \"GSL\" not in i and \"GCON\" not in i and i not in [\"SLDU_DIST\",\"SLDL_DIST\",\"CONG_DIST\"]]\n",
    "\n",
    "\n",
    "mt_22_st_sldu_prec = joined_pber[keep_names + [\"SLDU_DIST\"] + other_columns].copy(deep = True)\n",
    "mt_22_sldl_prec = joined_pber[keep_names + [\"SLDL_DIST\"] + sldl_columns].copy(deep = True)\n",
    "mt_22_cong_prec = joined_pber[keep_names + [\"CONG_DIST\"] + cong_columns].copy(deep = True)\n",
    "mt_22_no_splits = joined_pber[keep_names +[i for i in joined_pber.columns if i[0]==\"G\"]]"
   ]
  },
  {
   "cell_type": "code",
   "execution_count": null,
   "id": "adb0239f",
   "metadata": {},
   "outputs": [],
   "source": [
    "mt_cong_districts[\"DISTRICT\"] = mt_cong_districts[\"DISTRICT\"].astype(int).astype(str)\n",
    "\n",
    "mt_22_sldl_prec, sldl_diff = district_splits_comb(\"SL\", list(sldl_splits_dict.keys()), mt_22_sldl_prec, mt_sldl_districts, \"UNIQUE_ID\", \"DISTRICT\", sldl_columns, \"SLDL_DIST\", fill_level = 3)\n",
    "mt_22_cong_prec, cong_diff = district_splits_comb(\"CON\", list(cong_splits_dict.keys()), mt_22_cong_prec, mt_cong_districts, \"UNIQUE_ID\", \"DISTRICT\", cong_columns, \"CONG_DIST\", fill_level = 2)"
   ]
  },
  {
   "cell_type": "code",
   "execution_count": null,
   "id": "12877f9e",
   "metadata": {},
   "outputs": [],
   "source": [
    "# The precinct shapefiles already contained district assignment fields, look into instances\n",
    "# where that file does not match the assignment we provided based off election results\n",
    "print(joined_pber[joined_pber[\"SLDU_DIST\"]!=joined_pber[\"SENATE\"]].shape)\n",
    "\n",
    "print(joined_pber[joined_pber[\"SLDL_DIST\"]!=joined_pber[\"HOUSE\"]].shape)"
   ]
  },
  {
   "cell_type": "markdown",
   "id": "53e41808",
   "metadata": {},
   "source": [
    "## Clean up Unassigned Districts"
   ]
  },
  {
   "cell_type": "code",
   "execution_count": null,
   "id": "89e47a88",
   "metadata": {},
   "outputs": [],
   "source": [
    "def clean_na_dist_assignments(elections_gdf, district_gdf, unique_ID_col, elections_gdf_dist_ID, district_gdf_ID, ):\n",
    "    \n",
    "    if elections_gdf[elections_gdf[elections_gdf_dist_ID].isna()].shape[0]==0:\n",
    "        print(\"No assignments to make\")\n",
    "        return elections_gdf\n",
    "    \n",
    "    original_crs = elections_gdf.crs\n",
    "    elections_gdf = elections_gdf.to_crs(3857)\n",
    "    \n",
    "    district_gdf = district_gdf.to_crs(3857)\n",
    "    \n",
    "    dist_clean = gp.overlay(elections_gdf[elections_gdf[elections_gdf_dist_ID].isna()], district_gdf, how = \"intersection\")\n",
    "\n",
    "    dist_clean['area'] = dist_clean.area\n",
    "\n",
    "    na_assignment_dict = {}\n",
    "\n",
    "    for val in dist_clean[unique_ID_col].unique():\n",
    "\n",
    "        assignment = dist_clean.loc[dist_clean[unique_ID_col] == val].nlargest(1, 'area')[district_gdf_ID].values[0]\n",
    "        na_assignment_dict[val] = assignment\n",
    "\n",
    "    elections_gdf[elections_gdf_dist_ID] = elections_gdf[unique_ID_col].map(na_assignment_dict).fillna(elections_gdf[elections_gdf_dist_ID])    \n",
    "\n",
    "    elections_gdf = elections_gdf.to_crs(original_crs)\n",
    "    \n",
    "    return elections_gdf"
   ]
  },
  {
   "cell_type": "code",
   "execution_count": null,
   "id": "454d19c2",
   "metadata": {},
   "outputs": [],
   "source": [
    "mt_22_cong_prec[\"CONG_DIST\"] = mt_22_cong_prec[\"CONG_DIST\"].fillna(value=np.nan)\n",
    "mt_22_sldl_prec[\"SLDL_DIST\"] = mt_22_sldl_prec[\"SLDL_DIST\"].fillna(value=np.nan)\n",
    "mt_22_st_sldu_prec[\"SLDU_DIST\"] = mt_22_st_sldu_prec[\"SLDU_DIST\"].fillna(value=np.nan)"
   ]
  },
  {
   "cell_type": "code",
   "execution_count": null,
   "id": "665c55a7",
   "metadata": {},
   "outputs": [],
   "source": [
    "mt_22_sldl_prec = clean_na_dist_assignments(mt_22_sldl_prec, mt_sldl_districts, \"UNIQUE_ID\", \"SLDL_DIST\", \"DISTRICT\")\n",
    "mt_22_st_sldu_prec = clean_na_dist_assignments(mt_22_st_sldu_prec, mt_sldu_districts, \"UNIQUE_ID\", \"SLDU_DIST\", \"DISTRICT\")\n",
    "mt_22_cong_prec = clean_na_dist_assignments(mt_22_cong_prec, mt_cong_districts, \"UNIQUE_ID\", \"CONG_DIST\", \"DISTRICT\")\n"
   ]
  },
  {
   "cell_type": "code",
   "execution_count": null,
   "id": "dc4ec2be",
   "metadata": {},
   "outputs": [],
   "source": [
    "mt_22_st_sldu_prec[\"SLDU_DIST\"] = mt_22_st_sldu_prec[\"SLDU_DIST\"].astype(str).str.zfill(2)\n",
    "mt_22_st_sldu_prec[\"SENATE\"] = mt_22_st_sldu_prec[\"SENATE\"].astype(str).str.zfill(2)"
   ]
  },
  {
   "cell_type": "code",
   "execution_count": null,
   "id": "aa189127",
   "metadata": {},
   "outputs": [],
   "source": [
    "mt_22_sldl_prec[\"SLDL_DIST\"] = mt_22_sldl_prec[\"SLDL_DIST\"].astype(str).str.zfill(3)\n",
    "mt_22_sldl_prec[\"HOUSE\"] = mt_22_sldl_prec[\"HOUSE\"].astype(str).str.zfill(3)"
   ]
  },
  {
   "cell_type": "code",
   "execution_count": null,
   "id": "2ae32b5e",
   "metadata": {},
   "outputs": [],
   "source": [
    "mt_22_cong_prec[\"CONG_DIST\"] = mt_22_cong_prec[\"CONG_DIST\"].astype(str).str.zfill(2)\n"
   ]
  },
  {
   "cell_type": "markdown",
   "id": "77e7fee2",
   "metadata": {},
   "source": [
    "## Look Into Precincts Where Election Assignment Doesn't Match Shapefile Assignment from File"
   ]
  },
  {
   "cell_type": "code",
   "execution_count": null,
   "id": "855dcf6d",
   "metadata": {
    "scrolled": true
   },
   "outputs": [],
   "source": [
    "mt_22_sldl_prec[mt_22_sldl_prec[\"SLDL_DIST\"]!=mt_22_sldl_prec[\"HOUSE\"]][[\"SLDL_DIST\",\"HOUSE\"]]"
   ]
  },
  {
   "cell_type": "code",
   "execution_count": null,
   "id": "785d0d65",
   "metadata": {},
   "outputs": [],
   "source": [
    "mt_22_st_sldu_prec[mt_22_st_sldu_prec[\"SLDU_DIST\"]!=mt_22_st_sldu_prec[\"SENATE\"]][[\"SLDU_DIST\",\"SENATE\"]]"
   ]
  },
  {
   "cell_type": "markdown",
   "id": "c9acd185",
   "metadata": {},
   "source": [
    "## Check Geometries"
   ]
  },
  {
   "cell_type": "code",
   "execution_count": null,
   "id": "f0d05357",
   "metadata": {},
   "outputs": [],
   "source": [
    "from matplotlib.lines import Line2D\n",
    "import contextily as cx\n",
    "\n",
    "def compare_geometries(gdf_1,gdf_2,left_gdf_name,right_gdf_name,join_col_name,shape_name,area_threshold=.1):\n",
    "    '''\n",
    "    Function that joins to GeoDataFrames on a column and reports area differences row-by-row\n",
    "    '''\n",
    "    gdf_1 = gdf_1.to_crs(3857)\n",
    "    gdf_2 = gdf_2.to_crs(3857)\n",
    "    both = pd.merge(gdf_1,gdf_2,how=\"outer\",on=join_col_name,validate=\"1:1\",indicator=True)\n",
    "    if(both[\"_merge\"].str.contains(\"_\")).any():\n",
    "        print(\"Non-unique merge values\")\n",
    "        print(both[both[\"_merge\"]!=\"both\"])\n",
    "        raise ValueError\n",
    "    left_geoms = gp.GeoDataFrame(both,geometry=\"geometry_x\")\n",
    "    right_geoms = gp.GeoDataFrame(both,geometry=\"geometry_y\")\n",
    "    left_geoms[\"geometry_x\"]=left_geoms.buffer(0)\n",
    "    right_geoms[\"geometry_y\"]=right_geoms.buffer(0)\n",
    "#     if (left_geoms.is_valid==False).any():\n",
    "#         raise ValueError\n",
    "#     elif(right_geoms.is_valid==False).any():\n",
    "#         raise ValueError\n",
    "    count = 0\n",
    "    area_list = []\n",
    "    print(\"Checking \" + str(both.shape[0])+\" \"+shape_name +\" for differences of greater than \"+str(area_threshold)+\" km^2\")\n",
    "    print()\n",
    "    for index,row in both.iterrows():\n",
    "        diff = left_geoms.iloc[[index]].symmetric_difference(right_geoms.iloc[[index]])\n",
    "        intersection = left_geoms.iloc[[index]].intersection(right_geoms.iloc[[index]])\n",
    "        area = float(diff.area/10e6)\n",
    "        area_list.append(area)\n",
    "        if (area > area_threshold):\n",
    "            count += 1\n",
    "            name = left_geoms.at[index,join_col_name]\n",
    "            print(str(count)+\") For \" + name + \" difference in area is \" + str(area))\n",
    "            if (intersection.iloc[0].is_empty):\n",
    "                base = left_geoms.iloc[[index]].plot(color=\"orange\",figsize=(10,10), alpha = .5)\n",
    "                right_geoms.iloc[[index]].plot(color=\"blue\",ax=base, alpha = .5)\n",
    "                base.set_title(name)\n",
    "                custom_lines = [Line2D([0], [0], color='green', lw=4),\n",
    "                Line2D([0], [0], color='orange', lw=4),\n",
    "                Line2D([0], [0], color='blue', lw=4)]\n",
    "                base.legend(custom_lines, ['Overlap', left_gdf_name,right_gdf_name])\n",
    "                cx.add_basemap(ax = base, crs = gdf_1.crs.to_string(), source=cx.providers.OpenStreetMap.Mapnik)\n",
    "            else:\n",
    "                base = left_geoms.iloc[[index]].plot(color=\"orange\",figsize=(10,10), alpha = .5)\n",
    "                right_geoms.iloc[[index]].plot(color=\"blue\",ax=base, alpha = .5)\n",
    "                intersection.plot(color=\"green\",ax=base, alpha = .8)\n",
    "                base.set_title(name)\n",
    "                custom_lines = [Line2D([0], [0], color='green', lw=4),\n",
    "                Line2D([0], [0], color='orange', lw=4),\n",
    "                Line2D([0], [0], color='blue', lw=4)]\n",
    "                base.legend(custom_lines, ['Overlap', left_gdf_name,right_gdf_name])\n",
    "                cx.add_basemap(ax = base, crs = gdf_1.crs.to_string(), source=cx.providers.OpenStreetMap.Mapnik)\n",
    "\n",
    "                \n",
    "                \n",
    "    df = pd.DataFrame(area_list)\n",
    "    print()\n",
    "    print(\"Scroll down to see plots of any differences\")\n",
    "    print()\n",
    "    print(\"Of the \"+ str(both.shape[0])+\" \"+ shape_name+ \":\")\n",
    "    print()\n",
    "    print(str(len(df[df[0]==0]))+\" \"+shape_name+\"  w/ a difference of 0 km^2\")\n",
    "    print(str(len(df[(df[0]<.1) & (df[0]>0)]))+ \" \"+shape_name+\"  w/ a difference between 0 and .1 km^2\")\n",
    "    print(str(len(df[(df[0]<.5) & (df[0]>=.1)]))+ \" \"+shape_name+\"  w/ a difference between .1 and .5 km^2\")\n",
    "    print(str(len(df[(df[0]<1) & (df[0]>=.5)]))+ \" \"+shape_name+\"  w/ a difference between .5 and 1 km^2\")\n",
    "    print(str(len(df[(df[0]<2) & (df[0]>=1)]))+ \" \"+shape_name+\"  w/ a difference between 1 and 2 km^2\")\n",
    "    print(str(len(df[(df[0]<5) & (df[0]>=2)]))+ \" \"+shape_name+\"  w/ a difference between 2 and 5 km^2\")\n",
    "    print(str(len(df[(df[0]>=5)]))+ \" \"+shape_name+\"  w/ a difference greater than 5 km^2\")"
   ]
  },
  {
   "cell_type": "code",
   "execution_count": null,
   "id": "97b6c397",
   "metadata": {},
   "outputs": [],
   "source": []
  },
  {
   "cell_type": "code",
   "execution_count": null,
   "id": "5c7d98da",
   "metadata": {},
   "outputs": [],
   "source": [
    "mt_sldl_districts.rename(columns = {\"DISTRICT\":\"SLDL_DIST\"}, inplace = True)\n",
    "mt_sldu_districts.rename(columns = {\"DISTRICT\":\"SLDU_DIST\"}, inplace = True)\n",
    "mt_cong_districts.rename(columns = {\"DISTRICT\":\"CONG_DIST\"}, inplace = True)\n",
    "mt_cong_districts[\"CONG_DIST\"] = mt_cong_districts[\"CONG_DIST\"].astype(str).str.zfill(2)\n",
    "\n",
    "filtered_sldl_results = mt_22_sldl_prec[~mt_22_sldl_prec[\"SLDL_DIST\"].isna()].dissolve(\"SLDL_DIST\")\n",
    "filtered_sldl_results.reset_index(inplace = True, drop = False)\n",
    "\n",
    "filtered_sldu_results = mt_22_st_sldu_prec[~mt_22_st_sldu_prec[\"SLDU_DIST\"].isna()].dissolve(\"SLDU_DIST\")\n",
    "filtered_sldu_results.reset_index(inplace = True, drop = False)\n",
    "\n",
    "filtered_cong_results = mt_22_cong_prec[~mt_22_cong_prec[\"CONG_DIST\"].isna()].dissolve(\"CONG_DIST\")\n",
    "filtered_cong_results.reset_index(inplace = True, drop = False)\n",
    "\n",
    "mt_sldl_districts[\"SLDL_DIST\"] = mt_sldl_districts[\"SLDL_DIST\"].astype(str).str.zfill(3)\n",
    "mt_sldu_districts[\"SLDU_DIST\"] = mt_sldu_districts[\"SLDU_DIST\"].astype(str).str.zfill(2)\n",
    "\n",
    "compare_geometries(filtered_sldu_results, mt_sldu_districts ,\"Election Results\", \"Census\", \"SLDU_DIST\",\"districts\",area_threshold=2)\n",
    "compare_geometries(filtered_sldl_results, mt_sldl_districts ,\"Election Results\", \"Census\", \"SLDL_DIST\",\"districts\",area_threshold=2)\n",
    "compare_geometries(filtered_cong_results, mt_cong_districts ,\"Election Results\", \"Census\", \"CONG_DIST\",\"districts\",area_threshold=2)\n"
   ]
  },
  {
   "cell_type": "markdown",
   "id": "6617348b",
   "metadata": {},
   "source": [
    "# Final File Exporting"
   ]
  },
  {
   "cell_type": "code",
   "execution_count": null,
   "id": "353f76f4",
   "metadata": {},
   "outputs": [],
   "source": [
    "if not os.path.exists(\"./mt_gen_2022_prec/mt_gen_2022_prec\"):\n",
    "    if not os.path.exists(\"./mt_gen_2022_prec\"):\n",
    "        os.mkdir(\"./mt_gen_2022_prec\")\n",
    "    if not os.path.exists(\"./mt_gen_2022_prec/mt_22_sldl_prec\"):\n",
    "        os.mkdir(\"./mt_gen_2022_prec/mt_22_sldl_prec\")\n",
    "    if not os.path.exists(\"./mt_gen_2022_prec/mt_22_st_sldu_prec\"):\n",
    "        os.mkdir(\"./mt_gen_2022_prec/mt_22_st_sldu_prec\")\n",
    "    if not os.path.exists(\"./mt_gen_2022_prec/mt_22_cong_prec\"):\n",
    "        os.mkdir(\"./mt_gen_2022_prec/mt_22_cong_prec\")\n",
    "    if not os.path.exists(\"./mt_gen_2022_prec/mt_22_no_splits_prec\"):\n",
    "        os.mkdir(\"./mt_gen_2022_prec/mt_22_no_splits_prec\")\n",
    "    \n",
    "    \n",
    "\n"
   ]
  },
  {
   "cell_type": "code",
   "execution_count": null,
   "id": "276737b2",
   "metadata": {},
   "outputs": [],
   "source": [
    "for col in other_columns:\n",
    "    mt_22_st_sldu_prec[col] = mt_22_st_sldu_prec[col].astype(int)\n",
    "    mt_22_no_splits[col] = mt_22_no_splits[col].astype(int)\n",
    "    \n",
    "for col in sldl_columns:\n",
    "    mt_22_sldl_prec[col] = mt_22_sldl_prec[col].astype(int)\n",
    "    mt_22_no_splits[col] = mt_22_no_splits[col].astype(int)\n",
    "\n",
    "for col in cong_columns:\n",
    "    mt_22_cong_prec[col] = mt_22_cong_prec[col].astype(int)\n",
    "    mt_22_no_splits[col] = mt_22_no_splits[col].astype(int)\n"
   ]
  },
  {
   "cell_type": "code",
   "execution_count": null,
   "id": "97950497",
   "metadata": {},
   "outputs": [],
   "source": [
    "mt_22_st_sldu_prec = mt_22_st_sldu_prec[[\"UNIQUE_ID\",'COUNTYFP','COUNTYNM','PRECINCT','PrecinctNa','POLLINGPLA',\"SLDU_DIST\"] + other_columns + ['geometry']]\n",
    "mt_22_sldl_prec = mt_22_sldl_prec[[\"UNIQUE_ID\",'COUNTYFP','COUNTYNM','PRECINCT','PrecinctNa','POLLINGPLA',\"SLDL_DIST\"] + sldl_columns + ['geometry']]\n",
    "mt_22_cong_prec = mt_22_cong_prec[[\"UNIQUE_ID\",'COUNTYFP','COUNTYNM','PRECINCT','PrecinctNa','POLLINGPLA',\"CONG_DIST\"] + cong_columns + ['geometry']] \n",
    "mt_22_no_splits = mt_22_no_splits[[\"UNIQUE_ID\",'COUNTYFP','COUNTYNM','PRECINCT','PrecinctNa','POLLINGPLA']+ [i for i in joined_pber.columns if i[0]==\"G\"] + ['geometry']]"
   ]
  },
  {
   "cell_type": "code",
   "execution_count": null,
   "id": "69dc9b85",
   "metadata": {},
   "outputs": [],
   "source": [
    "# Rename PrecinctNa column\n",
    "mt_22_st_sldu_prec.rename(columns = {\"PrecinctNa\":\"PREC_NAME\"}, inplace = True)\n",
    "mt_22_sldl_prec.rename(columns = {\"PrecinctNa\":\"PREC_NAME\"}, inplace = True)\n",
    "mt_22_cong_prec.rename(columns = {\"PrecinctNa\":\"PREC_NAME\"}, inplace = True)\n",
    "mt_22_no_splits.rename(columns = {\"PrecinctNa\":\"PREC_NAME\"}, inplace = True)"
   ]
  },
  {
   "cell_type": "code",
   "execution_count": null,
   "id": "5d2808d6",
   "metadata": {},
   "outputs": [],
   "source": [
    "# Clean COUNTYFP column\n",
    "mt_22_st_sldu_prec[\"COUNTYFP\"] = mt_22_st_sldu_prec[\"COUNTYFP\"].astype(int).astype(str).str.zfill(3)\n",
    "mt_22_sldl_prec[\"COUNTYFP\"] = mt_22_sldl_prec[\"COUNTYFP\"].astype(int).astype(str).str.zfill(3)\n",
    "mt_22_cong_prec[\"COUNTYFP\"] = mt_22_cong_prec[\"COUNTYFP\"].astype(int).astype(str).str.zfill(3)\n",
    "mt_22_no_splits[\"COUNTYFP\"] = mt_22_no_splits[\"COUNTYFP\"].astype(int).astype(str).str.zfill(3)"
   ]
  },
  {
   "cell_type": "code",
   "execution_count": null,
   "id": "8966ec94",
   "metadata": {},
   "outputs": [],
   "source": [
    "mt_22_st_sldu_prec.to_file(\"./mt_gen_2022_prec/mt_22_st_sldu_prec/mt_22_st_sldu_prec.shp\")\n",
    "mt_22_sldl_prec.to_file(\"./mt_gen_2022_prec/mt_22_sldl_prec/mt_22_sldl_prec.shp\")\n",
    "mt_22_cong_prec.to_file(\"./mt_gen_2022_prec/mt_22_cong_prec/mt_22_cong_prec.shp\")\n",
    "mt_22_no_splits.to_file(\"./mt_gen_2022_prec/mt_22_no_splits_prec/mt_22_no_splits_prec.shp\")"
   ]
  },
  {
   "cell_type": "markdown",
   "id": "8b9bf0c8",
   "metadata": {},
   "source": [
    "# Random Code For Making README"
   ]
  },
  {
   "cell_type": "code",
   "execution_count": null,
   "id": "8f544a79",
   "metadata": {},
   "outputs": [],
   "source": [
    "mt_code = '''G22A48NO     NO   CONSTITUTIONAL AMENDMENT NO. 48                                    \n",
    "G22A48YES    YES   CONSTITUTIONAL AMENDMENT NO. 48                                   \n",
    "GPSC1RPIN    RANDY PINOCCI  REPUBLICAN   PUBLIC SERVICE COMMISSIONER DISTRICT 1      \n",
    "GPSC5DREP    JOHN REPKE  DEMOCRAT   PUBLIC SERVICE COMMISSIONER DISTRICT 5           \n",
    "GPSC5RBUK    ANN BUKACEK  REPUBLICAN   PUBLIC SERVICE COMMISSIONER DISTRICT 5        \n",
    "GREF131NO    NO   LEGISLATIVE REFERENDUM NO. 131                                     \n",
    "GREF131YES   YES   LEGISLATIVE REFERENDUM NO. 131                                    \n",
    "G22SSC1DAL   BILL DALTON  NON-PARTISAN   SUPREME COURT JUSTICE #1                    \n",
    "G22SSC1RIC   JIM RICE  NON-PARTISAN   SUPREME COURT JUSTICE #1                       \n",
    "G22SSC2BRO   JAMES BROWN  NON-PARTISAN   SUPREME COURT JUSTICE #2                    \n",
    "G22SSC2GUS   INGRID GUSTAFSON  NON-PARTISAN   SUPREME COURT JUSTICE #2               \n",
    "GCON1DTRA    MONICA TRANEL  DEMOCRAT   UNITED STATES REPRESENTATIVE 1ST DISTRICT     \n",
    "GCON1LLAM    JOHN LAMB  LIBERTARIAN   UNITED STATES REPRESENTATIVE 1ST DISTRICT      \n",
    "GCON1RZIN    RYAN K ZINKE  REPUBLICAN   UNITED STATES REPRESENTATIVE 1ST DISTRICT    \n",
    "GCON2DRON    PENNY RONNING  DEMOCRAT   UNITED STATES REPRESENTATIVE 2ND DISTRICT     \n",
    "GCON2IBUC    GARY BUCHANAN  INDEPENDENT   UNITED STATES REPRESENTATIVE 2ND DISTRICT  \n",
    "GCON2LRAN    SAM RANKIN  LIBERTARIAN   UNITED STATES REPRESENTATIVE 2ND DISTRICT     \n",
    "GCON2RROS    MATT ROSENDALE  REPUBLICAN   UNITED STATES REPRESENTATIVE 2ND DISTRICT  \n",
    "GSL001RGUN   STEVE GUNDERSON  REPUBLICAN   STATE REPRESENTATIVE DISTRICT 1           \n",
    "GSL002RDUR   NEIL A. DURAM  REPUBLICAN   STATE REPRESENTATIVE DISTRICT 2             \n",
    "GSL003DGET   ANDREA GETTS  DEMOCRAT   STATE REPRESENTATIVE DISTRICT 3                \n",
    "GSL003RMIT   BRAXTON MITCHELL  REPUBLICAN   STATE REPRESENTATIVE DISTRICT 3          \n",
    "GSL004DPIN   KIMBERLY PINTER  DEMOCRAT   STATE REPRESENTATIVE DISTRICT 4             \n",
    "GSL004RREG   MATT REGIER  REPUBLICAN   STATE REPRESENTATIVE DISTRICT 4               \n",
    "GSL005DFER   DAVE FERN  DEMOCRAT   STATE REPRESENTATIVE DISTRICT 5                   \n",
    "GSL005RBEN   LYN BENNETT  REPUBLICAN   STATE REPRESENTATIVE DISTRICT 5               \n",
    "GSL006RREG   AMY REGIER  REPUBLICAN   STATE REPRESENTATIVE DISTRICT 6                \n",
    "GSL007DKEN   ANGELA KENNEDY  DEMOCRAT   STATE REPRESENTATIVE DISTRICT 7              \n",
    "GSL007RSPR   COURTENAY SPRUNGER  REPUBLICAN   STATE REPRESENTATIVE DISTRICT 7        \n",
    "GSL008LDAO   SID DAOUD  LIBERTARIAN   STATE REPRESENTATIVE DISTRICT 8                \n",
    "GSL008RFAL   TERRY FALK  REPUBLICAN   STATE REPRESENTATIVE DISTRICT 8                \n",
    "GSL009RBRO   TONY BROCKMAN  REPUBLICAN   STATE REPRESENTATIVE DISTRICT 9             \n",
    "GSL010RKEE   BOB KEENAN  REPUBLICAN   STATE REPRESENTATIVE DISTRICT 10               \n",
    "GSL011RSMI   TANNER J SMITH  REPUBLICAN   STATE REPRESENTATIVE DISTRICT 11           \n",
    "GSL012DLAU   STERLING JAMES LAUDON  DEMOCRAT   STATE REPRESENTATIVE DISTRICT 12      \n",
    "GSL012RREK   LINDA REKSTEN  REPUBLICAN   STATE REPRESENTATIVE DISTRICT 12            \n",
    "GSL013DHIN   COLLEEN HINDS  DEMOCRAT   STATE REPRESENTATIVE DISTRICT 13              \n",
    "GSL013RFIE   PAUL C FIELDER  REPUBLICAN   STATE REPRESENTATIVE DISTRICT 13           \n",
    "GSL014RLOG   DENLEY M LOGE  REPUBLICAN   STATE REPRESENTATIVE DISTRICT 14            \n",
    "GSL015DWEA    MARVIN R. WEATHERWAX JR  DEMOCRAT   STATE REPRESENTATIVE DISTRICT 15    \n",
    "GSL015RFOS   RALPH FOSTER  REPUBLICAN   STATE REPRESENTATIVE DISTRICT 15             \n",
    "GSL016DWOL   TYSON RUNNING WOLF  DEMOCRAT   STATE REPRESENTATIVE DISTRICT 16         \n",
    "GSL017DSPO   BARNETT G. SPORKIN-MORRISON  DEMOCRAT   STATE REPRESENTATIVE DISTRICT 17\n",
    "GSL017RFIT   ROSS H FITZGERALD  REPUBLICAN   STATE REPRESENTATIVE DISTRICT 17        \n",
    "GSL018RJON   LLEW JONES  REPUBLICAN   STATE REPRESENTATIVE DISTRICT 18               \n",
    "GSL019RMIN   RUSSEL MINER  REPUBLICAN   STATE REPRESENTATIVE DISTRICT 19             \n",
    "GSL020DRIS   SAMANTHA RISPENS  DEMOCRAT   STATE REPRESENTATIVE DISTRICT 20           \n",
    "GSL020RAND   FRED ANDERSON  REPUBLICAN   STATE REPRESENTATIVE DISTRICT 20            \n",
    "GSL021DGRA   LELA GRAHAM  DEMOCRAT   STATE REPRESENTATIVE DISTRICT 21                \n",
    "GSL021RBUT   ED BUTTREY  REPUBLICAN   STATE REPRESENTATIVE DISTRICT 21               \n",
    "GSL022DHEN   NICK R. D. HENRY  DEMOCRAT   STATE REPRESENTATIVE DISTRICT 22           \n",
    "GSL022LROS   TONY ROSALES  LIBERTARIAN   STATE REPRESENTATIVE DISTRICT 22            \n",
    "GSL022RSHE   LOLA SHELDON-GALLOWAY  REPUBLICAN   STATE REPRESENTATIVE DISTRICT 22    \n",
    "GSL023DSMI   MELISSA SMITH  DEMOCRAT   STATE REPRESENTATIVE DISTRICT 23              \n",
    "GSL023RKER   SCOT KERNS  REPUBLICAN   STATE REPRESENTATIVE DISTRICT 23               \n",
    "GSL024DBES   BARBARA BESSETTE  DEMOCRAT   STATE REPRESENTATIVE DISTRICT 24           \n",
    "GSL024RGAL   STEVEN GALLOWAY  REPUBLICAN   STATE REPRESENTATIVE DISTRICT 24          \n",
    "GSL025DKRO   JASMINE KROTKOV  DEMOCRAT   STATE REPRESENTATIVE DISTRICT 25            \n",
    "GSL025RGIS   STEVE GIST  REPUBLICAN   STATE REPRESENTATIVE DISTRICT 25               \n",
    "GSL026DROS   KARI ROSENLEAF  DEMOCRAT   STATE REPRESENTATIVE DISTRICT 26             \n",
    "GSL026RNIK   GEORGE NIKOLAKAKOS  REPUBLICAN   STATE REPRESENTATIVE DISTRICT 26       \n",
    "GSL027RKAS   JOSH KASSMIER  REPUBLICAN   STATE REPRESENTATIVE DISTRICT 27            \n",
    "GSL028DTUS   PAUL TUSS  DEMOCRAT   STATE REPRESENTATIVE DISTRICT 28                  \n",
    "GSL028RHIL   ED HILL  REPUBLICAN   STATE REPRESENTATIVE DISTRICT 28                  \n",
    "GSL029RFLA   DOUGLAS FLAMENT  REPUBLICAN   STATE REPRESENTATIVE DISTRICT 29          \n",
    "GSL030DPAL   WENDY PALMER  DEMOCRAT   STATE REPRESENTATIVE DISTRICT 30               \n",
    "GSL030RBER   JAMES H BERGSTROM  REPUBLICAN   STATE REPRESENTATIVE DISTRICT 30        \n",
    "GSL031DSMI   FRANK J. SMITH  DEMOCRAT   STATE REPRESENTATIVE DISTRICT 31             \n",
    "GSL031RGOR   ARLIE W GORDON  REPUBLICAN   STATE REPRESENTATIVE DISTRICT 31           \n",
    "GSL032DBOY   JONATHAN WINDY BOY  DEMOCRAT   STATE REPRESENTATIVE DISTRICT 32         \n",
    "GSL033DOPH   JORDAN OPHUS  DEMOCRAT   STATE REPRESENTATIVE DISTRICT 33               \n",
    "GSL033RKNU   CASEY JAMES KNUDSEN  REPUBLICAN   STATE REPRESENTATIVE DISTRICT 33      \n",
    "GSL034RKNU   RHONDA KNUDSEN  REPUBLICAN   STATE REPRESENTATIVE DISTRICT 34           \n",
    "GSL035RLER   BRANDON LER  REPUBLICAN   STATE REPRESENTATIVE DISTRICT 35              \n",
    "GSL036RPHA   BOB PHALEN  REPUBLICAN   STATE REPRESENTATIVE DISTRICT 36               \n",
    "GSL037RSCH   JERRY SCHILLINGER  REPUBLICAN   STATE REPRESENTATIVE DISTRICT 37        \n",
    "GSL038DMUG   STEVE MUGGLI  DEMOCRAT   STATE REPRESENTATIVE DISTRICT 38               \n",
    "GSL038RKME   GREG KMETZ  REPUBLICAN   STATE REPRESENTATIVE DISTRICT 38               \n",
    "GSL039RPAR   GARY PARRY  REPUBLICAN   STATE REPRESENTATIVE DISTRICT 39               \n",
    "GSL040ROBL   GREG OBLANDER  REPUBLICAN   STATE REPRESENTATIVE DISTRICT 40            \n",
    "GSL041DPEN   RYNALEA WHITEMAN PENA  DEMOCRAT   STATE REPRESENTATIVE DISTRICT 41      \n",
    "GSL041RGRE   PAUL GREEN  REPUBLICAN   STATE REPRESENTATIVE DISTRICT 41               \n",
    "GSL042DPER   SHARON STEWART PEREGOY  DEMOCRAT   STATE REPRESENTATIVE DISTRICT 42     \n",
    "GSL042RMCD   VIRGINIA MCDONALD  REPUBLICAN   STATE REPRESENTATIVE DISTRICT 42        \n",
    "GSL043RSEE   KERRI SEEKINS-CROWE  REPUBLICAN   STATE REPRESENTATIVE DISTRICT 43      \n",
    "GSL044DSMI   MELISSA SMITH  DEMOCRAT   STATE REPRESENTATIVE DISTRICT 44              \n",
    "GSL044RBRE   LARRY BREWSTER  REPUBLICAN   STATE REPRESENTATIVE DISTRICT 44           \n",
    "GSL045RZOL   KATIE ZOLNIKOV  REPUBLICAN   STATE REPRESENTATIVE DISTRICT 45           \n",
    "GSL046DWAR   TIM WARBURTON  DEMOCRAT   STATE REPRESENTATIVE DISTRICT 46              \n",
    "GSL046RMER   BILL MERCER  REPUBLICAN   STATE REPRESENTATIVE DISTRICT 46              \n",
    "GSL047DBAU   DENISE BAUM  DEMOCRAT   STATE REPRESENTATIVE DISTRICT 47                \n",
    "GSL047RMAD   THOMAS J MADIGAN  REPUBLICAN   STATE REPRESENTATIVE DISTRICT 47         \n",
    "GSL048DMER   JENNIFER MERECKI  DEMOCRAT   STATE REPRESENTATIVE DISTRICT 48           \n",
    "GSL048RETC   JODEE ETCHART  REPUBLICAN   STATE REPRESENTATIVE DISTRICT 48            \n",
    "GSL049DKER   EMMA KERR-CARPENTER  DEMOCRAT   STATE REPRESENTATIVE DISTRICT 49        \n",
    "GSL049RWYL   JEFF WYLIE  REPUBLICAN   STATE REPRESENTATIVE DISTRICT 49               \n",
    "GSL050DREA   JAMES REAVIS  DEMOCRAT   STATE REPRESENTATIVE DISTRICT 50               \n",
    "GSL050RSTR   MALLERIE C STROMSWOLD  REPUBLICAN   STATE REPRESENTATIVE DISTRICT 50    \n",
    "GSL051DBOE   CAROLE BOERNER  DEMOCRAT   STATE REPRESENTATIVE DISTRICT 51             \n",
    "GSL051RYAK   MIKE YAKAWICH  REPUBLICAN   STATE REPRESENTATIVE DISTRICT 51            \n",
    "GSL052DMAR   JENNA MARTIN  DEMOCRAT   STATE REPRESENTATIVE DISTRICT 52               \n",
    "GSL052RESS   SHERRY ESSMANN  REPUBLICAN   STATE REPRESENTATIVE DISTRICT 52           \n",
    "GSL053RNIC   NELLY NICOL  REPUBLICAN   STATE REPRESENTATIVE DISTRICT 53              \n",
    "GSL054RMOO   TERRY MOORE  REPUBLICAN   STATE REPRESENTATIVE DISTRICT 54              \n",
    "GSL055RDEM   LEE DEMING  REPUBLICAN   STATE REPRESENTATIVE DISTRICT 55               \n",
    "GSL056RVIN   SUE VINTON  REPUBLICAN   STATE REPRESENTATIVE DISTRICT 56               \n",
    "GSL057DFLA   THOMAS E FLANAGAN  DEMOCRAT   STATE REPRESENTATIVE DISTRICT 57          \n",
    "GSL057RNAV   FIONA B NAVE  REPUBLICAN   STATE REPRESENTATIVE DISTRICT 57             \n",
    "GSL058DGRE   JUDITH P GREGORY  DEMOCRAT   STATE REPRESENTATIVE DISTRICT 58           \n",
    "GSL058RBAR   BRAD BARKER  REPUBLICAN   STATE REPRESENTATIVE DISTRICT 58              \n",
    "GSL059DWEI   RUTH WEISSMAN  DEMOCRAT   STATE REPRESENTATIVE DISTRICT 59              \n",
    "GSL059RMAL   MARTY MALONE  REPUBLICAN   STATE REPRESENTATIVE DISTRICT 59             \n",
    "GSL060DBIS   LAURIE BISHOP  DEMOCRAT   STATE REPRESENTATIVE DISTRICT 60              \n",
    "GSL060RSKA   DAN SKATTUM  REPUBLICAN   STATE REPRESENTATIVE DISTRICT 60              \n",
    "GSL061DHAM   JIM HAMILTON  DEMOCRAT   STATE REPRESENTATIVE DISTRICT 61               \n",
    "GSL061GKEL   STEVE KELLY  GREEN   STATE REPRESENTATIVE DISTRICT 61                   \n",
    "GSL061RBOW   PETER BOWER  REPUBLICAN   STATE REPRESENTATIVE DISTRICT 61              \n",
    "GSL062DSTA   ED STAFMAN  DEMOCRAT   STATE REPRESENTATIVE DISTRICT 62                 \n",
    "GSL062RGRE   MARC GREENDORFER  REPUBLICAN   STATE REPRESENTATIVE DISTRICT 62         \n",
    "GSL063DBUC   ALICE BUCKLEY  DEMOCRAT   STATE REPRESENTATIVE DISTRICT 63              \n",
    "GSL063RPUR   CATHERINE PURCELL  REPUBLICAN   STATE REPRESENTATIVE DISTRICT 63        \n",
    "GSL064DGRI   ALANAH GRIFFITH  DEMOCRAT   STATE REPRESENTATIVE DISTRICT 64            \n",
    "GSL064LCAM   DOUG CAMPBELL  LIBERTARIAN   STATE REPRESENTATIVE DISTRICT 64           \n",
    "GSL064RGIL   JANE GILLETTE  REPUBLICAN   STATE REPRESENTATIVE DISTRICT 64            \n",
    "GSL065DKOR   KELLY KORTUM  DEMOCRAT   STATE REPRESENTATIVE DISTRICT 65               \n",
    "GSL065RCOC   JAMES COCCO  REPUBLICAN   STATE REPRESENTATIVE DISTRICT 65              \n",
    "GSL066DMAT   ERIC MATTHEWS  DEMOCRAT   STATE REPRESENTATIVE DISTRICT 66              \n",
    "GSL067DMAR   ELIZABETH MARUM  DEMOCRAT   STATE REPRESENTATIVE DISTRICT 67            \n",
    "GSL067RHIN   JEDEDIAH HINKLE  REPUBLICAN   STATE REPRESENTATIVE DISTRICT 67          \n",
    "GSL068DHAN   JOE HANCOCK  DEMOCRAT   STATE REPRESENTATIVE DISTRICT 68                \n",
    "GSL068RHIN   CALEB HINKLE  REPUBLICAN   STATE REPRESENTATIVE DISTRICT 68             \n",
    "GSL069DHAM   ROCKY HAMILTON  DEMOCRAT   STATE REPRESENTATIVE DISTRICT 69             \n",
    "GSL069LMOH    CARL MOHLER JR  LIBERTARIAN   STATE REPRESENTATIVE DISTRICT 69          \n",
    "GSL069RCAR   JENNIFER CARLSON  REPUBLICAN   STATE REPRESENTATIVE DISTRICT 69         \n",
    "GSL070DJAC   JON JACKSON  DEMOCRAT   STATE REPRESENTATIVE DISTRICT 70                \n",
    "GSL070RDOO   JULIE DOOLING  REPUBLICAN   STATE REPRESENTATIVE DISTRICT 70            \n",
    "GSL071RWAL   KEN WALSH  REPUBLICAN   STATE REPRESENTATIVE DISTRICT 71                \n",
    "GSL072DGIB   HOLT GIBSON  DEMOCRAT   STATE REPRESENTATIVE DISTRICT 72                \n",
    "GSL072RWEL   TOM WELCH  REPUBLICAN   STATE REPRESENTATIVE DISTRICT 72                \n",
    "GSL073DLYN   JENNIFER LYNCH  DEMOCRAT   STATE REPRESENTATIVE DISTRICT 73             \n",
    "GSL073RFRE   JASON FREEMAN  REPUBLICAN   STATE REPRESENTATIVE DISTRICT 73            \n",
    "GSL074DHAR   DEREK J HARVEY  DEMOCRAT   STATE REPRESENTATIVE DISTRICT 74             \n",
    "GSL074RKEP   JAMES W KEPHART  REPUBLICAN   STATE REPRESENTATIVE DISTRICT 74          \n",
    "GSL075RBER   MARTA BERTOGLIO  REPUBLICAN   STATE REPRESENTATIVE DISTRICT 75          \n",
    "GSL076DHAW   DONAVON HAWK  DEMOCRAT   STATE REPRESENTATIVE DISTRICT 76               \n",
    "GSL076RNOR   SUZZANN NORDWICK  REPUBLICAN   STATE REPRESENTATIVE DISTRICT 76         \n",
    "GSL077DNOV   SARA NOVAK  DEMOCRAT   STATE REPRESENTATIVE DISTRICT 77                 \n",
    "GSL077RFIT   JOHN FITZPATRICK  REPUBLICAN   STATE REPRESENTATIVE DISTRICT 77         \n",
    "GSL078RFRA   GREGORY LEE FRAZER  REPUBLICAN   STATE REPRESENTATIVE DISTRICT 78       \n",
    "GSL079DSMI   LAURA SMITH  DEMOCRAT   STATE REPRESENTATIVE DISTRICT 79                \n",
    "GSL079RPIG   KEITH PIGMAN  REPUBLICAN   STATE REPRESENTATIVE DISTRICT 79             \n",
    "GSL080RBEA   BECKY BEARD  REPUBLICAN   STATE REPRESENTATIVE DISTRICT 80              \n",
    "GSL081DROM   MELISSA ROMANO  DEMOCRAT   STATE REPRESENTATIVE DISTRICT 81             \n",
    "GSL081RSAR   JILL SARK  REPUBLICAN   STATE REPRESENTATIVE DISTRICT 81                \n",
    "GSL082DCAF   MARY CAFERRO  DEMOCRAT   STATE REPRESENTATIVE DISTRICT 82               \n",
    "GSL082RTON   ALDEN TONKAY  REPUBLICAN   STATE REPRESENTATIVE DISTRICT 82             \n",
    "GSL083DABB   KIM ABBOTT  DEMOCRAT   STATE REPRESENTATIVE DISTRICT 83                 \n",
    "GSL083RLEA   BOB LEACH  REPUBLICAN   STATE REPRESENTATIVE DISTRICT 83                \n",
    "GSL084DCOH   JILL COHENOUR  DEMOCRAT   STATE REPRESENTATIVE DISTRICT 84              \n",
    "GSL084RRUC   KAITLYN RUCH  REPUBLICAN   STATE REPRESENTATIVE DISTRICT 84             \n",
    "GSL085DSTO   ROSAN STOVER  DEMOCRAT   STATE REPRESENTATIVE DISTRICT 85               \n",
    "GSL085RBIN   MICHELE BINKLEY  REPUBLICAN   STATE REPRESENTATIVE DISTRICT 85          \n",
    "GSL086DBRO   ANNE W BROWN  DEMOCRAT   STATE REPRESENTATIVE DISTRICT 86               \n",
    "GSL086RBED   DAVID BEDEY  REPUBLICAN   STATE REPRESENTATIVE DISTRICT 86              \n",
    "GSL087IMOO   WILL LOVETT MOORE  INDEPENDENT   STATE REPRESENTATIVE DISTRICT 87       \n",
    "GSL087RMAR   RON MARSHALL  REPUBLICAN   STATE REPRESENTATIVE DISTRICT 87             \n",
    "GSL088DMOU   KO MOUA  DEMOCRAT   STATE REPRESENTATIVE DISTRICT 88                    \n",
    "GSL088RRUS   WAYNE RUSK  REPUBLICAN   STATE REPRESENTATIVE DISTRICT 88               \n",
    "GSL089DSUL   KATIE SULLIVAN  DEMOCRAT   STATE REPRESENTATIVE DISTRICT 89             \n",
    "GSL089RWAN   GARY WANBERG  REPUBLICAN   STATE REPRESENTATIVE DISTRICT 89             \n",
    "GSL090DMAR   MARILYN MARLER  DEMOCRAT   STATE REPRESENTATIVE DISTRICT 90             \n",
    "GSL090GMAR   GARY MARBUT  GREEN   STATE REPRESENTATIVE DISTRICT 90                   \n",
    "GSL090LHIN   JOSIAH HINKLE  LIBERTARIAN   STATE REPRESENTATIVE DISTRICT 90           \n",
    "GSL090RAUL   ALAN AULT  REPUBLICAN   STATE REPRESENTATIVE DISTRICT 90                \n",
    "GSL091DKEO   CONNIE KEOGH  DEMOCRAT   STATE REPRESENTATIVE DISTRICT 91               \n",
    "GSL091RWAN   BETH WANBERG  REPUBLICAN   STATE REPRESENTATIVE DISTRICT 91             \n",
    "GSL092DSTE   GARY M. STEIN  DEMOCRAT   STATE REPRESENTATIVE DISTRICT 92              \n",
    "GSL092RHOP   MIKE HOPKINS  REPUBLICAN   STATE REPRESENTATIVE DISTRICT 92             \n",
    "GSL093DAZZ   SHIRLEY AZZOPARDI  DEMOCRAT   STATE REPRESENTATIVE DISTRICT 93          \n",
    "GSL093LBRA   DEVIN J BRAATEN  LIBERTARIAN   STATE REPRESENTATIVE DISTRICT 93         \n",
    "GSL093RREA   JOE READ  REPUBLICAN   STATE REPRESENTATIVE DISTRICT 93                 \n",
    "GSL094DFRA   TOM FRANCE  DEMOCRAT   STATE REPRESENTATIVE DISTRICT 94                 \n",
    "GSL094RMAP   REBECCA MAPSTON  REPUBLICAN   STATE REPRESENTATIVE DISTRICT 94          \n",
    "GSL095DHOW   SJ HOWELL  DEMOCRAT   STATE REPRESENTATIVE DISTRICT 95                  \n",
    "GSL095LWIN   J.C. WINDMUELLER  LIBERTARIAN   STATE REPRESENTATIVE DISTRICT 95        \n",
    "GSL095RSUB   LAUREN SUBITH  REPUBLICAN   STATE REPRESENTATIVE DISTRICT 95            \n",
    "GSL096DKAR   JONATHAN KARLEN  DEMOCRAT   STATE REPRESENTATIVE DISTRICT 96            \n",
    "GSL096RWHI   KATHY WHITMAN  REPUBLICAN   STATE REPRESENTATIVE DISTRICT 96            \n",
    "GSL097DJAC   DEVIN JACKSON  DEMOCRAT   STATE REPRESENTATIVE DISTRICT 97              \n",
    "GSL097RHEL   LYN HELLEGAARD  REPUBLICAN   STATE REPRESENTATIVE DISTRICT 97           \n",
    "GSL098DCAR   BOB CARTER  DEMOCRAT   STATE REPRESENTATIVE DISTRICT 98                 \n",
    "GSL098LARM   RICHARD L ARMERDING  LIBERTARIAN   STATE REPRESENTATIVE DISTRICT 98     \n",
    "GSL098RSHE   SONIA SHEARER-HIETT  REPUBLICAN   STATE REPRESENTATIVE DISTRICT 98      \n",
    "GSL099DTHA   MARK THANE  DEMOCRAT   STATE REPRESENTATIVE DISTRICT 99                 \n",
    "GSL099RDAR   RYAN DARLING  REPUBLICAN   STATE REPRESENTATIVE DISTRICT 99             \n",
    "GSL100DZEP   ZOOEY ZEPHYR  DEMOCRAT   STATE REPRESENTATIVE DISTRICT 100              \n",
    "GSL100LVAN   MICHAEL VANECEK  LIBERTARIAN   STATE REPRESENTATIVE DISTRICT 100        \n",
    "GSL100RMCC   SEAN PATRICK MCCOY  REPUBLICAN   STATE REPRESENTATIVE DISTRICT 100      \n",
    "GSU01RCUF    MICHAEL J CUFFE  REPUBLICAN   STATE SENATOR DISTRICT 1                  \n",
    "GSU04DWAT    KYLE WATERMAN  DEMOCRAT   STATE SENATOR DISTRICT 4                      \n",
    "GSU04RFUL    JOHN FULLER  REPUBLICAN   STATE SENATOR DISTRICT 4                      \n",
    "GSU05RNOL    MARK NOLAND  REPUBLICAN   STATE SENATOR DISTRICT 5                      \n",
    "GSU08DWEB    SUSAN A WEBBER  DEMOCRAT   STATE SENATOR DISTRICT 8                     \n",
    "GSU08RJEN    RICK JENNISON  REPUBLICAN   STATE SENATOR DISTRICT 8                    \n",
    "GSU09RGIL    BRUCE \"BUTCH\" GILLESPIE  REPUBLICAN   STATE SENATOR DISTRICT 9          \n",
    "GSU11DJAC    TOM JACOBSON  DEMOCRAT   STATE SENATOR DISTRICT 11                      \n",
    "GSU11REMR    DANIEL EMRICH  REPUBLICAN   STATE SENATOR DISTRICT 11                   \n",
    "GSU12DBAC    JACOB BACHMEIER  DEMOCRAT   STATE SENATOR DISTRICT 12                   \n",
    "GSU12RMCK    WENDY MCKAMEY  REPUBLICAN   STATE SENATOR DISTRICT 12                   \n",
    "GSU13DSCH    CASEY SCHREINER  DEMOCRAT   STATE SENATOR DISTRICT 13                   \n",
    "GSU13RTRE    JEREMY TREBAS  REPUBLICAN   STATE SENATOR DISTRICT 13                   \n",
    "GSU14DBRE    DAVID H BREWER  DEMOCRAT   STATE SENATOR DISTRICT 14                    \n",
    "GSU14RTEM    RUSSEL E TEMPEL  REPUBLICAN   STATE SENATOR DISTRICT 14                 \n",
    "GSU15DPAL    CINDY PALMER  DEMOCRAT   STATE SENATOR DISTRICT 15 UNEXPIRED TERM       \n",
    "GSU15RBAR    DAN BARTEL  REPUBLICAN   STATE SENATOR DISTRICT 15 UNEXPIRED TERM       \n",
    "GSU19RBOG    KENNETH BOGNER  REPUBLICAN   STATE SENATOR DISTRICT 19                  \n",
    "GSU20RUSH    BARRY USHER  REPUBLICAN   STATE SENATOR DISTRICT 20                     \n",
    "GSU22DDEN    TERRY DENNIS  DEMOCRAT   STATE SENATOR DISTRICT 22                      \n",
    "GSU22RZOL    DANIEL ZOLNIKOV  REPUBLICAN   STATE SENATOR DISTRICT 22                 \n",
    "GSU24DKEL    KATHY KELKER  DEMOCRAT   STATE SENATOR DISTRICT 24                      \n",
    "GSU24RTID    ELIJAH TIDSWELL  REPUBLICAN   STATE SENATOR DISTRICT 24                 \n",
    "GSU27RLEN    DENNIS LENZ  REPUBLICAN   STATE SENATOR DISTRICT 27                     \n",
    "GSU29RMAN    FORREST JAMES MANDEVILLE  REPUBLICAN   STATE SENATOR DISTRICT 29        \n",
    "GSU30DISA    JAMIE L ISALY  DEMOCRAT   STATE SENATOR DISTRICT 30                     \n",
    "GSU30RESP    JOHN ESP  REPUBLICAN   STATE SENATOR DISTRICT 30                        \n",
    "GSU32DFLO    PAT FLOWERS  DEMOCRAT   STATE SENATOR DISTRICT 32                       \n",
    "GSU32RCHA    RANDY CHAMBERLIN  REPUBLICAN   STATE SENATOR DISTRICT 32                \n",
    "GSU33DHAY    DENISE HAYMAN  DEMOCRAT   STATE SENATOR DISTRICT 33                     \n",
    "GSU33RDEW    ADAM DEWIS  REPUBLICAN   STATE SENATOR DISTRICT 33                      \n",
    "GSU34DLYN    DAMION LYNN  DEMOCRAT   STATE SENATOR DISTRICT 34                       \n",
    "GSU34RVAN    SHELLEY VANCE  REPUBLICAN   STATE SENATOR DISTRICT 34                   \n",
    "GSU39DMUL    JESSE JAMES MULLEN  DEMOCRAT   STATE SENATOR DISTRICT 39 UNEXPIRED TERM \n",
    "GSU39RVER    TERRY VERMEIRE  REPUBLICAN   STATE SENATOR DISTRICT 39 UNEXPIRED TERM   \n",
    "GSU41DELL    JANET ELLIS  DEMOCRAT   STATE SENATOR DISTRICT 41                       \n",
    "GSU41RGAL    DAVE GALT  REPUBLICAN   STATE SENATOR DISTRICT 41                       \n",
    "GSU42DDUN    MARY ANN DUNWELL  DEMOCRAT   STATE SENATOR DISTRICT 42                  \n",
    "GSU42ROLS    MATT OLSON  REPUBLICAN   STATE SENATOR DISTRICT 42                      \n",
    "GSU43DSCH    JOHN F SCHNEEBERGER  DEMOCRAT   STATE SENATOR DISTRICT 43               \n",
    "GSU43RELL    JASON W ELLSWORTH  REPUBLICAN   STATE SENATOR DISTRICT 43               \n",
    "GSU48DMOR    SHANE A. MORIGEAU  DEMOCRAT   STATE SENATOR DISTRICT 48                 \n",
    "GSU48RHOR    JACOB VAN HORN  REPUBLICAN   STATE SENATOR DISTRICT 48                  \n",
    "GSU49DCUR    WILLIS CURDY  DEMOCRAT   STATE SENATOR DISTRICT 49                      \n",
    "GSU49RTSC    BRAD TSCHIDA  REPUBLICAN   STATE SENATOR DISTRICT 49                    \n",
    "GSU50DOLS    ANDREA OLSEN  DEMOCRAT   STATE SENATOR DISTRICT 50                      \n",
    "GSU50RKNO    NICK KNOWLES  REPUBLICAN   STATE SENATOR DISTRICT 50'''"
   ]
  },
  {
   "cell_type": "code",
   "execution_count": null,
   "id": "98bdcdec",
   "metadata": {},
   "outputs": [],
   "source": [
    "rename_dict = {}\n",
    "for val in mt_code.split(\"\\n\"):\n",
    "    ind = val.find(\" \")\n",
    "    first = val[:ind].strip()\n",
    "    second = val[ind+1:].strip().title()\n",
    "    second = second.replace(\"   \", \" - \")\n",
    "    second = second.replace(\"  \", \" - \")\n",
    "    rename_dict[first] = second"
   ]
  },
  {
   "cell_type": "code",
   "execution_count": null,
   "id": "6cd1aad7",
   "metadata": {},
   "outputs": [],
   "source": [
    "pd.DataFrame(rename_dict.items()).to_csv(\"./field_names.csv\", index = False)"
   ]
  }
 ],
 "metadata": {
  "kernelspec": {
   "display_name": "Python 3 (ipykernel)",
   "language": "python",
   "name": "python3"
  },
  "language_info": {
   "codemirror_mode": {
    "name": "ipython",
    "version": 3
   },
   "file_extension": ".py",
   "mimetype": "text/x-python",
   "name": "python",
   "nbconvert_exporter": "python",
   "pygments_lexer": "ipython3",
   "version": "3.8.13"
  }
 },
 "nbformat": 4,
 "nbformat_minor": 5
}
