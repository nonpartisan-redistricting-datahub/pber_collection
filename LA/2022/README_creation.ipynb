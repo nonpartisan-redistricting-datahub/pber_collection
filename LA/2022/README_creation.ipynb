{
 "cells": [
  {
   "cell_type": "code",
   "execution_count": 1,
   "id": "1abe3513",
   "metadata": {},
   "outputs": [],
   "source": [
    "import pandas as pd\n",
    "import os"
   ]
  },
  {
   "cell_type": "code",
   "execution_count": 2,
   "id": "b768b0cf",
   "metadata": {},
   "outputs": [],
   "source": [
    "la_file = pd.read_csv(\"./la_2022_gen_prec/la_2022_gen_prec.csv\")\n",
    "la_names = pd.read_csv(\"./field_names.csv\")\n",
    "la_names[\"Clean\"] = la_names[\"0\"].apply(lambda x: x.split(\" (\")[0])"
   ]
  },
  {
   "cell_type": "code",
   "execution_count": 3,
   "id": "a2aacf85",
   "metadata": {},
   "outputs": [],
   "source": [
    "fields_dict = dict(zip(la_names[\"1\"], la_names[\"Clean\"]))\n",
    "myKeys = list(fields_dict.keys())\n",
    "myKeys.sort()\n",
    "fields_dict = {i: fields_dict[i] for i in myKeys}"
   ]
  },
  {
   "cell_type": "code",
   "execution_count": 4,
   "id": "c9cf6c1a",
   "metadata": {},
   "outputs": [
    {
     "data": {
      "text/plain": [
       "{'G22A1NO': 'NO-:-CA No. 1',\n",
       " 'G22A1YES': 'YES-:-CA No. 1',\n",
       " 'G22A2NO': 'NO-:-CA No. 2',\n",
       " 'G22A2YES': 'YES-:-CA No. 2',\n",
       " 'G22A3NO': 'NO-:-CA No. 3',\n",
       " 'G22A3YES': 'YES-:-CA No. 3',\n",
       " 'G22A4NO': 'NO-:-CA No. 4',\n",
       " 'G22A4YES': 'YES-:-CA No. 4',\n",
       " 'G22A5NO': 'NO-:-CA No. 5',\n",
       " 'G22A5YES': 'YES-:-CA No. 5',\n",
       " 'G22A6NO': 'NO-:-CA No. 6',\n",
       " 'G22A6YES': 'YES-:-CA No. 6',\n",
       " 'G22A7NO': 'NO-:-CA No. 7',\n",
       " 'G22A7YES': 'YES-:-CA No. 7',\n",
       " 'G22A8NO': 'NO-:-CA No. 8',\n",
       " 'G22A8YES': 'YES-:-CA No. 8',\n",
       " 'G22USSDCHA': 'Gary Chambers, Jr.',\n",
       " 'G22USSDMEN': 'MV \"Vinny\" Mendoza',\n",
       " 'G22USSDMIX': '\"Luke\" Mixon',\n",
       " 'G22USSDROD': 'Salvador P. Rodriguez',\n",
       " 'G22USSDSTE': 'Syrita Steib',\n",
       " 'G22USSIMCM': 'Bradley McMorris',\n",
       " 'G22USSLSIG': 'Aaron C. Sigler',\n",
       " 'G22USSNBIL': 'Beryl A. Billiot',\n",
       " 'G22USSNOLS': 'W. Thomas La Fontaine Olson',\n",
       " 'G22USSOJOH': '\"Xan\" John',\n",
       " 'G22USSOWEN': 'Thomas Wenn',\n",
       " 'G22USSRGRA': 'Devin Lance Graham',\n",
       " 'G22USSRKEN': 'John Kennedy',\n",
       " 'GCON01DDAR': 'Katie Darling',\n",
       " 'GCON01LKEA': 'Howard Kearney',\n",
       " 'GCON01RSCA': 'Steve Scalise',\n",
       " 'GCON02DCAR': 'Troy A. Carter',\n",
       " 'GCON02RLUX': '\"Dan\" Lux',\n",
       " 'GCON03DLEB': 'Tia LeBrun',\n",
       " 'GCON03DOLI': 'Lessie OliviaLeblanc',\n",
       " 'GCON03IWIG': 'Gloria R. Wiggins',\n",
       " 'GCON03LMCL': 'Guy McLendon',\n",
       " 'GCON03RHIG': 'Clay Higgins',\n",
       " 'GCON03RHOG': 'Holden Hoggatt',\n",
       " 'GCON03RPAY': 'Thomas \"Lane\" Payne, Jr.',\n",
       " 'GCON03RSHA': 'Jacob \"Jake\" Shaheen',\n",
       " 'GCON05DDAN': 'Oscar \"Omar\" Dantzler',\n",
       " 'GCON05DHUF': 'Walter Earl Huff',\n",
       " 'GCON05RGUI': 'Allen Guillory',\n",
       " 'GCON05RLET': 'Julia Letlow',\n",
       " 'GCON05RPUL': 'Hunter Pullen',\n",
       " 'GCON06LCRA': 'Rufus Holt Craig, Jr.',\n",
       " 'GCON06RBEL': 'Brian Belzer',\n",
       " 'GCON06RGRA': 'Garret Graves',\n",
       " 'GSU05DDUP': 'Royce Duplessis',\n",
       " 'GSU05DLAN': 'Mandie Landry',\n",
       " 'GSU17DLAC': 'Jeremy S. LaCombe',\n",
       " 'GSU17RKLE': 'Caleb Seth Kleinpeter',\n",
       " 'GSU17RROU': 'Kirk Rousset'}"
      ]
     },
     "execution_count": 4,
     "metadata": {},
     "output_type": "execute_result"
    }
   ],
   "source": [
    "fields_dict"
   ]
  },
  {
   "cell_type": "code",
   "execution_count": 5,
   "id": "7740e11f",
   "metadata": {},
   "outputs": [],
   "source": [
    "### Create README\n",
    "\n",
    "fields_dict['UNIQUE_ID']='Unique ID for each precinct'\n",
    "fields_dict['COUNTYFP']='County FIP identifier'\n",
    "fields_dict['Parish']='Parish Name'\n",
    "fields_dict['Precinct']='Precinct Name'\n",
    "\n",
    "title = \"Louisiana 2022 General Election Precinct-Level Results\"\n",
    "retrieval_date = \"02/01/23\"\n",
    "fields_dict = fields_dict\n",
    "github_link = \"UPDATE LINK\"\n",
    "file_folder = \"./la_2022_gen_prec/\"\n",
    "source = \"Louisiana Secretary of State\""
   ]
  },
  {
   "cell_type": "code",
   "execution_count": null,
   "id": "c6d38d77",
   "metadata": {},
   "outputs": [],
   "source": []
  },
  {
   "cell_type": "code",
   "execution_count": 6,
   "id": "717472fe",
   "metadata": {},
   "outputs": [],
   "source": [
    "def full_readme_text(title, retrieval_date, source, fields_dict, github_link):\n",
    "\n",
    "#First section of README\n",
    "    readme_p1 = '''{title}\\n\n",
    "## RDH Date Retrieval\n",
    "{retrieval_date}\n",
    "\n",
    "## Sources\n",
    "{source}\n",
    "\n",
    "## Fields:\n",
    "'''.format(title = title, source = source, retrieval_date = retrieval_date)\n",
    "\n",
    "#Second section of README\n",
    "    fields_table = pd.DataFrame.from_dict(fields_dict.items())\n",
    "    fields_table.columns = [\"Field Name\", \"Description\"]\n",
    "    readme_p2 = fields_table.to_string(formatters={'Description':'{{:<{}s}}'.format(fields_table['Description'].str.len().max()).format, 'Field Name':'{{:<{}s}}'.format(fields_table['Field Name'].str.len().max()).format}, index=False, justify = \"left\")\n",
    "\n",
    "#Third section of README\n",
    "    readme_p3 = '''\\n\n",
    "## Processing Steps\n",
    "Visit the RDH GitHub and the processing script for this code [here]({github_link})\n",
    "\n",
    "Please direct questions related to processing this dataset to info@redistrictingdatahub.org.\n",
    "'''.format(github_link=github_link)\n",
    "    \n",
    "    full_readme = str(readme_p1)+str(readme_p2)+str(readme_p3)\n",
    "    return full_readme\n",
    "\n"
   ]
  },
  {
   "cell_type": "code",
   "execution_count": 7,
   "id": "a94a25a5",
   "metadata": {},
   "outputs": [],
   "source": [
    "if not os.path.exists(file_folder):\n",
    "    os.mkdir(file_folder)\n",
    "\n",
    "with open(file_folder+\"README_copy.txt\", 'w') as tf:\n",
    "        tf.write(full_readme_text(title, retrieval_date, source, fields_dict, github_link))"
   ]
  },
  {
   "cell_type": "code",
   "execution_count": null,
   "id": "f954c7ec",
   "metadata": {},
   "outputs": [],
   "source": []
  }
 ],
 "metadata": {
  "kernelspec": {
   "display_name": "Python 3 (ipykernel)",
   "language": "python",
   "name": "python3"
  },
  "language_info": {
   "codemirror_mode": {
    "name": "ipython",
    "version": 3
   },
   "file_extension": ".py",
   "mimetype": "text/x-python",
   "name": "python",
   "nbconvert_exporter": "python",
   "pygments_lexer": "ipython3",
   "version": "3.8.13"
  }
 },
 "nbformat": 4,
 "nbformat_minor": 5
}
