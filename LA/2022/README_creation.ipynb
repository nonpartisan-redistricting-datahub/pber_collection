{
 "cells": [
  {
   "cell_type": "code",
   "execution_count": 1,
   "id": "1abe3513",
   "metadata": {},
   "outputs": [],
   "source": [
    "import pandas as pd\n",
    "import os"
   ]
  },
  {
   "cell_type": "markdown",
   "id": "773524e6",
   "metadata": {},
   "source": [
    "# Election Results README"
   ]
  },
  {
   "cell_type": "code",
   "execution_count": 2,
   "id": "b768b0cf",
   "metadata": {},
   "outputs": [],
   "source": [
    "la_file = pd.read_csv(\"./la_2022_gen_prec/la_2022_gen_prec.csv\")\n",
    "la_names = pd.read_csv(\"./field_names.csv\")\n",
    "la_names[\"Clean\"] = la_names[\"0\"].apply(lambda x: x.split(\" (\")[0])"
   ]
  },
  {
   "cell_type": "code",
   "execution_count": 3,
   "id": "a2aacf85",
   "metadata": {},
   "outputs": [],
   "source": [
    "fields_dict = dict(zip(la_names[\"1\"], la_names[\"Clean\"]))\n",
    "myKeys = list(fields_dict.keys())\n",
    "myKeys.sort()\n",
    "fields_dict = {i: fields_dict[i] for i in myKeys}"
   ]
  },
  {
   "cell_type": "code",
   "execution_count": 4,
   "id": "7740e11f",
   "metadata": {},
   "outputs": [],
   "source": [
    "### Create README\n",
    "\n",
    "fields_dict['UNIQUE_ID']='Unique ID for each precinct'\n",
    "fields_dict['COUNTYFP']='County FIP identifier'\n",
    "fields_dict['Parish']='Parish Name'\n",
    "fields_dict['Precinct']='Precinct Name'\n",
    "\n",
    "title = \"Louisiana 2022 General Election Precinct-Level Results\"\n",
    "retrieval_date = \"02/01/23\"\n",
    "fields_dict = fields_dict\n",
    "github_link = \"UPDATE LINK\"\n",
    "file_folder = \"./la_2022_gen_prec/\"\n",
    "source = \"Louisiana Secretary of State\""
   ]
  },
  {
   "cell_type": "code",
   "execution_count": null,
   "id": "c6d38d77",
   "metadata": {},
   "outputs": [],
   "source": []
  },
  {
   "cell_type": "code",
   "execution_count": 5,
   "id": "717472fe",
   "metadata": {},
   "outputs": [],
   "source": [
    "def full_readme_text(title, retrieval_date, source, fields_dict, github_link):\n",
    "\n",
    "#First section of README\n",
    "    readme_p1 = '''{title}\\n\n",
    "## RDH Date Retrieval\n",
    "{retrieval_date}\n",
    "\n",
    "## Sources\n",
    "{source}\n",
    "\n",
    "## Fields:\n",
    "'''.format(title = title, source = source, retrieval_date = retrieval_date)\n",
    "\n",
    "#Second section of README\n",
    "    fields_table = pd.DataFrame.from_dict(fields_dict.items())\n",
    "    fields_table.columns = [\"Field Name\", \"Description\"]\n",
    "    readme_p2 = fields_table.to_string(formatters={'Description':'{{:<{}s}}'.format(fields_table['Description'].str.len().max()).format, 'Field Name':'{{:<{}s}}'.format(fields_table['Field Name'].str.len().max()).format}, index=False, justify = \"left\")\n",
    "\n",
    "#Third section of README\n",
    "    readme_p3 = '''\\n\n",
    "## Processing Steps\n",
    "Visit the RDH GitHub and the processing script for this code [here]({github_link})\n",
    "\n",
    "Please direct questions related to processing this dataset to info@redistrictingdatahub.org.\n",
    "'''.format(github_link=github_link)\n",
    "    \n",
    "    full_readme = str(readme_p1)+str(readme_p2)+str(readme_p3)\n",
    "    return full_readme\n",
    "\n"
   ]
  },
  {
   "cell_type": "code",
   "execution_count": 6,
   "id": "a94a25a5",
   "metadata": {},
   "outputs": [],
   "source": [
    "if not os.path.exists(file_folder):\n",
    "    os.mkdir(file_folder)\n",
    "\n",
    "with open(file_folder+\"README_copy.txt\", 'w') as tf:\n",
    "        tf.write(full_readme_text(title, retrieval_date, source, fields_dict, github_link))"
   ]
  },
  {
   "cell_type": "markdown",
   "id": "c231ef64",
   "metadata": {},
   "source": [
    "# Precinct Boundaries and Election Results README"
   ]
  },
  {
   "cell_type": "code",
   "execution_count": 7,
   "id": "bdd54f33",
   "metadata": {},
   "outputs": [],
   "source": [
    "### Create README\n",
    "\n",
    "fields_dict['CONG_DIST']='Congressional District'\n",
    "fields_dict['SLDU_DIST']='State Senate District (pre-redistricting)'\n",
    "\n",
    "title = \"Louisiana 2022 General Election Precinct Boundaries and Election Results\"\n",
    "retrieval_date = \"02/01/23\"\n",
    "fields_dict = fields_dict\n",
    "github_link = \"UPDATE LINK\"\n",
    "file_folder = \"./la_gen_2022_prec/\"\n",
    "source = \"Louisiana Secretary of State\""
   ]
  },
  {
   "cell_type": "code",
   "execution_count": 8,
   "id": "f270f445",
   "metadata": {},
   "outputs": [],
   "source": [
    "if not os.path.exists(file_folder):\n",
    "    os.mkdir(file_folder)\n",
    "\n",
    "with open(file_folder+\"README_copy.txt\", 'w') as tf:\n",
    "        tf.write(full_readme_text(title, retrieval_date, source, fields_dict, github_link))"
   ]
  },
  {
   "cell_type": "code",
   "execution_count": null,
   "id": "7d49c036",
   "metadata": {},
   "outputs": [],
   "source": []
  }
 ],
 "metadata": {
  "kernelspec": {
   "display_name": "Python 3 (ipykernel)",
   "language": "python",
   "name": "python3"
  },
  "language_info": {
   "codemirror_mode": {
    "name": "ipython",
    "version": 3
   },
   "file_extension": ".py",
   "mimetype": "text/x-python",
   "name": "python",
   "nbconvert_exporter": "python",
   "pygments_lexer": "ipython3",
   "version": "3.8.13"
  }
 },
 "nbformat": 4,
 "nbformat_minor": 5
}
