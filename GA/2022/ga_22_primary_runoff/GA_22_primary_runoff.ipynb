{
 "cells": [
  {
   "cell_type": "markdown",
   "id": "8f3ee736",
   "metadata": {},
   "source": [
    "### Georgia 2022 Primary Runoff Election Returns\n",
    "\n",
    "#### Sections\n",
    "- <a href=\"#ETL\">Cleaning Precinct-Level Election Results</a><br>\n",
    "- <a href=\"#check\">Vote Totals Checks</a><br>\n",
    "- <a href=\"#readme\">Creating README</a><br>\n",
    "- <a href=\"#exp\">Exporting Cleaned Precinct-Level Dataset</a><br>\n",
    "\n",
    "\n",
    "#### Sources\n",
    "Precint-level data from [Georgia Secretary of State Certified Results by County - XML format](https://results.enr.clarityelections.com/GA/114891/web.285569/#/reporting).\n",
    "\n",
    "Statewide county-level data to run checks from [Georgia Secretary of State Statewide Summary Report - CSV format](https://results.enr.clarityelections.com//GA//114891/300218/reports/summary.zip)\n",
    "    \n",
    "County-level data to run checks from [Georgia Secretary of State County Summary Report - XML format](https://results.enr.clarityelections.com//GA//114891/300218/reports/detailxml.zip)"
   ]
  },
  {
   "cell_type": "code",
   "execution_count": 1,
   "id": "85b7e56e",
   "metadata": {},
   "outputs": [],
   "source": [
    "import geopandas as gp\n",
    "import pandas as pd\n",
    "import os\n",
    "import xml.etree.ElementTree as et\n",
    "import numpy as np\n",
    "import re\n",
    "import GA22_primaryrunoff_helper as hlp\n",
    "pd.set_option('display.max_rows', None)"
   ]
  },
  {
   "cell_type": "markdown",
   "id": "0f9bfcb3",
   "metadata": {},
   "source": [
    "<p><a name=\"ETL\"></a></p>\n",
    "\n",
    "### Cleaning Precint Level Election Results"
   ]
  },
  {
   "cell_type": "code",
   "execution_count": 2,
   "id": "c5e2910f",
   "metadata": {},
   "outputs": [],
   "source": [
    "# Read in precint level election results\n",
    "df_primary_runoff = hlp.ph_clarityelec_xml(\"./raw-from-source/counties/\", 'primary runoff')"
   ]
  },
  {
   "cell_type": "code",
   "execution_count": 3,
   "id": "5321e58b",
   "metadata": {},
   "outputs": [
    {
     "name": "stdout",
     "output_type": "stream",
     "text": [
      "True\n"
     ]
    }
   ],
   "source": [
    "#concatenate df, make sure all counties are read in\n",
    "ga_22_primary_runoff = pd.concat([df_primary_runoff])\n",
    "print(len(ga_22_primary_runoff[\"county\"].unique()) == 159) #159 counties in GA"
   ]
  },
  {
   "cell_type": "code",
   "execution_count": 4,
   "id": "448996c5",
   "metadata": {},
   "outputs": [
    {
     "data": {
      "text/plain": [
       "dtype('int32')"
      ]
     },
     "execution_count": 4,
     "metadata": {},
     "output_type": "execute_result"
    }
   ],
   "source": [
    "#Check df dtypes, set vote column type to int\n",
    "# ga_22_primary.info()\n",
    "ga_22_primary_runoff.num_votes = ga_22_primary_runoff.num_votes.astype(int)\n",
    "ga_22_primary_runoff.num_votes.dtype"
   ]
  },
  {
   "cell_type": "markdown",
   "id": "809cf12f",
   "metadata": {},
   "source": [
    "#### Subset dataframe by contests with statewide reach"
   ]
  },
  {
   "cell_type": "code",
   "execution_count": 5,
   "id": "ab930004",
   "metadata": {},
   "outputs": [],
   "source": [
    "keywords_list = ['US Senate', 'US House', 'Governor', 'Attorney General', 'Secretary of State', 'State School Superintendent', 'Agriculture', 'Labor', 'Insurance', 'PSC', 'Public Service', 'Supreme Court', 'Court of Appeals', 'State Senate', 'State House']"
   ]
  },
  {
   "cell_type": "code",
   "execution_count": 6,
   "id": "d61a382b",
   "metadata": {},
   "outputs": [
    {
     "name": "stdout",
     "output_type": "stream",
     "text": [
      "Unique contests in dataset: 89\n",
      "Contests to keep: 35\n"
     ]
    }
   ],
   "source": [
    "all_contests = ga_22_primary_runoff['contest'].unique().tolist()\n",
    "keep_contests = hlp.contests_to_keep(all_contests, keywords_list)\n",
    "keep_contests.sort()\n",
    "print('Unique contests in dataset: '+ str(len(all_contests)))\n",
    "print('Contests to keep: ' + str(len(keep_contests)))"
   ]
  },
  {
   "cell_type": "code",
   "execution_count": 7,
   "id": "225492b7",
   "metadata": {},
   "outputs": [],
   "source": [
    "# #check remaining contests visually\n",
    "# other_contests = set(all_contests) - set(keep_contests)\n",
    "# other_contests"
   ]
  },
  {
   "cell_type": "code",
   "execution_count": 8,
   "id": "cebb2a81",
   "metadata": {},
   "outputs": [],
   "source": [
    "#subset dataframe by contests of interest only\n",
    "ga_22_primr_sw = ga_22_primary_runoff[ga_22_primary_runoff['contest'].isin(keep_contests)].copy()"
   ]
  },
  {
   "cell_type": "markdown",
   "id": "3aec4bf7",
   "metadata": {},
   "source": [
    "#### Standardize contest names"
   ]
  },
  {
   "cell_type": "code",
   "execution_count": 9,
   "id": "da05aa54",
   "metadata": {},
   "outputs": [],
   "source": [
    "#Create df with unique contest names\n",
    "contests = pd.DataFrame(keep_contests)\n",
    "contests.columns = ['orig']"
   ]
  },
  {
   "cell_type": "markdown",
   "id": "47b5b0a9",
   "metadata": {},
   "source": [
    "Visually inspect contest name variations, create functions to standardize contest type"
   ]
  },
  {
   "cell_type": "code",
   "execution_count": 10,
   "id": "99e71467",
   "metadata": {},
   "outputs": [],
   "source": [
    "# set(keep_contests)"
   ]
  },
  {
   "cell_type": "code",
   "execution_count": 11,
   "id": "9f11162e",
   "metadata": {},
   "outputs": [],
   "source": [
    "#Functions to split contest string into office type, district, and party\n",
    "contest_types = ['Attorney General', 'Commissioner of Agriculture', 'Commissioner of Insurance', 'Commissioner of Labor', 'Court of Appeals', 'Governor', 'Lieutenant Governor', 'Liutenant Governor', 'Public Service Commissioner', 'Secretary of State', 'State House', 'State School Superintendent', 'State Senate', 'US House', 'Supreme Court', 'US Senate','PSC']\n",
    "def stnd_race(contest_string):\n",
    "    standardized_race = ''\n",
    "    for i in contest_types:\n",
    "        if i in contest_string:\n",
    "            standardized_race = i      \n",
    "    return standardized_race\n",
    "\n",
    "def stnd_dist(race_string):\n",
    "    race_string = race_string.lower()\n",
    "    if '/' in race_string:\n",
    "        race_string = race_string.split('/')[0]\n",
    "    if any(word in race_string for word in ['us house', 'state senate', 'public service commissioner', 'psc']):\n",
    "        district = ''.join(filter(str.isdigit, race_string))\n",
    "    elif 'state house' in race_string:\n",
    "        district = ''.join(filter(str.isdigit, race_string))\n",
    "    else:\n",
    "        district = ''\n",
    "    return district\n",
    "\n",
    "def get_party(race_string):\n",
    "    if \"dem\" in race_string.lower():\n",
    "        return \"Dem\"\n",
    "    elif \"rep\" in race_string.lower():\n",
    "        return \"Rep\"\n",
    "    elif \"supreme court\" in race_string.lower() or \"court of appeals\" in race_string.lower():\n",
    "        return \"Nonpartisan\""
   ]
  },
  {
   "cell_type": "code",
   "execution_count": 12,
   "id": "90b6ebf9",
   "metadata": {},
   "outputs": [],
   "source": [
    "# Create new columns\n",
    "contests['orig'] = contests['orig'].apply(lambda x: x.strip())\n",
    "contests['party'] = contests['orig'].apply(lambda x: get_party(x))\n",
    "contests['race'] = contests['orig'].apply(lambda x: stnd_race(x))\n",
    "contests['district'] = contests['orig'].apply(lambda x: stnd_dist(x))"
   ]
  },
  {
   "cell_type": "code",
   "execution_count": 13,
   "id": "6d1201d9",
   "metadata": {},
   "outputs": [],
   "source": [
    "#manually correct nulls\n",
    "contests.at[4, 'race'] = 'Commissioner of Insurance'\n",
    "contests.at[5, 'race'] = 'Commissioner of Labor'"
   ]
  },
  {
   "cell_type": "code",
   "execution_count": 14,
   "id": "f914e941",
   "metadata": {},
   "outputs": [],
   "source": [
    "#Create standardized contest names for non- districted contests\n",
    "non_districted = contests[contests['district'] == ''].copy()\n",
    "non_districted['new_race'] = non_districted['race'] + ' - ' + non_districted['party']\n",
    "#Create standardized contest names for districted contests\n",
    "districted = contests[contests['district'] != ''].copy()\n",
    "districted['new_race'] = districted['race'] + ' - District '+ districted['district'] + ' - ' + districted['party']\n",
    "#Combine into one DF\n",
    "contests_stnd = pd.concat([non_districted, districted], axis=0)"
   ]
  },
  {
   "cell_type": "code",
   "execution_count": 15,
   "id": "b568506c",
   "metadata": {},
   "outputs": [
    {
     "data": {
      "text/plain": [
       "True"
      ]
     },
     "execution_count": 15,
     "metadata": {},
     "output_type": "execute_result"
    }
   ],
   "source": [
    "#check new df has same number of unique contests as the original df\n",
    "contests_stnd.shape[0] == contests.shape[0]"
   ]
  },
  {
   "cell_type": "code",
   "execution_count": 16,
   "id": "239ac8e3",
   "metadata": {},
   "outputs": [],
   "source": [
    "#Create dictionary of standardized contest names\n",
    "contests_stnd_dict = dict(zip(contests_stnd['orig'], contests_stnd['new_race']))"
   ]
  },
  {
   "cell_type": "code",
   "execution_count": 17,
   "id": "73d30eff",
   "metadata": {},
   "outputs": [
    {
     "name": "stdout",
     "output_type": "stream",
     "text": [
      "Number of original \"unique\" contests:  35\n",
      "Number of standardized contests:  21\n"
     ]
    }
   ],
   "source": [
    "#Apply dict to standardize contests in precint election returns df\n",
    "ga_22_primr_sw['stnd_contest'] = ga_22_primr_sw['contest'].map(contests_stnd_dict)\n",
    "\n",
    "print('Number of original \"unique\" contests: ', ga_22_primr_sw['contest'].nunique())\n",
    "print('Number of standardized contests: ', ga_22_primr_sw['stnd_contest'].nunique())"
   ]
  },
  {
   "cell_type": "markdown",
   "id": "eecc9fbb",
   "metadata": {},
   "source": [
    "#### Add FIPS Column, Create Unique ID Column"
   ]
  },
  {
   "cell_type": "code",
   "execution_count": 18,
   "id": "333d8d89",
   "metadata": {},
   "outputs": [
    {
     "data": {
      "text/plain": [
       "2707"
      ]
     },
     "execution_count": 18,
     "metadata": {},
     "output_type": "execute_result"
    }
   ],
   "source": [
    "#Add FIPS col to precinct df\n",
    "ga_22_primr_sw = hlp.create_fips_col(\"./raw-from-source/FIPS/US_FIPS_Codes.csv\", 'Georgia', ga_22_primr_sw, 'county')\n",
    "#Create UNIQUE_ID col\n",
    "ga_22_primr_sw['UNIQUE_ID'] = ga_22_primr_sw['COUNTYFP'] + '-' +ga_22_primr_sw['precinct']\n",
    "#Check for 2707 precincts\n",
    "ga_22_primr_sw['UNIQUE_ID'].nunique()"
   ]
  },
  {
   "cell_type": "markdown",
   "id": "bada8b87",
   "metadata": {},
   "source": [
    "#### Clean columns, create pivot column"
   ]
  },
  {
   "cell_type": "code",
   "execution_count": 19,
   "id": "49b88853",
   "metadata": {},
   "outputs": [],
   "source": [
    "#Remove incumbent status from candidate name\n",
    "ga_22_primr_sw['choice'] = ga_22_primr_sw['choice'].apply(lambda x: x.replace('(I)', ''))"
   ]
  },
  {
   "cell_type": "code",
   "execution_count": 20,
   "id": "cd978752",
   "metadata": {},
   "outputs": [],
   "source": [
    "#create pivot col for precinct df\n",
    "ga_22_primr_sw = hlp.create_pivot_col(ga_22_primr_sw, 'choice', 'stnd_contest', 'pivot')"
   ]
  },
  {
   "cell_type": "code",
   "execution_count": 21,
   "id": "d406f263",
   "metadata": {},
   "outputs": [
    {
     "data": {
      "text/html": [
       "<div>\n",
       "<style scoped>\n",
       "    .dataframe tbody tr th:only-of-type {\n",
       "        vertical-align: middle;\n",
       "    }\n",
       "\n",
       "    .dataframe tbody tr th {\n",
       "        vertical-align: top;\n",
       "    }\n",
       "\n",
       "    .dataframe thead th {\n",
       "        text-align: right;\n",
       "    }\n",
       "</style>\n",
       "<table border=\"1\" class=\"dataframe\">\n",
       "  <thead>\n",
       "    <tr style=\"text-align: right;\">\n",
       "      <th></th>\n",
       "      <th>county</th>\n",
       "      <th>contest</th>\n",
       "      <th>choice</th>\n",
       "      <th>voting_method</th>\n",
       "      <th>precinct</th>\n",
       "      <th>num_votes</th>\n",
       "      <th>election</th>\n",
       "      <th>stnd_contest</th>\n",
       "      <th>COUNTYFP</th>\n",
       "      <th>UNIQUE_ID</th>\n",
       "      <th>pivot</th>\n",
       "    </tr>\n",
       "  </thead>\n",
       "  <tbody>\n",
       "    <tr>\n",
       "      <th>0</th>\n",
       "      <td>Appling</td>\n",
       "      <td>Lieutenant Governor - Dem</td>\n",
       "      <td>Charlie Bailey</td>\n",
       "      <td>Absentee by Mail Votes</td>\n",
       "      <td>1B</td>\n",
       "      <td>1</td>\n",
       "      <td>primary runoff</td>\n",
       "      <td>Lieutenant Governor - Dem</td>\n",
       "      <td>001</td>\n",
       "      <td>001-1B</td>\n",
       "      <td>Charlie Bailey -:- Lieutenant Governor - Dem</td>\n",
       "    </tr>\n",
       "    <tr>\n",
       "      <th>1</th>\n",
       "      <td>Appling</td>\n",
       "      <td>Lieutenant Governor - Dem</td>\n",
       "      <td>Charlie Bailey</td>\n",
       "      <td>Absentee by Mail Votes</td>\n",
       "      <td>1C</td>\n",
       "      <td>0</td>\n",
       "      <td>primary runoff</td>\n",
       "      <td>Lieutenant Governor - Dem</td>\n",
       "      <td>001</td>\n",
       "      <td>001-1C</td>\n",
       "      <td>Charlie Bailey -:- Lieutenant Governor - Dem</td>\n",
       "    </tr>\n",
       "  </tbody>\n",
       "</table>\n",
       "</div>"
      ],
      "text/plain": [
       "    county                    contest          choice           voting_method  \\\n",
       "0  Appling  Lieutenant Governor - Dem  Charlie Bailey  Absentee by Mail Votes   \n",
       "1  Appling  Lieutenant Governor - Dem  Charlie Bailey  Absentee by Mail Votes   \n",
       "\n",
       "  precinct  num_votes        election               stnd_contest COUNTYFP  \\\n",
       "0       1B          1  primary runoff  Lieutenant Governor - Dem      001   \n",
       "1       1C          0  primary runoff  Lieutenant Governor - Dem      001   \n",
       "\n",
       "  UNIQUE_ID                                         pivot  \n",
       "0    001-1B  Charlie Bailey -:- Lieutenant Governor - Dem  \n",
       "1    001-1C  Charlie Bailey -:- Lieutenant Governor - Dem  "
      ]
     },
     "execution_count": 21,
     "metadata": {},
     "output_type": "execute_result"
    }
   ],
   "source": [
    "#Check\n",
    "ga_22_primr_sw.head(2)"
   ]
  },
  {
   "cell_type": "markdown",
   "id": "869fc5c8",
   "metadata": {},
   "source": [
    "#### Pivot Data"
   ]
  },
  {
   "cell_type": "code",
   "execution_count": 22,
   "id": "086d18cd",
   "metadata": {},
   "outputs": [],
   "source": [
    "ga_22_primr_sw_pvt =pd.pivot_table(ga_22_primr_sw,index=[\"UNIQUE_ID\",\"county\",\"COUNTYFP\",\"precinct\"],columns=[\"pivot\"],values=['num_votes'],aggfunc=sum).fillna(0)"
   ]
  },
  {
   "cell_type": "code",
   "execution_count": 23,
   "id": "2753f37b",
   "metadata": {},
   "outputs": [],
   "source": [
    "#Clean up indexing\n",
    "ga_22_primr_sw_pvt.columns = ga_22_primr_sw_pvt.columns.droplevel(0)\n",
    "ga_22_primr_sw_pvt.reset_index(inplace = True)"
   ]
  },
  {
   "cell_type": "code",
   "execution_count": 24,
   "id": "d9553fd8",
   "metadata": {},
   "outputs": [
    {
     "data": {
      "text/html": [
       "<div>\n",
       "<style scoped>\n",
       "    .dataframe tbody tr th:only-of-type {\n",
       "        vertical-align: middle;\n",
       "    }\n",
       "\n",
       "    .dataframe tbody tr th {\n",
       "        vertical-align: top;\n",
       "    }\n",
       "\n",
       "    .dataframe thead th {\n",
       "        text-align: right;\n",
       "    }\n",
       "</style>\n",
       "<table border=\"1\" class=\"dataframe\">\n",
       "  <thead>\n",
       "    <tr style=\"text-align: right;\">\n",
       "      <th>pivot</th>\n",
       "      <th>UNIQUE_ID</th>\n",
       "      <th>county</th>\n",
       "      <th>COUNTYFP</th>\n",
       "      <th>precinct</th>\n",
       "      <th>Bee Nguyen -:- Secretary of State - Dem</th>\n",
       "      <th>Betsy Kramer -:- State House - District 50 - Rep</th>\n",
       "      <th>Bob Duncan -:- State House - District 179 - Rep</th>\n",
       "      <th>Brent Cox -:- State House - District 28 - Rep</th>\n",
       "      <th>Carter Barrett -:- State House - District 24 - Rep</th>\n",
       "      <th>Charlie Bailey -:- Lieutenant Governor - Dem</th>\n",
       "      <th>...</th>\n",
       "      <th>Rick Townsend -:- State House - District 179 - Rep</th>\n",
       "      <th>Roger Bruce -:- State House - District 61 - Dem</th>\n",
       "      <th>Saira Draper -:- State House - District 90 - Dem</th>\n",
       "      <th>Sheri Smallwood Gilligan -:- State House - District 24 - Rep</th>\n",
       "      <th>Tabitha Johnson-Green -:- US House - District 10 - Dem</th>\n",
       "      <th>Terry Cummings -:- State House - District 39 - Dem</th>\n",
       "      <th>Vernon Jones -:- US House - District 10 - Rep</th>\n",
       "      <th>Wade Herring -:- US House - District 1 - Dem</th>\n",
       "      <th>Whitney Pimentel -:- State House - District 30 - Rep</th>\n",
       "      <th>William Will Boddie Jr -:- Commissioner of Labor - Dem</th>\n",
       "    </tr>\n",
       "  </thead>\n",
       "  <tbody>\n",
       "    <tr>\n",
       "      <th>0</th>\n",
       "      <td>001-1B</td>\n",
       "      <td>Appling</td>\n",
       "      <td>001</td>\n",
       "      <td>1B</td>\n",
       "      <td>16.0</td>\n",
       "      <td>0.0</td>\n",
       "      <td>0.0</td>\n",
       "      <td>0.0</td>\n",
       "      <td>0.0</td>\n",
       "      <td>8.0</td>\n",
       "      <td>...</td>\n",
       "      <td>0.0</td>\n",
       "      <td>0.0</td>\n",
       "      <td>0.0</td>\n",
       "      <td>0.0</td>\n",
       "      <td>0.0</td>\n",
       "      <td>0.0</td>\n",
       "      <td>0.0</td>\n",
       "      <td>11.0</td>\n",
       "      <td>0.0</td>\n",
       "      <td>10.0</td>\n",
       "    </tr>\n",
       "  </tbody>\n",
       "</table>\n",
       "<p>1 rows × 46 columns</p>\n",
       "</div>"
      ],
      "text/plain": [
       "pivot UNIQUE_ID   county COUNTYFP precinct  \\\n",
       "0        001-1B  Appling      001       1B   \n",
       "\n",
       "pivot  Bee Nguyen -:- Secretary of State - Dem  \\\n",
       "0                                         16.0   \n",
       "\n",
       "pivot  Betsy Kramer -:- State House - District 50 - Rep  \\\n",
       "0                                                   0.0   \n",
       "\n",
       "pivot  Bob Duncan -:- State House - District 179 - Rep  \\\n",
       "0                                                  0.0   \n",
       "\n",
       "pivot  Brent Cox -:- State House - District 28 - Rep  \\\n",
       "0                                                0.0   \n",
       "\n",
       "pivot  Carter Barrett -:- State House - District 24 - Rep  \\\n",
       "0                                                    0.0    \n",
       "\n",
       "pivot  Charlie Bailey -:- Lieutenant Governor - Dem  ...  \\\n",
       "0                                               8.0  ...   \n",
       "\n",
       "pivot  Rick Townsend -:- State House - District 179 - Rep  \\\n",
       "0                                                    0.0    \n",
       "\n",
       "pivot  Roger Bruce -:- State House - District 61 - Dem  \\\n",
       "0                                                  0.0   \n",
       "\n",
       "pivot  Saira Draper -:- State House - District 90 - Dem  \\\n",
       "0                                                   0.0   \n",
       "\n",
       "pivot  Sheri Smallwood Gilligan -:- State House - District 24 - Rep  \\\n",
       "0                                                    0.0              \n",
       "\n",
       "pivot  Tabitha Johnson-Green -:- US House - District 10 - Dem  \\\n",
       "0                                                    0.0        \n",
       "\n",
       "pivot  Terry Cummings -:- State House - District 39 - Dem  \\\n",
       "0                                                    0.0    \n",
       "\n",
       "pivot  Vernon Jones -:- US House - District 10 - Rep  \\\n",
       "0                                                0.0   \n",
       "\n",
       "pivot  Wade Herring -:- US House - District 1 - Dem  \\\n",
       "0                                              11.0   \n",
       "\n",
       "pivot  Whitney Pimentel -:- State House - District 30 - Rep  \\\n",
       "0                                                    0.0      \n",
       "\n",
       "pivot  William Will Boddie Jr -:- Commissioner of Labor - Dem  \n",
       "0                                                   10.0       \n",
       "\n",
       "[1 rows x 46 columns]"
      ]
     },
     "execution_count": 24,
     "metadata": {},
     "output_type": "execute_result"
    }
   ],
   "source": [
    "#check\n",
    "ga_22_primr_sw_pvt.head(1)"
   ]
  },
  {
   "cell_type": "code",
   "execution_count": 25,
   "id": "f54029f8",
   "metadata": {},
   "outputs": [],
   "source": [
    "#Create dictionaries for renaming pivot col to VEST\n",
    "exclude_columns = ['UNIQUE_ID', 'county', 'COUNTYFP', 'precinct']\n",
    "contest_updates_dict, contest_updates_reversed, clean_dups = hlp.create_column_rename_dicts(ga_22_primr_sw_pvt, exclude_columns)"
   ]
  },
  {
   "cell_type": "code",
   "execution_count": 26,
   "id": "67ef1b69",
   "metadata": {},
   "outputs": [],
   "source": [
    "#Check all dict values under 10 characters\n",
    "for item in contest_updates_dict.values():\n",
    "    if len(item) > 10 or len(item) < 7:\n",
    "        print(item)\n",
    "        print(contest_updates_reversed[item])"
   ]
  },
  {
   "cell_type": "code",
   "execution_count": 27,
   "id": "4b77ff66",
   "metadata": {},
   "outputs": [],
   "source": [
    "#apply rename dictionary to pivoted df\n",
    "ga_22_primr_sw_pvt.rename(columns = contest_updates_dict, inplace = True)\n",
    "ga_22_primr_sw_pvt.reset_index(inplace = True, drop = True)"
   ]
  },
  {
   "cell_type": "code",
   "execution_count": 28,
   "id": "dec148ef",
   "metadata": {},
   "outputs": [],
   "source": [
    "#set columns with votes as integer type\n",
    "for item in contest_updates_dict.values():\n",
    "    ga_22_primr_sw_pvt[item] = ga_22_primr_sw_pvt[item].astype(int)"
   ]
  },
  {
   "cell_type": "code",
   "execution_count": 29,
   "id": "21ae68ed",
   "metadata": {},
   "outputs": [
    {
     "data": {
      "text/html": [
       "<div>\n",
       "<style scoped>\n",
       "    .dataframe tbody tr th:only-of-type {\n",
       "        vertical-align: middle;\n",
       "    }\n",
       "\n",
       "    .dataframe tbody tr th {\n",
       "        vertical-align: top;\n",
       "    }\n",
       "\n",
       "    .dataframe thead th {\n",
       "        text-align: right;\n",
       "    }\n",
       "</style>\n",
       "<table border=\"1\" class=\"dataframe\">\n",
       "  <thead>\n",
       "    <tr style=\"text-align: right;\">\n",
       "      <th>pivot</th>\n",
       "      <th>UNIQUE_ID</th>\n",
       "      <th>county</th>\n",
       "      <th>COUNTYFP</th>\n",
       "      <th>precinct</th>\n",
       "      <th>R22SOSDNGU</th>\n",
       "      <th>RSL050RKRA</th>\n",
       "      <th>RSL179RDUN</th>\n",
       "      <th>RSL028RCOX</th>\n",
       "      <th>RSL024RBAR</th>\n",
       "      <th>R22LTGDBAI</th>\n",
       "      <th>...</th>\n",
       "      <th>RSL179RTOW</th>\n",
       "      <th>RSL061DBRU</th>\n",
       "      <th>RSL090DDRA</th>\n",
       "      <th>RSL024RGIL</th>\n",
       "      <th>RCON10DJOH</th>\n",
       "      <th>RSL039DCUM</th>\n",
       "      <th>RCON10RJON</th>\n",
       "      <th>RCON01DHER</th>\n",
       "      <th>RSL030RPIM</th>\n",
       "      <th>R22LABDBOD</th>\n",
       "    </tr>\n",
       "  </thead>\n",
       "  <tbody>\n",
       "    <tr>\n",
       "      <th>0</th>\n",
       "      <td>001-1B</td>\n",
       "      <td>Appling</td>\n",
       "      <td>001</td>\n",
       "      <td>1B</td>\n",
       "      <td>16</td>\n",
       "      <td>0</td>\n",
       "      <td>0</td>\n",
       "      <td>0</td>\n",
       "      <td>0</td>\n",
       "      <td>8</td>\n",
       "      <td>...</td>\n",
       "      <td>0</td>\n",
       "      <td>0</td>\n",
       "      <td>0</td>\n",
       "      <td>0</td>\n",
       "      <td>0</td>\n",
       "      <td>0</td>\n",
       "      <td>0</td>\n",
       "      <td>11</td>\n",
       "      <td>0</td>\n",
       "      <td>10</td>\n",
       "    </tr>\n",
       "    <tr>\n",
       "      <th>1</th>\n",
       "      <td>001-1C</td>\n",
       "      <td>Appling</td>\n",
       "      <td>001</td>\n",
       "      <td>1C</td>\n",
       "      <td>1</td>\n",
       "      <td>0</td>\n",
       "      <td>0</td>\n",
       "      <td>0</td>\n",
       "      <td>0</td>\n",
       "      <td>4</td>\n",
       "      <td>...</td>\n",
       "      <td>0</td>\n",
       "      <td>0</td>\n",
       "      <td>0</td>\n",
       "      <td>0</td>\n",
       "      <td>0</td>\n",
       "      <td>0</td>\n",
       "      <td>0</td>\n",
       "      <td>3</td>\n",
       "      <td>0</td>\n",
       "      <td>2</td>\n",
       "    </tr>\n",
       "  </tbody>\n",
       "</table>\n",
       "<p>2 rows × 46 columns</p>\n",
       "</div>"
      ],
      "text/plain": [
       "pivot UNIQUE_ID   county COUNTYFP precinct  R22SOSDNGU  RSL050RKRA  \\\n",
       "0        001-1B  Appling      001       1B          16           0   \n",
       "1        001-1C  Appling      001       1C           1           0   \n",
       "\n",
       "pivot  RSL179RDUN  RSL028RCOX  RSL024RBAR  R22LTGDBAI  ...  RSL179RTOW  \\\n",
       "0               0           0           0           8  ...           0   \n",
       "1               0           0           0           4  ...           0   \n",
       "\n",
       "pivot  RSL061DBRU  RSL090DDRA  RSL024RGIL  RCON10DJOH  RSL039DCUM  RCON10RJON  \\\n",
       "0               0           0           0           0           0           0   \n",
       "1               0           0           0           0           0           0   \n",
       "\n",
       "pivot  RCON01DHER  RSL030RPIM  R22LABDBOD  \n",
       "0              11           0          10  \n",
       "1               3           0           2  \n",
       "\n",
       "[2 rows x 46 columns]"
      ]
     },
     "execution_count": 29,
     "metadata": {},
     "output_type": "execute_result"
    }
   ],
   "source": [
    "#check\n",
    "ga_22_primr_sw_pvt.head(2)"
   ]
  },
  {
   "cell_type": "code",
   "execution_count": 30,
   "id": "73621841",
   "metadata": {},
   "outputs": [
    {
     "data": {
      "text/plain": [
       "42"
      ]
     },
     "execution_count": 30,
     "metadata": {},
     "output_type": "execute_result"
    }
   ],
   "source": [
    "#Create list of candidates in precinct level df\n",
    "precincts_cols = ga_22_primr_sw_pvt.columns[4:].to_list()\n",
    "len(precincts_cols) #Number of candidates in precint-level results, useful to compare in vote totals checking"
   ]
  },
  {
   "cell_type": "markdown",
   "id": "36002220",
   "metadata": {},
   "source": [
    "<p><a name=\"check\"></a></p>\n",
    "\n",
    "## Vote Totals Check\n",
    "### Statewide"
   ]
  },
  {
   "cell_type": "code",
   "execution_count": 31,
   "id": "613ca683",
   "metadata": {},
   "outputs": [],
   "source": [
    "#Read in statewide csv summary file, with county level data\n",
    "combined_sos_totals = pd.read_csv(\"./raw-from-source/summary/summary.csv\")"
   ]
  },
  {
   "cell_type": "code",
   "execution_count": 32,
   "id": "adf6ccb1",
   "metadata": {},
   "outputs": [],
   "source": [
    "#Remove 'Vote for 1'\n",
    "combined_sos_totals['contest name'] = combined_sos_totals['contest name'].apply(lambda x: str(x).strip().replace('(Vote For 1)', ''))"
   ]
  },
  {
   "cell_type": "code",
   "execution_count": 33,
   "id": "22ecff6f",
   "metadata": {},
   "outputs": [
    {
     "name": "stdout",
     "output_type": "stream",
     "text": [
      "All contests:23\n",
      "Subset of contests to keep:21\n"
     ]
    }
   ],
   "source": [
    "#Create list of contests statewide\n",
    "sos_all_contests = list(combined_sos_totals['contest name'].unique())\n",
    "sos_keep_contests = hlp.contests_to_keep(sos_all_contests, keywords_list)\n",
    "print('All contests:'+ str(len(sos_all_contests)))\n",
    "print('Subset of contests to keep:' + str(len(sos_keep_contests)))"
   ]
  },
  {
   "cell_type": "code",
   "execution_count": 34,
   "id": "193790d6",
   "metadata": {},
   "outputs": [],
   "source": [
    "# #check remaining contests\n",
    "# sos_other_contests = set(sos_all_contests) - set(sos_keep_contests)\n",
    "# sos_other_contests"
   ]
  },
  {
   "cell_type": "code",
   "execution_count": 35,
   "id": "e9ce645c",
   "metadata": {},
   "outputs": [],
   "source": [
    "#Subset statewide results by contests of interest only\n",
    "filtered_sos_totals = combined_sos_totals[combined_sos_totals['contest name'].isin(sos_keep_contests)].copy()"
   ]
  },
  {
   "cell_type": "code",
   "execution_count": 36,
   "id": "c08f4100",
   "metadata": {},
   "outputs": [],
   "source": [
    "#Create pivot column\n",
    "sos_totals = hlp.create_pivot_col(filtered_sos_totals, 'choice name', 'contest name', 'pivot_col')"
   ]
  },
  {
   "cell_type": "code",
   "execution_count": 37,
   "id": "3c83e3a2",
   "metadata": {},
   "outputs": [
    {
     "data": {
      "text/plain": [
       "42"
      ]
     },
     "execution_count": 37,
     "metadata": {},
     "output_type": "execute_result"
    }
   ],
   "source": [
    "sos_totals['pivot_col'].nunique()"
   ]
  },
  {
   "cell_type": "code",
   "execution_count": 38,
   "id": "c4b49c66",
   "metadata": {},
   "outputs": [],
   "source": [
    "#apply function to get a VEST column\n",
    "sos_totals['VEST'] = sos_totals['pivot_col'].apply(lambda x: hlp.get_VEST(str(x).strip()))"
   ]
  },
  {
   "cell_type": "code",
   "execution_count": 39,
   "id": "16321459",
   "metadata": {},
   "outputs": [
    {
     "data": {
      "text/html": [
       "<div>\n",
       "<style scoped>\n",
       "    .dataframe tbody tr th:only-of-type {\n",
       "        vertical-align: middle;\n",
       "    }\n",
       "\n",
       "    .dataframe tbody tr th {\n",
       "        vertical-align: top;\n",
       "    }\n",
       "\n",
       "    .dataframe thead th {\n",
       "        text-align: right;\n",
       "    }\n",
       "</style>\n",
       "<table border=\"1\" class=\"dataframe\">\n",
       "  <thead>\n",
       "    <tr style=\"text-align: right;\">\n",
       "      <th></th>\n",
       "      <th>line number</th>\n",
       "      <th>contest name</th>\n",
       "      <th>choice name</th>\n",
       "      <th>party name</th>\n",
       "      <th>total votes</th>\n",
       "      <th>percent of votes</th>\n",
       "      <th>registered voters</th>\n",
       "      <th>ballots cast</th>\n",
       "      <th>num Precinct total</th>\n",
       "      <th>num Precinct rptg</th>\n",
       "      <th>over votes</th>\n",
       "      <th>under votes</th>\n",
       "      <th>pivot_col</th>\n",
       "      <th>VEST</th>\n",
       "    </tr>\n",
       "  </thead>\n",
       "  <tbody>\n",
       "    <tr>\n",
       "      <th>0</th>\n",
       "      <td>1</td>\n",
       "      <td>Lieutenant Governor - Dem</td>\n",
       "      <td>Charlie Bailey</td>\n",
       "      <td>DEM</td>\n",
       "      <td>162771</td>\n",
       "      <td>63.05</td>\n",
       "      <td>6465202</td>\n",
       "      <td>262207</td>\n",
       "      <td>159</td>\n",
       "      <td>159</td>\n",
       "      <td>0</td>\n",
       "      <td>11</td>\n",
       "      <td>Charlie Bailey -:- Lieutenant Governor - Dem</td>\n",
       "      <td>R22LTGDBAI</td>\n",
       "    </tr>\n",
       "  </tbody>\n",
       "</table>\n",
       "</div>"
      ],
      "text/plain": [
       "   line number               contest name     choice name party name  \\\n",
       "0            1  Lieutenant Governor - Dem  Charlie Bailey        DEM   \n",
       "\n",
       "   total votes  percent of votes  registered voters  ballots cast  \\\n",
       "0       162771             63.05            6465202        262207   \n",
       "\n",
       "   num Precinct total  num Precinct rptg  over votes  under votes  \\\n",
       "0                 159                159           0           11   \n",
       "\n",
       "                                      pivot_col        VEST  \n",
       "0  Charlie Bailey -:- Lieutenant Governor - Dem  R22LTGDBAI  "
      ]
     },
     "execution_count": 39,
     "metadata": {},
     "output_type": "execute_result"
    }
   ],
   "source": [
    "# Check\n",
    "sos_totals.head(1)"
   ]
  },
  {
   "cell_type": "code",
   "execution_count": 40,
   "id": "8874e5e9",
   "metadata": {},
   "outputs": [
    {
     "name": "stdout",
     "output_type": "stream",
     "text": [
      "Number of contests of interest:\n",
      "Statewide Summary CSV:  42\n",
      "RDH precint file:  42\n"
     ]
    }
   ],
   "source": [
    "print('Number of contests of interest:')\n",
    "print('Statewide Summary CSV: ',sos_totals['VEST'].nunique())\n",
    "print('RDH precint file: ', len(precincts_cols))"
   ]
  },
  {
   "cell_type": "code",
   "execution_count": 41,
   "id": "29f26aa5",
   "metadata": {},
   "outputs": [
    {
     "data": {
      "text/plain": [
       "True"
      ]
     },
     "execution_count": 41,
     "metadata": {},
     "output_type": "execute_result"
    }
   ],
   "source": [
    "#Final check to make sure columsn to compare are the same across precinctlevel df and statewide df\n",
    "set(precincts_cols) == set(sos_totals['VEST'].unique())"
   ]
  },
  {
   "cell_type": "markdown",
   "id": "5b8be831",
   "metadata": {},
   "source": [
    "Check rdh data against state summary"
   ]
  },
  {
   "cell_type": "code",
   "execution_count": 42,
   "id": "c3eb8c0f",
   "metadata": {},
   "outputs": [],
   "source": [
    "statewide_check_list = []\n",
    "doesnt_check = []\n",
    "for item in contest_updates_dict.values():\n",
    "    official_ls = list(sos_totals.loc[sos_totals[\"VEST\"] == item, \"total votes\"])\n",
    "    if len(official_ls)<1:\n",
    "        doesnt_check.append(item)\n",
    "#         print(item)\n",
    "#         print(contest_updates_reversed[item])\n",
    "    else:\n",
    "        official = official_ls[0]\n",
    "    rdh = ga_22_primr_sw_pvt[item].sum()\n",
    "    if official != rdh:\n",
    "        statewide_check_list.append(item)\n",
    "        print(contest_updates_reversed[item])\n",
    "        print(f\"{item}\\n\\tOfficial: {official}\\n\\tRDH: {rdh}\")"
   ]
  },
  {
   "cell_type": "markdown",
   "id": "5511fe30",
   "metadata": {},
   "source": [
    "### Checking against official County level results"
   ]
  },
  {
   "cell_type": "markdown",
   "id": "5129451e",
   "metadata": {},
   "source": [
    "Read in County level summary XML file from Georgia SOS office."
   ]
  },
  {
   "cell_type": "code",
   "execution_count": 43,
   "id": "dc85a280",
   "metadata": {},
   "outputs": [],
   "source": [
    "loaded_counties = os.listdir(\"./raw-from-source/summary/county_checks\")\n",
    "z=[]\n",
    "for locale in loaded_counties:\n",
    "    if locale.endswith('.xml'):\n",
    "        file_string = \"./raw-from-source/summary/county_checks/\"+locale\n",
    "        xtree = et.parse(file_string)\n",
    "        xroot = xtree.getroot()\n",
    "        state_area = xroot.findall(\".//Region\")\n",
    "        for i in state_area:\n",
    "            state = i.text\n",
    "        contests = xroot.findall(\".//Contest\")\n",
    "        for i in contests:\n",
    "            contest = i.attrib.get('text')\n",
    "            lower = i.findall(\"./Choice\")\n",
    "            for j in lower:\n",
    "                choice = j.attrib.get('text')\n",
    "                lower_2 = j.findall(\"./VoteType\")\n",
    "                for k in lower_2:\n",
    "                    voting_method = k.attrib.get('name')\n",
    "                    lower_3 = k.findall(\"./County\")\n",
    "                    for l in lower_3:\n",
    "                        county_name = l.attrib.get('name')\n",
    "                        num_votes = l.attrib.get('votes')\n",
    "                        if locale == \"detail 2.xml\":\n",
    "                            elec_type = \"special\"\n",
    "                        else:\n",
    "                            elec_type = \"primary\"\n",
    "                        z.append([state,contest,choice,voting_method,county_name,num_votes, elec_type])\n",
    "dfcols = ['state','contest','choice','voting_method','county','num_votes',\"type\"]\n",
    "df_county = pd.DataFrame(z,columns=dfcols)"
   ]
  },
  {
   "cell_type": "code",
   "execution_count": 44,
   "id": "f6a133ca",
   "metadata": {},
   "outputs": [
    {
     "name": "stdout",
     "output_type": "stream",
     "text": [
      "All contests: 23\n",
      "Subset of contests to keep: 21\n"
     ]
    }
   ],
   "source": [
    "# identify contests pertaining to statewide legislative bodies, or offices only\n",
    "soscnty_all_contests = list(df_county['contest'].unique())\n",
    "soscnty_keep_contests = hlp.contests_to_keep(soscnty_all_contests, keywords_list)\n",
    "print('All contests: '+ str(len(soscnty_all_contests)))\n",
    "print('Subset of contests to keep: ' + str(len(soscnty_keep_contests)))"
   ]
  },
  {
   "cell_type": "code",
   "execution_count": 45,
   "id": "9350d0d7",
   "metadata": {},
   "outputs": [],
   "source": [
    "# filter df by contests of interest\n",
    "filtered_county_totals = df_county[df_county['contest'].isin(soscnty_keep_contests)].copy()\n",
    "# set votes column as integer\n",
    "filtered_county_totals[\"num_votes\"] = filtered_county_totals[\"num_votes\"].astype(int)"
   ]
  },
  {
   "cell_type": "code",
   "execution_count": 46,
   "id": "61016d90",
   "metadata": {},
   "outputs": [],
   "source": [
    "# add 'pivot' col\n",
    "sos_county_pvt = hlp.create_pivot_col(filtered_county_totals, 'choice', 'contest', 'pivot')\n",
    "# use pivot col to add column with VEST names\n",
    "sos_county_pvt['VEST'] = sos_county_pvt['pivot'].apply(lambda x: hlp.get_VEST(str(x).strip()))"
   ]
  },
  {
   "cell_type": "code",
   "execution_count": 47,
   "id": "b571f432",
   "metadata": {},
   "outputs": [
    {
     "data": {
      "text/plain": [
       "True"
      ]
     },
     "execution_count": 47,
     "metadata": {},
     "output_type": "execute_result"
    }
   ],
   "source": [
    "# Check if there are 42 unique candidates in the VEST column\n",
    "sos_county_pvt['VEST'].nunique() == 42"
   ]
  },
  {
   "cell_type": "code",
   "execution_count": 48,
   "id": "0bdc5ae8",
   "metadata": {},
   "outputs": [
    {
     "data": {
      "text/plain": [
       "True"
      ]
     },
     "execution_count": 48,
     "metadata": {},
     "output_type": "execute_result"
    }
   ],
   "source": [
    "#Check if VEST contest names are the same as precinct df\n",
    "set(precincts_cols) == set(sos_county_pvt['VEST'])"
   ]
  },
  {
   "cell_type": "code",
   "execution_count": 49,
   "id": "fca37d7b",
   "metadata": {},
   "outputs": [],
   "source": [
    "#pivot SOS county df\n",
    "sos_county_totals_pvt =pd.pivot_table(sos_county_pvt,index=['county'],columns=['VEST'],values=['num_votes'],aggfunc=sum)\n",
    "sos_county_totals_pvt = sos_county_totals_pvt.fillna(0)\n",
    "sos_county_totals_pvt.columns = sos_county_totals_pvt.columns.droplevel(0)\n",
    "sos_county_totals_pvt.reset_index(inplace = True)"
   ]
  },
  {
   "cell_type": "markdown",
   "id": "d33c3f4b",
   "metadata": {},
   "source": [
    "#### Check precinct DF against SOS county level df"
   ]
  },
  {
   "cell_type": "code",
   "execution_count": 50,
   "id": "8b1d423d",
   "metadata": {},
   "outputs": [
    {
     "name": "stdout",
     "output_type": "stream",
     "text": [
      "***Countywide Totals Check***\n",
      "\n",
      "Counties that match:\n",
      "\n",
      "['Appling', 'Atkinson', 'Bacon', 'Baker', 'Baldwin', 'Banks', 'Barrow', 'Bartow', 'Ben Hill', 'Berrien', 'Bibb', 'Bleckley', 'Brantley', 'Brooks', 'Bryan', 'Bulloch', 'Burke', 'Butts', 'Calhoun', 'Camden', 'Candler', 'Carroll', 'Catoosa', 'Charlton', 'Chatham', 'Chattahoochee', 'Chattooga', 'Cherokee', 'Clarke', 'Clay', 'Clayton', 'Clinch', 'Cobb', 'Coffee', 'Colquitt', 'Columbia', 'Cook', 'Coweta', 'Crawford', 'Crisp', 'Dade', 'Dawson', 'DeKalb', 'Decatur', 'Dodge', 'Dooly', 'Dougherty', 'Douglas', 'Early', 'Echols', 'Effingham', 'Elbert', 'Emanuel', 'Evans', 'Fannin', 'Fayette', 'Floyd', 'Forsyth', 'Franklin', 'Fulton', 'Gilmer', 'Glascock', 'Glynn', 'Gordon', 'Grady', 'Greene', 'Gwinnett', 'Habersham', 'Hall', 'Hancock', 'Haralson', 'Harris', 'Hart', 'Heard', 'Henry', 'Houston', 'Irwin', 'Jackson', 'Jasper', 'Jeff Davis', 'Jefferson', 'Jenkins', 'Johnson', 'Jones', 'Lamar', 'Lanier', 'Laurens', 'Lee', 'Liberty', 'Lincoln', 'Long', 'Lowndes', 'Lumpkin', 'Macon', 'Madison', 'Marion', 'McDuffie', 'McIntosh', 'Meriwether', 'Miller', 'Mitchell', 'Monroe', 'Montgomery', 'Morgan', 'Murray', 'Muscogee', 'Newton', 'Oconee', 'Oglethorpe', 'Paulding', 'Peach', 'Pickens', 'Pierce', 'Pike', 'Polk', 'Pulaski', 'Putnam', 'Quitman', 'Rabun', 'Randolph', 'Richmond', 'Rockdale', 'Schley', 'Screven', 'Seminole', 'Spalding', 'Stephens', 'Stewart', 'Sumter', 'Talbot', 'Taliaferro', 'Tattnall', 'Taylor', 'Telfair', 'Terrell', 'Thomas', 'Tift', 'Toombs', 'Towns', 'Treutlen', 'Troup', 'Turner', 'Twiggs', 'Union', 'Upson', 'Walker', 'Walton', 'Ware', 'Warren', 'Washington', 'Wayne', 'Webster', 'Wheeler', 'White', 'Whitfield', 'Wilcox', 'Wilkes', 'Wilkinson', 'Worth']\n"
     ]
    }
   ],
   "source": [
    "#check by contest\n",
    "rdh = ga_22_primr_sw_pvt\n",
    "sos = sos_county_totals_pvt\n",
    "partner_name = 'SOS'\n",
    "source_name = 'RDH'\n",
    "county_col = 'county'\n",
    "hlp.county_totals_check(sos,partner_name, rdh, source_name, precincts_cols, county_col,full_print=False, method='county')"
   ]
  },
  {
   "cell_type": "markdown",
   "id": "0ba76bb8",
   "metadata": {},
   "source": [
    "No Vote Total discrepancies to address"
   ]
  },
  {
   "cell_type": "markdown",
   "id": "aa1fef6a",
   "metadata": {},
   "source": [
    "### Create README"
   ]
  },
  {
   "cell_type": "code",
   "execution_count": 51,
   "id": "81f9ad76",
   "metadata": {},
   "outputs": [],
   "source": [
    "# Create list of ordered contests for non districted contests\n",
    "contests_order =[]\n",
    "for i in ['US Senate', 'Governor', 'Lieutenant Governor', 'Attorney General', 'Secretary of State', 'Commissioner of Agriculture', 'Commissioner of Insurance', 'Commissioner of Labor',  'Public Service Commissioner', 'State School Superintendent', 'Supreme Court', 'Court of Appeals']:\n",
    "    temp_df = contests_stnd.loc[contests_stnd['race'] == i]\n",
    "    contests_sorted = sorted(temp_df['new_race'].unique().tolist())\n",
    "    contests_order += contests_sorted\n",
    "#check\n",
    "#len(contests_order) == contests_stnd['new_race'].nunique()"
   ]
  },
  {
   "cell_type": "code",
   "execution_count": 52,
   "id": "24f886a3",
   "metadata": {},
   "outputs": [],
   "source": [
    "# create list of ordered contests for districted contests\n",
    "for i in ['US House', 'State Senate', 'State House']:\n",
    "    temp_df = contests_stnd.loc[contests_stnd['race'] == i].copy()\n",
    "    temp_df['district'] = temp_df['district'].astype(int) #ensure districts are being sorted as integers not strings\n",
    "    contests_sorted = temp_df.sort_values('district')['new_race'].unique().tolist()\n",
    "    contests_order += contests_sorted"
   ]
  },
  {
   "cell_type": "code",
   "execution_count": 53,
   "id": "d7457e44",
   "metadata": {},
   "outputs": [],
   "source": [
    "# Create df with total votes per candidate\n",
    "rm_df = ga_22_primr_sw.groupby(['stnd_contest', 'choice', 'pivot'])['num_votes'].sum().reset_index()\n",
    "#apply rename dictionary to get VEST names\n",
    "rm_df['VEST'] = rm_df['pivot'].map(contest_updates_dict).fillna(0)"
   ]
  },
  {
   "cell_type": "code",
   "execution_count": 54,
   "id": "9489f2fa",
   "metadata": {},
   "outputs": [
    {
     "data": {
      "text/html": [
       "<div>\n",
       "<style scoped>\n",
       "    .dataframe tbody tr th:only-of-type {\n",
       "        vertical-align: middle;\n",
       "    }\n",
       "\n",
       "    .dataframe tbody tr th {\n",
       "        vertical-align: top;\n",
       "    }\n",
       "\n",
       "    .dataframe thead th {\n",
       "        text-align: right;\n",
       "    }\n",
       "</style>\n",
       "<table border=\"1\" class=\"dataframe\">\n",
       "  <thead>\n",
       "    <tr style=\"text-align: right;\">\n",
       "      <th></th>\n",
       "      <th>stnd_contest</th>\n",
       "      <th>choice</th>\n",
       "      <th>pivot</th>\n",
       "      <th>num_votes</th>\n",
       "      <th>VEST</th>\n",
       "    </tr>\n",
       "  </thead>\n",
       "  <tbody>\n",
       "    <tr>\n",
       "      <th>0</th>\n",
       "      <td>Commissioner of Insurance - Dem</td>\n",
       "      <td>Janice Laws Robinson</td>\n",
       "      <td>Janice Laws Robinson -:- Commissioner of Insur...</td>\n",
       "      <td>158734</td>\n",
       "      <td>R22INSDROB</td>\n",
       "    </tr>\n",
       "    <tr>\n",
       "      <th>1</th>\n",
       "      <td>Commissioner of Insurance - Dem</td>\n",
       "      <td>Raphael Baker</td>\n",
       "      <td>Raphael Baker -:- Commissioner of Insurance - Dem</td>\n",
       "      <td>90317</td>\n",
       "      <td>R22INSDBAK</td>\n",
       "    </tr>\n",
       "  </tbody>\n",
       "</table>\n",
       "</div>"
      ],
      "text/plain": [
       "                      stnd_contest                choice  \\\n",
       "0  Commissioner of Insurance - Dem  Janice Laws Robinson   \n",
       "1  Commissioner of Insurance - Dem         Raphael Baker   \n",
       "\n",
       "                                               pivot  num_votes        VEST  \n",
       "0  Janice Laws Robinson -:- Commissioner of Insur...     158734  R22INSDROB  \n",
       "1  Raphael Baker -:- Commissioner of Insurance - Dem      90317  R22INSDBAK  "
      ]
     },
     "execution_count": 54,
     "metadata": {},
     "output_type": "execute_result"
    }
   ],
   "source": [
    "rm_df.head(2)"
   ]
  },
  {
   "cell_type": "code",
   "execution_count": 55,
   "id": "1f9403b3",
   "metadata": {},
   "outputs": [
    {
     "data": {
      "text/plain": [
       "True"
      ]
     },
     "execution_count": 55,
     "metadata": {},
     "output_type": "execute_result"
    }
   ],
   "source": [
    "# create list to order README and final dataset by contest, and vote share\n",
    "rm_order =[]\n",
    "for i in contests_order:\n",
    "    temp = rm_df.loc[rm_df['stnd_contest'] == i].sort_values('num_votes', ascending = False)\n",
    "    rm_order += temp['VEST'].to_list()\n",
    "#check to make sure all contests included\n",
    "set(rm_order) == set(precincts_cols)"
   ]
  },
  {
   "cell_type": "code",
   "execution_count": 56,
   "id": "eee07dc4",
   "metadata": {},
   "outputs": [],
   "source": [
    "#Create order column, mapping ordering list to VEST names\n",
    "rm_df['Order'] = rm_df['VEST'].map(lambda x: rm_order.index(x))\n",
    "#order the readme DF\n",
    "rm_df = rm_df.sort_values('Order')\n",
    "#Create field name column\n",
    "rm_df['candidate'] = rm_df['choice'].apply(lambda x: str(x).split()[-1] + ', ' + ' '.join(str(x).split()[:-1]))\n",
    "rm_df['description'] = rm_df['candidate'] + ' - ' + rm_df['stnd_contest']\n",
    "#create fields_dict\n",
    "fields_dict = dict(zip(rm_df['VEST'], rm_df['description']))"
   ]
  },
  {
   "cell_type": "code",
   "execution_count": 57,
   "id": "32675c6d",
   "metadata": {},
   "outputs": [],
   "source": [
    "# Create README\n",
    "fields_dict['UNIQUE_ID']='Unique ID for each precinct'\n",
    "fields_dict['COUNTYFP']='County FIP identifier'\n",
    "fields_dict['county']='County Name'\n",
    "fields_dict['precinct']='Precinct Name'\n",
    "\n",
    "title = \"Georgia 2022 Primary Election Precinct-Level Results\"\n",
    "retrieval_date = \"09/13/23\"\n",
    "fields_dict = fields_dict\n",
    "github_link = \"https://github.com/nonpartisan-redistricting-datahub/pber_collection/tree/main/GA/2022\"\n",
    "file_folder = \"./\"\n",
    "source = \"The RDH retrieved 2022 precinct election precinct-level results from the Georgia Secretary of State [website] (https://results.enr.clarityelections.com/GA/114891/web.285569/#/reporting). The RDH navigated to each county's election results page and clicked 'Detail XML', to get the results at the precinct level\""
   ]
  },
  {
   "cell_type": "code",
   "execution_count": 58,
   "id": "7d599e20",
   "metadata": {},
   "outputs": [],
   "source": [
    "if not os.path.exists(file_folder):\n",
    "    os.mkdir(file_folder)\n",
    "\n",
    "with open(file_folder+\"README.txt\", 'w') as tf:\n",
    "        tf.write(hlp.full_readme_text(title, retrieval_date, source, fields_dict, github_link))"
   ]
  },
  {
   "cell_type": "markdown",
   "id": "9dfcc386",
   "metadata": {},
   "source": [
    "<p><a name=\"exp\"></a></p>\n",
    "\n",
    "### Export Cleaned Precinct Level Dataset"
   ]
  },
  {
   "cell_type": "code",
   "execution_count": 59,
   "id": "57b95666",
   "metadata": {},
   "outputs": [],
   "source": [
    "rm_order = ['UNIQUE_ID', 'COUNTYFP', 'county', 'precinct'] + rm_order"
   ]
  },
  {
   "cell_type": "code",
   "execution_count": 64,
   "id": "f5f0bfa9",
   "metadata": {},
   "outputs": [
    {
     "data": {
      "text/plain": [
       "True"
      ]
     },
     "execution_count": 64,
     "metadata": {},
     "output_type": "execute_result"
    }
   ],
   "source": [
    "#checks\n",
    "len(rm_order) == len(ga_22_primr_sw_pvt.columns)\n",
    "set(rm_order) == set(ga_22_primr_sw_pvt.columns)"
   ]
  },
  {
   "cell_type": "code",
   "execution_count": 61,
   "id": "09058e7c",
   "metadata": {},
   "outputs": [],
   "source": [
    "#reorder df\n",
    "ga_22_primr_sw_pvt = ga_22_primr_sw_pvt[rm_order]"
   ]
  },
  {
   "cell_type": "code",
   "execution_count": 62,
   "id": "288c5409",
   "metadata": {},
   "outputs": [
    {
     "data": {
      "text/html": [
       "<div>\n",
       "<style scoped>\n",
       "    .dataframe tbody tr th:only-of-type {\n",
       "        vertical-align: middle;\n",
       "    }\n",
       "\n",
       "    .dataframe tbody tr th {\n",
       "        vertical-align: top;\n",
       "    }\n",
       "\n",
       "    .dataframe thead th {\n",
       "        text-align: right;\n",
       "    }\n",
       "</style>\n",
       "<table border=\"1\" class=\"dataframe\">\n",
       "  <thead>\n",
       "    <tr style=\"text-align: right;\">\n",
       "      <th>pivot</th>\n",
       "      <th>UNIQUE_ID</th>\n",
       "      <th>COUNTYFP</th>\n",
       "      <th>county</th>\n",
       "      <th>precinct</th>\n",
       "      <th>R22LTGDBAI</th>\n",
       "      <th>R22LTGDHAL</th>\n",
       "      <th>R22SOSDNGU</th>\n",
       "      <th>R22SOSDDAW</th>\n",
       "      <th>R22INSDROB</th>\n",
       "      <th>R22INSDBAK</th>\n",
       "      <th>...</th>\n",
       "      <th>RSL061DBRU</th>\n",
       "      <th>RSL061DKEM</th>\n",
       "      <th>RSL086DBAR</th>\n",
       "      <th>RSL086DADA</th>\n",
       "      <th>RSL090DDRA</th>\n",
       "      <th>RSL090DSCH</th>\n",
       "      <th>RSL117RDAN</th>\n",
       "      <th>RSL117RKAH</th>\n",
       "      <th>RSL179RTOW</th>\n",
       "      <th>RSL179RDUN</th>\n",
       "    </tr>\n",
       "  </thead>\n",
       "  <tbody>\n",
       "    <tr>\n",
       "      <th>0</th>\n",
       "      <td>001-1B</td>\n",
       "      <td>001</td>\n",
       "      <td>Appling</td>\n",
       "      <td>1B</td>\n",
       "      <td>8</td>\n",
       "      <td>12</td>\n",
       "      <td>16</td>\n",
       "      <td>3</td>\n",
       "      <td>10</td>\n",
       "      <td>9</td>\n",
       "      <td>...</td>\n",
       "      <td>0</td>\n",
       "      <td>0</td>\n",
       "      <td>0</td>\n",
       "      <td>0</td>\n",
       "      <td>0</td>\n",
       "      <td>0</td>\n",
       "      <td>0</td>\n",
       "      <td>0</td>\n",
       "      <td>0</td>\n",
       "      <td>0</td>\n",
       "    </tr>\n",
       "    <tr>\n",
       "      <th>1</th>\n",
       "      <td>001-1C</td>\n",
       "      <td>001</td>\n",
       "      <td>Appling</td>\n",
       "      <td>1C</td>\n",
       "      <td>4</td>\n",
       "      <td>0</td>\n",
       "      <td>1</td>\n",
       "      <td>3</td>\n",
       "      <td>1</td>\n",
       "      <td>3</td>\n",
       "      <td>...</td>\n",
       "      <td>0</td>\n",
       "      <td>0</td>\n",
       "      <td>0</td>\n",
       "      <td>0</td>\n",
       "      <td>0</td>\n",
       "      <td>0</td>\n",
       "      <td>0</td>\n",
       "      <td>0</td>\n",
       "      <td>0</td>\n",
       "      <td>0</td>\n",
       "    </tr>\n",
       "  </tbody>\n",
       "</table>\n",
       "<p>2 rows × 46 columns</p>\n",
       "</div>"
      ],
      "text/plain": [
       "pivot UNIQUE_ID COUNTYFP   county precinct  R22LTGDBAI  R22LTGDHAL  \\\n",
       "0        001-1B      001  Appling       1B           8          12   \n",
       "1        001-1C      001  Appling       1C           4           0   \n",
       "\n",
       "pivot  R22SOSDNGU  R22SOSDDAW  R22INSDROB  R22INSDBAK  ...  RSL061DBRU  \\\n",
       "0              16           3          10           9  ...           0   \n",
       "1               1           3           1           3  ...           0   \n",
       "\n",
       "pivot  RSL061DKEM  RSL086DBAR  RSL086DADA  RSL090DDRA  RSL090DSCH  RSL117RDAN  \\\n",
       "0               0           0           0           0           0           0   \n",
       "1               0           0           0           0           0           0   \n",
       "\n",
       "pivot  RSL117RKAH  RSL179RTOW  RSL179RDUN  \n",
       "0               0           0           0  \n",
       "1               0           0           0  \n",
       "\n",
       "[2 rows x 46 columns]"
      ]
     },
     "execution_count": 62,
     "metadata": {},
     "output_type": "execute_result"
    }
   ],
   "source": [
    "ga_22_primr_sw_pvt.head(2)"
   ]
  },
  {
   "cell_type": "code",
   "execution_count": 63,
   "id": "0659e4d2",
   "metadata": {},
   "outputs": [],
   "source": [
    "if not os.path.exists(\"./ga_22_primary_runoff_prec/\"):\n",
    "    os.mkdir(\"./ga_22_primary_runoff_prec/\")\n",
    "\n",
    "ga_22_primr_sw_pvt.to_csv(\"./ga_22_primary_runoff_prec/ga_22_primary_runoff_prec.csv\", index = False)"
   ]
  }
 ],
 "metadata": {
  "kernelspec": {
   "display_name": "Python 3",
   "language": "python",
   "name": "python3"
  },
  "language_info": {
   "codemirror_mode": {
    "name": "ipython",
    "version": 3
   },
   "file_extension": ".py",
   "mimetype": "text/x-python",
   "name": "python",
   "nbconvert_exporter": "python",
   "pygments_lexer": "ipython3",
   "version": "3.8.8"
  }
 },
 "nbformat": 4,
 "nbformat_minor": 5
}
