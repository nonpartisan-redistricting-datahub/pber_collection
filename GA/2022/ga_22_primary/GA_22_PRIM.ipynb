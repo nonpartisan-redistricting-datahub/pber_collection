{
 "cells": [
  {
   "cell_type": "markdown",
   "id": "aeb23121",
   "metadata": {},
   "source": [
    "### Georgia 2022 Primary Election Returns\n",
    "\n",
    "#### Sections\n",
    "- <a href=\"#ETL\">Cleaning Precinct-Level Election Results</a><br>\n",
    "- <a href=\"#check\">Vote Totals Checks</a><br>\n",
    "- <a href =\"#discrepancies\"> Examine/Address Discrepancies <a/><br>\n",
    "- <a href=\"#readme\">Creating README</a><br>\n",
    "- <a href=\"#exp\">Exporting Cleaned Precinct-Level Dataset</a><br>\n",
    "\n",
    "\n",
    "#### Sources\n",
    "Precint-level data from [Georgia Secretary of State Certified Results by County - XML format](https://results.enr.clarityelections.com/GA/113667/web.285569/#/access-to-races).\n",
    "\n",
    "Statewide county-level data to run checks from [Georgia Secretary of State Statewide Summary Report - CSV format](https://results.enr.clarityelections.com//GA//113667/294374/reports/summary.zip)\n",
    "    \n",
    "County-level data to run checks from [Georgia Secretary of State County Summary Report - XML format](https://results.enr.clarityelections.com//GA//113667/294374/reports/detailxml.zip)"
   ]
  },
  {
   "cell_type": "code",
   "execution_count": 1,
   "id": "87a88202",
   "metadata": {},
   "outputs": [],
   "source": [
    "import geopandas as gp\n",
    "import pandas as pd\n",
    "import os\n",
    "import xml.etree.ElementTree as et\n",
    "import numpy as np\n",
    "import re\n",
    "import GA22_primary_helper as hlp\n",
    "pd.set_option(\"display.max_rows\", None)"
   ]
  },
  {
   "cell_type": "markdown",
   "id": "f2011cb8",
   "metadata": {},
   "source": [
    "<p><a name=\"ETL\"></a></p>\n",
    "\n",
    "### Cleaning Precint Level Election Results"
   ]
  },
  {
   "cell_type": "markdown",
   "id": "dfcf8d49",
   "metadata": {},
   "source": [
    "Read in precint level election results"
   ]
  },
  {
   "cell_type": "code",
   "execution_count": 2,
   "id": "fa415aa8",
   "metadata": {},
   "outputs": [],
   "source": [
    "df_primary = hlp.ph_clarityelec_xml(\"./raw-from-source/counties/\", 'primary')"
   ]
  },
  {
   "cell_type": "code",
   "execution_count": 3,
   "id": "e3769e6b",
   "metadata": {},
   "outputs": [
    {
     "name": "stdout",
     "output_type": "stream",
     "text": [
      "True\n"
     ]
    }
   ],
   "source": [
    "#concatenate df, make sure all counties are read in\n",
    "ga_22_primary = pd.concat([df_primary])\n",
    "print(len(ga_22_primary[\"county\"].unique()) == 159) #159 counties in GA"
   ]
  },
  {
   "cell_type": "code",
   "execution_count": 4,
   "id": "b5b19eea",
   "metadata": {},
   "outputs": [
    {
     "data": {
      "text/plain": [
       "dtype('int32')"
      ]
     },
     "execution_count": 4,
     "metadata": {},
     "output_type": "execute_result"
    }
   ],
   "source": [
    "#Check df dtypes, set vote column type to int\n",
    "# ga_22_primary.info()\n",
    "ga_22_primary.num_votes = ga_22_primary.num_votes.astype(int)\n",
    "ga_22_primary.num_votes.dtype"
   ]
  },
  {
   "cell_type": "markdown",
   "id": "7cbecd0a",
   "metadata": {},
   "source": [
    "#### Subset dataframe by contests with statewide reach"
   ]
  },
  {
   "cell_type": "code",
   "execution_count": 5,
   "id": "c24cf685",
   "metadata": {},
   "outputs": [],
   "source": [
    "keywords_list = ['US Senate', 'US House', 'Governor', 'Attorney General', 'Secretary of State', 'State School Superintendent', 'Agriculture', 'Labor', 'Insurance', 'PSC', 'Public Service', 'Supreme Court', 'Court of Appeals', 'State Senate', 'State House']"
   ]
  },
  {
   "cell_type": "markdown",
   "id": "9f2fee71",
   "metadata": {},
   "source": [
    "Create list of all contests, and subset by keywords"
   ]
  },
  {
   "cell_type": "code",
   "execution_count": 6,
   "id": "9a5dcb62",
   "metadata": {},
   "outputs": [
    {
     "name": "stdout",
     "output_type": "stream",
     "text": [
      "Unique contests in dataset: 1367\n",
      "Contests to keep: 578\n"
     ]
    }
   ],
   "source": [
    "all_contests = ga_22_primary['contest'].unique().tolist()\n",
    "keep_contests = hlp.contests_to_keep(all_contests, keywords_list)\n",
    "keep_contests.sort()\n",
    "print('Unique contests in dataset: '+ str(len(all_contests)))\n",
    "print('Contests to keep: ' + str(len(keep_contests)))"
   ]
  },
  {
   "cell_type": "markdown",
   "id": "57c90bb5",
   "metadata": {},
   "source": [
    "Visually inspect remaining contests, as a check"
   ]
  },
  {
   "cell_type": "code",
   "execution_count": 7,
   "id": "14cf2ded",
   "metadata": {},
   "outputs": [],
   "source": [
    "# #check remaining contests visually\n",
    "# other_contests = set(all_contests) - set(keep_contests)\n",
    "# other_contests"
   ]
  },
  {
   "cell_type": "code",
   "execution_count": 8,
   "id": "b7908df9",
   "metadata": {},
   "outputs": [],
   "source": [
    "#subset dataframe by contests of interest only\n",
    "ga_22_primary_sw = ga_22_primary[ga_22_primary['contest'].isin(keep_contests)].copy()"
   ]
  },
  {
   "cell_type": "markdown",
   "id": "a0efddaa",
   "metadata": {},
   "source": [
    "#### Standardize contest names"
   ]
  },
  {
   "cell_type": "code",
   "execution_count": 9,
   "id": "74075d1d",
   "metadata": {},
   "outputs": [],
   "source": [
    "#Create df with unique contest names\n",
    "contests = pd.DataFrame(keep_contests)\n",
    "contests.columns = ['orig']"
   ]
  },
  {
   "cell_type": "markdown",
   "id": "dba5235c",
   "metadata": {},
   "source": [
    "Visually inspect contest name variations, create functions to standardize contest type"
   ]
  },
  {
   "cell_type": "code",
   "execution_count": 10,
   "id": "e2f062f8",
   "metadata": {},
   "outputs": [],
   "source": [
    "#set(keep_contests)"
   ]
  },
  {
   "cell_type": "code",
   "execution_count": 11,
   "id": "02ee79d0",
   "metadata": {},
   "outputs": [],
   "source": [
    "#Functions to split contest string into office type, district, and party\n",
    "contest_types = ['Attorney General', 'Commissioner of Agriculture', 'Commissioner of Insurance', 'Commissioner of Labor', 'Court of Appeals', 'Governor', 'Lieutenant Governor', 'Liutenant Governor', 'Public Service Commissioner', 'Secretary of State', 'State House', 'State School Superintendent', 'State Senate', 'US House', 'Supreme Court', 'US Senate','PSC']\n",
    "def stnd_race(contest_string):\n",
    "    standardized_race = ''\n",
    "    for i in contest_types:\n",
    "        if i in contest_string:\n",
    "            standardized_race = i      \n",
    "    return standardized_race\n",
    "\n",
    "def stnd_dist(race_string):\n",
    "    race_string = race_string.lower()\n",
    "    if '/' in race_string:\n",
    "        race_string = race_string.split('/')[0]\n",
    "    if any(word in race_string for word in ['us house', 'state senate', 'public service commissioner', 'psc']):\n",
    "        district = ''.join(filter(str.isdigit, race_string))\n",
    "    elif 'state house' in race_string:\n",
    "        district = ''.join(filter(str.isdigit, race_string))\n",
    "    else:\n",
    "        district = ''\n",
    "    return district\n",
    "\n",
    "def get_party(race_string):\n",
    "    if \"dem\" in race_string.lower():\n",
    "        return \"Dem\"\n",
    "    elif \"rep\" in race_string.lower():\n",
    "        return \"Rep\"\n",
    "    elif \"supreme court\" in race_string.lower() or \"court of appeals\" in race_string.lower():\n",
    "        return \"Nonpartisan\""
   ]
  },
  {
   "cell_type": "markdown",
   "id": "356a2bfe",
   "metadata": {},
   "source": [
    "Create new columns splitting contest string into office type, district, and party"
   ]
  },
  {
   "cell_type": "code",
   "execution_count": 12,
   "id": "9f66fba9",
   "metadata": {},
   "outputs": [],
   "source": [
    "contests['orig'] = contests['orig'].apply(lambda x: x.strip())\n",
    "contests['party'] = contests['orig'].apply(lambda x: get_party(x))\n",
    "contests['race'] = contests['orig'].apply(lambda x: stnd_race(x))\n",
    "contests['district'] = contests['orig'].apply(lambda x: stnd_dist(x))"
   ]
  },
  {
   "cell_type": "markdown",
   "id": "0316d184",
   "metadata": {},
   "source": [
    "Check for nulls"
   ]
  },
  {
   "cell_type": "code",
   "execution_count": 13,
   "id": "d1896258",
   "metadata": {},
   "outputs": [],
   "source": [
    "# #checks\n",
    "# contests[contests['race']== 'PSC']\n",
    "# contests[contests['race'] == '']"
   ]
  },
  {
   "cell_type": "markdown",
   "id": "60a62826",
   "metadata": {},
   "source": [
    "Manually correct nulls, anomalies"
   ]
  },
  {
   "cell_type": "code",
   "execution_count": 14,
   "id": "79cabaeb",
   "metadata": {},
   "outputs": [],
   "source": [
    "# Change PSC to Public Service Commissioner\n",
    "contests['race'] = contests['race'].replace('PSC', 'Public Service Commissioner')\n",
    "\n",
    "# Fix Lieutenant Spelling\n",
    "contests['race'] = contests['race'].replace('Liutenant Governor', 'Lieutenant Governor')\n",
    "\n",
    "# Manually rename anomalous contests\n",
    "contests.at[20, 'race'] =  'Commissioner of Agriculture'\n",
    "contests.at[137, 'race'] = 'Commissioner of Agriculture'\n",
    "contests.at[21, 'race'] = 'Commissioner of Insurance'\n",
    "contests.at[138, 'race'] = 'Commissioner of Insurance'\n",
    "contests.at[22, 'race'] = 'Commissioner of Labor'\n",
    "contests.at[139, 'race'] = 'Commissioner of Labor'"
   ]
  },
  {
   "cell_type": "code",
   "execution_count": 15,
   "id": "70b588ae",
   "metadata": {},
   "outputs": [],
   "source": [
    "#Create standardized contest names for non- districted contests\n",
    "non_districted = contests[contests['district'] == ''].copy()\n",
    "non_districted['new_race'] = non_districted['race'] + ' - ' + non_districted['party']\n",
    "#Create standardized contest names for districted contests\n",
    "districted = contests[contests['district'] != ''].copy()\n",
    "districted['new_race'] = districted['race'] + ' - District '+ districted['district'] + ' - ' + districted['party']\n",
    "#Combine into one DF\n",
    "contests_stnd = pd.concat([non_districted, districted], axis=0)"
   ]
  },
  {
   "cell_type": "code",
   "execution_count": 16,
   "id": "495a972e",
   "metadata": {},
   "outputs": [
    {
     "data": {
      "text/plain": [
       "True"
      ]
     },
     "execution_count": 16,
     "metadata": {},
     "output_type": "execute_result"
    }
   ],
   "source": [
    "#check new df has same number of unique contests as the original df\n",
    "contests_stnd.shape[0] == contests.shape[0]"
   ]
  },
  {
   "cell_type": "code",
   "execution_count": 17,
   "id": "98c801cb",
   "metadata": {},
   "outputs": [],
   "source": [
    "#Create dictionary of standardized contest names\n",
    "contests_stnd_dict = dict(zip(contests_stnd['orig'], contests_stnd['new_race']))"
   ]
  },
  {
   "cell_type": "code",
   "execution_count": 18,
   "id": "6af94970",
   "metadata": {},
   "outputs": [
    {
     "name": "stdout",
     "output_type": "stream",
     "text": [
      "Number of original \"unique\" contests:  578\n",
      "Number of standardized contests:  402\n"
     ]
    }
   ],
   "source": [
    "#Apply dict to standardize contests in precint election returns df\n",
    "ga_22_primary_sw['stnd_contest'] = ga_22_primary_sw['contest'].map(contests_stnd_dict)\n",
    "\n",
    "print('Number of original \"unique\" contests: ', ga_22_primary_sw['contest'].nunique())\n",
    "print('Number of standardized contests: ', ga_22_primary_sw['stnd_contest'].nunique())"
   ]
  },
  {
   "cell_type": "markdown",
   "id": "fffd1a6e",
   "metadata": {},
   "source": [
    "#### Add FIPS Column, Create Unique ID Column"
   ]
  },
  {
   "cell_type": "code",
   "execution_count": 19,
   "id": "85e08616",
   "metadata": {},
   "outputs": [],
   "source": [
    "def create_fips_col(csv_path, state_name_string, df, county_col_string):\n",
    "    fips_file = pd.read_csv(csv_path)\n",
    "    fips_file = fips_file[fips_file[\"State\"] == state_name_string]\n",
    "    fips_file[\"FIPS County\"] = fips_file[\"FIPS County\"].astype(str)\n",
    "    fips_file[\"FIPS County\"] = fips_file[\"FIPS County\"].str.zfill(3)\n",
    "    fips_file['County Name'] = fips_file['County Name'].apply(lambda x: x.replace(' ', ''))\n",
    "    fips_file['County Name'] = fips_file['County Name'].apply(lambda x: str(x).lower())\n",
    "    fips_dict = dict(zip(fips_file['County Name'], fips_file['FIPS County']))\n",
    "    df['COUNTYFP'] = df[county_col_string].apply(lambda x: str(x).lower())\n",
    "    df['COUNTYFP'] = df['COUNTYFP'].map(fips_dict).fillna(df[county_col_string])\n",
    "    df['COUNTYFP'] = df['COUNTYFP'].astype(str)\n",
    "    df['COUNTYFP'] = df['COUNTYFP'].str.zfill(3)\n",
    "    return df"
   ]
  },
  {
   "cell_type": "code",
   "execution_count": 20,
   "id": "cd4f00d1",
   "metadata": {},
   "outputs": [],
   "source": [
    "#Add FIPS col to precinct df\n",
    "ga_22_primary_sw = create_fips_col(\"./FIPS/US_FIPS_Codes.csv\", 'Georgia', ga_22_primary_sw, 'county')"
   ]
  },
  {
   "cell_type": "code",
   "execution_count": 21,
   "id": "bb26b764",
   "metadata": {},
   "outputs": [],
   "source": [
    "#Create UNIQUE_ID col\n",
    "ga_22_primary_sw['UNIQUE_ID'] = ga_22_primary_sw['COUNTYFP'] + '-' +ga_22_primary['precinct']"
   ]
  },
  {
   "cell_type": "code",
   "execution_count": 22,
   "id": "4690cd06",
   "metadata": {},
   "outputs": [
    {
     "data": {
      "text/plain": [
       "2707"
      ]
     },
     "execution_count": 22,
     "metadata": {},
     "output_type": "execute_result"
    }
   ],
   "source": [
    "#Check for 2707 precincts\n",
    "ga_22_primary_sw['UNIQUE_ID'].nunique()"
   ]
  },
  {
   "cell_type": "markdown",
   "id": "80292741",
   "metadata": {},
   "source": [
    "#### Clean columns, create pivot column"
   ]
  },
  {
   "cell_type": "code",
   "execution_count": 23,
   "id": "8167d2ec",
   "metadata": {},
   "outputs": [],
   "source": [
    "#Add incumbency column\n",
    "incumbency_mask = ga_22_primary_sw['choice'].str.contains(r'\\(I\\)')\n",
    "ga_22_primary_sw['Incumbent'] = 0\n",
    "ga_22_primary_sw.loc[incumbency_mask, 'Incumbent'] = 1\n",
    "#ga_22_prim_incumbent_dict = dict(zip(ga_22_primary_sw['VEST'], ga_22_primary_sw['Incumbent']))"
   ]
  },
  {
   "cell_type": "code",
   "execution_count": 24,
   "id": "689a3c4f",
   "metadata": {},
   "outputs": [],
   "source": [
    "#Remove incumbent status from candidate name\n",
    "ga_22_primary_sw['choice'] = ga_22_primary_sw['choice'].apply(lambda x: x.replace('(I)', ''))"
   ]
  },
  {
   "cell_type": "markdown",
   "id": "b75575e1",
   "metadata": {},
   "source": [
    "Create pivot col, of choice + contest"
   ]
  },
  {
   "cell_type": "code",
   "execution_count": 25,
   "id": "03ae96b6",
   "metadata": {},
   "outputs": [],
   "source": [
    "#Function cleans candidate and contest strings, and combines into a pivot column\n",
    "def create_pivot_col(df, name_string, contest_string, pivot_string):\n",
    "    df[name_string] = df[name_string].apply(lambda x: str(x).strip())\n",
    "    df[contest_string] = df[contest_string].apply(lambda x: str(x).strip())\n",
    "    df[name_string] = df[name_string].apply(lambda x:' '.join(str(x).split())) # This removes extra spaces between first and last name\n",
    "    substrings_to_remove = ['.', \"'\", '\"', ',', '(I)']\n",
    "    for substring in substrings_to_remove:\n",
    "        df[name_string] = df[name_string].apply(lambda x: x.replace(substring, ''))\n",
    "        df[contest_string] = df[contest_string].apply(lambda x: x.replace(substring, ''))\n",
    "    #Anomalies specific to this election\n",
    "    df[name_string] = df[name_string].apply(lambda x: x.replace('Deloach', 'DeLoach'))\n",
    "    df[name_string] = df[name_string].apply(lambda x: x.replace('Tabitha Johnson- Green', 'Tabitha Johnson-Green'))\n",
    "    df[name_string] = df[name_string].apply(lambda x: str(x).strip())\n",
    "    df[contest_string] = df[contest_string].apply(lambda x: str(x).strip())\n",
    "    df[pivot_string]= df[name_string]+ ' -:- ' + df[contest_string]\n",
    "    return df"
   ]
  },
  {
   "cell_type": "code",
   "execution_count": 26,
   "id": "4e51c53e",
   "metadata": {},
   "outputs": [],
   "source": [
    "#create pivot col for precinct df\n",
    "ga_22_primary_sw = create_pivot_col(ga_22_primary_sw, 'choice', 'stnd_contest', 'pivot')"
   ]
  },
  {
   "cell_type": "code",
   "execution_count": 27,
   "id": "007693e6",
   "metadata": {},
   "outputs": [
    {
     "data": {
      "text/html": [
       "<div>\n",
       "<style scoped>\n",
       "    .dataframe tbody tr th:only-of-type {\n",
       "        vertical-align: middle;\n",
       "    }\n",
       "\n",
       "    .dataframe tbody tr th {\n",
       "        vertical-align: top;\n",
       "    }\n",
       "\n",
       "    .dataframe thead th {\n",
       "        text-align: right;\n",
       "    }\n",
       "</style>\n",
       "<table border=\"1\" class=\"dataframe\">\n",
       "  <thead>\n",
       "    <tr style=\"text-align: right;\">\n",
       "      <th></th>\n",
       "      <th>county</th>\n",
       "      <th>contest</th>\n",
       "      <th>choice</th>\n",
       "      <th>voting_method</th>\n",
       "      <th>precinct</th>\n",
       "      <th>num_votes</th>\n",
       "      <th>election</th>\n",
       "      <th>stnd_contest</th>\n",
       "      <th>COUNTYFP</th>\n",
       "      <th>UNIQUE_ID</th>\n",
       "      <th>Incumbent</th>\n",
       "      <th>pivot</th>\n",
       "    </tr>\n",
       "  </thead>\n",
       "  <tbody>\n",
       "    <tr>\n",
       "      <th>0</th>\n",
       "      <td>Appling</td>\n",
       "      <td>US Senate - Rep</td>\n",
       "      <td>Gary W Black</td>\n",
       "      <td>Election Day Votes</td>\n",
       "      <td>1B</td>\n",
       "      <td>41</td>\n",
       "      <td>primary</td>\n",
       "      <td>US Senate - Rep</td>\n",
       "      <td>001</td>\n",
       "      <td>001-1B</td>\n",
       "      <td>0</td>\n",
       "      <td>Gary W Black -:- US Senate - Rep</td>\n",
       "    </tr>\n",
       "    <tr>\n",
       "      <th>1</th>\n",
       "      <td>Appling</td>\n",
       "      <td>US Senate - Rep</td>\n",
       "      <td>Gary W Black</td>\n",
       "      <td>Election Day Votes</td>\n",
       "      <td>1C</td>\n",
       "      <td>46</td>\n",
       "      <td>primary</td>\n",
       "      <td>US Senate - Rep</td>\n",
       "      <td>001</td>\n",
       "      <td>001-1C</td>\n",
       "      <td>0</td>\n",
       "      <td>Gary W Black -:- US Senate - Rep</td>\n",
       "    </tr>\n",
       "  </tbody>\n",
       "</table>\n",
       "</div>"
      ],
      "text/plain": [
       "    county          contest        choice       voting_method precinct  \\\n",
       "0  Appling  US Senate - Rep  Gary W Black  Election Day Votes       1B   \n",
       "1  Appling  US Senate - Rep  Gary W Black  Election Day Votes       1C   \n",
       "\n",
       "   num_votes election     stnd_contest COUNTYFP UNIQUE_ID  Incumbent  \\\n",
       "0         41  primary  US Senate - Rep      001    001-1B          0   \n",
       "1         46  primary  US Senate - Rep      001    001-1C          0   \n",
       "\n",
       "                              pivot  \n",
       "0  Gary W Black -:- US Senate - Rep  \n",
       "1  Gary W Black -:- US Senate - Rep  "
      ]
     },
     "execution_count": 27,
     "metadata": {},
     "output_type": "execute_result"
    }
   ],
   "source": [
    "#Check\n",
    "ga_22_primary_sw.head(2)"
   ]
  },
  {
   "cell_type": "markdown",
   "id": "90303b91",
   "metadata": {},
   "source": [
    "#### Pivot Data"
   ]
  },
  {
   "cell_type": "code",
   "execution_count": 28,
   "id": "a78a060d",
   "metadata": {},
   "outputs": [],
   "source": [
    "ga_22_primary_sw_pvt =pd.pivot_table(ga_22_primary_sw,index=[\"UNIQUE_ID\",\"county\",\"COUNTYFP\",\"precinct\"],columns=[\"pivot\"],values=['num_votes'],aggfunc=sum).fillna(0)"
   ]
  },
  {
   "cell_type": "code",
   "execution_count": 29,
   "id": "af599930",
   "metadata": {},
   "outputs": [],
   "source": [
    "#Clean up indexing\n",
    "ga_22_primary_sw_pvt.columns = ga_22_primary_sw_pvt.columns.droplevel(0)\n",
    "ga_22_primary_sw_pvt.reset_index(inplace = True)"
   ]
  },
  {
   "cell_type": "code",
   "execution_count": 30,
   "id": "a9d5d765",
   "metadata": {},
   "outputs": [
    {
     "data": {
      "text/html": [
       "<div>\n",
       "<style scoped>\n",
       "    .dataframe tbody tr th:only-of-type {\n",
       "        vertical-align: middle;\n",
       "    }\n",
       "\n",
       "    .dataframe tbody tr th {\n",
       "        vertical-align: top;\n",
       "    }\n",
       "\n",
       "    .dataframe thead th {\n",
       "        text-align: right;\n",
       "    }\n",
       "</style>\n",
       "<table border=\"1\" class=\"dataframe\">\n",
       "  <thead>\n",
       "    <tr style=\"text-align: right;\">\n",
       "      <th>pivot</th>\n",
       "      <th>UNIQUE_ID</th>\n",
       "      <th>county</th>\n",
       "      <th>COUNTYFP</th>\n",
       "      <th>precinct</th>\n",
       "      <th>Adam Petty -:- State Senate - District 38 - Dem</th>\n",
       "      <th>Afoma Eguh Okafor -:- State House - District 71 - Dem</th>\n",
       "      <th>Al Williams -:- State House - District 168 - Dem</th>\n",
       "      <th>Al Wynn -:- State House - District 153 - Dem</th>\n",
       "      <th>Alan Powell -:- State House - District 33 - Rep</th>\n",
       "      <th>Alan Sims -:- US House - District 10 - Rep</th>\n",
       "      <th>...</th>\n",
       "      <th>William C Harris -:- State House - District 126 - Rep</th>\n",
       "      <th>William Harris -:- State House - District 74 - Dem</th>\n",
       "      <th>William Park Freeman -:- State House - District 88 - Rep</th>\n",
       "      <th>William Will Boddie Jr -:- Commissioner of Labor - Dem</th>\n",
       "      <th>Willie Mae Oyogoa -:- State House - District 44 - Dem</th>\n",
       "      <th>Winfred Dukes -:- Commissioner of Agriculture - Dem</th>\n",
       "      <th>Yasmin Neal -:- State House - District 79 - Dem</th>\n",
       "      <th>Yg Nyghtstorm -:- US House - District 7 - Rep</th>\n",
       "      <th>Zach Procter -:- State House - District 101 - Rep</th>\n",
       "      <th>Zeph Baker -:- State House - District 140 - Dem</th>\n",
       "    </tr>\n",
       "  </thead>\n",
       "  <tbody>\n",
       "    <tr>\n",
       "      <th>0</th>\n",
       "      <td>001-1B</td>\n",
       "      <td>Appling</td>\n",
       "      <td>001</td>\n",
       "      <td>1B</td>\n",
       "      <td>0.0</td>\n",
       "      <td>0.0</td>\n",
       "      <td>0.0</td>\n",
       "      <td>0.0</td>\n",
       "      <td>0.0</td>\n",
       "      <td>0.0</td>\n",
       "      <td>...</td>\n",
       "      <td>0.0</td>\n",
       "      <td>0.0</td>\n",
       "      <td>0.0</td>\n",
       "      <td>10.0</td>\n",
       "      <td>0.0</td>\n",
       "      <td>5.0</td>\n",
       "      <td>0.0</td>\n",
       "      <td>0.0</td>\n",
       "      <td>0.0</td>\n",
       "      <td>0.0</td>\n",
       "    </tr>\n",
       "  </tbody>\n",
       "</table>\n",
       "<p>1 rows × 659 columns</p>\n",
       "</div>"
      ],
      "text/plain": [
       "pivot UNIQUE_ID   county COUNTYFP precinct  \\\n",
       "0        001-1B  Appling      001       1B   \n",
       "\n",
       "pivot  Adam Petty -:- State Senate - District 38 - Dem  \\\n",
       "0                                                  0.0   \n",
       "\n",
       "pivot  Afoma Eguh Okafor -:- State House - District 71 - Dem  \\\n",
       "0                                                    0.0       \n",
       "\n",
       "pivot  Al Williams -:- State House - District 168 - Dem  \\\n",
       "0                                                   0.0   \n",
       "\n",
       "pivot  Al Wynn -:- State House - District 153 - Dem  \\\n",
       "0                                               0.0   \n",
       "\n",
       "pivot  Alan Powell -:- State House - District 33 - Rep  \\\n",
       "0                                                  0.0   \n",
       "\n",
       "pivot  Alan Sims -:- US House - District 10 - Rep  ...  \\\n",
       "0                                             0.0  ...   \n",
       "\n",
       "pivot  William C Harris -:- State House - District 126 - Rep  \\\n",
       "0                                                    0.0       \n",
       "\n",
       "pivot  William Harris -:- State House - District 74 - Dem  \\\n",
       "0                                                    0.0    \n",
       "\n",
       "pivot  William Park Freeman -:- State House - District 88 - Rep  \\\n",
       "0                                                    0.0          \n",
       "\n",
       "pivot  William Will Boddie Jr -:- Commissioner of Labor - Dem  \\\n",
       "0                                                   10.0        \n",
       "\n",
       "pivot  Willie Mae Oyogoa -:- State House - District 44 - Dem  \\\n",
       "0                                                    0.0       \n",
       "\n",
       "pivot  Winfred Dukes -:- Commissioner of Agriculture - Dem  \\\n",
       "0                                                    5.0     \n",
       "\n",
       "pivot  Yasmin Neal -:- State House - District 79 - Dem  \\\n",
       "0                                                  0.0   \n",
       "\n",
       "pivot  Yg Nyghtstorm -:- US House - District 7 - Rep  \\\n",
       "0                                                0.0   \n",
       "\n",
       "pivot  Zach Procter -:- State House - District 101 - Rep  \\\n",
       "0                                                    0.0   \n",
       "\n",
       "pivot  Zeph Baker -:- State House - District 140 - Dem  \n",
       "0                                                  0.0  \n",
       "\n",
       "[1 rows x 659 columns]"
      ]
     },
     "execution_count": 30,
     "metadata": {},
     "output_type": "execute_result"
    }
   ],
   "source": [
    "#check\n",
    "ga_22_primary_sw_pvt.head(1)"
   ]
  },
  {
   "cell_type": "markdown",
   "id": "1651851e",
   "metadata": {},
   "source": [
    "Adapt functions\n",
    "Georgia Primary specific modifications:\n",
    "- General election for supreme court and court of appeals races\n",
    "- 180 seats in state house, requiring 3 character integers\n",
    "- at-large public service commissioner race included"
   ]
  },
  {
   "cell_type": "code",
   "execution_count": 31,
   "id": "9afba084",
   "metadata": {},
   "outputs": [],
   "source": [
    "#functions to rename columns\n",
    "def get_election_type_year(race_string):\n",
    "    if any(word in race_string.lower() for word in ['court of appeals', 'supreme court']):\n",
    "         electype = \"G\"\n",
    "    else:\n",
    "        electype = \"P\"\n",
    "    if any(word in race_string.lower() for word in ['us house', 'state house', 'state senate', 'public service commissioner', 'psc']):\n",
    "        return electype\n",
    "    else:\n",
    "        return electype +\"22\"\n",
    "    \n",
    "def get_race(race_string):\n",
    "    race_string = race_string.lower()\n",
    "    if '/' in race_string:\n",
    "        race_string = race_string.split('/')[0]\n",
    "    race = ''\n",
    "    if \"u.s. house\" in race_string or 'us house' in race_string:\n",
    "        race = \"CON\"\n",
    "    elif \"state house\" in race_string:\n",
    "        race =  \"SL\"\n",
    "    elif \"state senate\" in race_string:\n",
    "        race = \"SU\"\n",
    "    elif \"us senate\" in race_string or \"u.s senate\" in race_string:\n",
    "        race = \"USS\"\n",
    "    elif \"public service\" in race_string:\n",
    "        race = \"PSC\"\n",
    "    elif \"attorney general\" in race_string:\n",
    "        race = \"ATG\"\n",
    "    elif \"auditor general\" in race_string:\n",
    "        race = \"AUD\"\n",
    "    elif \"treasurer\" in race_string:\n",
    "        race = \"TRE\"\n",
    "    elif \"superintendent\" in race_string:\n",
    "        race = \"SUP\"\n",
    "    elif \"secretary of state\" in race_string:\n",
    "        race = \"SOS\"\n",
    "    elif \"lieutenant governor\" in race_string or 'liutenant governor' in race_string:\n",
    "        race = \"LTG\"\n",
    "    elif \"governor\" in race_string:\n",
    "        race = \"GOV\"\n",
    "    elif \"commissioner of labor\" in race_string:\n",
    "        race = \"LAB\"\n",
    "    elif \"commissioner of agriculture\" in race_string:\n",
    "        race = \"AGR\"\n",
    "    elif \"commissioner of insurance\" in race_string:\n",
    "        race = \"INS\"\n",
    "    elif \"state school superintendent\" in race_string:\n",
    "        race = \"SUP\"\n",
    "    elif \"public service commissioner\" in race_string or 'psc' in race_string:\n",
    "        race = \"PSC\"\n",
    "    elif \"supreme court\" in race_string:\n",
    "        race = \"SSC\"\n",
    "    elif \"court of appeals\" in race_string:\n",
    "        race = \"COA\"\n",
    "    if any(word in race_string for word in ['us house', 'state senate', 'public service commissioner', 'psc']):\n",
    "        district = ''.join(filter(str.isdigit, race_string)).zfill(2)\n",
    "    elif 'state house' in race_string:\n",
    "        district = ''.join(filter(str.isdigit, race_string)).zfill(3)\n",
    "    else:\n",
    "        district = ''\n",
    "    return race + district\n",
    "\n",
    "def get_party(race_string): #order is D first, then R, to account for instances of 'house of REPresentatives'\n",
    "    if \"dem\" in race_string.lower():\n",
    "        return \"D\"\n",
    "    elif \"rep\" in race_string.lower():\n",
    "        return \"R\"\n",
    "    elif \"supreme court\" in race_string.lower() or \"court of appeals\" in race_string.lower():\n",
    "        return \"N\"\n",
    "    \n",
    "def get_name(name_string):\n",
    "    name_string = name_string.split(\"-:-\")[0]\n",
    "    name_string = name_string.replace(\"'\",\"\")\n",
    "    name_string = name_string.replace('\"','')\n",
    "    name_string = name_string.replace(',','')\n",
    "    name_string = name_string.strip()\n",
    "    if name_string.split(\" \")[-1] in ['II', 'III', 'Jr', 'Jr.', 'Sr.', 'JR.', \"JR\", \"IV\", 'Jr', 'Sr']:\n",
    "            likely_last = name_string.split(\" \")[-2]\n",
    "    else:\n",
    "        likely_last = name_string.split(\" \")[-1]\n",
    "    return likely_last[:3].upper()\n",
    "\n",
    "def get_VEST(race_string):\n",
    "    electype = get_election_type_year(race_string)\n",
    "    contest = get_race(race_string)\n",
    "    party = get_party(race_string)\n",
    "    candidate = get_name(race_string)\n",
    "    vest_name = electype+contest+party+candidate\n",
    "    if len(vest_name) > 10:\n",
    "        print(vest_name)\n",
    "    return vest_name"
   ]
  },
  {
   "cell_type": "markdown",
   "id": "998be2b7",
   "metadata": {},
   "source": [
    "Create function that creates dictionary to rename columns in pivoted df"
   ]
  },
  {
   "cell_type": "code",
   "execution_count": 32,
   "id": "e3b3bc94",
   "metadata": {},
   "outputs": [],
   "source": [
    "def create_column_rename_dicts(df, exclude_columns):\n",
    "    contest_columns = [i for i in df.columns if i not in exclude_columns]\n",
    "\n",
    "    contest_updates_dict = {}\n",
    "    contest_updates_reversed = {}\n",
    "    clean_dups = {}\n",
    "    new_names = []\n",
    "    \n",
    "    for val in contest_columns:\n",
    "        new_name = get_VEST(val)  # get_VEST\n",
    "        contest_updates_dict[val] = new_name\n",
    "        \n",
    "        if new_name not in new_names:\n",
    "            new_names.append(new_name)\n",
    "            contest_updates_reversed[new_name] = val\n",
    "        else:\n",
    "            print(\"Duplicate\", new_name)\n",
    "            print(contest_updates_reversed[new_name])\n",
    "            print(val)\n",
    "            clean_dups[val] = contest_updates_reversed[new_name]\n",
    "    \n",
    "    return contest_updates_dict, contest_updates_reversed, clean_dups"
   ]
  },
  {
   "cell_type": "code",
   "execution_count": 33,
   "id": "7aa7a34c",
   "metadata": {},
   "outputs": [
    {
     "name": "stdout",
     "output_type": "stream",
     "text": [
      "Duplicate P22LTGDBRO\n",
      "Tony Brown -:- Lieutenant Governor - Dem\n",
      "Tyrone Brooks Jr -:- Lieutenant Governor - Dem\n"
     ]
    }
   ],
   "source": [
    "#Create dictionaries for renaming pivot col to VEST\n",
    "exclude_columns = ['UNIQUE_ID', 'county', 'COUNTYFP', 'precinct']\n",
    "contest_updates_dict, contest_updates_reversed, clean_dups = create_column_rename_dicts(ga_22_primary_sw_pvt, exclude_columns)"
   ]
  },
  {
   "cell_type": "code",
   "execution_count": 34,
   "id": "685ed9bd",
   "metadata": {},
   "outputs": [],
   "source": [
    "#Correct naming convention for candidates with similar last name in Lieutenant Governor - Dem contest\n",
    "contest_updates_dict['Tony Brown -:- Lieutenant Governor - Dem'] = 'P22LTGDBTO'\n",
    "contest_updates_dict['Tyrone Brooks Jr -:- Lieutenant Governor - Dem'] = 'P22LTGDBTY'\n",
    "contest_updates_reversed['P22LTGDBTO'] = 'Tony Brown -:- Lieutenant Governor - Dem'\n",
    "contest_updates_reversed['P22LTGDBTY'] = 'Tyrone Brooks, Jr -:- Lieutenant Governor - Dem'"
   ]
  },
  {
   "cell_type": "code",
   "execution_count": 35,
   "id": "95d10c01",
   "metadata": {},
   "outputs": [],
   "source": [
    "#Check all dict values under 10 characters\n",
    "for item in contest_updates_dict.values():\n",
    "    if len(item) > 10 or len(item) < 7:\n",
    "        print(item)\n",
    "        print(contest_updates_reversed[item])"
   ]
  },
  {
   "cell_type": "code",
   "execution_count": 36,
   "id": "1366b818",
   "metadata": {},
   "outputs": [],
   "source": [
    "#apply rename dictionary to pivoted df\n",
    "ga_22_primary_sw_pvt.rename(columns = contest_updates_dict, inplace = True)\n",
    "ga_22_primary_sw_pvt.reset_index(inplace = True, drop = True)"
   ]
  },
  {
   "cell_type": "code",
   "execution_count": 37,
   "id": "ba239744",
   "metadata": {},
   "outputs": [],
   "source": [
    "#set columns with votes as integer type\n",
    "for item in contest_updates_dict.values():\n",
    "    ga_22_primary_sw_pvt[item] = ga_22_primary_sw_pvt[item].astype(int)"
   ]
  },
  {
   "cell_type": "code",
   "execution_count": 38,
   "id": "0ff71dd6",
   "metadata": {
    "scrolled": true
   },
   "outputs": [
    {
     "data": {
      "text/html": [
       "<div>\n",
       "<style scoped>\n",
       "    .dataframe tbody tr th:only-of-type {\n",
       "        vertical-align: middle;\n",
       "    }\n",
       "\n",
       "    .dataframe tbody tr th {\n",
       "        vertical-align: top;\n",
       "    }\n",
       "\n",
       "    .dataframe thead th {\n",
       "        text-align: right;\n",
       "    }\n",
       "</style>\n",
       "<table border=\"1\" class=\"dataframe\">\n",
       "  <thead>\n",
       "    <tr style=\"text-align: right;\">\n",
       "      <th>pivot</th>\n",
       "      <th>UNIQUE_ID</th>\n",
       "      <th>county</th>\n",
       "      <th>COUNTYFP</th>\n",
       "      <th>precinct</th>\n",
       "      <th>PSU38DPET</th>\n",
       "      <th>PSL071DOKA</th>\n",
       "      <th>PSL168DWIL</th>\n",
       "      <th>PSL153DWYN</th>\n",
       "      <th>PSL033RPOW</th>\n",
       "      <th>PCON10RSIM</th>\n",
       "      <th>...</th>\n",
       "      <th>PSL126RHAR</th>\n",
       "      <th>PSL074DHAR</th>\n",
       "      <th>PSL088RFRE</th>\n",
       "      <th>P22LABDBOD</th>\n",
       "      <th>PSL044DOYO</th>\n",
       "      <th>P22AGRDDUK</th>\n",
       "      <th>PSL079DNEA</th>\n",
       "      <th>PCON07RNYG</th>\n",
       "      <th>PSL101RPRO</th>\n",
       "      <th>PSL140DBAK</th>\n",
       "    </tr>\n",
       "  </thead>\n",
       "  <tbody>\n",
       "    <tr>\n",
       "      <th>0</th>\n",
       "      <td>001-1B</td>\n",
       "      <td>Appling</td>\n",
       "      <td>001</td>\n",
       "      <td>1B</td>\n",
       "      <td>0</td>\n",
       "      <td>0</td>\n",
       "      <td>0</td>\n",
       "      <td>0</td>\n",
       "      <td>0</td>\n",
       "      <td>0</td>\n",
       "      <td>...</td>\n",
       "      <td>0</td>\n",
       "      <td>0</td>\n",
       "      <td>0</td>\n",
       "      <td>10</td>\n",
       "      <td>0</td>\n",
       "      <td>5</td>\n",
       "      <td>0</td>\n",
       "      <td>0</td>\n",
       "      <td>0</td>\n",
       "      <td>0</td>\n",
       "    </tr>\n",
       "    <tr>\n",
       "      <th>1</th>\n",
       "      <td>001-1C</td>\n",
       "      <td>Appling</td>\n",
       "      <td>001</td>\n",
       "      <td>1C</td>\n",
       "      <td>0</td>\n",
       "      <td>0</td>\n",
       "      <td>0</td>\n",
       "      <td>0</td>\n",
       "      <td>0</td>\n",
       "      <td>0</td>\n",
       "      <td>...</td>\n",
       "      <td>0</td>\n",
       "      <td>0</td>\n",
       "      <td>0</td>\n",
       "      <td>3</td>\n",
       "      <td>0</td>\n",
       "      <td>6</td>\n",
       "      <td>0</td>\n",
       "      <td>0</td>\n",
       "      <td>0</td>\n",
       "      <td>0</td>\n",
       "    </tr>\n",
       "  </tbody>\n",
       "</table>\n",
       "<p>2 rows × 659 columns</p>\n",
       "</div>"
      ],
      "text/plain": [
       "pivot UNIQUE_ID   county COUNTYFP precinct  PSU38DPET  PSL071DOKA  PSL168DWIL  \\\n",
       "0        001-1B  Appling      001       1B          0           0           0   \n",
       "1        001-1C  Appling      001       1C          0           0           0   \n",
       "\n",
       "pivot  PSL153DWYN  PSL033RPOW  PCON10RSIM  ...  PSL126RHAR  PSL074DHAR  \\\n",
       "0               0           0           0  ...           0           0   \n",
       "1               0           0           0  ...           0           0   \n",
       "\n",
       "pivot  PSL088RFRE  P22LABDBOD  PSL044DOYO  P22AGRDDUK  PSL079DNEA  PCON07RNYG  \\\n",
       "0               0          10           0           5           0           0   \n",
       "1               0           3           0           6           0           0   \n",
       "\n",
       "pivot  PSL101RPRO  PSL140DBAK  \n",
       "0               0           0  \n",
       "1               0           0  \n",
       "\n",
       "[2 rows x 659 columns]"
      ]
     },
     "execution_count": 38,
     "metadata": {},
     "output_type": "execute_result"
    }
   ],
   "source": [
    "#check\n",
    "ga_22_primary_sw_pvt.head(2)"
   ]
  },
  {
   "cell_type": "code",
   "execution_count": 39,
   "id": "d4e98a1d",
   "metadata": {},
   "outputs": [
    {
     "data": {
      "text/plain": [
       "655"
      ]
     },
     "execution_count": 39,
     "metadata": {},
     "output_type": "execute_result"
    }
   ],
   "source": [
    "#Create list of candidates in precinct level df\n",
    "precincts_cols = ga_22_primary_sw_pvt.columns[4:].to_list()\n",
    "len(precincts_cols) #Number of candidates in precint-level results, useful to compare in vote totals checking"
   ]
  },
  {
   "cell_type": "markdown",
   "id": "35225561",
   "metadata": {},
   "source": [
    "<p><a name=\"check\"></a></p>\n",
    "\n",
    "## Vote Totals Check\n",
    "### Statewide"
   ]
  },
  {
   "cell_type": "code",
   "execution_count": 40,
   "id": "c8eb0261",
   "metadata": {},
   "outputs": [],
   "source": [
    "#Read in statewide csv summary file, with county level data\n",
    "combined_sos_totals = pd.read_csv(\"./raw-from-source/summary/summary.csv\")"
   ]
  },
  {
   "cell_type": "markdown",
   "id": "2f9e5d91",
   "metadata": {},
   "source": [
    "Clean contest name"
   ]
  },
  {
   "cell_type": "code",
   "execution_count": 41,
   "id": "7f7d96cd",
   "metadata": {},
   "outputs": [],
   "source": [
    "#Remove 'Vote for 1'\n",
    "combined_sos_totals['contest name'] = combined_sos_totals['contest name'].apply(lambda x: str(x).strip().replace('(Vote For 1)', ''))"
   ]
  },
  {
   "cell_type": "markdown",
   "id": "d348750c",
   "metadata": {},
   "source": [
    "Filter for contests of interest"
   ]
  },
  {
   "cell_type": "code",
   "execution_count": 42,
   "id": "4d6294f3",
   "metadata": {},
   "outputs": [
    {
     "name": "stdout",
     "output_type": "stream",
     "text": [
      "All contests:515\n",
      "Subset of contests to keep:406\n"
     ]
    }
   ],
   "source": [
    "#Create list of contests statewide\n",
    "sos_all_contests = list(combined_sos_totals['contest name'].unique())\n",
    "sos_keep_contests = hlp.contests_to_keep(sos_all_contests, keywords_list)\n",
    "print('All contests:'+ str(len(sos_all_contests)))\n",
    "print('Subset of contests to keep:' + str(len(sos_keep_contests)))"
   ]
  },
  {
   "cell_type": "code",
   "execution_count": 43,
   "id": "68b5cf62",
   "metadata": {},
   "outputs": [],
   "source": [
    "# #check remaining contests\n",
    "# sos_other_contests = set(sos_all_contests) - set(sos_keep_contests)\n",
    "# sos_other_contests"
   ]
  },
  {
   "cell_type": "code",
   "execution_count": 44,
   "id": "85dae15c",
   "metadata": {},
   "outputs": [],
   "source": [
    "#Subset statewide results by contests of interest only\n",
    "filtered_sos_totals = combined_sos_totals[combined_sos_totals['contest name'].isin(sos_keep_contests)].copy()"
   ]
  },
  {
   "cell_type": "markdown",
   "id": "60e9cfcc",
   "metadata": {},
   "source": [
    "Clean columns to match precinct-wise df"
   ]
  },
  {
   "cell_type": "code",
   "execution_count": 45,
   "id": "96c474f1",
   "metadata": {},
   "outputs": [],
   "source": [
    "#Create pivot column\n",
    "sos_totals = create_pivot_col(filtered_sos_totals, 'choice name', 'contest name', 'pivot_col')"
   ]
  },
  {
   "cell_type": "code",
   "execution_count": 46,
   "id": "e5c7b562",
   "metadata": {},
   "outputs": [
    {
     "data": {
      "text/plain": [
       "655"
      ]
     },
     "execution_count": 46,
     "metadata": {},
     "output_type": "execute_result"
    }
   ],
   "source": [
    "sos_totals['pivot_col'].nunique()"
   ]
  },
  {
   "cell_type": "markdown",
   "id": "defae3eb",
   "metadata": {},
   "source": [
    "Use function to rename VEST columns"
   ]
  },
  {
   "cell_type": "code",
   "execution_count": 47,
   "id": "65caf45e",
   "metadata": {},
   "outputs": [],
   "source": [
    "#apply function to get a VEST column\n",
    "sos_totals['VEST'] = sos_totals['pivot_col'].apply(lambda x: get_VEST(str(x).strip()))"
   ]
  },
  {
   "cell_type": "code",
   "execution_count": 48,
   "id": "8637aad4",
   "metadata": {},
   "outputs": [
    {
     "data": {
      "text/html": [
       "<div>\n",
       "<style scoped>\n",
       "    .dataframe tbody tr th:only-of-type {\n",
       "        vertical-align: middle;\n",
       "    }\n",
       "\n",
       "    .dataframe tbody tr th {\n",
       "        vertical-align: top;\n",
       "    }\n",
       "\n",
       "    .dataframe thead th {\n",
       "        text-align: right;\n",
       "    }\n",
       "</style>\n",
       "<table border=\"1\" class=\"dataframe\">\n",
       "  <thead>\n",
       "    <tr style=\"text-align: right;\">\n",
       "      <th></th>\n",
       "      <th>line number</th>\n",
       "      <th>contest name</th>\n",
       "      <th>choice name</th>\n",
       "      <th>party name</th>\n",
       "      <th>total votes</th>\n",
       "      <th>percent of votes</th>\n",
       "      <th>registered voters</th>\n",
       "      <th>ballots cast</th>\n",
       "      <th>num Precinct total</th>\n",
       "      <th>num Precinct rptg</th>\n",
       "      <th>over votes</th>\n",
       "      <th>under votes</th>\n",
       "      <th>pivot_col</th>\n",
       "      <th>VEST</th>\n",
       "    </tr>\n",
       "  </thead>\n",
       "  <tbody>\n",
       "    <tr>\n",
       "      <th>0</th>\n",
       "      <td>1</td>\n",
       "      <td>US Senate - Rep</td>\n",
       "      <td>Gary W Black</td>\n",
       "      <td>REP</td>\n",
       "      <td>157370</td>\n",
       "      <td>13.35</td>\n",
       "      <td>0</td>\n",
       "      <td>0</td>\n",
       "      <td>159</td>\n",
       "      <td>159</td>\n",
       "      <td>0</td>\n",
       "      <td>100</td>\n",
       "      <td>Gary W Black -:- US Senate - Rep</td>\n",
       "      <td>P22USSRBLA</td>\n",
       "    </tr>\n",
       "  </tbody>\n",
       "</table>\n",
       "</div>"
      ],
      "text/plain": [
       "   line number     contest name   choice name party name  total votes  \\\n",
       "0            1  US Senate - Rep  Gary W Black        REP       157370   \n",
       "\n",
       "   percent of votes  registered voters  ballots cast  num Precinct total  \\\n",
       "0             13.35                  0             0                 159   \n",
       "\n",
       "   num Precinct rptg  over votes  under votes  \\\n",
       "0                159           0          100   \n",
       "\n",
       "                          pivot_col        VEST  \n",
       "0  Gary W Black -:- US Senate - Rep  P22USSRBLA  "
      ]
     },
     "execution_count": 48,
     "metadata": {},
     "output_type": "execute_result"
    }
   ],
   "source": [
    "# Check\n",
    "sos_totals.head(1)"
   ]
  },
  {
   "cell_type": "markdown",
   "id": "2d383a98",
   "metadata": {},
   "source": [
    "Manually adjust LTG D contest VEST naming, to account for two candidates with similar last names"
   ]
  },
  {
   "cell_type": "code",
   "execution_count": 49,
   "id": "47f302d2",
   "metadata": {
    "scrolled": true
   },
   "outputs": [],
   "source": [
    "#sos_totals[sos_totals['VEST'] == 'P22LTGDBRO']"
   ]
  },
  {
   "cell_type": "code",
   "execution_count": 50,
   "id": "70d9ac87",
   "metadata": {},
   "outputs": [],
   "source": [
    "#Fix two candidates with similar last name\n",
    "sos_totals.at[20, 'VEST'] = 'P22LTGDBTY'\n",
    "sos_totals.at[21, 'VEST'] = 'P22LTGDBTO'"
   ]
  },
  {
   "cell_type": "code",
   "execution_count": 51,
   "id": "3b21de3d",
   "metadata": {},
   "outputs": [
    {
     "name": "stdout",
     "output_type": "stream",
     "text": [
      "Number of contests of interest:\n",
      "Statewide Summary CSV:  655\n",
      "RDH precint file:  655\n"
     ]
    }
   ],
   "source": [
    "print('Number of contests of interest:')\n",
    "print('Statewide Summary CSV: ',sos_totals['VEST'].nunique())\n",
    "print('RDH precint file: ', len(precincts_cols))"
   ]
  },
  {
   "cell_type": "markdown",
   "id": "cbe03e4a",
   "metadata": {},
   "source": [
    "Check that VEST names match up "
   ]
  },
  {
   "cell_type": "code",
   "execution_count": 52,
   "id": "9e5d3894",
   "metadata": {
    "scrolled": true
   },
   "outputs": [
    {
     "name": "stdout",
     "output_type": "stream",
     "text": [
      "Number of contests in RDH file only: 0\n",
      "Number of contests in SOS file only: 0\n"
     ]
    }
   ],
   "source": [
    "print('Number of contests in RDH file only:', len(set(precincts_cols) - set(sos_totals['VEST'].unique())))\n",
    "print('Number of contests in SOS file only:', len(set(sos_totals['VEST'].unique()) - set(precincts_cols)))"
   ]
  },
  {
   "cell_type": "code",
   "execution_count": 53,
   "id": "ce550783",
   "metadata": {},
   "outputs": [],
   "source": [
    "# Looking at contests in precinct only file for naming errors\n",
    "vest_issues_list = set(precincts_cols) - set(sos_totals['VEST'].unique())\n",
    "for item in vest_issues_list:\n",
    "    print(item)\n",
    "    print(contest_updates_reversed[item])\n",
    "    #display(sos_totals[sos_totals['VEST'] == item])\n",
    "    display(ga_22_primary_sw[ga_22_primary_sw['pivot'] == contest_updates_reversed[item]].head(1))"
   ]
  },
  {
   "cell_type": "code",
   "execution_count": 54,
   "id": "8b22e70b",
   "metadata": {},
   "outputs": [
    {
     "data": {
      "text/plain": [
       "True"
      ]
     },
     "execution_count": 54,
     "metadata": {},
     "output_type": "execute_result"
    }
   ],
   "source": [
    "#Final check to make sure columsn to compare are the same across precinctlevel df and statewide df\n",
    "set(precincts_cols) == set(sos_totals['VEST'].unique())"
   ]
  },
  {
   "cell_type": "markdown",
   "id": "2aff0cc1",
   "metadata": {},
   "source": [
    "Check rdh data against state summary"
   ]
  },
  {
   "cell_type": "code",
   "execution_count": 55,
   "id": "8130870b",
   "metadata": {},
   "outputs": [
    {
     "name": "stdout",
     "output_type": "stream",
     "text": [
      "Anne Elizabeth Barnes -:- Court of Appeals - Nonpartisan\n",
      "G22COANBAR\n",
      "\tOfficial: 1626523\n",
      "\tRDH: 1629284\n",
      "Carla McMillian -:- Supreme Court - Nonpartisan\n",
      "G22SSCNMCM\n",
      "\tOfficial: 1626408\n",
      "\tRDH: 1629156\n",
      "Chris McFadden -:- Court of Appeals - Nonpartisan\n",
      "G22COANMCF\n",
      "\tOfficial: 1620325\n",
      "\tRDH: 1623087\n",
      "Darlene Taylor -:- State House - District 173 - Rep\n",
      "PSL173RTAY\n",
      "\tOfficial: 1730\n",
      "\tRDH: 6746\n",
      "Keith L Jenkins Sr -:- State House - District 173 - Dem\n",
      "PSL173DJEN\n",
      "\tOfficial: 650\n",
      "\tRDH: 2781\n",
      "Sanford Bishop -:- US House - District 2 - Dem\n",
      "PCON02DBIS\n",
      "\tOfficial: 54991\n",
      "\tRDH: 57396\n",
      "Shawn Ellen LaGrua -:- Supreme Court - Nonpartisan\n",
      "G22SSCNLAG\n",
      "\tOfficial: 1623542\n",
      "\tRDH: 1626330\n",
      "Trea Pipkin -:- Court of Appeals - Nonpartisan\n",
      "G22COANPIP\n",
      "\tOfficial: 1606449\n",
      "\tRDH: 1609183\n",
      "Verda M Colvin -:- Supreme Court - Nonpartisan\n",
      "G22SSCNCOL\n",
      "\tOfficial: 1168175\n",
      "\tRDH: 1170137\n",
      "Veronica Brinson -:- Supreme Court - Nonpartisan\n",
      "G22SSCNBRI\n",
      "\tOfficial: 541628\n",
      "\tRDH: 542561\n"
     ]
    }
   ],
   "source": [
    "statewide_check_list = []\n",
    "doesnt_check = []\n",
    "for item in contest_updates_dict.values():\n",
    "    official_ls = list(sos_totals.loc[sos_totals[\"VEST\"] == item, \"total votes\"])\n",
    "    if len(official_ls)<1:\n",
    "        doesnt_check.append(item)\n",
    "#         print(item)\n",
    "#         print(contest_updates_reversed[item])\n",
    "    else:\n",
    "        official = official_ls[0]\n",
    "    rdh = ga_22_primary_sw_pvt[item].sum()\n",
    "    if official != rdh:\n",
    "        statewide_check_list.append(item)\n",
    "        print(contest_updates_reversed[item])\n",
    "        print(f\"{item}\\n\\tOfficial: {official}\\n\\tRDH: {rdh}\")"
   ]
  },
  {
   "cell_type": "markdown",
   "id": "f5f9c5ac",
   "metadata": {},
   "source": [
    "### Checking against official County level results"
   ]
  },
  {
   "cell_type": "markdown",
   "id": "05bde739",
   "metadata": {},
   "source": [
    "Read in County level summary XML file from Georgia SOS office."
   ]
  },
  {
   "cell_type": "code",
   "execution_count": 56,
   "id": "c69845f1",
   "metadata": {},
   "outputs": [],
   "source": [
    "loaded_counties = os.listdir(\"./raw-from-source/summary/county_checks\")\n",
    "z=[]\n",
    "for locale in loaded_counties:\n",
    "    if locale.endswith('.xml'):\n",
    "        file_string = \"./raw-from-source/summary/county_checks/\"+locale\n",
    "        xtree = et.parse(file_string)\n",
    "        xroot = xtree.getroot()\n",
    "        state_area = xroot.findall(\".//Region\")\n",
    "        for i in state_area:\n",
    "            state = i.text\n",
    "        contests = xroot.findall(\".//Contest\")\n",
    "        for i in contests:\n",
    "            contest = i.attrib.get('text')\n",
    "            lower = i.findall(\"./Choice\")\n",
    "            for j in lower:\n",
    "                choice = j.attrib.get('text')\n",
    "                lower_2 = j.findall(\"./VoteType\")\n",
    "                for k in lower_2:\n",
    "                    voting_method = k.attrib.get('name')\n",
    "                    lower_3 = k.findall(\"./County\")\n",
    "                    for l in lower_3:\n",
    "                        county_name = l.attrib.get('name')\n",
    "                        num_votes = l.attrib.get('votes')\n",
    "                        if locale == \"detail 2.xml\":\n",
    "                            elec_type = \"special\"\n",
    "                        else:\n",
    "                            elec_type = \"primary\"\n",
    "                        z.append([state,contest,choice,voting_method,county_name,num_votes, elec_type])\n",
    "dfcols = ['state','contest','choice','voting_method','county','num_votes',\"type\"]\n",
    "df_county = pd.DataFrame(z,columns=dfcols)"
   ]
  },
  {
   "cell_type": "markdown",
   "id": "ea6d8e2e",
   "metadata": {},
   "source": [
    "Clean County Level SOS results"
   ]
  },
  {
   "cell_type": "code",
   "execution_count": 57,
   "id": "e25d31ad",
   "metadata": {},
   "outputs": [
    {
     "name": "stdout",
     "output_type": "stream",
     "text": [
      "All contests: 515\n",
      "Subset of contests to keep: 406\n"
     ]
    }
   ],
   "source": [
    "# identify contests pertaining to statewide legislative bodies, or offices only\n",
    "soscnty_all_contests = list(df_county['contest'].unique())\n",
    "soscnty_keep_contests = hlp.contests_to_keep(soscnty_all_contests, keywords_list)\n",
    "print('All contests: '+ str(len(soscnty_all_contests)))\n",
    "print('Subset of contests to keep: ' + str(len(soscnty_keep_contests)))"
   ]
  },
  {
   "cell_type": "code",
   "execution_count": 58,
   "id": "562fbb8e",
   "metadata": {},
   "outputs": [],
   "source": [
    "# filter df by contests of interest\n",
    "filtered_county_totals = df_county[df_county['contest'].isin(soscnty_keep_contests)].copy()\n",
    "# set votes column as integer\n",
    "filtered_county_totals[\"num_votes\"] = filtered_county_totals[\"num_votes\"].astype(int)"
   ]
  },
  {
   "cell_type": "code",
   "execution_count": 59,
   "id": "d9eab1dc",
   "metadata": {},
   "outputs": [],
   "source": [
    "# add FIPS column for each county\n",
    "sos_county_fips = create_fips_col(\"./FIPS/US_FIPS_Codes.csv\", 'Georgia', filtered_county_totals, 'county')"
   ]
  },
  {
   "cell_type": "code",
   "execution_count": 60,
   "id": "4959f8d4",
   "metadata": {},
   "outputs": [],
   "source": [
    "# add 'pivot' col\n",
    "sos_county_pvt = create_pivot_col(sos_county_fips, 'choice', 'contest', 'pivot')\n",
    "# use pivot col to add column with VEST names\n",
    "sos_county_pvt['VEST'] = sos_county_pvt['pivot'].apply(lambda x: get_VEST(str(x).strip()))"
   ]
  },
  {
   "cell_type": "code",
   "execution_count": 61,
   "id": "d31deff3",
   "metadata": {},
   "outputs": [],
   "source": [
    "# Manually edit the LTG D contest names for candidates with similar last name\n",
    "ty_mask = sos_county_pvt['choice'] == 'Tyrone Brooks Jr'\n",
    "to_mask = sos_county_pvt['choice'] == 'Tony Brown'\n",
    "sos_county_pvt.loc[ty_mask, 'VEST'] = 'P22LTGDBTY'\n",
    "sos_county_pvt.loc[to_mask, 'VEST'] = 'P22LTGDBTO'"
   ]
  },
  {
   "cell_type": "code",
   "execution_count": 62,
   "id": "5ee56a8b",
   "metadata": {},
   "outputs": [
    {
     "data": {
      "text/plain": [
       "True"
      ]
     },
     "execution_count": 62,
     "metadata": {},
     "output_type": "execute_result"
    }
   ],
   "source": [
    "# Check if there are 655 unique candidates in the VEST column\n",
    "sos_county_pvt['VEST'].nunique() == 655"
   ]
  },
  {
   "cell_type": "code",
   "execution_count": 63,
   "id": "00ea7253",
   "metadata": {},
   "outputs": [
    {
     "data": {
      "text/plain": [
       "True"
      ]
     },
     "execution_count": 63,
     "metadata": {},
     "output_type": "execute_result"
    }
   ],
   "source": [
    "#Check if VEST contest names are the same as precinct df\n",
    "set(precincts_cols) == set(sos_county_pvt['VEST'])"
   ]
  },
  {
   "cell_type": "code",
   "execution_count": 64,
   "id": "cf87aaff",
   "metadata": {},
   "outputs": [],
   "source": [
    "#pivot SOS county df\n",
    "sos_county_totals_pvt =pd.pivot_table(sos_county_pvt,index=['county'],columns=['VEST'],values=['num_votes'],aggfunc=sum)\n",
    "sos_county_totals_pvt = sos_county_totals_pvt.fillna(0)\n",
    "sos_county_totals_pvt.columns = sos_county_totals_pvt.columns.droplevel(0)\n",
    "sos_county_totals_pvt.reset_index(inplace = True)"
   ]
  },
  {
   "cell_type": "markdown",
   "id": "21a0a985",
   "metadata": {},
   "source": [
    "#### Check precinct DF against SOS county level df"
   ]
  },
  {
   "cell_type": "code",
   "execution_count": 65,
   "id": "7c504b01",
   "metadata": {
    "scrolled": true
   },
   "outputs": [
    {
     "name": "stdout",
     "output_type": "stream",
     "text": [
      "***Countywide Totals Check***\n",
      "\n",
      "Cook contains differences in these races:\n",
      "\tG22COANBAR has a difference of -2761.0 vote(s)\n",
      "\t\tSOS: 0.0 vote(s)\n",
      "\t\tRDH: 2761 vote(s)\n",
      "\tG22SSCNMCM has a difference of -2773.0 vote(s)\n",
      "\t\tSOS: 0.0 vote(s)\n",
      "\t\tRDH: 2773 vote(s)\n",
      "\tG22COANMCF has a difference of -2762.0 vote(s)\n",
      "\t\tSOS: 0.0 vote(s)\n",
      "\t\tRDH: 2762 vote(s)\n",
      "\tG22SSCNLAG has a difference of -2763.0 vote(s)\n",
      "\t\tSOS: 0.0 vote(s)\n",
      "\t\tRDH: 2763 vote(s)\n",
      "\tG22COANPIP has a difference of -2734.0 vote(s)\n",
      "\t\tSOS: 0.0 vote(s)\n",
      "\t\tRDH: 2734 vote(s)\n",
      "\tG22SSCNCOL has a difference of -1962.0 vote(s)\n",
      "\t\tSOS: 0.0 vote(s)\n",
      "\t\tRDH: 1962 vote(s)\n",
      "\tG22SSCNBRI has a difference of -933.0 vote(s)\n",
      "\t\tSOS: 0.0 vote(s)\n",
      "\t\tRDH: 933 vote(s)\n",
      "Grady contains differences in these races:\n",
      "\tPCON02DBIS has a difference of -1040.0 vote(s)\n",
      "\t\tSOS: 0.0 vote(s)\n",
      "\t\tRDH: 1040 vote(s)\n",
      "Mitchell contains differences in these races:\n",
      "\tPCON02DBIS has a difference of -1365.0 vote(s)\n",
      "\t\tSOS: 0.0 vote(s)\n",
      "\t\tRDH: 1365 vote(s)\n",
      "Pickens contains differences in these races:\n",
      "\tG22SSCNMCM has a difference of 9.0 vote(s)\n",
      "\t\tSOS: 6704.0 vote(s)\n",
      "\t\tRDH: 6695 vote(s)\n",
      "\tG22SSCNLAG has a difference of -9.0 vote(s)\n",
      "\t\tSOS: 6695.0 vote(s)\n",
      "\t\tRDH: 6704 vote(s)\n",
      "Thomas contains differences in these races:\n",
      "\tPSL173RTAY has a difference of -5016.0 vote(s)\n",
      "\t\tSOS: 0.0 vote(s)\n",
      "\t\tRDH: 5016 vote(s)\n",
      "\tPSL173DJEN has a difference of -2131.0 vote(s)\n",
      "\t\tSOS: 0.0 vote(s)\n",
      "\t\tRDH: 2131 vote(s)\n",
      "Whitfield contains differences in these races:\n",
      "\tG22SSCNMCM has a difference of 16.0 vote(s)\n",
      "\t\tSOS: 11032.0 vote(s)\n",
      "\t\tRDH: 11016 vote(s)\n",
      "\tG22SSCNLAG has a difference of -16.0 vote(s)\n",
      "\t\tSOS: 11016.0 vote(s)\n",
      "\t\tRDH: 11032 vote(s)\n",
      "\n",
      "['Cook', 'Grady', 'Mitchell', 'Pickens', 'Thomas', 'Whitfield']\n",
      "Counties that match:\n",
      "\n",
      "['Appling', 'Atkinson', 'Bacon', 'Baker', 'Baldwin', 'Banks', 'Barrow', 'Bartow', 'Ben Hill', 'Berrien', 'Bibb', 'Bleckley', 'Brantley', 'Brooks', 'Bryan', 'Bulloch', 'Burke', 'Butts', 'Calhoun', 'Camden', 'Candler', 'Carroll', 'Catoosa', 'Charlton', 'Chatham', 'Chattahoochee', 'Chattooga', 'Cherokee', 'Clarke', 'Clay', 'Clayton', 'Clinch', 'Cobb', 'Coffee', 'Colquitt', 'Columbia', 'Coweta', 'Crawford', 'Crisp', 'Dade', 'Dawson', 'DeKalb', 'Decatur', 'Dodge', 'Dooly', 'Dougherty', 'Douglas', 'Early', 'Echols', 'Effingham', 'Elbert', 'Emanuel', 'Evans', 'Fannin', 'Fayette', 'Floyd', 'Forsyth', 'Franklin', 'Fulton', 'Gilmer', 'Glascock', 'Glynn', 'Gordon', 'Greene', 'Gwinnett', 'Habersham', 'Hall', 'Hancock', 'Haralson', 'Harris', 'Hart', 'Heard', 'Henry', 'Houston', 'Irwin', 'Jackson', 'Jasper', 'Jeff Davis', 'Jefferson', 'Jenkins', 'Johnson', 'Jones', 'Lamar', 'Lanier', 'Laurens', 'Lee', 'Liberty', 'Lincoln', 'Long', 'Lowndes', 'Lumpkin', 'Macon', 'Madison', 'Marion', 'McDuffie', 'McIntosh', 'Meriwether', 'Miller', 'Monroe', 'Montgomery', 'Morgan', 'Murray', 'Muscogee', 'Newton', 'Oconee', 'Oglethorpe', 'Paulding', 'Peach', 'Pierce', 'Pike', 'Polk', 'Pulaski', 'Putnam', 'Quitman', 'Rabun', 'Randolph', 'Richmond', 'Rockdale', 'Schley', 'Screven', 'Seminole', 'Spalding', 'Stephens', 'Stewart', 'Sumter', 'Talbot', 'Taliaferro', 'Tattnall', 'Taylor', 'Telfair', 'Terrell', 'Tift', 'Toombs', 'Towns', 'Treutlen', 'Troup', 'Turner', 'Twiggs', 'Union', 'Upson', 'Walker', 'Walton', 'Ware', 'Warren', 'Washington', 'Wayne', 'Webster', 'Wheeler', 'White', 'Wilcox', 'Wilkes', 'Wilkinson', 'Worth']\n"
     ]
    }
   ],
   "source": [
    "#check by contest\n",
    "rdh = ga_22_primary_sw_pvt\n",
    "sos = sos_county_totals_pvt\n",
    "partner_name = 'SOS'\n",
    "source_name = 'RDH'\n",
    "county_col = 'county'\n",
    "hlp.county_totals_check(sos,partner_name, rdh, source_name, precincts_cols, county_col,full_print=False, method='county')"
   ]
  },
  {
   "cell_type": "markdown",
   "id": "d7e884e9",
   "metadata": {},
   "source": [
    "<p><a name=\"discrepancies\"></a></p>\n",
    "\n",
    "### Addressing Discrepancies"
   ]
  },
  {
   "cell_type": "markdown",
   "id": "43274375",
   "metadata": {},
   "source": [
    "##### Missing Votes\n",
    "In all instances where the SOS county-level file had no reported votes in a contest in a specific county, vote numbers from the precinct-level compiled dataset are presumed to be accurate. \n",
    "\n",
    "1. SOS had no reported votes for the following judicial races in Cook County\n",
    "    - Court of Appeals (G22COANBAR, G22COANMCF, G22COANPIP)\n",
    "    - State Supreme Court (G22SSSCNMCM, G22SSCNLAG, G22SSCNCOL, G22SSCNBRI)\n",
    "2. SOS had no reported votes for PCONO2 Democratic candidates in Grady and Mitchell Counties\n",
    "    - PCON02DBIS - missing votes in Grady and Mitchell\n",
    "    - PCON02DOHA - no data reported in Grady and Mitchell county\n",
    "3. SOS had no reported votes from Thomas County in PSL173 Democratic and Republican contests\n",
    "    - PSL173RTAY - missing votes in this contest\n",
    "    - PSL173DJEN - missing votes in this contest\n",
    "    \n",
    "##### Vote Swapping\n",
    "    \n",
    "The vote discrepancies in Pickens and Whitfield county seem to indicate unintentional swapping of 9 and 16 votes in each county respectively. We are unable to determine whether this error originated at the precinct, or county level.\n",
    "Given the differences found in other contests in the Secretary of State's county-level file, we are unable to support it's accuracy. We have chosen to leave the precinct-level vote totals unaltered in these contests.\n",
    "\n",
    "1. Pickens County\n",
    "    - 9 votes swapped between G22SSCNMCM and G22SSCNLAG contests\n",
    "2. Whitfield County\n",
    "    - 16 votes swapped between G22SSCNMCM and G22SSCNLAG contests"
   ]
  },
  {
   "cell_type": "markdown",
   "id": "9df12993",
   "metadata": {},
   "source": [
    "### Create README"
   ]
  },
  {
   "cell_type": "code",
   "execution_count": 66,
   "id": "9d83f484",
   "metadata": {},
   "outputs": [],
   "source": [
    "# Create list of ordered contests for non districted contests\n",
    "contests_order =[]\n",
    "for i in ['US Senate', 'Governor', 'Lieutenant Governor', 'Attorney General', 'Secretary of State', 'Commissioner of Agriculture', 'Commissioner of Insurance', 'Commissioner of Labor',  'Public Service Commissioner', 'State School Superintendent', 'Supreme Court', 'Court of Appeals']:\n",
    "    temp_df = contests_stnd.loc[contests_stnd['race'] == i]\n",
    "    contests_sorted = sorted(temp_df['new_race'].unique().tolist())\n",
    "    contests_order += contests_sorted\n",
    "#check\n",
    "#len(contests_order) == contests_stnd['new_race'].nunique()"
   ]
  },
  {
   "cell_type": "code",
   "execution_count": 67,
   "id": "5dc70849",
   "metadata": {},
   "outputs": [],
   "source": [
    "# create list of ordered contests for districted contests\n",
    "for i in ['US House', 'State Senate', 'State House']:\n",
    "    temp_df = contests_stnd.loc[contests_stnd['race'] == i].copy()\n",
    "    temp_df['district'] = temp_df['district'].astype(int) #ensure districts are being sorted as integers not strings\n",
    "    contests_sorted = temp_df.sort_values('district')['new_race'].unique().tolist()\n",
    "    contests_order += contests_sorted"
   ]
  },
  {
   "cell_type": "code",
   "execution_count": 68,
   "id": "7e1ebf19",
   "metadata": {},
   "outputs": [],
   "source": [
    "# Create df with total votes per candidate\n",
    "rm_df = ga_22_primary_sw.groupby(['stnd_contest', 'choice', 'pivot'])['num_votes'].sum().reset_index()\n",
    "#apply rename dictionary to get VEST names\n",
    "rm_df['VEST'] = rm_df['pivot'].map(contest_updates_dict).fillna(0)"
   ]
  },
  {
   "cell_type": "code",
   "execution_count": 69,
   "id": "e90582e4",
   "metadata": {},
   "outputs": [
    {
     "data": {
      "text/html": [
       "<div>\n",
       "<style scoped>\n",
       "    .dataframe tbody tr th:only-of-type {\n",
       "        vertical-align: middle;\n",
       "    }\n",
       "\n",
       "    .dataframe tbody tr th {\n",
       "        vertical-align: top;\n",
       "    }\n",
       "\n",
       "    .dataframe thead th {\n",
       "        text-align: right;\n",
       "    }\n",
       "</style>\n",
       "<table border=\"1\" class=\"dataframe\">\n",
       "  <thead>\n",
       "    <tr style=\"text-align: right;\">\n",
       "      <th></th>\n",
       "      <th>stnd_contest</th>\n",
       "      <th>choice</th>\n",
       "      <th>pivot</th>\n",
       "      <th>num_votes</th>\n",
       "      <th>VEST</th>\n",
       "    </tr>\n",
       "  </thead>\n",
       "  <tbody>\n",
       "    <tr>\n",
       "      <th>0</th>\n",
       "      <td>Attorney General - Dem</td>\n",
       "      <td>Christian Wise Smith</td>\n",
       "      <td>Christian Wise Smith -:- Attorney General - Dem</td>\n",
       "      <td>153928</td>\n",
       "      <td>P22ATGDSMI</td>\n",
       "    </tr>\n",
       "    <tr>\n",
       "      <th>1</th>\n",
       "      <td>Attorney General - Dem</td>\n",
       "      <td>Jennifer Jen Jordan</td>\n",
       "      <td>Jennifer Jen Jordan -:- Attorney General - Dem</td>\n",
       "      <td>533266</td>\n",
       "      <td>P22ATGDJOR</td>\n",
       "    </tr>\n",
       "  </tbody>\n",
       "</table>\n",
       "</div>"
      ],
      "text/plain": [
       "             stnd_contest                choice  \\\n",
       "0  Attorney General - Dem  Christian Wise Smith   \n",
       "1  Attorney General - Dem   Jennifer Jen Jordan   \n",
       "\n",
       "                                             pivot  num_votes        VEST  \n",
       "0  Christian Wise Smith -:- Attorney General - Dem     153928  P22ATGDSMI  \n",
       "1   Jennifer Jen Jordan -:- Attorney General - Dem     533266  P22ATGDJOR  "
      ]
     },
     "execution_count": 69,
     "metadata": {},
     "output_type": "execute_result"
    }
   ],
   "source": [
    "rm_df.head(2)"
   ]
  },
  {
   "cell_type": "code",
   "execution_count": 70,
   "id": "07500ed3",
   "metadata": {},
   "outputs": [
    {
     "data": {
      "text/plain": [
       "True"
      ]
     },
     "execution_count": 70,
     "metadata": {},
     "output_type": "execute_result"
    }
   ],
   "source": [
    "# create list to order README and final dataset by contest, and vote share\n",
    "rm_order =[]\n",
    "for i in contests_order:\n",
    "    temp = rm_df.loc[rm_df['stnd_contest'] == i].sort_values('num_votes', ascending = False)\n",
    "    rm_order += temp['VEST'].to_list()\n",
    "#check to make sure all contests included\n",
    "set(rm_order) == set(precincts_cols)"
   ]
  },
  {
   "cell_type": "code",
   "execution_count": 71,
   "id": "73ed0592",
   "metadata": {},
   "outputs": [],
   "source": [
    "#Create order column, mapping ordering list to VEST names\n",
    "rm_df['Order'] = rm_df['VEST'].map(lambda x: rm_order.index(x))\n",
    "#order the readme DF\n",
    "rm_df = rm_df.sort_values('Order')\n",
    "#Create field name column\n",
    "rm_df['candidate'] = rm_df['choice'].apply(lambda x: str(x).split()[-1] + ', ' + ' '.join(str(x).split()[:-1]))\n",
    "rm_df['description'] = rm_df['candidate'] + ' - ' + rm_df['stnd_contest']\n",
    "#create fields_dict\n",
    "fields_dict = dict(zip(rm_df['VEST'], rm_df['description']))"
   ]
  },
  {
   "cell_type": "code",
   "execution_count": 72,
   "id": "1133d3f0",
   "metadata": {},
   "outputs": [],
   "source": [
    "### Create README\n",
    "\n",
    "fields_dict['UNIQUE_ID']='Unique ID for each precinct'\n",
    "fields_dict['COUNTYFP']='County FIP identifier'\n",
    "fields_dict['county']='County Name'\n",
    "fields_dict['precinct']='Precinct Name'\n",
    "\n",
    "title = \"Georgia 2022 Primary Election Precinct-Level Results\"\n",
    "retrieval_date = \"09/13/23\"\n",
    "fields_dict = fields_dict\n",
    "github_link = \"https://github.com/nonpartisan-redistricting-datahub/pber_collection/tree/main/GA/2022\"\n",
    "file_folder = \"./\"\n",
    "source = \"Georgia Secretary of State\""
   ]
  },
  {
   "cell_type": "code",
   "execution_count": 73,
   "id": "10b4183f",
   "metadata": {},
   "outputs": [],
   "source": [
    "if not os.path.exists(file_folder):\n",
    "    os.mkdir(file_folder)\n",
    "\n",
    "with open(file_folder+\"README.txt\", 'w') as tf:\n",
    "        tf.write(hlp.full_readme_text(title, retrieval_date, source, fields_dict, github_link))"
   ]
  },
  {
   "cell_type": "markdown",
   "id": "75d8455c",
   "metadata": {},
   "source": [
    "<p><a name=\"exp\"></a></p>\n",
    "\n",
    "### Export Cleaned Precinct Level Dataset"
   ]
  },
  {
   "cell_type": "code",
   "execution_count": 74,
   "id": "b69faedd",
   "metadata": {},
   "outputs": [],
   "source": [
    "rm_order = ['UNIQUE_ID', 'COUNTYFP', 'county', 'precinct'] + rm_order"
   ]
  },
  {
   "cell_type": "code",
   "execution_count": 75,
   "id": "0aa3a6dc",
   "metadata": {},
   "outputs": [
    {
     "data": {
      "text/plain": [
       "True"
      ]
     },
     "execution_count": 75,
     "metadata": {},
     "output_type": "execute_result"
    }
   ],
   "source": [
    "#checks\n",
    "len(rm_order) == len(ga_22_primary_sw_pvt.columns)\n",
    "set(rm_order) == set(ga_22_primary_sw_pvt.columns)"
   ]
  },
  {
   "cell_type": "code",
   "execution_count": 76,
   "id": "cd844ae4",
   "metadata": {},
   "outputs": [],
   "source": [
    "#reorder df\n",
    "ga_22_primary_sw_pvt = ga_22_primary_sw_pvt[rm_order]"
   ]
  },
  {
   "cell_type": "code",
   "execution_count": 77,
   "id": "614feb79",
   "metadata": {
    "scrolled": true
   },
   "outputs": [
    {
     "data": {
      "text/html": [
       "<div>\n",
       "<style scoped>\n",
       "    .dataframe tbody tr th:only-of-type {\n",
       "        vertical-align: middle;\n",
       "    }\n",
       "\n",
       "    .dataframe tbody tr th {\n",
       "        vertical-align: top;\n",
       "    }\n",
       "\n",
       "    .dataframe thead th {\n",
       "        text-align: right;\n",
       "    }\n",
       "</style>\n",
       "<table border=\"1\" class=\"dataframe\">\n",
       "  <thead>\n",
       "    <tr style=\"text-align: right;\">\n",
       "      <th>pivot</th>\n",
       "      <th>UNIQUE_ID</th>\n",
       "      <th>COUNTYFP</th>\n",
       "      <th>county</th>\n",
       "      <th>precinct</th>\n",
       "      <th>P22USSDWAR</th>\n",
       "      <th>P22USSDJOH</th>\n",
       "      <th>P22USSRWAL</th>\n",
       "      <th>P22USSRBLA</th>\n",
       "      <th>P22USSRSAD</th>\n",
       "      <th>P22USSRCLA</th>\n",
       "      <th>...</th>\n",
       "      <th>PSL175RBLA</th>\n",
       "      <th>PSL176RBUR</th>\n",
       "      <th>PSL177DSHA</th>\n",
       "      <th>PSL178RMEE</th>\n",
       "      <th>PSL178RCAR</th>\n",
       "      <th>PSL179RTOW</th>\n",
       "      <th>PSL179RDUN</th>\n",
       "      <th>PSL179RKIL</th>\n",
       "      <th>PSL180RSAI</th>\n",
       "      <th>PSL180RSMI</th>\n",
       "    </tr>\n",
       "  </thead>\n",
       "  <tbody>\n",
       "    <tr>\n",
       "      <th>0</th>\n",
       "      <td>001-1B</td>\n",
       "      <td>001</td>\n",
       "      <td>Appling</td>\n",
       "      <td>1B</td>\n",
       "      <td>32</td>\n",
       "      <td>1</td>\n",
       "      <td>411</td>\n",
       "      <td>78</td>\n",
       "      <td>3</td>\n",
       "      <td>24</td>\n",
       "      <td>...</td>\n",
       "      <td>0</td>\n",
       "      <td>0</td>\n",
       "      <td>0</td>\n",
       "      <td>0</td>\n",
       "      <td>0</td>\n",
       "      <td>0</td>\n",
       "      <td>0</td>\n",
       "      <td>0</td>\n",
       "      <td>0</td>\n",
       "      <td>0</td>\n",
       "    </tr>\n",
       "    <tr>\n",
       "      <th>1</th>\n",
       "      <td>001-1C</td>\n",
       "      <td>001</td>\n",
       "      <td>Appling</td>\n",
       "      <td>1C</td>\n",
       "      <td>18</td>\n",
       "      <td>2</td>\n",
       "      <td>317</td>\n",
       "      <td>67</td>\n",
       "      <td>4</td>\n",
       "      <td>9</td>\n",
       "      <td>...</td>\n",
       "      <td>0</td>\n",
       "      <td>0</td>\n",
       "      <td>0</td>\n",
       "      <td>36</td>\n",
       "      <td>6</td>\n",
       "      <td>0</td>\n",
       "      <td>0</td>\n",
       "      <td>0</td>\n",
       "      <td>0</td>\n",
       "      <td>0</td>\n",
       "    </tr>\n",
       "  </tbody>\n",
       "</table>\n",
       "<p>2 rows × 659 columns</p>\n",
       "</div>"
      ],
      "text/plain": [
       "pivot UNIQUE_ID COUNTYFP   county precinct  P22USSDWAR  P22USSDJOH  \\\n",
       "0        001-1B      001  Appling       1B          32           1   \n",
       "1        001-1C      001  Appling       1C          18           2   \n",
       "\n",
       "pivot  P22USSRWAL  P22USSRBLA  P22USSRSAD  P22USSRCLA  ...  PSL175RBLA  \\\n",
       "0             411          78           3          24  ...           0   \n",
       "1             317          67           4           9  ...           0   \n",
       "\n",
       "pivot  PSL176RBUR  PSL177DSHA  PSL178RMEE  PSL178RCAR  PSL179RTOW  PSL179RDUN  \\\n",
       "0               0           0           0           0           0           0   \n",
       "1               0           0          36           6           0           0   \n",
       "\n",
       "pivot  PSL179RKIL  PSL180RSAI  PSL180RSMI  \n",
       "0               0           0           0  \n",
       "1               0           0           0  \n",
       "\n",
       "[2 rows x 659 columns]"
      ]
     },
     "execution_count": 77,
     "metadata": {},
     "output_type": "execute_result"
    }
   ],
   "source": [
    "ga_22_primary_sw_pvt.head(2)"
   ]
  },
  {
   "cell_type": "code",
   "execution_count": 78,
   "id": "c291b7c1",
   "metadata": {},
   "outputs": [],
   "source": [
    "if not os.path.exists(\"./ga_22_primary_prec/\"):\n",
    "    os.mkdir(\"./ga_22_primary_prec/\")\n",
    "\n",
    "ga_22_primary_sw_pvt.to_csv(\"./ga_22_primary_prec/ga_22_primary_prec.csv\", index = False)"
   ]
  }
 ],
 "metadata": {
  "kernelspec": {
   "display_name": "Python 3",
   "language": "python",
   "name": "python3"
  },
  "language_info": {
   "codemirror_mode": {
    "name": "ipython",
    "version": 3
   },
   "file_extension": ".py",
   "mimetype": "text/x-python",
   "name": "python",
   "nbconvert_exporter": "python",
   "pygments_lexer": "ipython3",
   "version": "3.8.8"
  }
 },
 "nbformat": 4,
 "nbformat_minor": 5
}
