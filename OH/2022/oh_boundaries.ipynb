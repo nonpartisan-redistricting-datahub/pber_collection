{
 "cells": [
  {
   "cell_type": "markdown",
   "id": "6be72600-c12c-45ab-b2d3-2a352d4c8e07",
   "metadata": {},
   "source": [
    "Hi Kate,\n",
    "     We're building our Ohio team -- at least 6 people to start, might add a few more.\n",
    "\n",
    "One thing I've noticed is that counties often have more shapefile rows than the number of precinct rows in the SoS election results file.  So, I ask the county data person if this is due to simple aggregation of \"sub-precincts\" into the full precincts on the Ohio SoS website, or something more problematic to clean up.\n",
    "    I am assuming that someone at RDH has a code snippet to merge these.  I am telling my Ohio partners to not worry too much about data integrity at this point, as RDH will clean things up.\n",
    "   For the counties I am personally grabbing, I am noting (in the tracker) the number of precincts in the shapefiles vs. the SoS election results to flag the mismatch.   But I'm not trying to merge/join myself if the county person is uncooperative.\n",
    "\n",
    "I have written two Python code snippets that may be re-applicable.  One captures the precinct names by county in 2020 vs. 2022, to flag the mismatches.  In Ohio, >70% of the counties did not need to split precincts to account for 2022 redistricting, and this code helps identify them.  I then coach those county owners to ask if the shapes were maintained before asking for a 2022 shapefile, since we don't need 2022 if 2020 is still operative.\n",
    "   The other code is just a barebones geopandas to visualize the county maps we receive (to ensure they are not horribly corrupted) and count the number of precinct shapes.\n",
    "   I haven't pushed these to my partners, as I don't know how pythonic they are.  But maybe they will be useful going forward.\n",
    "-Geoff\n",
    "\n",
    "\n",
    "\n",
    "Precinct boundaries (Kate)\n",
    "Background\n",
    "Listed out states that make sense to do next for precinct boundary collection\n",
    "Geoff was interested in when this file would be available\n",
    "Groups in Ohio that Geoff spoke with think redistricting will happen again as soon as July\n",
    "Shapefiles mostly good, county-wide, they have prioritized counties that might have changed boundaries\n",
    "NY drawing assembly lines now, Ohio is otherwise the only state where redistricting is happening\n",
    "Q: What would it take to get the file ready by July? \n",
    "SN: How much collected? 88 total counties, 42 completed, 37 in progress\n",
    "If it made sense to join everything when it’s all collected, that could be an incentive to finish collection\n",
    "What would it take to make the OH precinct boundary file?\n",
    "Wood County specifically\n",
    "Fine to deal with individual .shp files, as long as there are supporting files for each one (.dbf, .shx, .prj, etc.)\n",
    "Geoff’s comment: “my take on the precinct matching: I agree w/Derek that the SoS file is our primary for RESULTS, but county is primary for SHAPES.  I think if a human can match the codes (e.g. COL 1 = Columbus 1), we should consider it matched. More than half of the counties have sent me shapefiles with code mismatches that they then go fix when I point them out.”\n",
    "Volunteer question about how validating against 2020 shapes/names helps\n",
    "I guess I'm wondering - if we have the 2022 precinct election results (and it seems like we do), and we also have the 2022 precinct shapefile (which, again, it looks like we have), and they match up very well, with only minor differences that could be fixed manually (which seems to be the case), then why does it matter how the 2022 precincts compare to the 2020 precincts? Is there some issue preventing the data from being uploaded to DRA, that is resolved with comparisons to the 2020 data? I haven't done all the comparisons yet, but I suspect that there will be significant differences between the 2020 and 2022 precincts, particularly in the more populous counties, and that most of the precincts whose names have changed between 2020 and 2022 are the same ones whose boundaries have changed as well. Could you explain why this is important?\n"
   ]
  },
  {
   "cell_type": "code",
   "execution_count": 1,
   "id": "1a652eda-4ef6-4dc1-bfee-53315a450752",
   "metadata": {},
   "outputs": [],
   "source": [
    "import geopandas as gp"
   ]
  },
  {
   "cell_type": "code",
   "execution_count": 3,
   "id": "48ab443f-dead-4ab6-8155-ffef9f71e514",
   "metadata": {},
   "outputs": [],
   "source": [
    "ashtabula = gp.read_file(\"./boundaries/Voting_Precincts_2023_AG/Voting_Precincts_2023_AG.shp\")"
   ]
  },
  {
   "cell_type": "code",
   "execution_count": null,
   "id": "47e3793f-879c-43d6-b47a-328d90d3887d",
   "metadata": {},
   "outputs": [],
   "source": [
    "adams = \"no geospatial data yet, csv data available (?).\"\n",
    "allen = \"No geospatial data, link broken?\"\n",
    "auglaize = \"No geospatial, pdf map available.\""
   ]
  },
  {
   "cell_type": "code",
   "execution_count": 4,
   "id": "b0eeff87-c9ed-4137-bb26-c9b1198299b1",
   "metadata": {},
   "outputs": [],
   "source": [
    "brown = gp.read_file(\"./boundaries/Brown_VOTING-PRECINCT/VOTING-PRECINCT.shp\")"
   ]
  },
  {
   "cell_type": "code",
   "execution_count": 6,
   "id": "746c11ee-b66b-4c80-b99e-fb0a8b7f5ec3",
   "metadata": {},
   "outputs": [],
   "source": [
    "butler = gp.read_file(\"./boundaries/2023ButlerPrecinctShapefile/2023Precincts.shp\")"
   ]
  },
  {
   "cell_type": "code",
   "execution_count": null,
   "id": "c61d9c2e-d4a0-4065-8754-22493037809b",
   "metadata": {},
   "outputs": [],
   "source": []
  }
 ],
 "metadata": {
  "kernelspec": {
   "display_name": "pdv_env",
   "language": "python",
   "name": "pdv_env"
  },
  "language_info": {
   "codemirror_mode": {
    "name": "ipython",
    "version": 3
   },
   "file_extension": ".py",
   "mimetype": "text/x-python",
   "name": "python",
   "nbconvert_exporter": "python",
   "pygments_lexer": "ipython3",
   "version": "3.9.4"
  }
 },
 "nbformat": 4,
 "nbformat_minor": 5
}
