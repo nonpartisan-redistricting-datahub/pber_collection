{
 "cells": [
  {
   "cell_type": "markdown",
   "id": "cdcff32c-cd72-46da-a0a2-691d43cc667a",
   "metadata": {},
   "source": [
    "# County fips assignment check out\n",
    "\n",
    "Received note from Help Desk:\n",
    "\n",
    "\"I noticed a potential issue with the North Carolina precinct shapefiles. It appears that the following counties have the incorrect county FIPS code: Macon, Madison, Martin, McDowell. It appears that the codes are shifted for these counties. The names are correct for the geographies after comparing to a county shapefile, but the codes are not the same. \"\n",
    "\n",
    "According to https://en.wikipedia.org/wiki/List_of_counties_in_North_Carolina\n",
    "appears this user is correct that the assignments are shifted.\n",
    "\n",
    "left indicates what we have, --> on the right indicates what it should be\n",
    "- MACON: 111 --> 113\n",
    "- MADISON: 113 --> 115\n",
    "- MARTIN: 115 --> 117\n",
    "- MCDOWELL: 117 --> 111"
   ]
  },
  {
   "cell_type": "code",
   "execution_count": null,
   "id": "0d1d6dd3-0f45-4cfe-a4d7-3b845f70063f",
   "metadata": {},
   "outputs": [],
   "source": [
    "import geopandas as gp\n",
    "import pandas as pd"
   ]
  },
  {
   "cell_type": "code",
   "execution_count": null,
   "id": "f425dcda-0b4d-4774-9d58-f974bfba0609",
   "metadata": {},
   "outputs": [],
   "source": [
    "st = gp.read_file(\"./nc_2022_gen_prec/nc_gen_22_st_prec.shp\")\n",
    "sl = gp.read_file(\"./nc_2022_gen_prec/nc_gen_22_sldl_prec.shp\")\n",
    "su = gp.read_file(\"./nc_2022_gen_prec/nc_gen_22_sldu_prec.shp\")\n",
    "cong = gp.read_file(\"./nc_2022_gen_prec/nc_gen_22_cong_prec.shp\")\n"
   ]
  },
  {
   "cell_type": "code",
   "execution_count": null,
   "id": "c7a17788-b7b6-478e-85c6-9b548fd8f9c2",
   "metadata": {
    "tags": []
   },
   "outputs": [],
   "source": [
    "st[st[\"COUNTYNM\"].isin({\"MACON\", \"MADISON\", \"MARTIN\", \"MCDOWELL\"})]"
   ]
  },
  {
   "cell_type": "code",
   "execution_count": null,
   "id": "55786a08-554d-457f-a95a-6896f719a6f9",
   "metadata": {
    "collapsed": true,
    "jupyter": {
     "outputs_hidden": true
    },
    "tags": []
   },
   "outputs": [],
   "source": [
    "sl[sl[\"COUNTYNM\"].isin({\"MACON\", \"MADISON\", \"MARTIN\", \"MCDOWELL\"})]"
   ]
  },
  {
   "cell_type": "code",
   "execution_count": null,
   "id": "f1bf0e2e-df02-491b-85da-fdca233ec173",
   "metadata": {},
   "outputs": [],
   "source": [
    "gdf = gp.read_file(\"./raw-from-source/SBE_PRECINCTS_20220831/SBE_PRECINCTS_20220831.shp\")\n",
    "df = pd.read_table(\"./raw-from-source/results_pct_20221108 (1).zip\", sep = \"\\t\")\n",
    "sorted_prec = pd.read_csv(\"./raw-from-source/sorted_precincts/AllCounties.txt\", sep=\"\\t\")\n"
   ]
  },
  {
   "cell_type": "code",
   "execution_count": null,
   "id": "abd76b62-3b5a-4b61-8d32-50213787f364",
   "metadata": {
    "collapsed": true,
    "jupyter": {
     "outputs_hidden": true
    },
    "tags": []
   },
   "outputs": [],
   "source": [
    "df[df[\"County\"].isin({\"MACON\", \"MADISON\", \"MARTIN\", \"MCDOWELL\"})]"
   ]
  },
  {
   "cell_type": "code",
   "execution_count": null,
   "id": "e0166e2b-daba-4204-b627-aee3c297e128",
   "metadata": {
    "collapsed": true,
    "jupyter": {
     "outputs_hidden": true
    },
    "tags": []
   },
   "outputs": [],
   "source": [
    "sorted_prec[sorted_prec[\"county\"].isin({\"MACON\", \"MADISON\", \"MARTIN\", \"MCDOWELL\"})]"
   ]
  },
  {
   "cell_type": "code",
   "execution_count": null,
   "id": "401f7386-b52d-4aac-9dc2-5fc8f756ede9",
   "metadata": {
    "collapsed": true,
    "jupyter": {
     "outputs_hidden": true
    },
    "tags": []
   },
   "outputs": [],
   "source": [
    "gdf"
   ]
  },
  {
   "cell_type": "code",
   "execution_count": null,
   "id": "a14525a4-e433-45f8-82d2-b6b79ecb0710",
   "metadata": {
    "collapsed": true,
    "jupyter": {
     "outputs_hidden": true
    },
    "tags": []
   },
   "outputs": [],
   "source": [
    "gdf[gdf[\"county_nam\"].isin({\"MACON\", \"MADISON\", \"MARTIN\", \"MCDOWELL\"})]"
   ]
  },
  {
   "cell_type": "code",
   "execution_count": null,
   "id": "ff380a4a-7013-44fe-87ec-99bb77d13d60",
   "metadata": {},
   "outputs": [],
   "source": [
    "sl[\"COUNTYFP\"]"
   ]
  },
  {
   "cell_type": "code",
   "execution_count": null,
   "id": "29b5cd58-173f-4066-9ca4-83a76b14465c",
   "metadata": {},
   "outputs": [],
   "source": [
    "def fix_countyfps_assignment(gdf_og):\n",
    "    gdf = gdf_og.copy()\n",
    "    gdf.loc[gdf[\"COUNTYNM\"]==\"MACON\", \"COUNTYFP\"] = 113\n",
    "    gdf.loc[gdf[\"COUNTYNM\"]==\"MADISON\", \"COUNTYFP\"] = 115\n",
    "    gdf.loc[gdf[\"COUNTYNM\"]==\"MARTIN\", \"COUNTYFP\"] = 117\n",
    "    gdf.loc[gdf[\"COUNTYNM\"]==\"MCDOWELL\", \"COUNTYFP\"] = 111\n",
    "\n",
    "    return gdf\n",
    "\n",
    "\n",
    "st_update = fix_countyfps_assignment(st)\n",
    "cong_update = fix_countyfps_assignment(cong)\n",
    "sl_update = fix_countyfps_assignment(sl)\n",
    "su_update = fix_countyfps_assignment(su)\n"
   ]
  },
  {
   "cell_type": "code",
   "execution_count": null,
   "id": "9dfb2c96-1111-40fc-a6e9-9022982e0cc2",
   "metadata": {},
   "outputs": [],
   "source": [
    "assert st_update.shape==st.shape\n",
    "assert cong_update.shape==cong.shape\n",
    "assert sl_update.shape==sl.shape\n",
    "assert su_update.shape==su.shape"
   ]
  },
  {
   "cell_type": "code",
   "execution_count": null,
   "id": "5f091a7d-9aaa-4c9b-8cd4-7282aa2ccd8f",
   "metadata": {
    "collapsed": true,
    "jupyter": {
     "outputs_hidden": true
    },
    "tags": []
   },
   "outputs": [],
   "source": [
    "st_update[st_update[\"COUNTYNM\"].isin({\"MACON\", \"MADISON\", \"MARTIN\", \"MCDOWELL\"})]"
   ]
  },
  {
   "cell_type": "code",
   "execution_count": null,
   "id": "018fb0fe-c32e-4c5a-962f-1496cb6e4f25",
   "metadata": {},
   "outputs": [],
   "source": [
    "st_update.to_file(\"./nc_2022_gen_prec/nc_gen_22_st_prec.shp\")\n",
    "cong_update.to_file(\"./nc_2022_gen_prec/nc_gen_22_cong_prec.shp\")\n",
    "sl_update.to_file(\"./nc_2022_gen_prec/nc_gen_22_sldl_prec.shp\")\n",
    "su_update.to_file(\"./nc_2022_gen_prec/nc_gen_22_sldu_prec.shp\")"
   ]
  },
  {
   "cell_type": "code",
   "execution_count": null,
   "id": "29fc7cbd-ff63-44fb-a238-c9dd10bb198b",
   "metadata": {},
   "outputs": [],
   "source": [
    "loadin = gp.read_file(\"../../../Downloads/nc_2022_gen_prec/nc_gen_22_st_prec.shp\")"
   ]
  },
  {
   "cell_type": "code",
   "execution_count": null,
   "id": "82bbab04-67d6-4ce3-a33f-87435a902ad6",
   "metadata": {
    "collapsed": true,
    "jupyter": {
     "outputs_hidden": true
    },
    "tags": []
   },
   "outputs": [],
   "source": [
    "loadin[loadin[\"COUNTYNM\"].isin({\"MACON\", \"MADISON\", \"MARTIN\", \"MCDOWELL\"})]"
   ]
  },
  {
   "cell_type": "code",
   "execution_count": null,
   "id": "8079e448-eb62-4a5c-9973-c9ec8b0cc066",
   "metadata": {},
   "outputs": [],
   "source": []
  }
 ],
 "metadata": {
  "kernelspec": {
   "display_name": "pdv_env",
   "language": "python",
   "name": "pdv_env"
  },
  "language_info": {
   "codemirror_mode": {
    "name": "ipython",
    "version": 3
   },
   "file_extension": ".py",
   "mimetype": "text/x-python",
   "name": "python",
   "nbconvert_exporter": "python",
   "pygments_lexer": "ipython3",
   "version": "3.9.4"
  }
 },
 "nbformat": 4,
 "nbformat_minor": 5
}
