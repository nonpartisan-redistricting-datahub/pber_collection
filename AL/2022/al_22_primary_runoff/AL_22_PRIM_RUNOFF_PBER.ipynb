{
 "cells": [
  {
   "cell_type": "markdown",
   "id": "19d72807",
   "metadata": {},
   "source": [
    "## Alabama 2022 Primary Election Returns and Boundaries"
   ]
  },
  {
   "cell_type": "markdown",
   "id": "8485d080",
   "metadata": {},
   "source": [
    "### Sections\n",
    "- <a href=\"#join\">Read in Input Files</a><br>\n",
    "- <a href=\"#shp\">Modify Precinct Boundaries and Names</a><br>\n",
    "- <a href=\"#maup\">Join with Election Returns</a><br>\n",
    "- <a href=\"#splits\">Split Precincts</a><br>\n",
    "- <a href=\"#check\">Vote Total Checks</a><br>\n",
    "- <a href=\"#exp\">Export Cleaned Precinct-Level Datasets</a><br>\n",
    "\n",
    "#### Sources\n",
    "Note: This file was created after the 2022 Alabama precinct-level primary runoff election results file, that file is used as an input to this notebook and the processing code can be found on the [RDH github.](https://github.com/nonpartisan-redistricting-datahub/pber_collection/tree/main/AL/2022/al_22_primary_runoff)\n",
    "- [RDH Alabama 2022 Primary Runoff Election Results, Precint Level](https://redistrictingdatahub.org/dataset/alabama-2022-primary-run-off-election-precinct-level-results/)\n",
    "- [RDH Alabama 2022 General Election Results and Boundaries, Precint Level](https://redistrictingdatahub.org/dataset/alabama-2022-general-election-precinct-level-results-and-boundaries/)\n",
    "-[2021 Alabama Congressional Districts](https://redistrictingdatahub.org/dataset/2021-alabama-congressional-districts-adopted-plan/)\n",
    "-[2021 Adopted State Senate Plan](https://redistrictingdatahub.org/dataset/2021-alabama-state-senate-adopted-plan/)\n",
    "-[2021 Adopted State House Plan](https://redistrictingdatahub.org/dataset/2021-alabama-state-house-adopted-plan/)"
   ]
  },
  {
   "cell_type": "code",
   "execution_count": 1,
   "id": "bcfc2d1a",
   "metadata": {},
   "outputs": [],
   "source": [
    "import pandas as pd\n",
    "import geopandas as gp\n",
    "import os\n",
    "import numpy as np\n",
    "import re\n",
    "from collections import Counter\n",
    "from helper_functions_AL22 import *\n",
    "pd.set_option('display.max_rows', 1000)\n",
    "pd.set_option('display.max_columns', 1000)"
   ]
  },
  {
   "cell_type": "code",
   "execution_count": 2,
   "id": "a8b27140",
   "metadata": {},
   "outputs": [],
   "source": [
    "# Temporarily ignore warning messages for splits function\n",
    "import warnings\n",
    "\n",
    "warnings.filterwarnings(\"ignore\")"
   ]
  },
  {
   "cell_type": "markdown",
   "id": "c7a4bce8",
   "metadata": {},
   "source": [
    "<p><a name=\"join\"></a></p>\n",
    "\n",
    "### Read in input files"
   ]
  },
  {
   "cell_type": "code",
   "execution_count": 3,
   "id": "0932a684",
   "metadata": {},
   "outputs": [],
   "source": [
    "# Shapefiles\n",
    "#2022 AL Congressional plan\n",
    "al_cong = gp.read_file(\"./raw-from-source/al_cong_2021/2021 Alabama Congressional Plan_shape file.shp\")\n",
    "#2022 AL State Senate Plan\n",
    "al_sldu = gp.read_file(\"./raw-from-source/al_sldu_2021/2021 Alabama Senate Plan_shape file.shp\")\n",
    "#2022 AL State House Plan\n",
    "al_sldl = gp.read_file(\"./raw-from-source/al_sldl_2021/2021 Alabama House Plan_shape file.shp\")"
   ]
  },
  {
   "cell_type": "code",
   "execution_count": 4,
   "id": "94d5a08e",
   "metadata": {},
   "outputs": [],
   "source": [
    "# Read in Primary Runoff Returns\n",
    "al_prim_er_ro = pd.read_csv('./raw-from-source/al_2022_prim_runoff_prec/al_2022_prim_runoff_prec.csv')"
   ]
  },
  {
   "cell_type": "code",
   "execution_count": 5,
   "id": "a371575c",
   "metadata": {},
   "outputs": [],
   "source": [
    "#Set unique ID to include County name\n",
    "al_prim_er_ro['UNIQUE_ID'] = al_prim_er_ro['county'] +'-:-'+ al_prim_er_ro['precinct']"
   ]
  },
  {
   "cell_type": "code",
   "execution_count": 6,
   "id": "b8c48745",
   "metadata": {},
   "outputs": [],
   "source": [
    "# Make one change to precincts in Cullman County\n",
    "# combine FAIRVIEW FIRE DEPT and FAIRVIEW TOWN HALL into one precinct\n",
    "test = al_prim_er_ro[al_prim_er_ro['precinct'].isin(['FAIRVIEW FIRE DEPT_ A-K', 'FAIRVIEW TOWN HALL L-Z' ])].sum()\n",
    "# adjust county name, precinct name\n",
    "test['COUNTYFP'] = '043'\n",
    "test['county'] = 'Cullman'\n",
    "test['precinct'] = 'FAIRVIEW FIRE DEPT TOWN HALL'"
   ]
  },
  {
   "cell_type": "code",
   "execution_count": 7,
   "id": "162b2664",
   "metadata": {},
   "outputs": [],
   "source": [
    "replace_index = al_prim_er_ro[al_prim_er_ro['precinct'].isin(['FAIRVIEW FIRE DEPT_ A-K', 'FAIRVIEW TOWN HALL L-Z' ])].index[0]\n",
    "drop_index = al_prim_er_ro[al_prim_er_ro['precinct'].isin(['FAIRVIEW FIRE DEPT_ A-K', 'FAIRVIEW TOWN HALL L-Z' ])].index[1]"
   ]
  },
  {
   "cell_type": "code",
   "execution_count": 8,
   "id": "35433a60",
   "metadata": {},
   "outputs": [],
   "source": [
    "# Replace the row\n",
    "al_prim_er_ro.loc[replace_index] = test\n",
    "# drop the extra row\n",
    "al_prim_er_ro = al_prim_er_ro.drop(drop_index)"
   ]
  },
  {
   "cell_type": "code",
   "execution_count": 9,
   "id": "00de45f1",
   "metadata": {},
   "outputs": [],
   "source": [
    "#redo unique ID to account for name changes\n",
    "al_prim_er_ro['UNIQUE_ID'] = al_prim_er_ro['county'] +'-:-'+ al_prim_er_ro['precinct']"
   ]
  },
  {
   "cell_type": "code",
   "execution_count": 10,
   "id": "90e9432b",
   "metadata": {},
   "outputs": [
    {
     "data": {
      "text/plain": [
       "True"
      ]
     },
     "execution_count": 10,
     "metadata": {},
     "output_type": "execute_result"
    }
   ],
   "source": [
    "al_prim_er_ro['UNIQUE_ID'].nunique() == len(al_prim_er_ro['UNIQUE_ID'])"
   ]
  },
  {
   "cell_type": "markdown",
   "id": "f93aea52",
   "metadata": {},
   "source": [
    "<p><a name=\"shp\"></a></p>\n",
    "\n",
    "### Modify Precinct Boundaries and Join"
   ]
  },
  {
   "cell_type": "code",
   "execution_count": 11,
   "id": "3d71142e",
   "metadata": {},
   "outputs": [],
   "source": [
    "# Read in shp from AL 2022 General election, from website\n",
    "al_gen_shp = gp.read_file('./raw-from-source/al_gen_22_prec/al_gen_22_no_splits_prec.shp', \n",
    "                          usecols = ['UNIQUE_ID', 'County', 'Precinct', 'geometry'])\n",
    "# subset to just columns of interest\n",
    "al_gen_shp = al_gen_shp[['UNIQUE_ID', 'County', 'Precinct', 'geometry']]"
   ]
  },
  {
   "cell_type": "code",
   "execution_count": 12,
   "id": "f3d175b1",
   "metadata": {
    "scrolled": true
   },
   "outputs": [
    {
     "name": "stdout",
     "output_type": "stream",
     "text": [
      "Number of precincts in AL Gen: 1939\n"
     ]
    }
   ],
   "source": [
    "#Check number of rows/precincts\n",
    "print('Number of precincts in AL Gen:', al_gen_shp['UNIQUE_ID'].nunique())"
   ]
  },
  {
   "cell_type": "code",
   "execution_count": 13,
   "id": "db40a0f7",
   "metadata": {},
   "outputs": [],
   "source": [
    "al_prim_er_ro[al_prim_er_ro['county'] == 'Mobile']['UNIQUE_ID'].to_csv('ermob.csv')"
   ]
  },
  {
   "cell_type": "markdown",
   "id": "25f834d3",
   "metadata": {},
   "source": [
    "Create rename dictionary from [this google sheet](https://docs.google.com/spreadsheets/d/18m4T2KdcXOSXtWtYIOp0nCKrAgQCl9K1CvZAMEs1Z9Q/edit#gid=2102357482)"
   ]
  },
  {
   "cell_type": "code",
   "execution_count": 14,
   "id": "c22937ca",
   "metadata": {},
   "outputs": [],
   "source": [
    "rename_df = pd.read_csv('./raw-from-source/al_precinct_counts_names - name_anoms.csv')"
   ]
  },
  {
   "cell_type": "code",
   "execution_count": 15,
   "id": "2a00116f",
   "metadata": {},
   "outputs": [
    {
     "data": {
      "text/html": [
       "<div>\n",
       "<style scoped>\n",
       "    .dataframe tbody tr th:only-of-type {\n",
       "        vertical-align: middle;\n",
       "    }\n",
       "\n",
       "    .dataframe tbody tr th {\n",
       "        vertical-align: top;\n",
       "    }\n",
       "\n",
       "    .dataframe thead th {\n",
       "        text-align: right;\n",
       "    }\n",
       "</style>\n",
       "<table border=\"1\" class=\"dataframe\">\n",
       "  <thead>\n",
       "    <tr style=\"text-align: right;\">\n",
       "      <th></th>\n",
       "      <th>SHP</th>\n",
       "      <th>ER_RO</th>\n",
       "      <th>Unnamed: 2</th>\n",
       "      <th>Unnamed: 3</th>\n",
       "    </tr>\n",
       "  </thead>\n",
       "  <tbody>\n",
       "    <tr>\n",
       "      <th>0</th>\n",
       "      <td>Autauga-:-60 MARBURY MIDDLE SCHOOL</td>\n",
       "      <td>Autauga-:-60 MARBURY MIDDLE SCH</td>\n",
       "      <td>NaN</td>\n",
       "      <td>NaN</td>\n",
       "    </tr>\n",
       "    <tr>\n",
       "      <th>1</th>\n",
       "      <td>Baldwin-:-BROMLEY CROSSROADS VFD</td>\n",
       "      <td>Baldwin-:-BROMLEY CROOSROADS VFD</td>\n",
       "      <td>NaN</td>\n",
       "      <td>NaN</td>\n",
       "    </tr>\n",
       "    <tr>\n",
       "      <th>2</th>\n",
       "      <td>Baldwin-:-PT_CLEAR ST_ FRANCIS</td>\n",
       "      <td>Baldwin-:-PT_CLEAR ST FRANCIS</td>\n",
       "      <td>NaN</td>\n",
       "      <td>NaN</td>\n",
       "    </tr>\n",
       "    <tr>\n",
       "      <th>3</th>\n",
       "      <td>Baldwin-:-ST_ PAUL'S EPISCOPAL</td>\n",
       "      <td>Baldwin-:-ST_ PAUL'S EPISCOPAL CH</td>\n",
       "      <td>NaN</td>\n",
       "      <td>NaN</td>\n",
       "    </tr>\n",
       "    <tr>\n",
       "      <th>4</th>\n",
       "      <td>Bibb-:-EOLINE FIRE DEPT_</td>\n",
       "      <td>Bibb-:-EOLINE FIRE DEPT</td>\n",
       "      <td>NaN</td>\n",
       "      <td>NaN</td>\n",
       "    </tr>\n",
       "  </tbody>\n",
       "</table>\n",
       "</div>"
      ],
      "text/plain": [
       "                                  SHP                              ER_RO  \\\n",
       "0  Autauga-:-60 MARBURY MIDDLE SCHOOL    Autauga-:-60 MARBURY MIDDLE SCH   \n",
       "1    Baldwin-:-BROMLEY CROSSROADS VFD   Baldwin-:-BROMLEY CROOSROADS VFD   \n",
       "2      Baldwin-:-PT_CLEAR ST_ FRANCIS      Baldwin-:-PT_CLEAR ST FRANCIS   \n",
       "3      Baldwin-:-ST_ PAUL'S EPISCOPAL  Baldwin-:-ST_ PAUL'S EPISCOPAL CH   \n",
       "4            Bibb-:-EOLINE FIRE DEPT_            Bibb-:-EOLINE FIRE DEPT   \n",
       "\n",
       "   Unnamed: 2 Unnamed: 3  \n",
       "0         NaN        NaN  \n",
       "1         NaN        NaN  \n",
       "2         NaN        NaN  \n",
       "3         NaN        NaN  \n",
       "4         NaN        NaN  "
      ]
     },
     "execution_count": 15,
     "metadata": {},
     "output_type": "execute_result"
    }
   ],
   "source": [
    "rename_df.head()"
   ]
  },
  {
   "cell_type": "code",
   "execution_count": 16,
   "id": "493296d0",
   "metadata": {},
   "outputs": [],
   "source": [
    "#Change precinct names in shp to correctly match election returns. \n",
    "prec_dict = dict(zip(rename_df['SHP'], rename_df['ER_RO']))"
   ]
  },
  {
   "cell_type": "code",
   "execution_count": 17,
   "id": "70bedaee",
   "metadata": {},
   "outputs": [],
   "source": [
    "al_gen_shp['UNIQUE_ID'] = al_gen_shp['UNIQUE_ID'].replace(prec_dict)"
   ]
  },
  {
   "cell_type": "code",
   "execution_count": 18,
   "id": "c42a96f3",
   "metadata": {},
   "outputs": [],
   "source": [
    "#Adjust precinct name field to account for name changes\n",
    "al_gen_shp['Precinct'] = al_gen_shp['UNIQUE_ID'].apply(lambda x: x.split('-:-')[1])"
   ]
  },
  {
   "cell_type": "code",
   "execution_count": 19,
   "id": "e954a902",
   "metadata": {},
   "outputs": [
    {
     "data": {
      "text/plain": [
       "1935"
      ]
     },
     "execution_count": 19,
     "metadata": {},
     "output_type": "execute_result"
    }
   ],
   "source": [
    "#check before changing df\n",
    "len(al_gen_shp.dissolve(by= 'UNIQUE_ID'))"
   ]
  },
  {
   "cell_type": "code",
   "execution_count": 20,
   "id": "04765924",
   "metadata": {},
   "outputs": [],
   "source": [
    "al_prim_runoff_shp = al_gen_shp.dissolve(by= 'UNIQUE_ID').reset_index()"
   ]
  },
  {
   "cell_type": "code",
   "execution_count": 21,
   "id": "f4441fb0",
   "metadata": {
    "scrolled": true
   },
   "outputs": [
    {
     "data": {
      "text/html": [
       "<div>\n",
       "<style scoped>\n",
       "    .dataframe tbody tr th:only-of-type {\n",
       "        vertical-align: middle;\n",
       "    }\n",
       "\n",
       "    .dataframe tbody tr th {\n",
       "        vertical-align: top;\n",
       "    }\n",
       "\n",
       "    .dataframe thead th {\n",
       "        text-align: right;\n",
       "    }\n",
       "</style>\n",
       "<table border=\"1\" class=\"dataframe\">\n",
       "  <thead>\n",
       "    <tr style=\"text-align: right;\">\n",
       "      <th></th>\n",
       "      <th>UNIQUE_ID</th>\n",
       "      <th>geometry</th>\n",
       "      <th>County</th>\n",
       "      <th>Precinct</th>\n",
       "    </tr>\n",
       "  </thead>\n",
       "  <tbody>\n",
       "    <tr>\n",
       "      <th>0</th>\n",
       "      <td>Autauga-:-10 JONES COMM_ CTR_</td>\n",
       "      <td>POLYGON Z ((-86.92124 32.65708 0.00000, -86.92...</td>\n",
       "      <td>Autauga</td>\n",
       "      <td>10 JONES COMM_ CTR_</td>\n",
       "    </tr>\n",
       "    <tr>\n",
       "      <th>1</th>\n",
       "      <td>Autauga-:-100 TRINITY METHODIST</td>\n",
       "      <td>POLYGON Z ((-86.45394 32.49318 0.00000, -86.45...</td>\n",
       "      <td>Autauga</td>\n",
       "      <td>100 TRINITY METHODIST</td>\n",
       "    </tr>\n",
       "  </tbody>\n",
       "</table>\n",
       "</div>"
      ],
      "text/plain": [
       "                         UNIQUE_ID  \\\n",
       "0    Autauga-:-10 JONES COMM_ CTR_   \n",
       "1  Autauga-:-100 TRINITY METHODIST   \n",
       "\n",
       "                                            geometry   County  \\\n",
       "0  POLYGON Z ((-86.92124 32.65708 0.00000, -86.92...  Autauga   \n",
       "1  POLYGON Z ((-86.45394 32.49318 0.00000, -86.45...  Autauga   \n",
       "\n",
       "                Precinct  \n",
       "0    10 JONES COMM_ CTR_  \n",
       "1  100 TRINITY METHODIST  "
      ]
     },
     "execution_count": 21,
     "metadata": {},
     "output_type": "execute_result"
    }
   ],
   "source": [
    "al_prim_runoff_shp.head(2)"
   ]
  },
  {
   "cell_type": "markdown",
   "id": "9910f6d3",
   "metadata": {},
   "source": [
    "<p><a name=\"maup\"></a></p>\n",
    "\n",
    "### Join with Election Results"
   ]
  },
  {
   "cell_type": "code",
   "execution_count": 22,
   "id": "83affadf",
   "metadata": {},
   "outputs": [
    {
     "data": {
      "text/plain": [
       "False"
      ]
     },
     "execution_count": 22,
     "metadata": {},
     "output_type": "execute_result"
    }
   ],
   "source": [
    "# check that all unique_ids match up\n",
    "set(al_prim_er_ro['UNIQUE_ID']) == set(al_prim_runoff_shp['UNIQUE_ID'])"
   ]
  },
  {
   "cell_type": "code",
   "execution_count": 23,
   "id": "c880c1a5",
   "metadata": {},
   "outputs": [],
   "source": [
    "# Look at further name anomalies\n",
    "shp_names = sorted(list(set(al_prim_runoff_shp['UNIQUE_ID']) - set(al_prim_er_ro['UNIQUE_ID'])))\n",
    "er_names = sorted(list(set(al_prim_er_ro['UNIQUE_ID']) - set(al_prim_runoff_shp['UNIQUE_ID'])))\n",
    "# Remove shape with no votes\n",
    "shp_names.remove('Coffee-:-Unassigned')\n",
    "# Create Data Frame\n",
    "name_anomalies = pd.DataFrame()\n",
    "name_anomalies['shp'] = shp_names\n",
    "name_anomalies['er'] = er_names"
   ]
  },
  {
   "cell_type": "code",
   "execution_count": 24,
   "id": "47717106",
   "metadata": {
    "scrolled": true
   },
   "outputs": [
    {
     "data": {
      "text/html": [
       "<div>\n",
       "<style scoped>\n",
       "    .dataframe tbody tr th:only-of-type {\n",
       "        vertical-align: middle;\n",
       "    }\n",
       "\n",
       "    .dataframe tbody tr th {\n",
       "        vertical-align: top;\n",
       "    }\n",
       "\n",
       "    .dataframe thead th {\n",
       "        text-align: right;\n",
       "    }\n",
       "</style>\n",
       "<table border=\"1\" class=\"dataframe\">\n",
       "  <thead>\n",
       "    <tr style=\"text-align: right;\">\n",
       "      <th></th>\n",
       "      <th>shp</th>\n",
       "      <th>er</th>\n",
       "    </tr>\n",
       "  </thead>\n",
       "  <tbody>\n",
       "  </tbody>\n",
       "</table>\n",
       "</div>"
      ],
      "text/plain": [
       "Empty DataFrame\n",
       "Columns: [shp, er]\n",
       "Index: []"
      ]
     },
     "execution_count": 24,
     "metadata": {},
     "output_type": "execute_result"
    }
   ],
   "source": [
    "#visually inspect\n",
    "name_anomalies"
   ]
  },
  {
   "cell_type": "code",
   "execution_count": 25,
   "id": "55034eae",
   "metadata": {},
   "outputs": [
    {
     "data": {
      "text/plain": [
       "['Coffee-:-Unassigned']"
      ]
     },
     "execution_count": 25,
     "metadata": {},
     "output_type": "execute_result"
    }
   ],
   "source": [
    "# check that all unique_ids match up\n",
    "\n",
    "#set(al_prim_er['UNIQUE_ID']) == set(al_prim_shp['UNIQUE_ID'])\n",
    "#sorted(list(set(al_prim_er['UNIQUE_ID']) - set(al_prim_shp['UNIQUE_ID'])))\n",
    "sorted((list(set(al_prim_runoff_shp['UNIQUE_ID']) - set(al_prim_er_ro['UNIQUE_ID']))))"
   ]
  },
  {
   "cell_type": "markdown",
   "id": "ad2cfc81",
   "metadata": {},
   "source": [
    "There is one geometry with no votes associated, in the shapefile."
   ]
  },
  {
   "cell_type": "code",
   "execution_count": 26,
   "id": "a5e0bf16",
   "metadata": {},
   "outputs": [],
   "source": [
    "# merge\n",
    "al_prim_pber = al_prim_runoff_shp[['UNIQUE_ID', 'geometry']].merge(al_prim_er_ro, on='UNIQUE_ID', how='outer', indicator=True)"
   ]
  },
  {
   "cell_type": "code",
   "execution_count": 27,
   "id": "67b3991b",
   "metadata": {
    "scrolled": true
   },
   "outputs": [
    {
     "data": {
      "text/plain": [
       "both          1934\n",
       "left_only        1\n",
       "right_only       0\n",
       "Name: _merge, dtype: int64"
      ]
     },
     "execution_count": 27,
     "metadata": {},
     "output_type": "execute_result"
    }
   ],
   "source": [
    "#check indicator to see if merge was successful\n",
    "al_prim_pber._merge.value_counts()"
   ]
  },
  {
   "cell_type": "code",
   "execution_count": 28,
   "id": "639ee90e",
   "metadata": {
    "scrolled": true
   },
   "outputs": [
    {
     "data": {
      "text/html": [
       "<div>\n",
       "<style scoped>\n",
       "    .dataframe tbody tr th:only-of-type {\n",
       "        vertical-align: middle;\n",
       "    }\n",
       "\n",
       "    .dataframe tbody tr th {\n",
       "        vertical-align: top;\n",
       "    }\n",
       "\n",
       "    .dataframe thead th {\n",
       "        text-align: right;\n",
       "    }\n",
       "</style>\n",
       "<table border=\"1\" class=\"dataframe\">\n",
       "  <thead>\n",
       "    <tr style=\"text-align: right;\">\n",
       "      <th></th>\n",
       "      <th>UNIQUE_ID</th>\n",
       "      <th>geometry</th>\n",
       "      <th>COUNTYFP</th>\n",
       "      <th>county</th>\n",
       "      <th>precinct</th>\n",
       "      <th>R22USSRBRI</th>\n",
       "      <th>R22USSRBRO</th>\n",
       "      <th>R22GOVDFLO</th>\n",
       "      <th>R22GOVDFOR</th>\n",
       "      <th>R22SOSRALL</th>\n",
       "      <th>R22SOSRZEI</th>\n",
       "      <th>R22AUDRSOR</th>\n",
       "      <th>R22AUDRCOO</th>\n",
       "      <th>R22PS1RODE</th>\n",
       "      <th>R22PS1RWOO</th>\n",
       "      <th>R22PS2RBEE</th>\n",
       "      <th>R22PS2RMCC</th>\n",
       "      <th>RCON05RSTR</th>\n",
       "      <th>RCON05RWAR</th>\n",
       "      <th>RSU12RKEL</th>\n",
       "      <th>RSU12RDRA</th>\n",
       "      <th>RSU23DSTE</th>\n",
       "      <th>RSU23DSAN</th>\n",
       "      <th>RSL002RHAR</th>\n",
       "      <th>RSL002RBLA</th>\n",
       "      <th>RSL004RMOO</th>\n",
       "      <th>RSL004RJOH</th>\n",
       "      <th>RSL014RWAD</th>\n",
       "      <th>RSL014RFRE</th>\n",
       "      <th>RSL020RLOM</th>\n",
       "      <th>RSL020RTAY</th>\n",
       "      <th>RSL040RROB</th>\n",
       "      <th>RSL040RBOR</th>\n",
       "      <th>RSL055DPLU</th>\n",
       "      <th>RSL055DSCO</th>\n",
       "      <th>RSL056DTIL</th>\n",
       "      <th>RSL056DHUF</th>\n",
       "      <th>RSL057DSEL</th>\n",
       "      <th>RSL057DWIN</th>\n",
       "      <th>RSL100RSHI</th>\n",
       "      <th>RSL100RKUP</th>\n",
       "      <th>_merge</th>\n",
       "    </tr>\n",
       "  </thead>\n",
       "  <tbody>\n",
       "    <tr>\n",
       "      <th>0</th>\n",
       "      <td>Autauga-:-10 JONES COMM_ CTR_</td>\n",
       "      <td>POLYGON Z ((-86.92124 32.65708 0.00000, -86.92...</td>\n",
       "      <td>001</td>\n",
       "      <td>Autauga</td>\n",
       "      <td>10 JONES COMM_ CTR_</td>\n",
       "      <td>49.0</td>\n",
       "      <td>35.0</td>\n",
       "      <td>5.0</td>\n",
       "      <td>26.0</td>\n",
       "      <td>46.0</td>\n",
       "      <td>37.0</td>\n",
       "      <td>50.0</td>\n",
       "      <td>28.0</td>\n",
       "      <td>42.0</td>\n",
       "      <td>31.0</td>\n",
       "      <td>36.0</td>\n",
       "      <td>38.0</td>\n",
       "      <td>0.0</td>\n",
       "      <td>0.0</td>\n",
       "      <td>0.0</td>\n",
       "      <td>0.0</td>\n",
       "      <td>0.0</td>\n",
       "      <td>0.0</td>\n",
       "      <td>0.0</td>\n",
       "      <td>0.0</td>\n",
       "      <td>0.0</td>\n",
       "      <td>0.0</td>\n",
       "      <td>0.0</td>\n",
       "      <td>0.0</td>\n",
       "      <td>0.0</td>\n",
       "      <td>0.0</td>\n",
       "      <td>0.0</td>\n",
       "      <td>0.0</td>\n",
       "      <td>0.0</td>\n",
       "      <td>0.0</td>\n",
       "      <td>0.0</td>\n",
       "      <td>0.0</td>\n",
       "      <td>0.0</td>\n",
       "      <td>0.0</td>\n",
       "      <td>0.0</td>\n",
       "      <td>0.0</td>\n",
       "      <td>both</td>\n",
       "    </tr>\n",
       "    <tr>\n",
       "      <th>1</th>\n",
       "      <td>Autauga-:-100 TRINITY METHODIST</td>\n",
       "      <td>POLYGON Z ((-86.45394 32.49318 0.00000, -86.45...</td>\n",
       "      <td>001</td>\n",
       "      <td>Autauga</td>\n",
       "      <td>100 TRINITY METHODIST</td>\n",
       "      <td>422.0</td>\n",
       "      <td>266.0</td>\n",
       "      <td>4.0</td>\n",
       "      <td>3.0</td>\n",
       "      <td>428.0</td>\n",
       "      <td>243.0</td>\n",
       "      <td>420.0</td>\n",
       "      <td>204.0</td>\n",
       "      <td>296.0</td>\n",
       "      <td>277.0</td>\n",
       "      <td>318.0</td>\n",
       "      <td>261.0</td>\n",
       "      <td>0.0</td>\n",
       "      <td>0.0</td>\n",
       "      <td>0.0</td>\n",
       "      <td>0.0</td>\n",
       "      <td>0.0</td>\n",
       "      <td>0.0</td>\n",
       "      <td>0.0</td>\n",
       "      <td>0.0</td>\n",
       "      <td>0.0</td>\n",
       "      <td>0.0</td>\n",
       "      <td>0.0</td>\n",
       "      <td>0.0</td>\n",
       "      <td>0.0</td>\n",
       "      <td>0.0</td>\n",
       "      <td>0.0</td>\n",
       "      <td>0.0</td>\n",
       "      <td>0.0</td>\n",
       "      <td>0.0</td>\n",
       "      <td>0.0</td>\n",
       "      <td>0.0</td>\n",
       "      <td>0.0</td>\n",
       "      <td>0.0</td>\n",
       "      <td>0.0</td>\n",
       "      <td>0.0</td>\n",
       "      <td>both</td>\n",
       "    </tr>\n",
       "  </tbody>\n",
       "</table>\n",
       "</div>"
      ],
      "text/plain": [
       "                         UNIQUE_ID  \\\n",
       "0    Autauga-:-10 JONES COMM_ CTR_   \n",
       "1  Autauga-:-100 TRINITY METHODIST   \n",
       "\n",
       "                                            geometry COUNTYFP   county  \\\n",
       "0  POLYGON Z ((-86.92124 32.65708 0.00000, -86.92...      001  Autauga   \n",
       "1  POLYGON Z ((-86.45394 32.49318 0.00000, -86.45...      001  Autauga   \n",
       "\n",
       "                precinct  R22USSRBRI  R22USSRBRO  R22GOVDFLO  R22GOVDFOR  \\\n",
       "0    10 JONES COMM_ CTR_        49.0        35.0         5.0        26.0   \n",
       "1  100 TRINITY METHODIST       422.0       266.0         4.0         3.0   \n",
       "\n",
       "   R22SOSRALL  R22SOSRZEI  R22AUDRSOR  R22AUDRCOO  R22PS1RODE  R22PS1RWOO  \\\n",
       "0        46.0        37.0        50.0        28.0        42.0        31.0   \n",
       "1       428.0       243.0       420.0       204.0       296.0       277.0   \n",
       "\n",
       "   R22PS2RBEE  R22PS2RMCC  RCON05RSTR  RCON05RWAR  RSU12RKEL  RSU12RDRA  \\\n",
       "0        36.0        38.0         0.0         0.0        0.0        0.0   \n",
       "1       318.0       261.0         0.0         0.0        0.0        0.0   \n",
       "\n",
       "   RSU23DSTE  RSU23DSAN  RSL002RHAR  RSL002RBLA  RSL004RMOO  RSL004RJOH  \\\n",
       "0        0.0        0.0         0.0         0.0         0.0         0.0   \n",
       "1        0.0        0.0         0.0         0.0         0.0         0.0   \n",
       "\n",
       "   RSL014RWAD  RSL014RFRE  RSL020RLOM  RSL020RTAY  RSL040RROB  RSL040RBOR  \\\n",
       "0         0.0         0.0         0.0         0.0         0.0         0.0   \n",
       "1         0.0         0.0         0.0         0.0         0.0         0.0   \n",
       "\n",
       "   RSL055DPLU  RSL055DSCO  RSL056DTIL  RSL056DHUF  RSL057DSEL  RSL057DWIN  \\\n",
       "0         0.0         0.0         0.0         0.0         0.0         0.0   \n",
       "1         0.0         0.0         0.0         0.0         0.0         0.0   \n",
       "\n",
       "   RSL100RSHI  RSL100RKUP _merge  \n",
       "0         0.0         0.0   both  \n",
       "1         0.0         0.0   both  "
      ]
     },
     "execution_count": 28,
     "metadata": {},
     "output_type": "execute_result"
    }
   ],
   "source": [
    "al_prim_pber.head(2)"
   ]
  },
  {
   "cell_type": "code",
   "execution_count": 29,
   "id": "686f89bb",
   "metadata": {},
   "outputs": [],
   "source": [
    "al_prim_pber.drop(labels = ['_merge'], axis = 1, inplace = True)"
   ]
  },
  {
   "cell_type": "code",
   "execution_count": 30,
   "id": "2101d5ad",
   "metadata": {},
   "outputs": [],
   "source": [
    "# rearrange columns\n",
    "al_prim_pber = al_prim_pber[['UNIQUE_ID'] + al_prim_pber.columns[2:].to_list() + ['geometry']]"
   ]
  },
  {
   "cell_type": "code",
   "execution_count": 31,
   "id": "61f5a53c",
   "metadata": {},
   "outputs": [],
   "source": [
    "#Fill Nulls\n",
    "al_prim_pber = al_prim_pber.fillna(0)"
   ]
  },
  {
   "cell_type": "code",
   "execution_count": 32,
   "id": "66f7a8fa",
   "metadata": {},
   "outputs": [],
   "source": [
    "al_prim_pber['geometry'] = al_prim_pber.geometry.buffer(0)"
   ]
  },
  {
   "cell_type": "markdown",
   "id": "33c5695b",
   "metadata": {},
   "source": [
    "<p><a name=\"splits\"></a></p>\n",
    "\n",
    "### Split Precincts"
   ]
  },
  {
   "cell_type": "code",
   "execution_count": 33,
   "id": "316afe1a",
   "metadata": {},
   "outputs": [],
   "source": [
    "#Assign columns to datasets\n",
    "unsplit_col_names = al_prim_pber.columns[4:-1].to_list()\n",
    "cong_cols = [col for col in unsplit_col_names if col.startswith('RCON')]\n",
    "sldu_cols = [col for col in unsplit_col_names if col.startswith('RSU')]\n",
    "sldl_cols = [col for col in unsplit_col_names if col.startswith('RSL')]\n",
    "st_cols = [col for col in unsplit_col_names if col not in cong_cols+sldu_cols+sldl_cols]"
   ]
  },
  {
   "cell_type": "code",
   "execution_count": 34,
   "id": "6fa1042b",
   "metadata": {},
   "outputs": [],
   "source": [
    "# set columns with votes as integer type\n",
    "for item in unsplit_col_names:\n",
    "    al_prim_pber[item] = al_prim_pber[item].astype(int)"
   ]
  },
  {
   "cell_type": "code",
   "execution_count": 35,
   "id": "ee607b83",
   "metadata": {},
   "outputs": [
    {
     "data": {
      "text/plain": [
       "True"
      ]
     },
     "execution_count": 35,
     "metadata": {},
     "output_type": "execute_result"
    }
   ],
   "source": [
    "#Check\n",
    "len(unsplit_col_names) == len(cong_cols+sldu_cols+sldl_cols+st_cols)"
   ]
  },
  {
   "cell_type": "code",
   "execution_count": 36,
   "id": "1d5f177b",
   "metadata": {},
   "outputs": [],
   "source": [
    "#Create datasets for splits\n",
    "cong = al_prim_pber[['UNIQUE_ID', 'COUNTYFP', 'county', 'precinct'] + cong_cols + ['geometry']]\n",
    "sldu = al_prim_pber[['UNIQUE_ID', 'COUNTYFP', 'county', 'precinct'] + sldu_cols + ['geometry']]\n",
    "sldl = al_prim_pber[['UNIQUE_ID', 'COUNTYFP', 'county', 'precinct'] + sldl_cols + ['geometry']]\n",
    "st = al_prim_pber[['UNIQUE_ID', 'COUNTYFP', 'county', 'precinct'] + st_cols + ['geometry']]"
   ]
  },
  {
   "cell_type": "markdown",
   "id": "8e8a5dfa",
   "metadata": {},
   "source": [
    "#### Identify split precincts"
   ]
  },
  {
   "cell_type": "code",
   "execution_count": 37,
   "id": "8ff779d1",
   "metadata": {},
   "outputs": [],
   "source": [
    "precinct_mapping_dict = {}\n",
    "split_precincts_list = {}\n",
    "for index,row in al_prim_pber.iterrows():\n",
    "    precinct_list = []\n",
    "    for contest in unsplit_col_names:\n",
    "        if(row[contest]!=0) and (\"RCON\" in contest or \"RSL\" in contest or \"RSU\" in contest):\n",
    "            precinct_info = get_level_dist(contest)\n",
    "            if precinct_info not in precinct_list:\n",
    "                precinct_list.append(get_level_dist(contest))\n",
    "    is_split = is_split_precinct(precinct_list)\n",
    "    if (is_split):\n",
    "        split_precincts_list[row[\"UNIQUE_ID\"]]=is_split\n",
    "    precinct_mapping_dict[row[\"UNIQUE_ID\"]]=precinct_list\n",
    "    \n",
    "cong_check_list = {i:contains_cong(precinct_mapping_dict[i]) for i in precinct_mapping_dict.keys()}\n",
    "sldu_check_list = {i:contains_sldu(precinct_mapping_dict[i]) for i in precinct_mapping_dict.keys()}\n",
    "sldl_check_list = {i:contains_sldl(precinct_mapping_dict[i]) for i in precinct_mapping_dict.keys()}"
   ]
  },
  {
   "cell_type": "code",
   "execution_count": 38,
   "id": "8ae04cb7",
   "metadata": {},
   "outputs": [
    {
     "name": "stdout",
     "output_type": "stream",
     "text": [
      "{}\n"
     ]
    }
   ],
   "source": [
    "print(split_precincts_list)"
   ]
  },
  {
   "cell_type": "markdown",
   "id": "1c3e6d87",
   "metadata": {},
   "source": [
    "<p><a name=\"check\"></a></p>\n",
    "\n",
    "### Vote Total Checks"
   ]
  },
  {
   "cell_type": "code",
   "execution_count": 39,
   "id": "888ab699",
   "metadata": {},
   "outputs": [
    {
     "name": "stdout",
     "output_type": "stream",
     "text": [
      "***Countywide Totals Check***\n",
      "\n",
      "R22USSRBRI is equal across all counties\n",
      "R22USSRBRO is equal across all counties\n",
      "R22GOVDFLO is equal across all counties\n",
      "R22GOVDFOR is equal across all counties\n",
      "R22SOSRALL is equal across all counties\n",
      "R22SOSRZEI is equal across all counties\n",
      "R22AUDRSOR is equal across all counties\n",
      "R22AUDRCOO is equal across all counties\n",
      "R22PS1RODE is equal across all counties\n",
      "R22PS1RWOO is equal across all counties\n",
      "R22PS2RBEE is equal across all counties\n",
      "R22PS2RMCC is equal across all counties\n"
     ]
    }
   ],
   "source": [
    "#Statewide GDF\n",
    "county_totals_check(al_prim_pber, \"RDH raw\", st, \"join\", st_cols, \"COUNTYFP\")"
   ]
  },
  {
   "cell_type": "code",
   "execution_count": 40,
   "id": "803295fb",
   "metadata": {},
   "outputs": [
    {
     "name": "stdout",
     "output_type": "stream",
     "text": [
      "***Countywide Totals Check***\n",
      "\n",
      "RCON05RSTR is equal across all counties\n",
      "RCON05RWAR is equal across all counties\n"
     ]
    }
   ],
   "source": [
    "#congressional splits\n",
    "county_totals_check(al_prim_pber, \"RDH raw\", cong, \"join\", cong_cols, \"COUNTYFP\")"
   ]
  },
  {
   "cell_type": "code",
   "execution_count": 41,
   "id": "5301eec8",
   "metadata": {},
   "outputs": [
    {
     "name": "stdout",
     "output_type": "stream",
     "text": [
      "***Countywide Totals Check***\n",
      "\n",
      "RSL002RHAR is equal across all counties\n",
      "RSL002RBLA is equal across all counties\n",
      "RSL004RMOO is equal across all counties\n",
      "RSL004RJOH is equal across all counties\n",
      "RSL014RWAD is equal across all counties\n",
      "RSL014RFRE is equal across all counties\n",
      "RSL020RLOM is equal across all counties\n",
      "RSL020RTAY is equal across all counties\n",
      "RSL040RROB is equal across all counties\n",
      "RSL040RBOR is equal across all counties\n",
      "RSL055DPLU is equal across all counties\n",
      "RSL055DSCO is equal across all counties\n",
      "RSL056DTIL is equal across all counties\n",
      "RSL056DHUF is equal across all counties\n",
      "RSL057DSEL is equal across all counties\n",
      "RSL057DWIN is equal across all counties\n",
      "RSL100RSHI is equal across all counties\n",
      "RSL100RKUP is equal across all counties\n"
     ]
    }
   ],
   "source": [
    "#State house splits\n",
    "county_totals_check(al_prim_pber, \"RDH raw\", sldl, \"join\", sldl_cols, \"county\")"
   ]
  },
  {
   "cell_type": "code",
   "execution_count": 42,
   "id": "7562ccee",
   "metadata": {
    "scrolled": true
   },
   "outputs": [
    {
     "name": "stdout",
     "output_type": "stream",
     "text": [
      "***Countywide Totals Check***\n",
      "\n",
      "RSU12RKEL is equal across all counties\n",
      "RSU12RDRA is equal across all counties\n",
      "RSU23DSTE is equal across all counties\n",
      "RSU23DSAN is equal across all counties\n"
     ]
    }
   ],
   "source": [
    "#State Senate Splits\n",
    "county_totals_check(al_prim_pber, \"RDH raw\", sldu, \"join\", sldu_cols, \"COUNTYFP\")"
   ]
  },
  {
   "cell_type": "markdown",
   "id": "637a18c5",
   "metadata": {},
   "source": [
    "<p><a name=\"exp\"></a></p>\n",
    "\n",
    "### Export Cleaned Precinct-Level Datasets"
   ]
  },
  {
   "cell_type": "markdown",
   "id": "1737bc9e",
   "metadata": {},
   "source": [
    "Export joined datasets"
   ]
  },
  {
   "cell_type": "code",
   "execution_count": 44,
   "id": "13d0cea7",
   "metadata": {},
   "outputs": [],
   "source": [
    "if not os.path.exists(\"./al_2022_prim_runoff_pber/al_prim_runoff_22_no_splits_prec\"):\n",
    "    os.mkdir(\"./al_2022_prim_runoff_pber/al_prim_runoff_22_no_splits_prec/\")\n",
    "    os.mkdir(\"./al_2022_prim_runoff_pber/al_prim_runoff_22_st_prec/\")\n",
    "    os.mkdir(\"./al_2022_prim_runoff_pber/al_prim_runoff_22_cong_prec/\")\n",
    "    os.mkdir(\"./al_2022_prim_runoff_pber/al_prim_runoff_22_sldu_prec/\")\n",
    "    os.mkdir(\"./al_2022_prim_runoff_pber/al_prim_runoff_22_sldl_prec/\")\n",
    "\n",
    "al_prim_pber.to_file(\"./al_2022_prim_runoff_pber/al_prim_runoff_22_no_splits_prec/al_prim_runoff_22_no_splits_prec.shp\")\n",
    "st.to_file(\"./al_2022_prim_runoff_pber/al_prim_runoff_22_st_prec/al_prim_runoff_22_st_prec.shp\")\n",
    "cong.to_file(\"./al_2022_prim_runoff_pber/al_prim_runoff_22_cong_prec/al_prim_runoff_22_cong_prec.shp\")\n",
    "sldu.to_file(\"./al_2022_prim_runoff_pber/al_prim_runoff_22_sldu_prec/al_prim_runoff_22_sldu_prec.shp\")\n",
    "sldl.to_file(\"./al_2022_prim_runoff_pber/al_prim_runoff_22_sldl_prec/al_prim_runoff_22_sldl_prec.shp\")"
   ]
  }
 ],
 "metadata": {
  "kernelspec": {
   "display_name": "Python 3",
   "language": "python",
   "name": "python3"
  },
  "language_info": {
   "codemirror_mode": {
    "name": "ipython",
    "version": 3
   },
   "file_extension": ".py",
   "mimetype": "text/x-python",
   "name": "python",
   "nbconvert_exporter": "python",
   "pygments_lexer": "ipython3",
   "version": "3.8.8"
  }
 },
 "nbformat": 4,
 "nbformat_minor": 5
}
