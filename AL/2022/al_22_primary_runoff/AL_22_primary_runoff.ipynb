{
 "cells": [
  {
   "cell_type": "markdown",
   "id": "0c503936",
   "metadata": {},
   "source": [
    "## Alabama 2022 Primary Runoff Election Returns"
   ]
  },
  {
   "cell_type": "markdown",
   "id": "b640b823",
   "metadata": {},
   "source": [
    "### Sections\n",
    "- <a href=\"#ETL\">Cleaning Precinct-Level Election Results</a><br>\n",
    "- <a href=\"#allocate\">Allocate Absentee and Provisional Votes at Precinct Level</a><br>\n",
    "- <a href=\"#check\">Vote Totals Checks</a><br>\n",
    "- <a href=\"#readme\">Creating README</a><br>\n",
    "- <a href=\"#exp\">Exporting Cleaned Precinct-Level Dataset</a><br>\n",
    "\n",
    "#### Sources\n",
    "\n",
    "- [Alabama Primary Election Results, Precint Level](https://www.sos.alabama.gov/sites/default/files/election-data/2022-06/2022%20Primary%20Precinct%20Results.zip)\n",
    "- [Secretary of State Certified Results, Democratic Party](https://www.sos.alabama.gov/sites/default/files/election-2022/AL%20Democratic%20Party%202022%20Primary%20Results.xlsx)\n",
    "- [Secretary of State Certified Results, Republican Party](https://www.sos.alabama.gov/sites/default/files/election-2022/AL%20Republican%20Party%202022%20Primary%20Results%20Official.xlsx)\n",
    "- [Secretary of State Certified Ballot Measure Results](https://www.sos.alabama.gov/sites/default/files/election-data/2022-11/Final%20Canvass%20of%20Results%20%28canvassed%20by%20state%20canvassing%20board%2011-28-2022%29.pdf)"
   ]
  },
  {
   "cell_type": "code",
   "execution_count": 1,
   "id": "9e496996",
   "metadata": {},
   "outputs": [],
   "source": [
    "import pandas as pd\n",
    "import os\n",
    "import numpy as np\n",
    "import re\n",
    "from collections import Counter\n",
    "import AL_22_helper_functions as hlp\n",
    "\n",
    "pd.set_option('display.max_rows', 1000)"
   ]
  },
  {
   "cell_type": "code",
   "execution_count": 2,
   "id": "4f91dc48",
   "metadata": {},
   "outputs": [],
   "source": [
    "# Temporarily ignore warning messages for vote allocation function\n",
    "import warnings\n",
    "\n",
    "warnings.filterwarnings(\"ignore\")"
   ]
  },
  {
   "cell_type": "markdown",
   "id": "2504c8f3",
   "metadata": {},
   "source": [
    "<p><a name=\"ETL\"></a></p>\n",
    "\n",
    "### Cleaning Precinct Level Election Returns"
   ]
  },
  {
   "cell_type": "markdown",
   "id": "161aa8f7",
   "metadata": {},
   "source": [
    "Load-In + Clean Election Results"
   ]
  },
  {
   "cell_type": "code",
   "execution_count": 3,
   "id": "17171d71",
   "metadata": {},
   "outputs": [],
   "source": [
    "county_list = []\n",
    "ph_county_list = []\n",
    "contest_list = []\n",
    "clean_index = []\n",
    "index_issue = [] #use to \n",
    "files = os.listdir('./raw-from-source/2022 Primary Runoff Precinct Results/')\n",
    "\n",
    "#list of words to filter for contests with statewide reach\n",
    "contest_keywords = ['Senator', 'Representative', 'Governor', 'Attorney General', 'Secretary of State', 'Treasurer', 'Auditor', 'State Board of Education', 'BOE', 'Agriculture', 'Insurance', 'PSC', 'Public Service', 'Supreme Court', 'Court of Appeals', 'Amendment']\n",
    "\n",
    "for idx, file in enumerate(files):\n",
    "    #Load county files\n",
    "    temp = pd.read_excel('./raw-from-source/2022 Primary Runoff Precinct Results/' + file)\n",
    "    \n",
    "    # Filter to contests of interest\n",
    "    contest_keywords = set(keyword.upper() for keyword in contest_keywords)\n",
    "    contest_titles_set = set(temp['Contest Title'])\n",
    "    comb_list = [title for title in contest_titles_set if any(keyword in title for keyword in contest_keywords)]\n",
    "    temp_statewide = temp[temp['Contest Title'].isin(comb_list)].copy()\n",
    "    \n",
    "    #Add to contest_list\n",
    "    contest_list += list(temp_statewide['Contest Title'].unique())\n",
    "    \n",
    "    # Get the county name, clean \"StClair\" to match pattern\n",
    "    county_name = file.split(\"-\")[-1][0:-4]\n",
    "    if county_name == \"StClair\":\n",
    "        county_name = \"St. Clair\"\n",
    "    county_list.append(county_name)\n",
    "        \n",
    "    # Clean the party name\n",
    "    temp_statewide[\"Party\"] = temp_statewide[\"Party\"].str.strip()\n",
    "    temp_statewide[\"Party\"] = temp_statewide[\"Party\"].fillna(\"\")\n",
    "    \n",
    "    # Create a column to pivot on\n",
    "    temp_statewide[\"pivot_col\"] = temp_statewide[\"Contest Title\"].str.strip()+\"-:-\"+temp_statewide[\"Candidate\"].str.strip()\n",
    "    temp_statewide[\"pivot_col\"] = np.where(temp_statewide[\"Party\"]==\"\",temp_statewide[\"pivot_col\"],temp_statewide[\"pivot_col\"]+\"-:-\"+temp_statewide[\"Party\"].str.strip())\n",
    "    \n",
    "    # Drop columns that are no longer needed\n",
    "    temp_statewide.drop([\"Contest Title\", \"Party\", \"Candidate\"], axis = 1, inplace = True)\n",
    "    \n",
    "    # Add the county name to the precinct\n",
    "    rename_dict = {i:i+\"-:-\"+county_name for i in temp_statewide.columns if i != \"pivot_col\"}\n",
    "    temp_statewide.rename(columns = rename_dict, inplace = True)\n",
    "    \n",
    "    # Transpose the dataframe\n",
    "    temp_transpose = temp_statewide.set_index(\"pivot_col\").T\n",
    "    temp_transpose.reset_index(inplace = True, drop = False)\n",
    "    \n",
    "    # Make sure cols and indexes unique\n",
    "    if temp_transpose.columns.nunique() == len(temp_transpose.columns) and temp_transpose.index.is_unique:\n",
    "        clean_index.append(county_name)\n",
    "    else:\n",
    "        index_issue.append(str(county_name) + ' ' + str(idx))        \n",
    "\n",
    "    # Add to the list of counties\n",
    "    ph_county_list.append(temp_transpose)"
   ]
  },
  {
   "cell_type": "code",
   "execution_count": 4,
   "id": "44b29bca",
   "metadata": {},
   "outputs": [
    {
     "data": {
      "text/plain": [
       "18"
      ]
     },
     "execution_count": 4,
     "metadata": {},
     "output_type": "execute_result"
    }
   ],
   "source": [
    "# Check for number of unique contests\n",
    "len(set(contest_list))\n",
    "\n",
    "# Visually inspect contest types\n",
    "#set(contest_list)"
   ]
  },
  {
   "cell_type": "code",
   "execution_count": 5,
   "id": "97df14ec",
   "metadata": {},
   "outputs": [
    {
     "data": {
      "text/plain": [
       "0"
      ]
     },
     "execution_count": 5,
     "metadata": {},
     "output_type": "execute_result"
    }
   ],
   "source": [
    "#check for index issues\n",
    "len(index_issue)"
   ]
  },
  {
   "cell_type": "code",
   "execution_count": 6,
   "id": "6b59a9a6",
   "metadata": {},
   "outputs": [],
   "source": [
    "# Concatenate into one file\n",
    "comb = pd.concat(ph_county_list, axis = 0)"
   ]
  },
  {
   "cell_type": "code",
   "execution_count": 7,
   "id": "1865b760",
   "metadata": {},
   "outputs": [],
   "source": [
    "# Remove the under votes and the over votes\n",
    "comb_list = [i for i in comb.columns.to_list() if \"Under Votes\" not in i and \"Over Votes\" not in i]\n",
    "al_prim = comb[comb_list]"
   ]
  },
  {
   "cell_type": "markdown",
   "id": "36a2a215",
   "metadata": {},
   "source": [
    "#### Rename Columns"
   ]
  },
  {
   "cell_type": "code",
   "execution_count": 8,
   "id": "4a8b3114",
   "metadata": {},
   "outputs": [],
   "source": [
    "# Create dictionaries for renaming pivot col to VEST\n",
    "# use helper functions, found in helper module\n",
    "exclude_columns = ['UNIQUE_ID', 'county', 'COUNTYFP', 'precinct', 'index']\n",
    "contest_updates_dict, contest_updates_reversed, clean_dups =hlp.create_column_rename_dicts(al_prim, exclude_columns)"
   ]
  },
  {
   "cell_type": "code",
   "execution_count": 9,
   "id": "62c9bc00",
   "metadata": {},
   "outputs": [],
   "source": [
    "# Check all dict values under 10 characters\n",
    "for item in contest_updates_dict.values():\n",
    "    if len(item) > 10 or len(item) < 7:\n",
    "        print(item)\n",
    "        print(race_updates_reversed[item])"
   ]
  },
  {
   "cell_type": "code",
   "execution_count": 10,
   "id": "8a1016c9",
   "metadata": {},
   "outputs": [
    {
     "data": {
      "text/plain": [
       "True"
      ]
     },
     "execution_count": 10,
     "metadata": {},
     "output_type": "execute_result"
    }
   ],
   "source": [
    "# Check \n",
    "len(contest_updates_dict) == al_prim.shape[1] - 1"
   ]
  },
  {
   "cell_type": "code",
   "execution_count": 11,
   "id": "214f9e25",
   "metadata": {},
   "outputs": [],
   "source": [
    "# apply rename dictionary to df\n",
    "al_prim.rename(columns = contest_updates_dict, inplace = True)\n",
    "al_prim.reset_index(inplace = True, drop = True)\n",
    "\n",
    "# Fillna\n",
    "al_prim = al_prim.fillna(0)\n",
    "\n",
    "# set columns with votes as integer type\n",
    "for item in contest_updates_dict.values():\n",
    "    al_prim[item] = al_prim[item].astype(int)"
   ]
  },
  {
   "cell_type": "code",
   "execution_count": 12,
   "id": "6915f83e",
   "metadata": {},
   "outputs": [],
   "source": [
    "# Create DF of field names for later use in README creation\n",
    "fieldnames = list(contest_updates_dict.values())\n",
    "fieldnames.sort()\n",
    "\n",
    "sorted_dict = dict(sorted(contest_updates_dict.items(), key=lambda x:x[1]))\n",
    "\n",
    "export_dict = {i:key for key, i in sorted_dict.items()}\n",
    "rm_df = pd.DataFrame(export_dict.items())"
   ]
  },
  {
   "cell_type": "markdown",
   "id": "d1341241",
   "metadata": {},
   "source": [
    "#### Add County, FIPS, Unique ID columns"
   ]
  },
  {
   "cell_type": "code",
   "execution_count": 13,
   "id": "198ee51d",
   "metadata": {},
   "outputs": [],
   "source": [
    "# Define county, precinct columns\n",
    "al_prim['county'] = al_prim['index'].apply(lambda x: x.split(\"-:-\")[1])\n",
    "al_prim['precinct'] = al_prim['index'].apply(lambda x: x.split(\"-:-\")[0])"
   ]
  },
  {
   "cell_type": "code",
   "execution_count": 14,
   "id": "5d758aa4",
   "metadata": {},
   "outputs": [
    {
     "data": {
      "text/plain": [
       "False"
      ]
     },
     "execution_count": 14,
     "metadata": {},
     "output_type": "execute_result"
    }
   ],
   "source": [
    "# Add FIPS col to precinct df\n",
    "al_prim = hlp.create_fips_col(\"./raw-from-source/FIPS/US_FIPS_Codes.csv\", 'Alabama', al_prim, 'county')\n",
    "\n",
    "# Check\n",
    "al_prim['COUNTYFP'].isnull().any()"
   ]
  },
  {
   "cell_type": "code",
   "execution_count": 15,
   "id": "5bd691aa",
   "metadata": {},
   "outputs": [
    {
     "data": {
      "text/plain": [
       "2070"
      ]
     },
     "execution_count": 15,
     "metadata": {},
     "output_type": "execute_result"
    }
   ],
   "source": [
    "# Create UNIQUE_ID col\n",
    "al_prim['UNIQUE_ID'] = al_prim['COUNTYFP'] + '-' +al_prim['precinct']\n",
    "# Check\n",
    "al_prim['UNIQUE_ID'].nunique()"
   ]
  },
  {
   "cell_type": "code",
   "execution_count": 16,
   "id": "7769b5b3",
   "metadata": {},
   "outputs": [],
   "source": [
    "# Filter down to needed columns\n",
    "al_prim = al_prim[['UNIQUE_ID', 'COUNTYFP', 'county', 'precinct']+list(contest_updates_dict.values())]"
   ]
  },
  {
   "cell_type": "code",
   "execution_count": 17,
   "id": "6d1c9794",
   "metadata": {
    "scrolled": true
   },
   "outputs": [
    {
     "data": {
      "text/html": [
       "<div>\n",
       "<style scoped>\n",
       "    .dataframe tbody tr th:only-of-type {\n",
       "        vertical-align: middle;\n",
       "    }\n",
       "\n",
       "    .dataframe tbody tr th {\n",
       "        vertical-align: top;\n",
       "    }\n",
       "\n",
       "    .dataframe thead th {\n",
       "        text-align: right;\n",
       "    }\n",
       "</style>\n",
       "<table border=\"1\" class=\"dataframe\">\n",
       "  <thead>\n",
       "    <tr style=\"text-align: right;\">\n",
       "      <th>pivot_col</th>\n",
       "      <th>UNIQUE_ID</th>\n",
       "      <th>COUNTYFP</th>\n",
       "      <th>county</th>\n",
       "      <th>precinct</th>\n",
       "      <th>R22USSRBRI</th>\n",
       "      <th>R22USSRBRO</th>\n",
       "      <th>R22GOVDFLO</th>\n",
       "      <th>R22GOVDFOR</th>\n",
       "      <th>R22SOSRALL</th>\n",
       "      <th>R22SOSRZEI</th>\n",
       "      <th>...</th>\n",
       "      <th>RSL057DSEL</th>\n",
       "      <th>RSL057DWIN</th>\n",
       "      <th>RSL002RBLA</th>\n",
       "      <th>RSL002RHAR</th>\n",
       "      <th>RSL004RJOH</th>\n",
       "      <th>RSL004RMOO</th>\n",
       "      <th>RSL020RLOM</th>\n",
       "      <th>RSL020RTAY</th>\n",
       "      <th>RSL100RKUP</th>\n",
       "      <th>RSL100RSHI</th>\n",
       "    </tr>\n",
       "  </thead>\n",
       "  <tbody>\n",
       "    <tr>\n",
       "      <th>0</th>\n",
       "      <td>001-10 JONES COMM_ CTR_</td>\n",
       "      <td>001</td>\n",
       "      <td>Autauga</td>\n",
       "      <td>10 JONES COMM_ CTR_</td>\n",
       "      <td>47</td>\n",
       "      <td>34</td>\n",
       "      <td>5</td>\n",
       "      <td>26</td>\n",
       "      <td>45</td>\n",
       "      <td>36</td>\n",
       "      <td>...</td>\n",
       "      <td>0</td>\n",
       "      <td>0</td>\n",
       "      <td>0</td>\n",
       "      <td>0</td>\n",
       "      <td>0</td>\n",
       "      <td>0</td>\n",
       "      <td>0</td>\n",
       "      <td>0</td>\n",
       "      <td>0</td>\n",
       "      <td>0</td>\n",
       "    </tr>\n",
       "    <tr>\n",
       "      <th>1</th>\n",
       "      <td>001-100 TRINITY METHODIST</td>\n",
       "      <td>001</td>\n",
       "      <td>Autauga</td>\n",
       "      <td>100 TRINITY METHODIST</td>\n",
       "      <td>407</td>\n",
       "      <td>259</td>\n",
       "      <td>4</td>\n",
       "      <td>3</td>\n",
       "      <td>416</td>\n",
       "      <td>234</td>\n",
       "      <td>...</td>\n",
       "      <td>0</td>\n",
       "      <td>0</td>\n",
       "      <td>0</td>\n",
       "      <td>0</td>\n",
       "      <td>0</td>\n",
       "      <td>0</td>\n",
       "      <td>0</td>\n",
       "      <td>0</td>\n",
       "      <td>0</td>\n",
       "      <td>0</td>\n",
       "    </tr>\n",
       "  </tbody>\n",
       "</table>\n",
       "<p>2 rows × 40 columns</p>\n",
       "</div>"
      ],
      "text/plain": [
       "pivot_col                  UNIQUE_ID COUNTYFP   county               precinct  \\\n",
       "0            001-10 JONES COMM_ CTR_      001  Autauga    10 JONES COMM_ CTR_   \n",
       "1          001-100 TRINITY METHODIST      001  Autauga  100 TRINITY METHODIST   \n",
       "\n",
       "pivot_col  R22USSRBRI  R22USSRBRO  R22GOVDFLO  R22GOVDFOR  R22SOSRALL  \\\n",
       "0                  47          34           5          26          45   \n",
       "1                 407         259           4           3         416   \n",
       "\n",
       "pivot_col  R22SOSRZEI  ...  RSL057DSEL  RSL057DWIN  RSL002RBLA  RSL002RHAR  \\\n",
       "0                  36  ...           0           0           0           0   \n",
       "1                 234  ...           0           0           0           0   \n",
       "\n",
       "pivot_col  RSL004RJOH  RSL004RMOO  RSL020RLOM  RSL020RTAY  RSL100RKUP  \\\n",
       "0                   0           0           0           0           0   \n",
       "1                   0           0           0           0           0   \n",
       "\n",
       "pivot_col  RSL100RSHI  \n",
       "0                   0  \n",
       "1                   0  \n",
       "\n",
       "[2 rows x 40 columns]"
      ]
     },
     "execution_count": 17,
     "metadata": {},
     "output_type": "execute_result"
    }
   ],
   "source": [
    "al_prim.head(2)"
   ]
  },
  {
   "cell_type": "markdown",
   "id": "0b6cd6c1",
   "metadata": {},
   "source": [
    "<p><a name=\"allocate\"></a></p>\n",
    "\n",
    "### Allocate Absentee and Provisional Votes at the Precinct Level"
   ]
  },
  {
   "cell_type": "code",
   "execution_count": 18,
   "id": "47f86d20",
   "metadata": {},
   "outputs": [
    {
     "name": "stdout",
     "output_type": "stream",
     "text": [
      "(135, 40)\n",
      "(1935, 40)\n"
     ]
    }
   ],
   "source": [
    "absentee_precs = al_prim[(al_prim[\"UNIQUE_ID\"].str.contains(\"ABSENTEE\"))|(al_prim[\"UNIQUE_ID\"].str.contains(\"PROVISIONAL\"))|(al_prim[\"UNIQUE_ID\"].str.contains(\"PROVISONAL\"))]\n",
    "nonabsentee_precs = al_prim[~((al_prim[\"UNIQUE_ID\"].str.contains(\"ABSENTEE\"))|(al_prim[\"UNIQUE_ID\"].str.contains(\"PROVISIONAL\"))|(al_prim[\"UNIQUE_ID\"].str.contains(\"PROVISONAL\")))]\n",
    "\n",
    "print(absentee_precs.shape)\n",
    "print(nonabsentee_precs.shape)"
   ]
  },
  {
   "cell_type": "code",
   "execution_count": 19,
   "id": "91881c56",
   "metadata": {},
   "outputs": [],
   "source": [
    "# Check for anomalies\n",
    "#absentee_precs['county'].value_counts()"
   ]
  },
  {
   "cell_type": "markdown",
   "id": "ec7adbcf",
   "metadata": {},
   "source": [
    "Lamar county has a typo in their 'provisional' votes precinct name.\n",
    "Jefferson county has two categories of absentee votes"
   ]
  },
  {
   "cell_type": "markdown",
   "id": "5591205d",
   "metadata": {},
   "source": [
    "#### Jefferson county vote allocation"
   ]
  },
  {
   "cell_type": "markdown",
   "id": "d13176f1",
   "metadata": {},
   "source": [
    "Jefferson county vote allocation will be done separately because provisional votes are reported at the county level, but absentee votes are reported in two categories of Birmingham precincts and Bessemer precincts.\n",
    "information on categorizing precincts in this county was found on the [county website](https://www.jccal.org/Default.asp?ID=1936&pg=Maps)"
   ]
  },
  {
   "cell_type": "code",
   "execution_count": 20,
   "id": "2f9ff5e5",
   "metadata": {
    "scrolled": false
   },
   "outputs": [],
   "source": [
    "# Create a list of all precincts in jefferson county\n",
    "jco = al_prim[al_prim['county'] == 'Jefferson']['UNIQUE_ID'].to_list()\n",
    "jco = jco[2:]"
   ]
  },
  {
   "cell_type": "code",
   "execution_count": 21,
   "id": "3ce1991c",
   "metadata": {},
   "outputs": [],
   "source": [
    "# use list to subset to those precincts indicated as belonging to bessemer\n",
    "bessemer_precs = [jco[4], jco[8], jco[22], jco[25], jco[29],\n",
    "                  jco[36], jco[38], jco[40], jco[46], jco[52],\n",
    "                  jco[53], jco[55], jco[56], jco[62], jco[63],\n",
    "                  jco[66], jco[67], jco[77], jco[78], jco[79],\n",
    "                  jco[80], jco[81], jco[83], jco[84], jco[85],\n",
    "                  jco[89], jco[90], jco[91], jco[92], jco[93],\n",
    "                 jco[94], jco[95], jco[98], jco[99], jco[101],\n",
    "                 jco[103], jco[104], jco[105], jco[106], jco[109],\n",
    "                 jco[110], jco[111], jco[112], jco[113], jco[116],\n",
    "                 jco[117], jco[118], jco[119], jco[120], jco[148],\n",
    "                 jco[150], jco[158]]"
   ]
  },
  {
   "cell_type": "code",
   "execution_count": 22,
   "id": "465ab7ba",
   "metadata": {},
   "outputs": [
    {
     "name": "stdout",
     "output_type": "stream",
     "text": [
      "Number of Birmingham Precincts:  123\n",
      "Number of Bessemer Precincts:  52\n",
      "Total Precincts:  175\n"
     ]
    }
   ],
   "source": [
    "# Check that all precincts are allocated to bessemer or birmingham\n",
    "birmingham_precs = list(set(jco) - set(bessemer_precs))\n",
    "print('Number of Birmingham Precincts: ', len(birmingham_precs))\n",
    "print('Number of Bessemer Precincts: ',len(bessemer_precs),)\n",
    "print('Total Precincts: ', len(jco))"
   ]
  },
  {
   "cell_type": "code",
   "execution_count": 23,
   "id": "74936db9",
   "metadata": {},
   "outputs": [],
   "source": [
    "# Visually check precinct names against state PDFS\n",
    "#bessemer_precs\n",
    "#birmingham_precs"
   ]
  },
  {
   "cell_type": "code",
   "execution_count": 24,
   "id": "e296b047",
   "metadata": {},
   "outputs": [],
   "source": [
    "# Filter out the absentee precincts related to Birmingham or Bessemer\n",
    "jefferson_exceptions = absentee_precs[absentee_precs[\"UNIQUE_ID\"].str.contains(\"BIRMINGHAM\") | absentee_precs[\"UNIQUE_ID\"].str.contains(\"BESSEMER\")]\n",
    "\n",
    "# Make a list of the remaining absentee precincts\n",
    "remaining_absentee =  absentee_precs[~(absentee_precs[\"UNIQUE_ID\"].str.contains(\"BIRMINGHAM\") | absentee_precs[\"UNIQUE_ID\"].str.contains(\"BESSEMER\"))]"
   ]
  },
  {
   "cell_type": "code",
   "execution_count": 25,
   "id": "c84a7898",
   "metadata": {},
   "outputs": [],
   "source": [
    "# Going to use the names \"BESSEMER\" and \"BIRMINGAHM\" as the keys to allocate on and not the county names\n",
    "jefferson_exceptions[\"Spec_Alloc\"] = jefferson_exceptions[\"precinct\"].apply(lambda x: x.split( )[0])\n",
    "\n",
    "birmingham_precincts = nonabsentee_precs[(~nonabsentee_precs[\"UNIQUE_ID\"].isin(bessemer_precs)) & (nonabsentee_precs[\"county\"]==\"Jefferson\")]\n",
    "bessemer_precincts = nonabsentee_precs[nonabsentee_precs[\"UNIQUE_ID\"].isin(bessemer_precs)]\n",
    "\n",
    "birmingham_precincts[\"Spec_Alloc\"] = \"BIRMINGHAM\"\n",
    "bessemer_precincts[\"Spec_Alloc\"] = \"BESSEMER\""
   ]
  },
  {
   "cell_type": "code",
   "execution_count": 26,
   "id": "33434c79",
   "metadata": {},
   "outputs": [],
   "source": [
    "# combine into one df\n",
    "receiving_jefferson = pd.concat([birmingham_precincts, bessemer_precincts])"
   ]
  },
  {
   "cell_type": "code",
   "execution_count": 27,
   "id": "d2e20d14",
   "metadata": {},
   "outputs": [],
   "source": [
    "# Get the precincts that need votes in the rest of the state\n",
    "non_jefferson_non_absentee = nonabsentee_precs[~nonabsentee_precs[\"UNIQUE_ID\"].isin(list(receiving_jefferson[\"UNIQUE_ID\"]))]"
   ]
  },
  {
   "cell_type": "code",
   "execution_count": 28,
   "id": "3e1a1511",
   "metadata": {},
   "outputs": [],
   "source": [
    "# columns that need allocation\n",
    "vote_cols = al_prim.columns[4:]"
   ]
  },
  {
   "cell_type": "code",
   "execution_count": 29,
   "id": "34ef93cf",
   "metadata": {},
   "outputs": [
    {
     "name": "stdout",
     "output_type": "stream",
     "text": [
      "Special allocation used for [['BIRMINGHAM', 'RSL056DHUF']]\n"
     ]
    }
   ],
   "source": [
    "# Run vote allocation for jefferson county\n",
    "received_jefferson = hlp.allocate_absentee(receiving_jefferson, jefferson_exceptions, list(vote_cols), \"Spec_Alloc\", allocating_to_all_empty_precs=False)"
   ]
  },
  {
   "cell_type": "code",
   "execution_count": 30,
   "id": "d0b26a62",
   "metadata": {},
   "outputs": [],
   "source": [
    "received_jefferson.drop(\"Spec_Alloc\", axis = 1, inplace = True)"
   ]
  },
  {
   "cell_type": "markdown",
   "id": "f1e6d445",
   "metadata": {},
   "source": [
    "#### Absentee Allocation for non Jefferson counties"
   ]
  },
  {
   "cell_type": "code",
   "execution_count": 31,
   "id": "9bbea7d9",
   "metadata": {},
   "outputs": [],
   "source": [
    "round_two = pd.concat([received_jefferson, non_jefferson_non_absentee])"
   ]
  },
  {
   "cell_type": "code",
   "execution_count": 32,
   "id": "3f3950cb",
   "metadata": {},
   "outputs": [],
   "source": [
    "round_two.reset_index(inplace = True, drop = True)\n",
    "remaining_absentee.reset_index(inplace = True, drop = True)"
   ]
  },
  {
   "cell_type": "code",
   "execution_count": 33,
   "id": "77dc9de8",
   "metadata": {},
   "outputs": [],
   "source": [
    "# run final vote allocation for 66 non jefferson counties\n",
    "final_allocation = hlp.allocate_absentee(round_two, remaining_absentee, list(vote_cols), \"county\", allocating_to_all_empty_precs=False)"
   ]
  },
  {
   "cell_type": "markdown",
   "id": "eda31cf9",
   "metadata": {},
   "source": [
    "<p><a name=\"check\"></a></p>\n",
    "\n",
    "### Vote Totals Check - Statewide"
   ]
  },
  {
   "cell_type": "markdown",
   "id": "f2de5221",
   "metadata": {},
   "source": [
    "#### Republican"
   ]
  },
  {
   "cell_type": "code",
   "execution_count": 34,
   "id": "b9b2eb8c",
   "metadata": {},
   "outputs": [],
   "source": [
    "# Read in edited summary sheet\n",
    "df = pd.read_excel('./raw-from-source/AL Republican Party 2022 Runoff Results Official.xlsx', sheet_name='summary_edited')\n",
    "# Extract columns with vote total information\n",
    "df1 = df[df.columns[:3]]\n",
    "df2 = df[df.columns[4:7]]\n",
    "df3 = df[df.columns[8:11]]\n",
    "# create column names\n",
    "df1.columns = df2.columns = df3.columns = ['contest', 'choice', 'num_votes']\n",
    "# concatenate into one df\n",
    "sos_combined = pd.concat([df1, df2, df3], axis=0)"
   ]
  },
  {
   "cell_type": "code",
   "execution_count": 35,
   "id": "ced846ae",
   "metadata": {},
   "outputs": [
    {
     "data": {
      "text/plain": [
       "True"
      ]
     },
     "execution_count": 35,
     "metadata": {},
     "output_type": "execute_result"
    }
   ],
   "source": [
    "#check\n",
    "df1.shape[0] + df2.shape[0] + df3.shape[0] == sos_combined.shape[0]"
   ]
  },
  {
   "cell_type": "code",
   "execution_count": 36,
   "id": "8f088cc3",
   "metadata": {},
   "outputs": [
    {
     "data": {
      "text/plain": [
       "dtype('int32')"
      ]
     },
     "execution_count": 36,
     "metadata": {},
     "output_type": "execute_result"
    }
   ],
   "source": [
    "#filter out null rows\n",
    "sos_r = sos_combined[~sos_combined['contest'].isnull()]\n",
    "#set num_votes column as integer\n",
    "sos_r.num_votes = sos_r.num_votes.astype(int)\n",
    "sos_r.num_votes.dtype"
   ]
  },
  {
   "cell_type": "code",
   "execution_count": 37,
   "id": "5352bda3",
   "metadata": {},
   "outputs": [],
   "source": [
    "#account for anomalies in contest names\n",
    "sos_r['contest'] = sos_r['contest'].replace('Govenor', 'Governor')\n",
    "sos_r['party'] = 'REP'"
   ]
  },
  {
   "cell_type": "code",
   "execution_count": 38,
   "id": "9a899ec5",
   "metadata": {
    "scrolled": true
   },
   "outputs": [],
   "source": [
    "sos_r_p = hlp.create_pivot_col(sos_r, 'choice', 'contest', 'party', 'pivot').copy()"
   ]
  },
  {
   "cell_type": "code",
   "execution_count": 39,
   "id": "ba05662d",
   "metadata": {},
   "outputs": [],
   "source": [
    "# Create rename dict to read in county-level results\n",
    "sos_r_dict = dict(zip(sos_r_p['choice'], sos_r_p['contest']))"
   ]
  },
  {
   "cell_type": "code",
   "execution_count": 40,
   "id": "ce12b53b",
   "metadata": {},
   "outputs": [],
   "source": [
    "# Create placeholder dataframe\n",
    "sos_r_county = pd.DataFrame(columns=['choice', 'num_votes', 'county', 'contest'])"
   ]
  },
  {
   "cell_type": "code",
   "execution_count": 41,
   "id": "818e4b5b",
   "metadata": {},
   "outputs": [],
   "source": [
    "# extract data fom each county sheet, process and add to new dataframe\n",
    "counties_worked = []\n",
    "county_list_subset = county_list[:1]\n",
    "sos_r_county = pd.DataFrame()\n",
    "for county in county_list:\n",
    "    df = pd.read_excel('./raw-from-source/AL Republican Party 2022 Runoff Results Official.xlsx', sheet_name= str(county))\n",
    "    # Extract columns with vote total information\n",
    "    df1 = df[df.columns[:2]]\n",
    "    df2 = df[df.columns[4:6]]\n",
    "    # create column names\n",
    "    df1.columns = df2.columns = ['choice', 'num_votes']\n",
    "    # concatenate into one df\n",
    "    county_single = pd.concat([df1, df2], axis=0)\n",
    "    # drop rows that are empty in choice and vote columns\n",
    "    county_single_filt = county_single.dropna(subset=['choice', 'num_votes'], how = 'all')\n",
    "    # remove '.', ',' to match to sos_r_dict\n",
    "    county_single_filt['choice'] = county_single_filt.astype(str)\n",
    "    county_single_filt['choice'] = county_single_filt['choice'].apply(lambda x: x.replace('.', ''))\n",
    "    county_single_filt['choice'] = county_single_filt['choice'].apply(lambda x: x.replace(',', ''))\n",
    "    # use sos_r_dict to match candidate name to contest\n",
    "    county_single_filt['contest'] = county_single_filt['choice'].map(sos_r_dict)\n",
    "    # drop rows without contest\n",
    "    county_single_filt = county_single_filt.dropna(subset=['contest'])\n",
    "    # add county name column\n",
    "    county_single_filt['county'] = str(county)\n",
    "    # add county name to a list of counties\n",
    "    counties_worked.append(county)\n",
    "    # add dataframe to receiving df\n",
    "    sos_r_county = pd.concat([sos_r_county, county_single_filt], ignore_index=True)"
   ]
  },
  {
   "cell_type": "code",
   "execution_count": 42,
   "id": "0234e6ee",
   "metadata": {},
   "outputs": [
    {
     "data": {
      "text/plain": [
       "67"
      ]
     },
     "execution_count": 42,
     "metadata": {},
     "output_type": "execute_result"
    }
   ],
   "source": [
    "len(counties_worked)"
   ]
  },
  {
   "cell_type": "code",
   "execution_count": 43,
   "id": "385aa788",
   "metadata": {},
   "outputs": [
    {
     "data": {
      "text/plain": [
       "67"
      ]
     },
     "execution_count": 43,
     "metadata": {},
     "output_type": "execute_result"
    }
   ],
   "source": [
    "# check that all counties worked\n",
    "len(counties_worked)\n",
    "# Check number of counties in new df\n",
    "sos_r_county['county'].nunique()"
   ]
  },
  {
   "cell_type": "code",
   "execution_count": 44,
   "id": "06b7a980",
   "metadata": {},
   "outputs": [],
   "source": [
    "# add in party column, fill null votes with 0\n",
    "sos_r_county['num_votes'].fillna(0, inplace=True)\n",
    "sos_r_county['party'] = 'REP'"
   ]
  },
  {
   "cell_type": "code",
   "execution_count": 45,
   "id": "650ee069",
   "metadata": {},
   "outputs": [],
   "source": [
    "# add 'pivot' col\n",
    "# use helper function\n",
    "sos_r_pvt = hlp.create_pivot_col(sos_r_county, 'choice', 'contest', 'party', 'pivot')\n",
    "# use pivot col to add column with VEST names\n",
    "sos_r_pvt['VEST'] = sos_r_pvt['pivot'].apply(lambda x: hlp.get_VEST(str(x).strip()))"
   ]
  },
  {
   "cell_type": "code",
   "execution_count": 46,
   "id": "f554bb1e",
   "metadata": {},
   "outputs": [],
   "source": [
    "#pivot df\n",
    "sos_r_pvt =pd.pivot_table(sos_r_pvt,index=['county'],columns=['VEST'],values=['num_votes'],aggfunc=sum)\n",
    "sos_r_pvt = sos_r_pvt.fillna(0)\n",
    "sos_r_pvt.columns = sos_r_pvt.columns.droplevel(0)\n",
    "sos_r_pvt.reset_index(inplace = True)"
   ]
  },
  {
   "cell_type": "code",
   "execution_count": 47,
   "id": "16168691",
   "metadata": {},
   "outputs": [
    {
     "data": {
      "text/html": [
       "<div>\n",
       "<style scoped>\n",
       "    .dataframe tbody tr th:only-of-type {\n",
       "        vertical-align: middle;\n",
       "    }\n",
       "\n",
       "    .dataframe tbody tr th {\n",
       "        vertical-align: top;\n",
       "    }\n",
       "\n",
       "    .dataframe thead th {\n",
       "        text-align: right;\n",
       "    }\n",
       "</style>\n",
       "<table border=\"1\" class=\"dataframe\">\n",
       "  <thead>\n",
       "    <tr style=\"text-align: right;\">\n",
       "      <th>VEST</th>\n",
       "      <th>county</th>\n",
       "      <th>R22AUDRCOO</th>\n",
       "      <th>R22AUDRSOR</th>\n",
       "      <th>R22PS1RODE</th>\n",
       "      <th>R22PS1RWOO</th>\n",
       "      <th>R22PS2RBEE</th>\n",
       "      <th>R22PS2RMCC</th>\n",
       "      <th>R22SOSRALL</th>\n",
       "      <th>R22SOSRZEI</th>\n",
       "      <th>R22USSRBRI</th>\n",
       "      <th>...</th>\n",
       "      <th>RSL014RFRE</th>\n",
       "      <th>RSL014RWAD</th>\n",
       "      <th>RSL020RLOM</th>\n",
       "      <th>RSL020RTAY</th>\n",
       "      <th>RSL040RBOR</th>\n",
       "      <th>RSL040RROB</th>\n",
       "      <th>RSL100RKUP</th>\n",
       "      <th>RSL100RSHI</th>\n",
       "      <th>RSU12RDRA</th>\n",
       "      <th>RSU12RKEL</th>\n",
       "    </tr>\n",
       "  </thead>\n",
       "  <tbody>\n",
       "    <tr>\n",
       "      <th>0</th>\n",
       "      <td>Autauga</td>\n",
       "      <td>1784.0</td>\n",
       "      <td>3180.0</td>\n",
       "      <td>2621.0</td>\n",
       "      <td>2024.0</td>\n",
       "      <td>2965.0</td>\n",
       "      <td>1736.0</td>\n",
       "      <td>3432.0</td>\n",
       "      <td>1814.0</td>\n",
       "      <td>3414.0</td>\n",
       "      <td>...</td>\n",
       "      <td>0.0</td>\n",
       "      <td>0.0</td>\n",
       "      <td>0.0</td>\n",
       "      <td>0.0</td>\n",
       "      <td>0.0</td>\n",
       "      <td>0.0</td>\n",
       "      <td>0.0</td>\n",
       "      <td>0.0</td>\n",
       "      <td>0.0</td>\n",
       "      <td>0.0</td>\n",
       "    </tr>\n",
       "    <tr>\n",
       "      <th>1</th>\n",
       "      <td>Baldwin</td>\n",
       "      <td>6942.0</td>\n",
       "      <td>12297.0</td>\n",
       "      <td>8094.0</td>\n",
       "      <td>9676.0</td>\n",
       "      <td>9158.0</td>\n",
       "      <td>8629.0</td>\n",
       "      <td>10329.0</td>\n",
       "      <td>10381.0</td>\n",
       "      <td>14943.0</td>\n",
       "      <td>...</td>\n",
       "      <td>0.0</td>\n",
       "      <td>0.0</td>\n",
       "      <td>0.0</td>\n",
       "      <td>0.0</td>\n",
       "      <td>0.0</td>\n",
       "      <td>0.0</td>\n",
       "      <td>0.0</td>\n",
       "      <td>0.0</td>\n",
       "      <td>0.0</td>\n",
       "      <td>0.0</td>\n",
       "    </tr>\n",
       "  </tbody>\n",
       "</table>\n",
       "<p>2 rows × 27 columns</p>\n",
       "</div>"
      ],
      "text/plain": [
       "VEST   county  R22AUDRCOO  R22AUDRSOR  R22PS1RODE  R22PS1RWOO  R22PS2RBEE  \\\n",
       "0     Autauga      1784.0      3180.0      2621.0      2024.0      2965.0   \n",
       "1     Baldwin      6942.0     12297.0      8094.0      9676.0      9158.0   \n",
       "\n",
       "VEST  R22PS2RMCC  R22SOSRALL  R22SOSRZEI  R22USSRBRI  ...  RSL014RFRE  \\\n",
       "0         1736.0      3432.0      1814.0      3414.0  ...         0.0   \n",
       "1         8629.0     10329.0     10381.0     14943.0  ...         0.0   \n",
       "\n",
       "VEST  RSL014RWAD  RSL020RLOM  RSL020RTAY  RSL040RBOR  RSL040RROB  RSL100RKUP  \\\n",
       "0            0.0         0.0         0.0         0.0         0.0         0.0   \n",
       "1            0.0         0.0         0.0         0.0         0.0         0.0   \n",
       "\n",
       "VEST  RSL100RSHI  RSU12RDRA  RSU12RKEL  \n",
       "0            0.0        0.0        0.0  \n",
       "1            0.0        0.0        0.0  \n",
       "\n",
       "[2 rows x 27 columns]"
      ]
     },
     "execution_count": 47,
     "metadata": {},
     "output_type": "execute_result"
    }
   ],
   "source": [
    "sos_r_pvt.head(2)"
   ]
  },
  {
   "cell_type": "markdown",
   "id": "c16ab85d",
   "metadata": {},
   "source": [
    "#### Democratic Election Results from SOS"
   ]
  },
  {
   "cell_type": "code",
   "execution_count": 48,
   "id": "2bbeecda",
   "metadata": {},
   "outputs": [],
   "source": [
    "# Read in results\n",
    "df = pd.read_excel('./raw-from-source/2022 Democratic Runoff Results.xlsx')\n",
    "sos_d = df.fillna(0)"
   ]
  },
  {
   "cell_type": "code",
   "execution_count": 49,
   "id": "294d5fea",
   "metadata": {
    "scrolled": false
   },
   "outputs": [],
   "source": [
    "# select columns\n",
    "sos_d = sos_d[sos_d.columns[:-1]]"
   ]
  },
  {
   "cell_type": "code",
   "execution_count": 50,
   "id": "d66b0392",
   "metadata": {},
   "outputs": [
    {
     "data": {
      "text/html": [
       "<div>\n",
       "<style scoped>\n",
       "    .dataframe tbody tr th:only-of-type {\n",
       "        vertical-align: middle;\n",
       "    }\n",
       "\n",
       "    .dataframe tbody tr th {\n",
       "        vertical-align: top;\n",
       "    }\n",
       "\n",
       "    .dataframe thead th {\n",
       "        text-align: right;\n",
       "    }\n",
       "</style>\n",
       "<table border=\"1\" class=\"dataframe\">\n",
       "  <thead>\n",
       "    <tr style=\"text-align: right;\">\n",
       "      <th></th>\n",
       "      <th>County</th>\n",
       "      <th>R22GOVDFOR</th>\n",
       "      <th>R22GOVDFLO</th>\n",
       "      <th>RSU23DSAN</th>\n",
       "      <th>RSU23DSTE</th>\n",
       "      <th>RSL055DPLU</th>\n",
       "      <th>RSL055DSCO</th>\n",
       "      <th>RSL056DHUF</th>\n",
       "      <th>RSL056DTIL</th>\n",
       "      <th>RSL057DSEL</th>\n",
       "      <th>RSL057DWIN</th>\n",
       "    </tr>\n",
       "  </thead>\n",
       "  <tbody>\n",
       "    <tr>\n",
       "      <th>0</th>\n",
       "      <td>Autauga</td>\n",
       "      <td>204</td>\n",
       "      <td>166</td>\n",
       "      <td>0.0</td>\n",
       "      <td>0.0</td>\n",
       "      <td>0.0</td>\n",
       "      <td>0.0</td>\n",
       "      <td>0.0</td>\n",
       "      <td>0.0</td>\n",
       "      <td>0.0</td>\n",
       "      <td>0.0</td>\n",
       "    </tr>\n",
       "    <tr>\n",
       "      <th>1</th>\n",
       "      <td>Baldwin</td>\n",
       "      <td>284</td>\n",
       "      <td>244</td>\n",
       "      <td>0.0</td>\n",
       "      <td>0.0</td>\n",
       "      <td>0.0</td>\n",
       "      <td>0.0</td>\n",
       "      <td>0.0</td>\n",
       "      <td>0.0</td>\n",
       "      <td>0.0</td>\n",
       "      <td>0.0</td>\n",
       "    </tr>\n",
       "  </tbody>\n",
       "</table>\n",
       "</div>"
      ],
      "text/plain": [
       "    County  R22GOVDFOR  R22GOVDFLO  RSU23DSAN  RSU23DSTE  RSL055DPLU  \\\n",
       "0  Autauga         204         166        0.0        0.0         0.0   \n",
       "1  Baldwin         284         244        0.0        0.0         0.0   \n",
       "\n",
       "   RSL055DSCO  RSL056DHUF  RSL056DTIL  RSL057DSEL  RSL057DWIN  \n",
       "0         0.0         0.0         0.0         0.0         0.0  \n",
       "1         0.0         0.0         0.0         0.0         0.0  "
      ]
     },
     "execution_count": 50,
     "metadata": {},
     "output_type": "execute_result"
    }
   ],
   "source": [
    "sos_d.head(2)"
   ]
  },
  {
   "cell_type": "markdown",
   "id": "302f9d71",
   "metadata": {},
   "source": [
    "#### Combine Republican and Democratic Results"
   ]
  },
  {
   "cell_type": "code",
   "execution_count": 51,
   "id": "aa6f84c6",
   "metadata": {},
   "outputs": [],
   "source": [
    "sos_tot_pvt = pd.concat([sos_r_pvt, sos_d[sos_d.columns[1:]]], axis= 1)"
   ]
  },
  {
   "cell_type": "code",
   "execution_count": 52,
   "id": "c6f094d9",
   "metadata": {},
   "outputs": [
    {
     "data": {
      "text/plain": [
       "True"
      ]
     },
     "execution_count": 52,
     "metadata": {},
     "output_type": "execute_result"
    }
   ],
   "source": [
    "#check\n",
    "sos_r_pvt.shape[0] == sos_d.shape[0] == sos_tot_pvt.shape[0]"
   ]
  },
  {
   "cell_type": "code",
   "execution_count": 53,
   "id": "266b713e",
   "metadata": {},
   "outputs": [
    {
     "name": "stdout",
     "output_type": "stream",
     "text": [
      "# of contests in SOS df: 37\n",
      "# of contests in RDH df: 36\n"
     ]
    }
   ],
   "source": [
    "# Check to see if the number of contests is the same\n",
    "print('# of contests in SOS df:', len(sos_tot_pvt.columns))\n",
    "print('# of contests in RDH df:', len(vote_cols))"
   ]
  },
  {
   "cell_type": "code",
   "execution_count": 54,
   "id": "edeb5314",
   "metadata": {},
   "outputs": [
    {
     "data": {
      "text/plain": [
       "set()"
      ]
     },
     "execution_count": 54,
     "metadata": {},
     "output_type": "execute_result"
    }
   ],
   "source": [
    "#Check which contests missing in SOS combined df\n",
    "set(vote_cols) == set(sos_tot_pvt.columns)\n",
    "set(vote_cols) - set(sos_tot_pvt.columns)"
   ]
  },
  {
   "cell_type": "markdown",
   "id": "6eb92ae1",
   "metadata": {},
   "source": [
    "### Statewide Check"
   ]
  },
  {
   "cell_type": "code",
   "execution_count": 55,
   "id": "849fb5b8",
   "metadata": {},
   "outputs": [
    {
     "name": "stdout",
     "output_type": "stream",
     "text": [
      "UNITED STATES SENATOR-:-Katie Britt-:-REP\n",
      "\n",
      "R22USSRBRI\n",
      "\tOfficial: 253251\n",
      "\tRDH: 253250\n",
      "UNITED STATES SENATOR-:-Mo Brooks-:-REP\n",
      "\n",
      "R22USSRBRO\n",
      "\tOfficial: 148636\n",
      "\tRDH: 148637\n",
      "SECRETARY OF STATE-:-Wes Allen-:-REP\n",
      "\n",
      "R22SOSRALL\n",
      "\tOfficial: 248132\n",
      "\tRDH: 248130\n",
      "STATE AUDITOR-:-Stan Cooke-:-REP\n",
      "\n",
      "R22AUDRCOO\n",
      "\tOfficial: 152006\n",
      "\tRDH: 152007\n",
      "PUBLIC SERVICE COMMISSION, PLACE 1-:-Brent Woodall-:-REP\n",
      "\n",
      "R22PS1RWOO\n",
      "\tOfficial: 160263\n",
      "\tRDH: 160264\n",
      "PUBLIC SERVICE COMMISSION, PLACE 2-:-Chip Beeker-:-REP\n",
      "\n",
      "R22PS2RBEE\n",
      "\tOfficial: 215377\n",
      "\tRDH: 215379\n",
      "PUBLIC SERVICE COMMISSION, PLACE 2-:-Robert L. McCollum-:-REP\n",
      "\n",
      "R22PS2RMCC\n",
      "\tOfficial: 125178\n",
      "\tRDH: 125179\n",
      "STATE REPRESENTATIVE, DISTRICT 55-:-Fred \"Coach\" Plump-:-DEM\n",
      "\n",
      "RSL055DPLU\n",
      "\tOfficial: 952\n",
      "\tRDH: 948\n",
      "STATE REPRESENTATIVE, DISTRICT 55-:-Roderick \"Rod\" Scott-:-DEM\n",
      "\n",
      "RSL055DSCO\n",
      "\tOfficial: 919\n",
      "\tRDH: 915\n",
      "STATE REPRESENTATIVE, DISTRICT 20-:-James Lomax-:-REP\n",
      "\n",
      "RSL020RLOM\n",
      "\tOfficial: 5385\n",
      "\tRDH: 5384\n"
     ]
    }
   ],
   "source": [
    "# Check statewide totals for each contest\n",
    "statewide_check_list = []\n",
    "doesnt_check = []\n",
    "for item in vote_cols:\n",
    "    if item not in sos_tot_pvt.columns:\n",
    "        doesnt_check.append(item)\n",
    "#         print(item)\n",
    "#         print(contest_updates_reversed[item])\n",
    "    else:\n",
    "        official = sos_tot_pvt[item].sum().astype(int)\n",
    "    rdh = final_allocation[item].sum()\n",
    "    if official != rdh:\n",
    "        statewide_check_list.append(item)\n",
    "        print(contest_updates_reversed[item])\n",
    "        print('')\n",
    "        print(f\"{item}\\n\\tOfficial: {official}\\n\\tRDH: {rdh}\")"
   ]
  },
  {
   "cell_type": "code",
   "execution_count": 56,
   "id": "e0103bc8",
   "metadata": {},
   "outputs": [
    {
     "data": {
      "text/plain": [
       "10"
      ]
     },
     "execution_count": 56,
     "metadata": {},
     "output_type": "execute_result"
    }
   ],
   "source": [
    "len(statewide_check_list)"
   ]
  },
  {
   "cell_type": "code",
   "execution_count": 57,
   "id": "74b6cfdc",
   "metadata": {
    "scrolled": true
   },
   "outputs": [
    {
     "name": "stdout",
     "output_type": "stream",
     "text": [
      "***Countywide Totals Check***\n",
      "\n",
      "Autauga contains differences in these races:\n",
      "\tR22USSRBRI has a difference of 1.0 vote(s)\n",
      "\t\tSOS: 3414.0 vote(s)\n",
      "\t\tRDH: 3413 vote(s)\n",
      "Jefferson contains differences in these races:\n",
      "\tRSL055DPLU has a difference of 4.0 vote(s)\n",
      "\t\tSOS: 952.0 vote(s)\n",
      "\t\tRDH: 948 vote(s)\n",
      "\tRSL055DSCO has a difference of 4.0 vote(s)\n",
      "\t\tSOS: 919.0 vote(s)\n",
      "\t\tRDH: 915 vote(s)\n",
      "Lawrence contains differences in these races:\n",
      "\tR22SOSRALL has a difference of 3.0 vote(s)\n",
      "\t\tSOS: 1979.0 vote(s)\n",
      "\t\tRDH: 1976 vote(s)\n",
      "Madison contains differences in these races:\n",
      "\tRSL020RLOM has a difference of 1.0 vote(s)\n",
      "\t\tSOS: 5385.0 vote(s)\n",
      "\t\tRDH: 5384 vote(s)\n",
      "Mobile contains differences in these races:\n",
      "\tR22AUDRCOO has a difference of -1.0 vote(s)\n",
      "\t\tSOS: 7704.0 vote(s)\n",
      "\t\tRDH: 7705 vote(s)\n",
      "\tR22PS1RWOO has a difference of -1.0 vote(s)\n",
      "\t\tSOS: 11116.0 vote(s)\n",
      "\t\tRDH: 11117 vote(s)\n",
      "\tR22PS2RBEE has a difference of -1.0 vote(s)\n",
      "\t\tSOS: 9963.0 vote(s)\n",
      "\t\tRDH: 9964 vote(s)\n",
      "\tR22SOSRALL has a difference of -1.0 vote(s)\n",
      "\t\tSOS: 10253.0 vote(s)\n",
      "\t\tRDH: 10254 vote(s)\n",
      "\tR22USSRBRO has a difference of -1.0 vote(s)\n",
      "\t\tSOS: 6422.0 vote(s)\n",
      "\t\tRDH: 6423 vote(s)\n",
      "Perry contains differences in these races:\n",
      "\tR22PS2RBEE has a difference of -1.0 vote(s)\n",
      "\t\tSOS: 248.0 vote(s)\n",
      "\t\tRDH: 249 vote(s)\n",
      "\tR22PS2RMCC has a difference of -1.0 vote(s)\n",
      "\t\tSOS: 82.0 vote(s)\n",
      "\t\tRDH: 83 vote(s)\n",
      "\n",
      "['Autauga', 'Jefferson', 'Lawrence', 'Madison', 'Mobile', 'Perry']\n",
      "Counties that match:\n",
      "\n",
      "['Baldwin', 'Barbour', 'Bibb', 'Blount', 'Bullock', 'Butler', 'Calhoun', 'Chambers', 'Cherokee', 'Chilton', 'Choctaw', 'Clarke', 'Clay', 'Cleburne', 'Coffee', 'Colbert', 'Conecuh', 'Coosa', 'Covington', 'Crenshaw', 'Cullman', 'Dale', 'Dallas', 'DeKalb', 'Elmore', 'Escambia', 'Etowah', 'Fayette', 'Franklin', 'Geneva', 'Greene', 'Hale', 'Henry', 'Houston', 'Jackson', 'Lamar', 'Lauderdale', 'Lee', 'Limestone', 'Lowndes', 'Macon', 'Marengo', 'Marion', 'Marshall', 'Monroe', 'Montgomery', 'Morgan', 'Pickens', 'Pike', 'Randolph', 'Russell', 'Shelby', 'St. Clair', 'Sumter', 'Talladega', 'Tallapoosa', 'Tuscaloosa', 'Walker', 'Washington', 'Wilcox', 'Winston']\n"
     ]
    }
   ],
   "source": [
    "#county totals check\n",
    "rdh = al_prim\n",
    "sos = sos_tot_pvt\n",
    "partner_name = 'SOS'\n",
    "source_name = 'RDH'\n",
    "county_col = 'county'\n",
    "hlp.county_totals_check(sos,partner_name, rdh, source_name, sos_tot_pvt.columns[1:], county_col,full_print=False, method='county')"
   ]
  },
  {
   "cell_type": "markdown",
   "id": "01b60842",
   "metadata": {},
   "source": [
    "<p><a name=\"discrep\"></a></p>\n",
    "\n",
    "### Addressing Discrepancies in Vote Total Checks"
   ]
  },
  {
   "cell_type": "markdown",
   "id": "ce4cc82b",
   "metadata": {},
   "source": [
    "### Summary\n",
    "\n",
    "Counties w/ unaccounted for vote total discrepancies : Autauga, Jefferson, Lawrence, Madison, Mobile, Perry\n",
    "\n",
    "###### Accounted for discrepancies:\n",
    "- RDH 'undercount' compared to SOS\n",
    " 1. Autauga - RDH has -1 vote\n",
    "         - R22PS2RMCC\n",
    " 2. Jefferson - RDH has -4 votes\n",
    "         - RSL055DPLU\n",
    "         - RSL055DSCO, \n",
    " 3. Lawrence - RDH has -3 votes\n",
    "         - R22SOSRALL\n",
    " 4. Madison - RDH has -1 vote\n",
    "         - RSL020RLOM\n",
    " \n",
    "- RDH 'overcount' compared to SOS\n",
    "1. Mobile - RDH has +1 vote for the following candidates\n",
    "        - R22AUDRCOO\n",
    "        - R22PS1RWOO\n",
    "        - R22PS2RBEE\n",
    "        - R22SOSRALL\n",
    "        - R22USSRBRO\n",
    "2. Perry - RDH has +1 vote for the following candidates\n",
    "        - R22PS2RBEE\n",
    "        - R22PS2RMCC\n"
   ]
  },
  {
   "cell_type": "markdown",
   "id": "98bae7aa",
   "metadata": {},
   "source": [
    "<p><a name=\"readme\"></a></p>\n",
    "\n",
    "### Creating README"
   ]
  },
  {
   "cell_type": "code",
   "execution_count": 58,
   "id": "e5d644c5",
   "metadata": {},
   "outputs": [],
   "source": [
    "#rename columns\n",
    "rm_df.columns = ['VEST', 'PIVOT']"
   ]
  },
  {
   "cell_type": "code",
   "execution_count": 59,
   "id": "87022ec5",
   "metadata": {},
   "outputs": [],
   "source": [
    "# split pivot column into standardized contest, party, rm_name\n",
    "rm_df['contest'] = rm_df['PIVOT'].apply(lambda x : x.split('-:-')[0])\n",
    "rm_df['name'] = rm_df['PIVOT'].apply(lambda x: x.split('-:-')[1])\n",
    "rm_df['party'] = rm_df['PIVOT'].apply(lambda x : x.split('-:-')[-1])\n",
    "rm_df['contest_stnd'] = rm_df['contest'] + ' - ' + rm_df['party']\n",
    "rm_df['rm_name'] =rm_df['name'].apply(lambda x: x.split()[-1] + ', ' + ' '.join(x.split()[:-1]))"
   ]
  },
  {
   "cell_type": "code",
   "execution_count": 60,
   "id": "19e41694",
   "metadata": {},
   "outputs": [],
   "source": [
    "contests_unord = rm_df['contest'].unique()\n",
    "#contests_unord"
   ]
  },
  {
   "cell_type": "code",
   "execution_count": 61,
   "id": "1a723010",
   "metadata": {},
   "outputs": [],
   "source": [
    "# make list of contest types\n",
    "undist = ['UNITED STATES SENATOR',\n",
    "          'GOVERNOR',\n",
    "          'SECRETARY OF STATE',\n",
    "          'STATE AUDITOR']\n",
    "psc = ['PUBLIC SERVICE COMMISSION, PLACE 1',\n",
    "       'PUBLIC SERVICE COMMISSION, PLACE 2']\n",
    "us_cong = ['UNITED STATES REPRESENTATIVE, 5TH CONGRESSIONAL DISTRICT']\n",
    "al_senate = ['STATE SENATOR, DISTRICT 12',\n",
    "       'STATE SENATOR, DISTRICT 23']\n",
    "al_house = [ 'STATE REPRESENTATIVE, DISTRICT 2',\n",
    "       'STATE REPRESENTATIVE, DISTRICT 4',\n",
    "       'STATE REPRESENTATIVE, DISTRICT 14',\n",
    "       'STATE REPRESENTATIVE, DISTRICT 20',\n",
    "       'STATE REPRESENTATIVE, DISTRICT 40',\n",
    "       'STATE REPRESENTATIVE, DISTRICT 55',\n",
    "       'STATE REPRESENTATIVE, DISTRICT 56',\n",
    "       'STATE REPRESENTATIVE, DISTRICT 57',\n",
    "       'STATE REPRESENTATIVE, DISTRICT 100']\n",
    "contests_ord = undist + psc  + us_cong + al_senate + al_house"
   ]
  },
  {
   "cell_type": "code",
   "execution_count": 62,
   "id": "ef034f34",
   "metadata": {},
   "outputs": [
    {
     "data": {
      "text/plain": [
       "True"
      ]
     },
     "execution_count": 62,
     "metadata": {},
     "output_type": "execute_result"
    }
   ],
   "source": [
    "#check\n",
    "set(contests_ord) == set(contests_unord)"
   ]
  },
  {
   "cell_type": "code",
   "execution_count": 63,
   "id": "47fa19d4",
   "metadata": {},
   "outputs": [],
   "source": [
    "# Create list of ordered stnd contests for all contest types\n",
    "contests_order =[]\n",
    "for i in contests_ord:\n",
    "    temp_df = rm_df.loc[rm_df['contest'] == i]\n",
    "    contests_sorted = sorted(temp_df['contest_stnd'].unique().tolist())\n",
    "    contests_order += contests_sorted"
   ]
  },
  {
   "cell_type": "code",
   "execution_count": 64,
   "id": "03b4c156",
   "metadata": {},
   "outputs": [],
   "source": [
    "# adda total vote column to determine vote share\n",
    "rm_df['vote_tot'] = rm_df['VEST'].apply(lambda x: sum(final_allocation[x]))"
   ]
  },
  {
   "cell_type": "code",
   "execution_count": 65,
   "id": "52b42513",
   "metadata": {},
   "outputs": [
    {
     "data": {
      "text/plain": [
       "True"
      ]
     },
     "execution_count": 65,
     "metadata": {},
     "output_type": "execute_result"
    }
   ],
   "source": [
    "# create list to order README and final dataset by contest, and vote share\n",
    "rm_order =[]\n",
    "for i in contests_order:\n",
    "    temp = rm_df.loc[rm_df['contest_stnd'] == i].sort_values('vote_tot', ascending = False)\n",
    "    rm_order += temp['VEST'].to_list()\n",
    "#check to make sure all contests included\n",
    "set(rm_order) == set(vote_cols)"
   ]
  },
  {
   "cell_type": "code",
   "execution_count": 66,
   "id": "312945db",
   "metadata": {},
   "outputs": [],
   "source": [
    "#Create order column, mapping ordering list to VEST names\n",
    "rm_df['Order'] = rm_df['VEST'].map(lambda x: rm_order.index(x))\n",
    "#order the readme DF\n",
    "rm_df = rm_df.sort_values('Order')\n",
    "#create field name column\n",
    "rm_df['description'] = rm_df['rm_name'] + ' - ' + rm_df['contest_stnd']"
   ]
  },
  {
   "cell_type": "code",
   "execution_count": 67,
   "id": "721d10f6",
   "metadata": {},
   "outputs": [],
   "source": [
    "#create fields_dict\n",
    "fields_dict = dict(zip(rm_df['VEST'], rm_df['description']))"
   ]
  },
  {
   "cell_type": "code",
   "execution_count": 68,
   "id": "bc527890",
   "metadata": {},
   "outputs": [],
   "source": [
    "### Create README\n",
    "\n",
    "fields_dict['UNIQUE_ID']='Unique ID for each precinct'\n",
    "fields_dict['COUNTYFP']='County FIP identifier'\n",
    "fields_dict['county']='County Name'\n",
    "fields_dict['precinct']='Precinct Name'\n",
    "\n",
    "title = \"Alabama 2022 Primary Runoff Election Precinct-Level Results\"\n",
    "retrieval_date = \"10/05/23\"\n",
    "fields_dict = fields_dict\n",
    "github_link = \"https://github.com/nonpartisan-redistricting-datahub/pber_collection/tree/main/AL\"\n",
    "file_folder = \"./\"\n",
    "source = \"Alabama Secretary of State\""
   ]
  },
  {
   "cell_type": "code",
   "execution_count": 69,
   "id": "ad28b6ed",
   "metadata": {},
   "outputs": [],
   "source": [
    "def full_readme_text(title, retrieval_date, source, fields_dict, github_link):\n",
    "\n",
    "#First section of README\n",
    "    readme_p1 = '''{title}\\n\n",
    "## RDH Date Retrieval\n",
    "{retrieval_date}\n",
    "\n",
    "## Sources\n",
    "{source}\n",
    "\n",
    "## Notes on Field Names (adapted from VEST):\n",
    "Columns reporting votes generally follow the pattern: \n",
    "One example is:\n",
    "G16PREDCLI\n",
    "The first character is G for a general election, P for a primary, S for a special, and R for a runoff.\n",
    "Characters 2 and 3 are the year of the election.*\n",
    "Characters 4-6 represent the office type (see list below).\n",
    "Character 7 represents the party of the candidate.\n",
    "Characters 8-10 are the first three letters of the candidate's last name.\n",
    "\n",
    "*To fit within the GIS 10 character limit for field names, the naming convention is slightly different for the State Legislature, Public Service Commissioners and US House of Representatives. All fields are listed below with definitions.\n",
    "\n",
    "Office Codes Used:\n",
    "AUD - State Auditor\n",
    "GOV - Governor\n",
    "PS# - Public Service Commissioner\n",
    "SOS - Secretary Of State\n",
    "USS - United States Senator\n",
    "CON## - U.S. Congress\n",
    "SL###  - State Legislative Lower\n",
    "SU##  - State Legislative Upper\n",
    "\n",
    "## Fields:\n",
    "'''.format(title = title, source = source, retrieval_date = retrieval_date)\n",
    "\n",
    "#Second section of README\n",
    "    fields_table = pd.DataFrame.from_dict(fields_dict.items())\n",
    "    fields_table.columns = [\"Field Name\", \"Description\"]\n",
    "    readme_p2 = fields_table.to_string(formatters={'Description':'{{:<{}s}}'.format(fields_table['Description'].str.len().max()).format, 'Field Name':'{{:<{}s}}'.format(fields_table['Field Name'].str.len().max()).format}, index=False, justify = \"left\")\n",
    "\n",
    "#Third section of README\n",
    "    readme_p3 = '''\\n\n",
    "## Processing Steps\n",
    "Visit the RDH GitHub and the processing script for this code [here]({github_link})\n",
    "\n",
    "## Additional Notes\n",
    "\n",
    "Files were checked against republican and democratic offician election results files also available from the Alabama Secretary of State. Results matches exactly except for in the instances below.\n",
    "\n",
    "\n",
    "For the following counties and candidates, we were unable to account for vote total discrepancies between the precinct-level results and the state-level results.\n",
    "In some instances, we believe the discrepancy is likely due to a data entry error or typo. Since we are unable to determine if each typo happened at the county or state level, we have chosen to leave the precinct-level results unaltered in the following cases.\n",
    "1. Autauga - RDH has -1 vote\n",
    "         - R22PS2RMCC\n",
    "2. Jefferson - RDH has -4 votes\n",
    "         - RSL055DPLU\n",
    "         - RSL055DSCO, \n",
    "3. Lawrence - RDH has -3 votes\n",
    "         - R22SOSRALL\n",
    "4. Madison - RDH has -1 vote\n",
    "         - RSL020RLOM\n",
    "5. Mobile - RDH has +1 vote for the following candidates\n",
    "        - R22AUDRCOO\n",
    "        - R22PS1RWOO\n",
    "        - R22PS2RBEE\n",
    "        - R22SOSRALL\n",
    "        - R22USSRBRO\n",
    "6. Perry - RDH has +1 vote for the following candidates\n",
    "        - R22PS2RBEE\n",
    "        - R22PS2RMCC\n",
    "\n",
    "Please direct questions related to processing this dataset to info@redistrictingdatahub.org.\n",
    "'''.format(github_link=github_link)\n",
    "    \n",
    "    full_readme = str(readme_p1)+str(readme_p2)+str(readme_p3)\n",
    "    return full_readme"
   ]
  },
  {
   "cell_type": "code",
   "execution_count": 70,
   "id": "31c88137",
   "metadata": {},
   "outputs": [],
   "source": [
    "if not os.path.exists(file_folder):\n",
    "    os.mkdir(file_folder)\n",
    "\n",
    "with open(file_folder+\"README.txt\", 'w') as tf:\n",
    "        tf.write(full_readme_text(title, retrieval_date, source, fields_dict, github_link))"
   ]
  },
  {
   "cell_type": "markdown",
   "id": "7c7cd999",
   "metadata": {},
   "source": [
    "<p><a name=\"exp\"></a></p>\n",
    "\n",
    "### Exporting Cleaned Precinct-Level Dataset"
   ]
  },
  {
   "cell_type": "code",
   "execution_count": 71,
   "id": "c9f76507",
   "metadata": {},
   "outputs": [],
   "source": [
    "rm_order = ['UNIQUE_ID', 'COUNTYFP', 'county', 'precinct'] + rm_order"
   ]
  },
  {
   "cell_type": "code",
   "execution_count": 72,
   "id": "c61c2d07",
   "metadata": {},
   "outputs": [
    {
     "data": {
      "text/plain": [
       "True"
      ]
     },
     "execution_count": 72,
     "metadata": {},
     "output_type": "execute_result"
    }
   ],
   "source": [
    "#checks\n",
    "len(rm_order) == len(final_allocation.columns)\n",
    "set(rm_order) == set(final_allocation.columns)"
   ]
  },
  {
   "cell_type": "code",
   "execution_count": 73,
   "id": "44d1113f",
   "metadata": {},
   "outputs": [],
   "source": [
    "#reorder df\n",
    "final_allocation = final_allocation[rm_order]"
   ]
  },
  {
   "cell_type": "code",
   "execution_count": 74,
   "id": "76c318ac",
   "metadata": {},
   "outputs": [],
   "source": [
    "if not os.path.exists(\"./al_2022_prim_runoff_prec/\"):\n",
    "    os.mkdir(\"./al_2022_prim_runoff_prec/\")\n",
    "\n",
    "final_allocation.to_csv(\"./al_2022_prim_runoff_prec/al_2022_prim_runoff_prec.csv\", index = False)"
   ]
  },
  {
   "cell_type": "code",
   "execution_count": 75,
   "id": "a111edfc",
   "metadata": {},
   "outputs": [
    {
     "data": {
      "text/html": [
       "<div>\n",
       "<style scoped>\n",
       "    .dataframe tbody tr th:only-of-type {\n",
       "        vertical-align: middle;\n",
       "    }\n",
       "\n",
       "    .dataframe tbody tr th {\n",
       "        vertical-align: top;\n",
       "    }\n",
       "\n",
       "    .dataframe thead th {\n",
       "        text-align: right;\n",
       "    }\n",
       "</style>\n",
       "<table border=\"1\" class=\"dataframe\">\n",
       "  <thead>\n",
       "    <tr style=\"text-align: right;\">\n",
       "      <th>pivot_col</th>\n",
       "      <th>UNIQUE_ID</th>\n",
       "      <th>COUNTYFP</th>\n",
       "      <th>county</th>\n",
       "      <th>precinct</th>\n",
       "      <th>R22USSRBRI</th>\n",
       "      <th>R22USSRBRO</th>\n",
       "      <th>R22GOVDFLO</th>\n",
       "      <th>R22GOVDFOR</th>\n",
       "      <th>R22SOSRALL</th>\n",
       "      <th>R22SOSRZEI</th>\n",
       "      <th>...</th>\n",
       "      <th>RSL040RROB</th>\n",
       "      <th>RSL040RBOR</th>\n",
       "      <th>RSL055DPLU</th>\n",
       "      <th>RSL055DSCO</th>\n",
       "      <th>RSL056DTIL</th>\n",
       "      <th>RSL056DHUF</th>\n",
       "      <th>RSL057DSEL</th>\n",
       "      <th>RSL057DWIN</th>\n",
       "      <th>RSL100RSHI</th>\n",
       "      <th>RSL100RKUP</th>\n",
       "    </tr>\n",
       "  </thead>\n",
       "  <tbody>\n",
       "    <tr>\n",
       "      <th>0</th>\n",
       "      <td>073-PREC 1010 - HUFFMAN BAPTIST CH</td>\n",
       "      <td>073</td>\n",
       "      <td>Jefferson</td>\n",
       "      <td>PREC 1010 - HUFFMAN BAPTIST CH</td>\n",
       "      <td>100</td>\n",
       "      <td>120</td>\n",
       "      <td>147</td>\n",
       "      <td>77</td>\n",
       "      <td>140</td>\n",
       "      <td>66</td>\n",
       "      <td>...</td>\n",
       "      <td>0</td>\n",
       "      <td>0</td>\n",
       "      <td>0</td>\n",
       "      <td>0</td>\n",
       "      <td>0</td>\n",
       "      <td>0</td>\n",
       "      <td>0</td>\n",
       "      <td>0</td>\n",
       "      <td>0</td>\n",
       "      <td>0</td>\n",
       "    </tr>\n",
       "    <tr>\n",
       "      <th>1</th>\n",
       "      <td>073-PREC 1020 - TOM BRADFORD PARK</td>\n",
       "      <td>073</td>\n",
       "      <td>Jefferson</td>\n",
       "      <td>PREC 1020 - TOM BRADFORD PARK</td>\n",
       "      <td>80</td>\n",
       "      <td>100</td>\n",
       "      <td>90</td>\n",
       "      <td>50</td>\n",
       "      <td>109</td>\n",
       "      <td>69</td>\n",
       "      <td>...</td>\n",
       "      <td>0</td>\n",
       "      <td>0</td>\n",
       "      <td>0</td>\n",
       "      <td>0</td>\n",
       "      <td>0</td>\n",
       "      <td>0</td>\n",
       "      <td>0</td>\n",
       "      <td>0</td>\n",
       "      <td>0</td>\n",
       "      <td>0</td>\n",
       "    </tr>\n",
       "    <tr>\n",
       "      <th>2</th>\n",
       "      <td>073-PREC 1030 - L_M_ SMITH MIDDLE</td>\n",
       "      <td>073</td>\n",
       "      <td>Jefferson</td>\n",
       "      <td>PREC 1030 - L_M_ SMITH MIDDLE</td>\n",
       "      <td>26</td>\n",
       "      <td>27</td>\n",
       "      <td>103</td>\n",
       "      <td>45</td>\n",
       "      <td>35</td>\n",
       "      <td>16</td>\n",
       "      <td>...</td>\n",
       "      <td>0</td>\n",
       "      <td>0</td>\n",
       "      <td>0</td>\n",
       "      <td>0</td>\n",
       "      <td>0</td>\n",
       "      <td>0</td>\n",
       "      <td>0</td>\n",
       "      <td>0</td>\n",
       "      <td>0</td>\n",
       "      <td>0</td>\n",
       "    </tr>\n",
       "    <tr>\n",
       "      <th>3</th>\n",
       "      <td>073-PREC 1040 - BETHEL BAPTIST CHU</td>\n",
       "      <td>073</td>\n",
       "      <td>Jefferson</td>\n",
       "      <td>PREC 1040 - BETHEL BAPTIST CHU</td>\n",
       "      <td>5</td>\n",
       "      <td>5</td>\n",
       "      <td>149</td>\n",
       "      <td>64</td>\n",
       "      <td>4</td>\n",
       "      <td>5</td>\n",
       "      <td>...</td>\n",
       "      <td>0</td>\n",
       "      <td>0</td>\n",
       "      <td>0</td>\n",
       "      <td>0</td>\n",
       "      <td>0</td>\n",
       "      <td>0</td>\n",
       "      <td>0</td>\n",
       "      <td>0</td>\n",
       "      <td>0</td>\n",
       "      <td>0</td>\n",
       "    </tr>\n",
       "    <tr>\n",
       "      <th>4</th>\n",
       "      <td>073-PREC 1060 - SUN VALLEY ELEMENT</td>\n",
       "      <td>073</td>\n",
       "      <td>Jefferson</td>\n",
       "      <td>PREC 1060 - SUN VALLEY ELEMENT</td>\n",
       "      <td>26</td>\n",
       "      <td>44</td>\n",
       "      <td>117</td>\n",
       "      <td>54</td>\n",
       "      <td>48</td>\n",
       "      <td>20</td>\n",
       "      <td>...</td>\n",
       "      <td>0</td>\n",
       "      <td>0</td>\n",
       "      <td>0</td>\n",
       "      <td>0</td>\n",
       "      <td>0</td>\n",
       "      <td>0</td>\n",
       "      <td>0</td>\n",
       "      <td>0</td>\n",
       "      <td>0</td>\n",
       "      <td>0</td>\n",
       "    </tr>\n",
       "  </tbody>\n",
       "</table>\n",
       "<p>5 rows × 40 columns</p>\n",
       "</div>"
      ],
      "text/plain": [
       "pivot_col                           UNIQUE_ID COUNTYFP     county  \\\n",
       "0          073-PREC 1010 - HUFFMAN BAPTIST CH      073  Jefferson   \n",
       "1           073-PREC 1020 - TOM BRADFORD PARK      073  Jefferson   \n",
       "2           073-PREC 1030 - L_M_ SMITH MIDDLE      073  Jefferson   \n",
       "3          073-PREC 1040 - BETHEL BAPTIST CHU      073  Jefferson   \n",
       "4          073-PREC 1060 - SUN VALLEY ELEMENT      073  Jefferson   \n",
       "\n",
       "pivot_col                        precinct  R22USSRBRI  R22USSRBRO  R22GOVDFLO  \\\n",
       "0          PREC 1010 - HUFFMAN BAPTIST CH         100         120         147   \n",
       "1           PREC 1020 - TOM BRADFORD PARK          80         100          90   \n",
       "2           PREC 1030 - L_M_ SMITH MIDDLE          26          27         103   \n",
       "3          PREC 1040 - BETHEL BAPTIST CHU           5           5         149   \n",
       "4          PREC 1060 - SUN VALLEY ELEMENT          26          44         117   \n",
       "\n",
       "pivot_col  R22GOVDFOR  R22SOSRALL  R22SOSRZEI  ...  RSL040RROB  RSL040RBOR  \\\n",
       "0                  77         140          66  ...           0           0   \n",
       "1                  50         109          69  ...           0           0   \n",
       "2                  45          35          16  ...           0           0   \n",
       "3                  64           4           5  ...           0           0   \n",
       "4                  54          48          20  ...           0           0   \n",
       "\n",
       "pivot_col  RSL055DPLU  RSL055DSCO  RSL056DTIL  RSL056DHUF  RSL057DSEL  \\\n",
       "0                   0           0           0           0           0   \n",
       "1                   0           0           0           0           0   \n",
       "2                   0           0           0           0           0   \n",
       "3                   0           0           0           0           0   \n",
       "4                   0           0           0           0           0   \n",
       "\n",
       "pivot_col  RSL057DWIN  RSL100RSHI  RSL100RKUP  \n",
       "0                   0           0           0  \n",
       "1                   0           0           0  \n",
       "2                   0           0           0  \n",
       "3                   0           0           0  \n",
       "4                   0           0           0  \n",
       "\n",
       "[5 rows x 40 columns]"
      ]
     },
     "execution_count": 75,
     "metadata": {},
     "output_type": "execute_result"
    }
   ],
   "source": [
    "final_allocation.head()"
   ]
  },
  {
   "cell_type": "code",
   "execution_count": null,
   "id": "3f0859b5",
   "metadata": {},
   "outputs": [],
   "source": []
  }
 ],
 "metadata": {
  "kernelspec": {
   "display_name": "Python 3",
   "language": "python",
   "name": "python3"
  },
  "language_info": {
   "codemirror_mode": {
    "name": "ipython",
    "version": 3
   },
   "file_extension": ".py",
   "mimetype": "text/x-python",
   "name": "python",
   "nbconvert_exporter": "python",
   "pygments_lexer": "ipython3",
   "version": "3.8.8"
  }
 },
 "nbformat": 4,
 "nbformat_minor": 5
}
