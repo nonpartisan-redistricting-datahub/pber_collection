{
 "cells": [
  {
   "cell_type": "code",
   "execution_count": null,
   "id": "0d8cf1c4",
   "metadata": {},
   "outputs": [],
   "source": [
    "import geopandas as gp\n",
    "import pandas as pd\n",
    "import maup\n",
    "import matplotlib.pyplot as plt\n",
    "import os"
   ]
  },
  {
   "cell_type": "code",
   "execution_count": null,
   "id": "0941a95e",
   "metadata": {},
   "outputs": [],
   "source": [
    "al_blocks = gp.read_file(\"/Users/peterhorton/Documents/RDH/raw_data/census/2020_TIGER_B/al_b_2020_bound/al_b_2020_bound.shp\")\n",
    "\n",
    "\n",
    "file_hold = gp.read_file(\"/Users/peterhorton/Documents/RDH/pber_collection/AL/2022/gen/al_gen_22_prec/al_gen_22_no_splits_prec.shp\")\n",
    "file_hold.rename(columns = {\"County_x\":\"County\", \"COUNTYFP_x\":\"COUNTYFP\"}, inplace = True)\n"
   ]
  },
  {
   "cell_type": "code",
   "execution_count": null,
   "id": "ccaa94cf",
   "metadata": {},
   "outputs": [],
   "source": [
    "\n",
    "def make_vf_points(vf):\n",
    "    vf['lat'] = vf['lat'].astype(float)\n",
    "    vf['lon'] = vf['lon'].astype(float)\n",
    "    points = gp.GeoDataFrame(vf,geometry = gp.points_from_xy(vf.lon, vf.lat, crs='EPSG:4326'))\n",
    "    assert(len(vf)==len(points))\n",
    "    return points\n",
    "\n",
    "vf_correspondence = pd.read_csv(\"./starting_vf_matches.csv\")\n",
    "vf_correspondence[\"County\"] = vf_correspondence[\"ELEC_22_ID\"].apply(lambda x:x.split(\"-:-\")[0])\n",
    "\n",
    "vf_correspondence_dict = dict(zip(vf_correspondence[\"VF_ID\"],vf_correspondence[\"ELEC_22_ID\"]))\n",
    "\n",
    "\n",
    "holder = pd.read_csv(\"/Users/peterhorton/Downloads/AL_individual_file000.gz\")\n",
    "holder[\"UNIQUE_ID\"] = holder[\"co_fips\"].astype(str).str.zfill(3)+\"-\"+holder[\"precinct\"]\n",
    "holder[\"UNIQUE_ID\"] = holder[\"UNIQUE_ID\"].str.strip()\n",
    "#holder = holder[(holder[\"gen_vote\"]==\"Y\")]\n",
    "holder[\"Count\"] = 1\n",
    "holder = make_vf_points(holder)\n",
    "\n",
    "holder = holder.to_crs(file_hold.crs)\n",
    "holder[\"ELEC_PREC_MATCH\"] = holder[\"UNIQUE_ID\"].map(vf_correspondence_dict).fillna(holder[\"UNIQUE_ID\"])\n",
    "holder[\"ELEC_PREC_MATCH\"] = holder[\"ELEC_PREC_MATCH\"].fillna(\"NO ASSIGNMENT\")\n",
    "\n",
    "\n",
    "holder_grouped = holder.groupby(\"UNIQUE_ID\").sum()\n",
    "holder_grouped.reset_index(inplace = True)\n",
    "\n"
   ]
  },
  {
   "cell_type": "markdown",
   "id": "d1006f67",
   "metadata": {},
   "source": [
    "Completed:\n",
    "- Crenshaw, line in VFD Honorville\n",
    "\n",
    "To-Do:\n",
    "\n",
    "- DeKalb, lines in MCKestes Comm Ctr, Fyfee Senior Ctr, Tenboreck Comm Ctr\n",
    "\n",
    "- Mobile lines in Davidson High School, Abba Shrine, Hope Chapel AMEZ, JE Turner Elem, McDavid Jones Elem, The River, VIA_Senior Center, needs more area in Revelation Missionary, The Grand Hall, Three Circle CH\n",
    "\n",
    "\n",
    "\n",
    "- Coffee has precinct shards, Pleasant Ridge VTG CTR messed up, perhaps duplicates? Note: Coffee I did create an \"Unassigned\"\n",
    "\n",
    "- Washington, if you have time to look that would be helpful\n",
    "- Clarke, downtown Jackson especially could use a look"
   ]
  },
  {
   "cell_type": "code",
   "execution_count": null,
   "id": "0e0ddf5e",
   "metadata": {},
   "outputs": [],
   "source": []
  },
  {
   "cell_type": "code",
   "execution_count": null,
   "id": "84f49c30",
   "metadata": {},
   "outputs": [],
   "source": [
    "for county in list(file_hold[\"County\"].unique()):\n",
    "#for county in [\"Jefferson\"]:\n",
    "\n",
    "    county_data = file_hold[file_hold[\"County\"]==county].copy(deep = True)\n",
    "    fips = county_data[\"COUNTYFP\"].unique()[0]\n",
    "    county_vf = holder[holder[\"co_fips\"]==fips]\n",
    "    county_join = gp.sjoin(county_data, county_vf, how = \"right\")\n",
    "\n",
    "    if not os.path.exists(\"./vf_map_checks/\"+county):\n",
    "        os.mkdir(\"./vf_map_checks/\"+county)\n",
    "    for precinct in list(vf_correspondence[vf_correspondence[\"County\"]==county][\"ELEC_22_ID\"].unique()):\n",
    "        print(precinct)\n",
    "        vf_id_list = list(vf_correspondence[vf_correspondence[\"ELEC_22_ID\"]==precinct][\"VF_ID\"].unique())\n",
    "        \n",
    "\n",
    "        prec = file_hold[file_hold[\"UNIQUE_ID\"]==precinct].copy(deep = True)\n",
    "        ax = prec.boundary.plot(figsize = (10,10))\n",
    "        holder[holder[\"UNIQUE_ID\"].isin(vf_id_list)].plot(ax = ax, color = \"red\")\n",
    "        fips = prec[\"COUNTYFP\"].values[0]\n",
    "        intersect = county_join[(county_join[\"UNIQUE_ID_x\"]==precinct)&~(county_join[\"UNIQUE_ID_y\"].isin(vf_id_list))]\n",
    "\n",
    "   \n",
    "        if intersect.shape[0] != 0:\n",
    "            intersect.plot(ax = ax, column = \"ELEC_PREC_MATCH\", legend = True, legend_kwds = {'loc':(1,0)})\n",
    "        \n",
    "        \n",
    "        \n",
    "        \n",
    "        ax.set_title(precinct)\n",
    "#         if precinct!=\"Escambia-:-BETHEL ROBERTS\":\n",
    "        ax.figure.savefig(\"./vf_map_checks/\"+county+\"/\"+precinct.replace(\"/\",\"-\")+\".jpg\", bbox_inches = \"tight\")\n"
   ]
  },
  {
   "cell_type": "code",
   "execution_count": null,
   "id": "b449d8bd",
   "metadata": {},
   "outputs": [],
   "source": [
    "def check_pber_implied_turnout(block_gdf, pber_file, output_path, elec_prefix):\n",
    "    pber_file.index = pber_file[\"UNIQUE_ID\"]\n",
    "    block_gdf[\"UNIQUE_ID\"] = maup.assign(block_gdf, pber_file)\n",
    "    prec_census = block_gdf.groupby(\"UNIQUE_ID\").sum()\n",
    "    prec_census.reset_index(inplace = True, drop = False)\n",
    "    prec_census[\"VAP_mod\"] = prec_census[\"P0010001\"] - prec_census[\"P0050003\"]\n",
    "    pber_file.reset_index(inplace = True, drop = True)\n",
    "    joined_data = pd.merge(prec_census, pber_file, on = \"UNIQUE_ID\", how = \"outer\")\n",
    "    joined_data[\"VAP_mod\"] = joined_data[\"VAP_mod\"].fillna(0)\n",
    "    \n",
    "    joined_data = get_estimated_total_votes(joined_data, elec_prefix)\n",
    "    \n",
    "    return joined_data\n",
    "    \n",
    "    #generate_analysis(joined_data, \"COUNTYFP\", output_path)\n",
    "    \n",
    "    \n",
    "def get_estimated_total_votes(pber_file, prefix):\n",
    "    cols = [i for i in list(pber_file.columns) if i[:len(prefix)]==prefix]\n",
    "    pber_file[\"Tot_Votes\"] = 0\n",
    "    for col in cols:\n",
    "        pber_file[\"Tot_Votes\"] += pber_file[col]\n",
    "    return pber_file"
   ]
  },
  {
   "cell_type": "code",
   "execution_count": null,
   "id": "7599e108",
   "metadata": {},
   "outputs": [],
   "source": [
    "joined = check_pber_implied_turnout(al_pl, file_hold, \"./\",\"G22USS\")"
   ]
  },
  {
   "cell_type": "code",
   "execution_count": null,
   "id": "57eb66e0",
   "metadata": {},
   "outputs": [],
   "source": [
    "joined[\"Turnout_Est\"] = joined[\"Tot_Votes\"]/joined[\"VAP_mod\"]"
   ]
  },
  {
   "cell_type": "code",
   "execution_count": null,
   "id": "5315c37f",
   "metadata": {},
   "outputs": [],
   "source": [
    "joined[joined[\"Turnout_Est\"]>1]"
   ]
  },
  {
   "cell_type": "code",
   "execution_count": null,
   "id": "8b0f3419",
   "metadata": {},
   "outputs": [],
   "source": []
  },
  {
   "cell_type": "code",
   "execution_count": null,
   "id": "202ac041",
   "metadata": {},
   "outputs": [],
   "source": [
    "plt.scatter(joined[\"VAP_mod\"], joined[\"Tot_Votes\"])\n",
    "plt.xlabel(\"VAP mod of precinct's maup-ed blocks\")\n",
    "plt.ylabel(\"Total Number of Senator Votes\")\n",
    "\n",
    "#plt.scatter(range(0,10000), range(0,10000), s = 1)"
   ]
  },
  {
   "cell_type": "code",
   "execution_count": null,
   "id": "a0a0ec6a",
   "metadata": {},
   "outputs": [],
   "source": [
    "joined[(joined[\"VAP_mod\"]>10000) & (joined[\"Tot_Votes\"]<1000)]"
   ]
  },
  {
   "cell_type": "code",
   "execution_count": null,
   "id": "0584051d",
   "metadata": {},
   "outputs": [],
   "source": [
    "county = pd.read_csv(\"/Users/peterhorton/Documents/RDH/raw_data/census/PL_COUNTYFP_NAMES.csv\")\n",
    "al_cnty_fips_dict = dict((zip(county[county[\"STUSAB\"]==\"AL\"][\"NAME\"],county[county[\"STUSAB\"]==\"AL\"][\"COUNTYFP\"].astype(str).str.zfill(3))))"
   ]
  },
  {
   "cell_type": "code",
   "execution_count": null,
   "id": "63583af5",
   "metadata": {},
   "outputs": [],
   "source": [
    "al_cnty_fips_dict"
   ]
  },
  {
   "cell_type": "code",
   "execution_count": null,
   "id": "b6416b07",
   "metadata": {},
   "outputs": [],
   "source": [
    "al_cnty_fips_dict_reversed = {value:key.replace(\" County\",\"\") for key, value in al_cnty_fips_dict.items()}"
   ]
  },
  {
   "cell_type": "code",
   "execution_count": null,
   "id": "5c2ea9b2",
   "metadata": {},
   "outputs": [],
   "source": [
    "al_cnty_fips_dict_reversed"
   ]
  },
  {
   "cell_type": "code",
   "execution_count": null,
   "id": "1416268b",
   "metadata": {},
   "outputs": [],
   "source": []
  },
  {
   "cell_type": "code",
   "execution_count": null,
   "id": "1a19b1ca",
   "metadata": {},
   "outputs": [],
   "source": [
    "holder[holder[\"co_fips\"]==25].to_file(\"./clarke_vf.shp\")"
   ]
  },
  {
   "cell_type": "code",
   "execution_count": null,
   "id": "c1293175",
   "metadata": {},
   "outputs": [],
   "source": [
    "for county in list(holder[\"co_fips\"].unique()):\n",
    "    ax = holder[holder[\"co_fips\"]==county].plot(column = \"precinct\", legend = True, legend_kwds = {\"loc\":(1,-.25)}, cmap = \"tab20c\")\n",
    "    file_hold[file_hold[\"COUNTYFP\"]==county].boundary.plot(ax = ax, color = \"black\")\n",
    "    ax.set_title(al_cnty_fips_dict_reversed[county.astype(str).zfill(3)])\n",
    "    ax.figure.savefig(\"./map_checks/\"+al_cnty_fips_dict_reversed[county.astype(str).zfill(3)]+\".jpg\")"
   ]
  },
  {
   "cell_type": "code",
   "execution_count": null,
   "id": "81eb25f0",
   "metadata": {},
   "outputs": [],
   "source": [
    "# DeKalb - blocks just not granular enough\n",
    "# Choctaw - looks okay from Q\n",
    "# Wilcox - looks fine from Q\n",
    "Calhoun-:-HARVEST CHURCH OF GOD, needs to be expanded\n",
    "    "
   ]
  },
  {
   "cell_type": "code",
   "execution_count": null,
   "id": "ea729d22",
   "metadata": {},
   "outputs": [],
   "source": [
    "county = 11\n",
    "ax = holder[holder[\"co_fips\"]==county].plot(column = \"precinct\", legend = True, legend_kwds = {\"loc\":(1,-.25)}, cmap = \"tab20c\")\n",
    "file_hold[file_hold[\"COUNTYFP\"]==county].boundary.plot(ax = ax, color = \"black\")"
   ]
  },
  {
   "cell_type": "markdown",
   "id": "72768c83",
   "metadata": {},
   "source": [
    "## Bullock - Redrew to fix"
   ]
  },
  {
   "cell_type": "code",
   "execution_count": null,
   "id": "b8e7f37e",
   "metadata": {},
   "outputs": [],
   "source": [
    "bullock_pl = al_pl[al_pl[\"COUNTYFP20\"]==\"011\"].copy(deep = True)\n",
    "bullock_precs = file_hold[file_hold[\"COUNTYFP\"]==county].copy(deep = True)\n",
    "bullock_precs.index = bullock_precs[\"UNIQUE_ID\"]\n",
    "\n",
    "bullock_pl[\"Assignment\"] = maup.assign(bullock_pl, bullock_precs)\n",
    "\n",
    "bullock_pl = bullock_pl[[\"GEOID20\",\"Assignment\"]].to_csv(\"./bullock_baf.csv\", index = False)"
   ]
  },
  {
   "cell_type": "code",
   "execution_count": null,
   "id": "68da092c",
   "metadata": {},
   "outputs": [],
   "source": []
  },
  {
   "cell_type": "code",
   "execution_count": null,
   "id": "df45b52a",
   "metadata": {},
   "outputs": [],
   "source": []
  },
  {
   "cell_type": "code",
   "execution_count": null,
   "id": "830b0db4",
   "metadata": {},
   "outputs": [],
   "source": [
    "holder[holder[\"co_fips\"]==county].to_file(\"./county_checks/bullock_vf.shp\")\n",
    "file_hold[file_hold[\"COUNTYFP\"]==county].to_file(\"./county_checks/bullock_precs.shp\")"
   ]
  },
  {
   "cell_type": "code",
   "execution_count": null,
   "id": "5f2207f0",
   "metadata": {},
   "outputs": [],
   "source": [
    "bullock_precincts = file_hold[file_hold[\"COUNTYFP\"]==county].copy(deep = True)"
   ]
  },
  {
   "cell_type": "code",
   "execution_count": null,
   "id": "2d67f5a4",
   "metadata": {},
   "outputs": [],
   "source": [
    "county = 15\n",
    "\n",
    "ax = holder[holder[\"co_fips\"]==county].plot(column = \"precinct\", legend = True, legend_kwds = {\"loc\":(1,-.25)}, cmap = \"tab20c\")\n",
    "file_hold[file_hold[\"COUNTYFP\"]==county].boundary.plot(ax = ax, color = \"black\")\n",
    "file_hold[file_hold[\"UNIQUE_ID\"]==\"Calhoun-:-HARVEST CHURCH OF GOD\"].boundary.plot( color = \"yellow\", ax =ax)\n",
    "# holder[holder[\"co_fips\"]==county].to_file(\"./county_checks/calhoun_vf.shp\")\n",
    "# file_hold[file_hold[\"COUNTYFP\"]==county].to_file(\"./county_checks/calhoun_precs.shp\")"
   ]
  },
  {
   "cell_type": "markdown",
   "id": "231ede1a",
   "metadata": {},
   "source": [
    "## Calhoun"
   ]
  },
  {
   "cell_type": "code",
   "execution_count": null,
   "id": "0224fea4",
   "metadata": {},
   "outputs": [],
   "source": [
    "county = 15\n",
    "calhoun_pl = al_pl[al_pl[\"COUNTYFP20\"]==\"015\"].copy(deep = True)\n",
    "calhoun_precs = file_hold[file_hold[\"COUNTYFP\"]==county].copy(deep = True)\n",
    "calhoun_precs.index = calhoun_precs[\"UNIQUE_ID\"]\n",
    "\n",
    "calhoun_pl[\"Assignment\"] = maup.assign(calhoun_pl, calhoun_precs)\n",
    "\n",
    "calhoun_pl = calhoun_pl[[\"GEOID20\",\"Assignment\"]].to_csv(\"./calhoun_baf.csv\", index = False)"
   ]
  },
  {
   "cell_type": "code",
   "execution_count": null,
   "id": "19be6804",
   "metadata": {},
   "outputs": [],
   "source": [
    "county = 23\n",
    "ax = holder[holder[\"co_fips\"]==county].plot(column = \"precinct\", legend = True, legend_kwds = {\"loc\":(1,-.25)}, cmap = \"tab20c\")\n",
    "file_hold[file_hold[\"COUNTYFP\"]==county].boundary.plot(ax = ax, color = \"black\")\n",
    "file_hold[file_hold[\"UNIQUE_ID\"]==\"Choctaw-:-HURRICANE\"].boundary.plot(ax = ax, color = \"yellow\")\n",
    "holder[holder[\"co_fips\"]==county].to_file(\"./county_checks/choctaw_vf.shp\")\n",
    "file_hold[file_hold[\"COUNTYFP\"]==county].to_file(\"./county_checks/choctaw_precs.shp\")"
   ]
  },
  {
   "cell_type": "code",
   "execution_count": null,
   "id": "4343736f",
   "metadata": {},
   "outputs": [],
   "source": [
    "holder[(holder[\"co_fips\"]==county)&(holder[\"precinct\"]==\"0032-HURRICANE\")]"
   ]
  },
  {
   "cell_type": "code",
   "execution_count": null,
   "id": "b53124b4",
   "metadata": {},
   "outputs": [],
   "source": [
    "county = 49\n",
    "ax = holder[holder[\"co_fips\"]==county].plot(column = \"precinct\", legend = True, legend_kwds = {\"loc\":(1,-.25)}, cmap = \"tab20c\")\n",
    "file_hold[file_hold[\"COUNTYFP\"]==county].boundary.plot(ax = ax, color = \"black\")\n",
    "file_hold[file_hold[\"UNIQUE_ID\"]==\"DeKalb-:-FIRE #3 E HIGHLAND D-1\"].boundary.plot(ax = ax, color = \"yellow\")"
   ]
  },
  {
   "cell_type": "code",
   "execution_count": null,
   "id": "79787d43",
   "metadata": {},
   "outputs": [],
   "source": [
    "holder[holder[\"co_fips\"]==county].to_file(\"./county_checks/dekalb_vf.shp\")\n",
    "file_hold[file_hold[\"COUNTYFP\"]==county].to_file(\"./county_checks/dekalb_precs.shp\")"
   ]
  },
  {
   "cell_type": "code",
   "execution_count": null,
   "id": "2e87c6b8",
   "metadata": {},
   "outputs": [],
   "source": [
    "county = 131\n",
    "holder[holder[\"co_fips\"]==county].to_file(\"./county_checks/wilcox_vf.shp\")\n",
    "file_hold[file_hold[\"COUNTYFP\"]==county].to_file(\"./county_checks/wilcox_precs.shp\")"
   ]
  },
  {
   "cell_type": "code",
   "execution_count": null,
   "id": "941318f9",
   "metadata": {},
   "outputs": [],
   "source": [
    "county = 131\n",
    "ax = holder[holder[\"co_fips\"]==county].plot()\n",
    "file_hold[file_hold[\"COUNTYFP\"]==county].boundary.plot(ax = ax)\n",
    "file_hold[file_hold[\"UNIQUE_ID\"]==\"Wilcox-:-ST PAUL AME CH\"].boundary.plot(ax = ax, color = \"yellow\")\n"
   ]
  },
  {
   "cell_type": "code",
   "execution_count": null,
   "id": "a61d199c",
   "metadata": {},
   "outputs": [],
   "source": []
  },
  {
   "cell_type": "code",
   "execution_count": null,
   "id": "601f2e46",
   "metadata": {},
   "outputs": [],
   "source": [
    "holder_grouped[~holder_grouped[\"UNIQUE_ID\"].isin(list(vf_correspondence[\"VF_ID\"]))]"
   ]
  },
  {
   "cell_type": "code",
   "execution_count": null,
   "id": "7ca4b6f9",
   "metadata": {},
   "outputs": [],
   "source": [
    "holder_grouped[~holder_grouped[\"UNIQUE_ID\"].isin(list(vf_correspondence[\"VF_ID\"]))].to_csv(\"./remaining_unjoined_vf_precincts.csv\", index = False)"
   ]
  },
  {
   "cell_type": "code",
   "execution_count": null,
   "id": "58c04f7c",
   "metadata": {},
   "outputs": [],
   "source": [
    "file_hold[~file_hold[\"UNIQUE_ID\"].isin(list(vf_correspondence[\"ELEC_22_ID\"]))]"
   ]
  },
  {
   "cell_type": "code",
   "execution_count": null,
   "id": "7e5a5d95",
   "metadata": {},
   "outputs": [],
   "source": [
    "file_hold[~file_hold[\"UNIQUE_ID\"].isin(list(vf_correspondence[\"ELEC_22_ID\"]))].to_csv(\"./remaining_unjoined_elec_precincts.csv\", index = False)"
   ]
  },
  {
   "cell_type": "code",
   "execution_count": null,
   "id": "9d3d3862",
   "metadata": {},
   "outputs": [],
   "source": [
    "full_list = ['Coffee',\n",
    " 'Cullman',\n",
    " 'Autauga',\n",
    " 'Bullock',\n",
    " 'Butler',\n",
    " 'Pike',\n",
    " 'Tuscaloosa',\n",
    " 'Talladega',\n",
    " 'St. Clair',\n",
    " 'Morgan',\n",
    " 'Montgomery',\n",
    " 'Baldwin',\n",
    " 'Blount',\n",
    " 'Chilton',\n",
    " 'Cleburne',\n",
    " 'Crenshaw',\n",
    " 'Dale',\n",
    " 'DeKalb',\n",
    " 'Elmore',\n",
    " 'Etowah',\n",
    " 'Fayette',\n",
    " 'Greene',\n",
    " 'Lauderdale',\n",
    " 'Lee',\n",
    " 'Limestone',\n",
    " 'Madison',\n",
    " 'Marengo',\n",
    " 'Mobile',\n",
    " 'Marshall',\n",
    " 'Cherokee',\n",
    " 'Dallas',\n",
    " 'Monroe',\n",
    " 'Walker',\n",
    " 'Wilcox']\n",
    "\n",
    "full_list.sort()"
   ]
  },
  {
   "cell_type": "code",
   "execution_count": null,
   "id": "d8dbdfcf",
   "metadata": {},
   "outputs": [],
   "source": [
    "al_votes = gp.read_file(\"/Users/peterhorton/Downloads/al_2022_gen_2020_vtds/al_2022_gen_2020_vtds.shp\")"
   ]
  },
  {
   "cell_type": "code",
   "execution_count": null,
   "id": "517aab0c",
   "metadata": {},
   "outputs": [],
   "source": [
    "import os"
   ]
  },
  {
   "cell_type": "code",
   "execution_count": null,
   "id": "e0f85147",
   "metadata": {},
   "outputs": [],
   "source": [
    "counties_w_data = list(vf_correspondence[\"County\"].unique())"
   ]
  },
  {
   "cell_type": "code",
   "execution_count": null,
   "id": "e1bd3c5d",
   "metadata": {},
   "outputs": [],
   "source": [
    "for county in counties_w_data:\n",
    "    prec_count = file_hold[file_hold[\"County\"]==county].shape[0]\n",
    "    vf_relations_list = list(vf_correspondence[vf_correspondence[\"County\"]==county][\"ELEC_22_ID\"].unique())\n",
    "    vf_relations = len(vf_correspondence[vf_correspondence[\"County\"]==county][\"ELEC_22_ID\"].unique())\n",
    "    precinct_list = list(vf_correspondence[vf_correspondence[\"County\"]==county][\"VF_ID\"].unique())\n",
    "    \n",
    "    \n",
    "    if prec_count != vf_relations:\n",
    "        fips = file_hold[(file_hold[\"County\"]==county)][\"COUNTYFP\"].unique()[0]\n",
    "        print(fips)\n",
    "        print(list(file_hold[(file_hold[\"County\"]==county)&~(file_hold[\"UNIQUE_ID\"].isin(vf_relations_list))][\"UNIQUE_ID\"].values))\n",
    "        print(holder[(holder[\"co_fips\"]==fips)&(holder[\"gen_vote\"]==\"Y\")&~(holder[\"UNIQUE_ID\"].isin(precinct_list))][\"UNIQUE_ID\"].value_counts())\n",
    "        print(list(holder[(holder[\"co_fips\"]==fips)&(holder[\"gen_vote\"]==\"Y\")&~(holder[\"UNIQUE_ID\"].isin(precinct_list))][\"UNIQUE_ID\"].unique()))"
   ]
  },
  {
   "cell_type": "code",
   "execution_count": null,
   "id": "3d40d82f",
   "metadata": {},
   "outputs": [],
   "source": []
  },
  {
   "cell_type": "code",
   "execution_count": null,
   "id": "5865d4dd",
   "metadata": {},
   "outputs": [],
   "source": []
  },
  {
   "cell_type": "code",
   "execution_count": null,
   "id": "69958237",
   "metadata": {},
   "outputs": [],
   "source": [
    "holder[holder[\"co_fips\"].isin([25,129])].to_file(\"./clarke_washington_vf.shp\")"
   ]
  },
  {
   "cell_type": "code",
   "execution_count": null,
   "id": "6d10ee12",
   "metadata": {},
   "outputs": [],
   "source": []
  },
  {
   "cell_type": "code",
   "execution_count": null,
   "id": "70532885",
   "metadata": {},
   "outputs": [],
   "source": []
  },
  {
   "cell_type": "code",
   "execution_count": null,
   "id": "5c5479de",
   "metadata": {},
   "outputs": [],
   "source": [
    "shape = gp.read_file(\"/Users/peterhorton/Documents/RDH/pber_collection/AL/2022/gen/big_join_one.shp\")"
   ]
  },
  {
   "cell_type": "code",
   "execution_count": null,
   "id": "c3bf97aa",
   "metadata": {},
   "outputs": [],
   "source": [
    "shape[(shape['County']==\"Crenshaw\")].plot(column = \"UNIQUE_ID\", legend = True, legend_kwds = {'loc':(1.01,0)})"
   ]
  },
  {
   "cell_type": "code",
   "execution_count": null,
   "id": "774faa68",
   "metadata": {},
   "outputs": [],
   "source": [
    "al_blocks = gp.read_file(\"/Users/peterhorton/Documents/RDH/raw_data/census/2020_TIGER_B/al_b_2020_bound.zip\")"
   ]
  },
  {
   "cell_type": "code",
   "execution_count": null,
   "id": "804acb76",
   "metadata": {},
   "outputs": [],
   "source": [
    "gp.overlay()"
   ]
  },
  {
   "cell_type": "code",
   "execution_count": null,
   "id": "bb911eee",
   "metadata": {},
   "outputs": [],
   "source": [
    "shape[(shape['County']==\"Crenshaw\")&(shape[\"UNIQUE_ID\"].isin([\"Crenshaw-:-VFD HONORVILLE\",\"Crenshaw-:-RUTLEDGE COMM_ CTR\"]))].plot(column = \"UNIQUE_ID\", legend = True, legend_kwds = {'loc':(1.01,0)})"
   ]
  },
  {
   "cell_type": "code",
   "execution_count": null,
   "id": "b3343eb5",
   "metadata": {},
   "outputs": [],
   "source": []
  },
  {
   "cell_type": "markdown",
   "id": "0f8bd7e0",
   "metadata": {},
   "source": [
    "Counties That Pass Voterfile Test\n",
    "1. 'Autauga', - passes map test\n",
    "2. 'Baldwin', - passes map test\n",
    "3. 'Blount', - passes map test\n",
    "4. 'Chilton', - passes map test\n",
    "5. 'Cleburne', - passes map test\n",
    "6. 'Cullman', - passes map test\n",
    "7. 'Dale', - passes map test\n",
    "8. 'Dallas', - passes map test\n",
    "9. 'Elmore', - passes map test\n",
    "10. 'Etowah', - passes map test\n",
    "11. 'Fayette', - passes map test\n",
    "12. 'Greene', - passes map test\n",
    "13. 'Lauderdale', - passes map test\n",
    "14. 'Lee', - passes map test\n",
    "15. 'Marengo', - passes map test\n",
    "16. 'Marshall', - passes map test\n",
    "17. 'Monroe', - passes map test \n",
    "18. 'Montgomery', - passes map test\n",
    "19. 'Morgan', - passes map test\n",
    "20. 'Talladega', - passes map test\n",
    "21. 'Tuscaloosa', - passes map test\n",
    "22. 'Wilcox' - passes map test\n",
    "23. Barbour-:-passes map test\n",
    "24. Chambers-:-passes map test\n",
    "25. Clay-:-passes map test\n",
    "26. Conecuh-:-passes map test\n",
    "27. Covington-:-passes map test\n",
    "28. Hale-:- passes map test\n",
    "29. Houston-:- passes map test\n",
    "30. Marion-:- passes map test\n",
    "31. Pickens-:- passes map test\n",
    "32. Russell-:- passes map test\n",
    "33. Tallapoosa -:- passes map test\n",
    "34. Madison -:- passes map test\n",
    "35. Franklin-:- passes map test, except voter file is not granular enough in places (Precinct 2)\n",
    "36. Choctaw-:-passes map test, but voterfile looks sparse\n",
    "37. Geneva-:- passes map test, but \"GILMORE VTG HOUSE\"\n",
    "38. Lamar-:- passes map test\n",
    "39. Lowndes-:- passes map test\n",
    "40. Perry-:- passes map test, maybe minor issues\n",
    "41. Winston- passes map test, maybe minor issues\n",
    "42. Shelby-:- passes map test\n",
    "43. Sumter-:- passes map test\n",
    "44. Cherokee-:- passes map test, check voterfile counts\n",
    "45. Bullock-:- passes map test, pretty close, might not be able to do it at block level\n",
    "46. St. Clair-:- maybe Friendship Baptist Church not much\n",
    "47. Colbert-:-Appears to pass map test, reversed VF\n",
    "48. Coosa-:-passes map test\n",
    "49. Escambia-:-passes map test, but not great voted or not data\n",
    "50. Jefferson-:-5060 the only weird one, looks like a VF issue\n",
    "51. Walker-:- passes map test, pretty close [\"Thach School\", \"Manchester Comm Bldg\"] (VF match off, 127-3001-ABUNDANT LIFE CHURCH split)\n",
    " \n",
    "Cleaning Needed\n",
    "- 'Butler', [Forest Home Voting House, American Legion, Harrison's VTG House, McKenzie City Hall, Searcy VFD, \n",
    "- 'Crenshaw', - passes map test, pretty close (Rutledge Comm Center)\n",
    "- 'Coffee', ['Elba Church of Christ, Elba National Guard, Eprise State, Johns Chapel, Pleasant Ridge VTG, \n",
    "- 'DeKalb', [Fyfee Senior Ctr]\n",
    "\n",
    "- 'Mobile', - [\"Abba Shrine Temple\", \"Collin Rhodes Elem\", \"Cottage Hill Baptist Ch\", \"J E Turner Elem\"\n",
    "\n",
    "\n",
    "Cleaning Completed\n",
    "- Bibb-:- ALTERNATIVE SCHOOL, GREENPOND FIRE DEPT_\n",
    "- Calhoun-:-1ST UN_METHODIST\n",
    "- Henry-:- [\"GREATER SHILOH BAPT_\", \"HEADLAND VTG CTR_1\"]\n",
    "- Jackson-:-[\"SECTION NEW CITY HALL\"]\n",
    "- Macon-:- [NATIONAL GUARD ARMORY, SOJOURNER COMM CTR]\n",
    "- Lawrence-:- [\"MCCARLEY CTR_ 6-1\",\"HILLSBORO CITY HALL 1-1\",\"WOLF SPRING BAPT_\", \"PINE GROVE CH 36-1\", \"CHALYBEATE FIRE DEPT17-1\"]]\n",
    "- 'Pike',maybe Galloway Road Comm Ctr(?)\n",
    "\n",
    "To Implement Changes\n",
    "- 'Limestone', [ELKTON ROAD BAPTIST CH] - Spencer sent file\n",
    "\n",
    "To Check\n",
    "\n",
    "2. \n",
    "3. Washington-:-Closer look needed\n",
    "4. Clarke-:-weird voterfile, join might be off\n",
    "\n",
    "\n",
    "More VF work\n",
    "5. Randolph-:-Can't make correspondence\n",
    "\n"
   ]
  },
  {
   "cell_type": "code",
   "execution_count": null,
   "id": "df11bb1c",
   "metadata": {},
   "outputs": [],
   "source": [
    "[33, 37, 53, 25, 111, 129]"
   ]
  },
  {
   "cell_type": "code",
   "execution_count": null,
   "id": "4cc5dcfc",
   "metadata": {},
   "outputs": [],
   "source": [
    "al_cnty_fips_dict"
   ]
  },
  {
   "cell_type": "code",
   "execution_count": null,
   "id": "0a6645c2",
   "metadata": {},
   "outputs": [],
   "source": [
    "raw_vf = pd.read_csv(\"/Users/peterhorton/Downloads/AL_individual_file000.gz\")\n",
    "raw_vf[\"UNIQUE_ID\"] = raw_vf[\"co_fips\"].astype(str).str.zfill(3)+\"-\"+raw_vf[\"precinct\"]\n",
    "raw_vf[\"UNIQUE_ID\"] = raw_vf[\"UNIQUE_ID\"].str.strip()"
   ]
  },
  {
   "cell_type": "code",
   "execution_count": null,
   "id": "d17a7c74",
   "metadata": {},
   "outputs": [],
   "source": [
    "remaining_counties = raw_vf[raw_vf[\"co_fips\"].isin([73])]"
   ]
  },
  {
   "cell_type": "code",
   "execution_count": null,
   "id": "1948be00",
   "metadata": {},
   "outputs": [],
   "source": [
    "import numpy as np\n",
    "remaining_counties[\"Count_Vote\"] = np.where(remaining_counties[\"gen_vote\"]==\"Y\",1,0)"
   ]
  },
  {
   "cell_type": "code",
   "execution_count": null,
   "id": "41b6ed9c",
   "metadata": {},
   "outputs": [],
   "source": [
    "remaining_counties[\"Count_Tot\"] = 1"
   ]
  },
  {
   "cell_type": "code",
   "execution_count": null,
   "id": "8568c717",
   "metadata": {},
   "outputs": [],
   "source": [
    "grouped = remaining_counties.groupby(\"UNIQUE_ID\").sum()"
   ]
  },
  {
   "cell_type": "code",
   "execution_count": null,
   "id": "04e05e98",
   "metadata": {},
   "outputs": [],
   "source": [
    "grouped.reset_index(inplace = True, drop = False)"
   ]
  },
  {
   "cell_type": "code",
   "execution_count": null,
   "id": "3a8f3c8b",
   "metadata": {},
   "outputs": [],
   "source": [
    "file_hold[file_hold[\"COUNTYFP\"].isin([73])].to_csv(\"./last_few_counties_precincts.csv\", index = False)"
   ]
  },
  {
   "cell_type": "code",
   "execution_count": null,
   "id": "80fe3e33",
   "metadata": {},
   "outputs": [],
   "source": [
    "grouped.to_csv(\"./last_few_counties_vf.csv\", index = False)"
   ]
  },
  {
   "cell_type": "code",
   "execution_count": null,
   "id": "4ac4d644",
   "metadata": {},
   "outputs": [],
   "source": [
    "splits_to_make = {\"Calhoun-:-1ST UN_ METHODIST-WEAVER\":{\"From\":[\"Calhoun-:-ANGEL FIRE STATION\"],\n",
    "                                       \"Blocks\":[\"010150018023001\",\"010150018023000\",\"010150018012012\"]},\n",
    "\"Henry-:-GREATER SHILOH BAPT_\":{\"From\":[\"Henry-:-HEADLAND VTG CTR_ 1\"],\n",
    "                                \"Blocks\":[\"010670305001006\",\n",
    "                                         \"010670305001015\",\n",
    "                                         \"010670305001016\",\n",
    "                                         \"010670305001017\",\n",
    "                                         \"010670305001018\",\n",
    "                                         \"010670305001019\",\n",
    "                                         \"010670305001020\",\n",
    "                                         \"010670305001021\",\n",
    "                                         \"010670305001023\",\n",
    "                                         \"010670305001024\",\n",
    "                                         \"010670305001025\",\n",
    "                                         \"010670305001026\",\n",
    "                                         \"010670305001027\",\n",
    "                                         \"010670305001028\",\n",
    "                                         \"010670305001029\",\n",
    "                                         \"010670305001031\",\n",
    "                                         \"010670305001034\",\n",
    "                                         \"010670305001035\",\n",
    "                                         \"010670305001127\"]},\n",
    "\"Jackson-:-WOODVILLE BOB JONES COMM\":{\"From\":[\"Jackson-:-PLEASANT GROVES COMM CTR_\"],\n",
    "                                   \"Blocks\":[\"010719505001020\",\n",
    "                                            \"010719505001023\",\n",
    "                                            \"010719505001024\",\n",
    "                                            \"010719505001044\",\n",
    "                                            \"010719505001045\",\n",
    "                                            \"010719505001046\",\n",
    "                                            \"010719505001106\",\n",
    "                                            \"010719505002059\"]},\n",
    "\"Macon-:-SOJOURNER COMM CTR\":{\"From\":[\"Macon-:-NATIONAL GUARD ARMORY\"],\n",
    "                           \"Blocks\":[\"010872319001007\",\n",
    "                                    \"010872319001014\",\n",
    "                                    \"010872319001015\",\n",
    "                                    \"010872319001016\",\n",
    "                                    \"010872319001017\",\n",
    "                                    \"010872319001018\",\n",
    "                                    \"010872319001019\",\n",
    "                                    \"010872319001025\",\n",
    "                                    \"010872319001026\",\n",
    "                                    \"010872319001027\",\n",
    "                                    \"010872317001027\",\n",
    "                                    \"010872319001028\",\n",
    "                                    \"010872319001029\",\n",
    "                                    \"010872317001029\",\n",
    "                                    \"010872319001030\",\n",
    "                                    \"010872317001030\",\n",
    "                                    \"010872319001031\",\n",
    "                                    \"010872317001031\",\n",
    "                                    \"010872317001032\",\n",
    "                                    \"010872317001033\",]},\n",
    "\"Macon-:-TUSKEGEE MUNICIAPL CMPLX\":{\"From\":[\"Macon-:-NATIONAL GUARD ARMORY\"],\n",
    "                               \"Blocks\":[\"010872320001024\",\n",
    "                                        \"010872320001025\",\n",
    "                                        \"010872320001028\",\n",
    "                                        \"010872320001029\",\n",
    "                                        \"010872320001030\",\n",
    "                                        \"010872320001035\",\n",
    "                                        \"010872320001042\",\n",
    "                                        \"010872320001043\",\n",
    "                                        \"010872320001044\"]},\n",
    "\"Lawrence-:-HILLSBORO CITY HALL 1-1\":{\"From\":[\"Lawrence-:-CHALYBEATE FIRE DEPT17-1\"],\n",
    "                           \"Blocks\":[\"010799795022000\",\n",
    "                                    \"010799795022001\",\n",
    "                                    \"010799795022002\",\n",
    "                                    \"010799795022003\",\n",
    "                                    \"010799795022004\",\n",
    "                                    \"010799795022006\",\n",
    "                                    \"010799795022007\",\n",
    "                                    \"010799795022009\",\n",
    "                                    \"010799795022010\",\n",
    "                                    \"010799795022016\",\n",
    "                                    \"010799795022017\",\n",
    "                                    \"010799795022018\",\n",
    "                                    \"010799795022043\"]},\n",
    "\"Lawrence-:-FREEMAN TAB 26-1\":{\"From\":[\"Lawrence-:-BOARD OF ED 25-1\",\"Lawrence-:-LAWRENCE HEALTH DEPT19-1\"],\n",
    "                               \"Blocks\":[\"010799794003045\",\n",
    "                                        \"010799794004013\",\n",
    "                                        \"010799794004015\",\n",
    "                                        \"010799794004016\",\n",
    "                                        \"010799794004017\",\n",
    "                                        \"010799794004018\"]},\n",
    "\"Lawrence-:-LAWRENCE HEALTH DEPT19-1\":{\"From\":[\"Lawrence-:-BOARD OF ED 25-1\"],\n",
    "                                       \"Blocks\":[\"010799794004014\",\"010799794004021\",\"010799794004022\"]},\n",
    "\"Lawrence-:-HATTON CH OF CHRIST 13-1\":{\"From\":[\"Lawrence-:-MOULTON CITY HALL 24-1\"],\n",
    "                                    \"Blocks\":[\"010799798003015\",\n",
    "                                              \"010799798003017\",\n",
    "                                             \"010799798003018\",\n",
    "                                             \"010799798003041\",\n",
    "                                             \"010799798003042\",\n",
    "                                             \"010799798003043\",\n",
    "                                             \"010799798003076\"]},\n",
    "\"Lawrence-:-BOARD OF ED 25-1\":{\"From\":[\"Lawrence-:-LAWRENCE HEALTH DEPT19-1\"],\n",
    "                                \"Blocks\":[\"010799798003073\",\n",
    "                                         \"010799798003072\"]},\n",
    "\"Lawrence-:-MCCARLEY CTR_ 6-1\":{\"From\":[\"Lawrence-:-PILGRAM MISS_ BAPT_ 18-1\"],\n",
    "                            \"Blocks\":[\"010799795021002\",\n",
    "                                     \"010799795021000\",\n",
    "                                     \"010799795021001\",\n",
    "                                     \"010799795021006\",\n",
    "                                     \"010799795021007\"]},\n",
    "\"Bibb-:-SIX MILE COMM_ CTR_\":{\"From\":[\"Bibb-:-ALTERNATIVE SCHOOL\"],\n",
    "                              \"Blocks\":[\"010070100012000\",\n",
    "                                       \"010070100012001\",\n",
    "                                       \"010070100012002\",\n",
    "                                       \"010070100062008\",\n",
    "                                       \"010070100012009\",\n",
    "                                       \"010070100062009\",\n",
    "                                       \"010070100012010\",\n",
    "                                       \"010070100012011\",\n",
    "                                       \"010070100082011\",\n",
    "                                       \"010070100012012\",\n",
    "                                       \"010070100082012\",\n",
    "                                       \"010070100012013\",\n",
    "                                       \"010070100062013\",\n",
    "                                       \"010070100062014\",\n",
    "                                       \"010070100012014\",\n",
    "                                       \"010070100012015\",\n",
    "                                       \"010070100062015\",\n",
    "                                       \"010070100062016\",\n",
    "                                       \"010070100062017\",\n",
    "                                       \"010070100062018\",\n",
    "                                       \"010070100062019\",\n",
    "                                       \"010070100062021\",\n",
    "                                       \"010070100062022\",\n",
    "                                       \"010070100062023\",\n",
    "                                       \"010070100062024\",\n",
    "                                       \"010070100062025\",\n",
    "                                       \"010070100062026\",\n",
    "                                       \"010070100062027\",\n",
    "                                       \"010070100062028\",\n",
    "                                       \"010070100062029\",\n",
    "                                       \"010070100012030\",\n",
    "                                       \"010070100062030\",\n",
    "                                       \"010070100012033\",\n",
    "                                       \"010070100012036\",\n",
    "                                       \"010070100012046\",\n",
    "                                       \"010070100012047\",\n",
    "                                       \"010070100012048\",\n",
    "                                       \"010070100052078\",\n",
    "                                       \"010070100052079\"]},\n",
    "\"Bibb-:-ALTERNATIVE SCHOOL\":{\"From\":[\"Bibb-:-GREENPOND FIRE DEPT_\"],\n",
    "                              \"Blocks\":['010070100053093',\n",
    "                                '010070100051031',\n",
    "                                '010070100053095',\n",
    "                                '010070100053079',\n",
    "                                '010070100051025',\n",
    "                                '010070100051030',\n",
    "                                '010070100053094',\n",
    "                                '010070100053080',\n",
    "                                '010070100051028',\n",
    "                                '010070100011004',\n",
    "                                '010070100011000',\n",
    "                                '010070100053035',\n",
    "                                '010070100053046',\n",
    "                                '010070100053044',\n",
    "                                '010070100053034',\n",
    "                                '010070100011001',\n",
    "                                '010070100053047',\n",
    "                                '010070100051029',\n",
    "                                '010070100011002',\n",
    "                                '010070100053048',\n",
    "                                '010070100051026',\n",
    "                                '010070100053041',\n",
    "                                '010070100051024',\n",
    "                                '010070100011003',\n",
    "                                '010070100053082',\n",
    "                                '010070100051033',\n",
    "                                '010070100053043',\n",
    "                                '010070100053091',\n",
    "                                '010070100053024',\n",
    "                                '010070100053045',\n",
    "                                '010070100053092',\n",
    "                                '010070100051032',\n",
    "                                '010070100053096',\n",
    "                                '010070100053090',\n",
    "                                '010070100011005',\n",
    "                                '010070100053081',\n",
    "                                '010070100053036',]},\n",
    "\"Pike-:-TROY PUBLIC LIBRARY\":{\"From\":[\"Pike-:-TROY REC CTR\"],\n",
    "                              \"Blocks\":['011091889004006',\n",
    "'011091889004004',\n",
    "'011091889004009',\n",
    "'011091889004011',\n",
    "'011091889004012',\n",
    "'011091889004008',\n",
    "'011091889004022',\n",
    "'011091889004016',\n",
    "'011091889004013',\n",
    "'011091889004005',\n",
    "'011091889004018',\n",
    "'011091889004007',\n",
    "'011091889004015',\n",
    "'011091889004010',]},\n",
    "\"Pike-:-SCOTT FARMS BLDG\":{\"From\":[\"Pike-:-FIRST BAPT CHURCH\", \"Pike-:-PIKE CO COURTHOUSE\"],\n",
    "                              \"Blocks\":['011091890032028',\n",
    "'011091892001010',\n",
    "'011091892001008',\n",
    "'011091892001009',\n",
    "'011091890032007',\n",
    "'011091890032006']}}"
   ]
  },
  {
   "cell_type": "code",
   "execution_count": null,
   "id": "356cf860",
   "metadata": {},
   "outputs": [],
   "source": [
    "# {\"Calhoun-:-1ST UN_ METHODIST-WEAVER\":{\"From\":[\"Calhoun-:-ANGEL FIRE STATION\"],\n",
    "#                                        \"Blocks\":[\"010150018023001\",\"010150018023000\",\"010150018012012\"]}}\n",
    "# {\"Henry-:-GREATER SHILOH BAPT_\":{\"From\":[\"Henry-:-HEADLAND VTG CTR_ 1\"],\n",
    "#                                 \"Blocks\":[\"010670305001006\",\n",
    "#                                          \"010670305001015\",\n",
    "#                                          \"010670305001016\",\n",
    "#                                          \"010670305001017\",\n",
    "#                                          \"010670305001018\",\n",
    "#                                          \"010670305001019\",\n",
    "#                                          \"010670305001020\",\n",
    "#                                          \"010670305001021\",\n",
    "#                                          \"010670305001023\",\n",
    "#                                          \"010670305001024\",\n",
    "#                                          \"010670305001025\",\n",
    "#                                          \"010670305001026\",\n",
    "#                                          \"010670305001027\",\n",
    "#                                          \"010670305001028\",\n",
    "#                                          \"010670305001029\",\n",
    "#                                          \"010670305001031\",\n",
    "#                                          \"010670305001034\",\n",
    "#                                          \"010670305001035\",\n",
    "#                                          \"010670305001127\"]}}\n",
    "# {\"Jackson-:-WOODVILLE BOB JONES COMM\":{\"From\":[\"Jackson-:-PLEASANT GROVES COMM CTR_\"],\n",
    "#                                    \"Blocks\":[\"010719505001020\",\n",
    "#                                             \"010719505001023\",\n",
    "#                                             \"010719505001024\",\n",
    "#                                             \"010719505001044\",\n",
    "#                                             \"010719505001045\",\n",
    "#                                             \"010719505001046\",\n",
    "#                                             \"010719505001106\",\n",
    "#                                             \"010719505002059\"]}}\n",
    "# {\"Macon-:-SOJOURNER COMM CTR\":{\"From\":[\"Macon-:-NATIONAL GUARD ARMORY\"],\n",
    "#                            \"Blocks\":[\"010872319001007\",\n",
    "#                                     \"010872319001014\",\n",
    "#                                     \"010872319001015\",\n",
    "#                                     \"010872319001016\",\n",
    "#                                     \"010872319001017\",\n",
    "#                                     \"010872319001018\",\n",
    "#                                     \"010872319001019\",\n",
    "#                                     \"010872319001025\",\n",
    "#                                     \"010872319001026\",\n",
    "#                                     \"010872319001027\",\n",
    "#                                     \"010872317001027\",\n",
    "#                                     \"010872319001028\",\n",
    "#                                     \"010872319001029\",\n",
    "#                                     \"010872317001029\",\n",
    "#                                     \"010872319001030\",\n",
    "#                                     \"010872317001030\",\n",
    "#                                     \"010872319001031\",\n",
    "#                                     \"010872317001031\",\n",
    "#                                     \"010872317001032\",\n",
    "#                                     \"010872317001033\",]}}\n",
    "# {\"Macon-:-TUSKEGEE MUNICIAPL CMPLX\":{\"From\":[\"Macon-:-NATIONAL GUARD ARMORY\"],\n",
    "#                                \"Blocks\":[\"010872320001024\",\n",
    "#                                         \"010872320001025\",\n",
    "#                                         \"010872320001028\",\n",
    "#                                         \"010872320001029\",\n",
    "#                                         \"010872320001030\",\n",
    "#                                         \"010872320001035\",\n",
    "#                                         \"010872320001042\",\n",
    "#                                         \"010872320001043\",\n",
    "#                                         \"010872320001044\"]}}\n",
    "# {\"Lawrence-:-HILLSBORO CITY HALL 1-1\":{\"From\":[\"Lawrence-:-CHALYBEATE FIRE DEPT17-1\"],\n",
    "#                            \"Blocks\":[\"010799795022000\",\n",
    "#                                     \"010799795022001\",\n",
    "#                                     \"010799795022002\",\n",
    "#                                     \"010799795022003\",\n",
    "#                                     \"010799795022004\",\n",
    "#                                     \"010799795022006\",\n",
    "#                                     \"010799795022007\",\n",
    "#                                     \"010799795022009\",\n",
    "#                                     \"010799795022010\",\n",
    "#                                     \"010799795022016\",\n",
    "#                                     \"010799795022017\",\n",
    "#                                     \"010799795022018\",\n",
    "#                                     \"010799795022043\"]}}\n",
    "# {\"Lawrence-:-FREEMAN TAB 26-1\":{\"From\":[\"Lawrence-:-BOARD OF ED 25-1\",\"Lawrence-:-LAWRENCE HEALTH DEPT19-1\"],\n",
    "#                                \"Blocks\":[\"010799794003045\",\n",
    "#                                         \"010799794004013\",\n",
    "#                                         \"010799794004015\",\n",
    "#                                         \"010799794004016\",\n",
    "#                                         \"010799794004017\",\n",
    "#                                         \"010799794004018\"]}}\n",
    "# {\"Lawrence-:-LAWRENCE HEALTH DEPT19-1\":{\"From\":[\"Lawrence-:-BOARD OF ED 25-1\"],\n",
    "#                                        \"Blocks\":[\"010799794004014\",\"010799794004021\",\"010799794004022\"]}}\n",
    "# {\"Lawrence-:-HATTON CH OF CHRIST 13-1\":{\"From\":[\"Lawrence-:-MOULTON CITY HALL 24-1\"],\n",
    "#                                     \"Blocks\":[\"010799798003015\",\n",
    "#                                               \"010799798003017\",\n",
    "#                                              \"010799798003018\",\n",
    "#                                              \"010799798003041\",\n",
    "#                                              \"010799798003042\",\n",
    "#                                              \"010799798003043\",\n",
    "#                                              \"010799798003076\"]}}\n",
    "# {\"Lawrence-:-BOARD OF ED 25-1\":{\"From\":[\"Lawrence-:-LAWRENCE HEALTH DEPT19-1\"],\n",
    "#                                 \"Blocks\":[\"010799798003073\",\n",
    "#                                          \"010799798003072\"]}}\n",
    "# {\"Lawrence-:-MCCARLEY CTR_ 6-1\":{\"From\":[\"Lawrence-:-PILGRAM MISS_ BAPT_ 18-1\"],\n",
    "#                             \"Blocks\":[\"010799795021002\",\n",
    "#                                      \"010799795021000\",\n",
    "#                                      \"010799795021001\",\n",
    "#                                      \"010799795021006\",\n",
    "#                                      \"010799795021007\"]}}\n",
    "# {\"Bibb-:-SIX MILE COMM_ CTR_\":{\"From\":[\"Bibb-:-ALTERNATIVE SCHOOL\"],\n",
    "#                               \"Blocks\":[\"010070100012000\",\n",
    "#                                        \"010070100012001\",\n",
    "#                                        \"010070100012002\",\n",
    "#                                        \"010070100062008\",\n",
    "#                                        \"010070100012009\",\n",
    "#                                        \"010070100062009\",\n",
    "#                                        \"010070100012010\",\n",
    "#                                        \"010070100012011\",\n",
    "#                                        \"010070100082011\",\n",
    "#                                        \"010070100012012\",\n",
    "#                                        \"010070100082012\",\n",
    "#                                        \"010070100012013\",\n",
    "#                                        \"010070100062013\",\n",
    "#                                        \"010070100062014\",\n",
    "#                                        \"010070100012014\",\n",
    "#                                        \"010070100012015\",\n",
    "#                                        \"010070100062015\",\n",
    "#                                        \"010070100062016\",\n",
    "#                                        \"010070100062017\",\n",
    "#                                        \"010070100062018\",\n",
    "#                                        \"010070100062019\",\n",
    "#                                        \"010070100062021\",\n",
    "#                                        \"010070100062022\",\n",
    "#                                        \"010070100062023\",\n",
    "#                                        \"010070100062024\",\n",
    "#                                        \"010070100062025\",\n",
    "#                                        \"010070100062026\",\n",
    "#                                        \"010070100062027\",\n",
    "#                                        \"010070100062028\",\n",
    "#                                        \"010070100062029\",\n",
    "#                                        \"010070100012030\",\n",
    "#                                        \"010070100062030\",\n",
    "#                                        \"010070100012033\",\n",
    "#                                        \"010070100012036\",\n",
    "#                                        \"010070100012046\",\n",
    "#                                        \"010070100012047\",\n",
    "#                                        \"010070100012048\",\n",
    "#                                        \"010070100052078\",\n",
    "#                                        \"010070100052079\"]}}\n",
    "# {\"Bibb-:-ALTERNATIVE SCHOOL\":{\"From\":[\"Bibb-:-GREENPOND FIRE DEPT_\"],\n",
    "#                               \"Blocks\":['010070100053093',\n",
    "#                                 '010070100051031',\n",
    "#                                 '010070100053095',\n",
    "#                                 '010070100053079',\n",
    "#                                 '010070100051025',\n",
    "#                                 '010070100051030',\n",
    "#                                 '010070100053094',\n",
    "#                                 '010070100053080',\n",
    "#                                 '010070100051028',\n",
    "#                                 '010070100011004',\n",
    "#                                 '010070100011000',\n",
    "#                                 '010070100053035',\n",
    "#                                 '010070100053046',\n",
    "#                                 '010070100053044',\n",
    "#                                 '010070100053034',\n",
    "#                                 '010070100011001',\n",
    "#                                 '010070100053047',\n",
    "#                                 '010070100051029',\n",
    "#                                 '010070100011002',\n",
    "#                                 '010070100053048',\n",
    "#                                 '010070100051026',\n",
    "#                                 '010070100053041',\n",
    "#                                 '010070100051024',\n",
    "#                                 '010070100011003',\n",
    "#                                 '010070100053082',\n",
    "#                                 '010070100051033',\n",
    "#                                 '010070100053043',\n",
    "#                                 '010070100053091',\n",
    "#                                 '010070100053024',\n",
    "#                                 '010070100053045',\n",
    "#                                 '010070100053092',\n",
    "#                                 '010070100051032',\n",
    "#                                 '010070100053096',\n",
    "#                                 '010070100053090',\n",
    "#                                 '010070100011005',\n",
    "#                                 '010070100053081',\n",
    "#                                 '010070100053036',]}}\n",
    "# {\"Pike-:-TROY PUBLIC LIBRARY\":{\"From\":[\"Pike-:-TROY REC CTR\"],\n",
    "#                               \"Blocks\":['011091889004006',\n",
    "# '011091889004004',\n",
    "# '011091889004009',\n",
    "# '011091889004011',\n",
    "# '011091889004012',\n",
    "# '011091889004008',\n",
    "# '011091889004022',\n",
    "# '011091889004016',\n",
    "# '011091889004013',\n",
    "# '011091889004005',\n",
    "# '011091889004018',\n",
    "# '011091889004007',\n",
    "# '011091889004015',\n",
    "# '011091889004010',]}}\n",
    "# {\"Pike-:-SCOTT FARMS BLDG\":{\"From\":[\"Pike-:-FIRST BAPT CHURCH\", \"Pike-:-PIKE CO COURTHOUSE\"],\n",
    "#                               \"Blocks\":['011091890032028',\n",
    "# '011091892001010',\n",
    "# '011091892001008',\n",
    "# '011091892001009',\n",
    "# '011091890032007',\n",
    "# '011091890032006',]}}"
   ]
  },
  {
   "cell_type": "code",
   "execution_count": null,
   "id": "8409f8c4",
   "metadata": {},
   "outputs": [],
   "source": [
    "madison = gp.read_file(\"/Users/peterhorton/Downloads/2022 Precincts/2022_Precincts.shp\")"
   ]
  },
  {
   "cell_type": "code",
   "execution_count": null,
   "id": "92186ec9",
   "metadata": {},
   "outputs": [],
   "source": [
    "madison.plot()"
   ]
  },
  {
   "cell_type": "markdown",
   "id": "a7384bee",
   "metadata": {},
   "source": [
    "## Look Into Other Counties"
   ]
  },
  {
   "cell_type": "code",
   "execution_count": null,
   "id": "f16c66fe",
   "metadata": {},
   "outputs": [],
   "source": [
    "remaining_counties = [i for i in file_hold[\"County\"].unique() if i not in full_list]\n",
    "print(len(remaining_counties))"
   ]
  },
  {
   "cell_type": "code",
   "execution_count": null,
   "id": "c5616b68",
   "metadata": {},
   "outputs": [],
   "source": [
    "holder"
   ]
  },
  {
   "cell_type": "code",
   "execution_count": null,
   "id": "28907958",
   "metadata": {},
   "outputs": [],
   "source": [
    "file_hold = file_hold.to_crs(4326)"
   ]
  },
  {
   "cell_type": "code",
   "execution_count": null,
   "id": "ff1aae0c",
   "metadata": {},
   "outputs": [],
   "source": [
    "file_hold[file_hold[\"UNIQUE_ID\"]==\"Escambia-:-BETHEL ROBERTS\"].plot()"
   ]
  },
  {
   "cell_type": "code",
   "execution_count": null,
   "id": "e23789ea",
   "metadata": {},
   "outputs": [],
   "source": [
    "remaining_counties.sort()"
   ]
  },
  {
   "cell_type": "code",
   "execution_count": null,
   "id": "20e831b0",
   "metadata": {},
   "outputs": [],
   "source": [
    "for county in list(file_hold[\"County\"].unique()):\n",
    "    if not os.path.exists(\"./vf_map_checks_no_match/\"+county):\n",
    "        os.mkdir(\"./vf_map_checks_no_match/\"+county)\n",
    "\n",
    "    for key,row in file_hold[file_hold[\"County\"]==county].iterrows():\n",
    "        fips = row[\"COUNTYFP\"]\n",
    "        #print(row[\"UNIQUE_ID\"])\n",
    "        prec = file_hold[file_hold[\"UNIQUE_ID\"]==row[\"UNIQUE_ID\"]].copy(deep = True)\n",
    "        ax = file_hold[file_hold[\"UNIQUE_ID\"]==row[\"UNIQUE_ID\"]].boundary.plot(color = \"red\")\n",
    "        ax.set_title(row[\"UNIQUE_ID\"])\n",
    "\n",
    "        intersect = gp.sjoin(prec, holder[(holder[\"co_fips\"]==fips)&(holder[\"gen_vote\"]==\"Y\")&~(holder[\"UNIQUE_ID\"].isna())], how = \"inner\")\n",
    "\n",
    "        if intersect.shape[0] != 0:\n",
    "            holder[(holder[\"co_fips\"]==fips)&(holder[\"UNIQUE_ID\"].isin(list(intersect[\"UNIQUE_ID_right\"])))].plot(ax = ax, markersize = 1, column = \"UNIQUE_ID\", legend = True, legend_kwds = {'loc':(1,-.25)})\n",
    "            \n",
    "#             xlim = ([prec.total_bounds[0],  prec.total_bounds[2]])\n",
    "#             ylim = ([prec.total_bounds[1],  prec.total_bounds[3]])\n",
    "\n",
    "            ax.set_xlim(xlim)\n",
    "            ax.set_ylim(ylim)\n",
    "            \n",
    "        ax.figure.savefig(\"./vf_map_checks_no_match/\"+county+\"/\"+row[\"UNIQUE_ID\"].replace(\"/\",\"-\")+\".jpg\", bbox_inches='tight')               "
   ]
  },
  {
   "cell_type": "code",
   "execution_count": null,
   "id": "83a86fb2",
   "metadata": {
    "scrolled": true
   },
   "outputs": [],
   "source": [
    "# #for county in counties_w_data:\n",
    "# for county in counties_w_data:\n",
    "\n",
    "#     county_data = file_hold[file_hold[\"County\"]==county].copy(deep = True)\n",
    "#     fips = county_data[\"COUNTYFP\"].unique()[0]\n",
    "#     county_vf = holder[holder[\"co_fips\"]==fips]\n",
    "#     county_join = gp.sjoin(county_data, county_vf, how = \"right\")\n",
    "#     print(county_join)\n",
    "\n",
    "#     if not os.path.exists(\"./vf_map_checks/\"+county):\n",
    "#         os.mkdir(\"./vf_map_checks/\"+county)\n",
    "#     for key,row in vf_correspondence[vf_correspondence[\"County\"]==county].iterrows():\n",
    "# #     print(row[\"VF_ID\"])\n",
    "# #     print(row[\"ELEC_22_ID\"])\n",
    "        \n",
    "\n",
    "#         prec = file_hold[file_hold[\"UNIQUE_ID\"]==row[\"ELEC_22_ID\"]].copy(deep = True)\n",
    "#         ax = file_hold[file_hold[\"UNIQUE_ID\"]==row[\"ELEC_22_ID\"]].boundary.plot(figsize = (10,10))\n",
    "#         holder[holder[\"UNIQUE_ID\"]==row[\"VF_ID\"]].plot(ax = ax, color = \"red\")\n",
    "#         fips = prec[\"COUNTYFP\"].values[0]\n",
    "        \n",
    "#         intersect = county_join[(county_join[\"UNIQUE_ID_x\"]==row[\"ELEC_22_ID\"])&(county_join[\"UNIQUE_ID_y\"]!=row[\"VF_ID\"])]\n",
    "             \n",
    "#         if intersect.shape[0] != 0:\n",
    "#             intersect.plot(ax = ax, column = \"ELEC_PREC_MATCH\", legend = True, legend_kwds = {'loc':(1,0)})\n",
    "        \n",
    "        \n",
    "        \n",
    "        \n",
    "#         ax.set_title(row[\"ELEC_22_ID\"])\n",
    "#         ax.figure.savefig(\"./vf_map_checks/\"+county+\"/\"+row[\"ELEC_22_ID\"].replace(\"/\",\"-\")+\".jpg\", bbox_inches = \"tight\")"
   ]
  },
  {
   "cell_type": "markdown",
   "id": "5065b509",
   "metadata": {},
   "source": []
  },
  {
   "cell_type": "code",
   "execution_count": null,
   "id": "a33884c2",
   "metadata": {},
   "outputs": [],
   "source": [
    "#099-1203-MCMIDLONES CC - is this Monroe unassigned?"
   ]
  },
  {
   "cell_type": "code",
   "execution_count": null,
   "id": "41060dd5",
   "metadata": {},
   "outputs": [],
   "source": []
  },
  {
   "cell_type": "code",
   "execution_count": null,
   "id": "796a6f1c",
   "metadata": {},
   "outputs": [],
   "source": []
  }
 ],
 "metadata": {
  "kernelspec": {
   "display_name": "Python 3 (ipykernel)",
   "language": "python",
   "name": "python3"
  },
  "language_info": {
   "codemirror_mode": {
    "name": "ipython",
    "version": 3
   },
   "file_extension": ".py",
   "mimetype": "text/x-python",
   "name": "python",
   "nbconvert_exporter": "python",
   "pygments_lexer": "ipython3",
   "version": "3.8.13"
  }
 },
 "nbformat": 4,
 "nbformat_minor": 5
}
